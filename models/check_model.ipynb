{
 "cells": [
  {
   "cell_type": "code",
   "execution_count": 1,
   "id": "ea56d0db-3af5-4185-a91f-ce271fe93a98",
   "metadata": {},
   "outputs": [],
   "source": [
    "import pickle\n",
    "import numpy as np\n",
    "import pandas as pd\n",
    "from rdkit import Chem\n",
    "from rdkit.Chem import AllChem\n",
    "import os"
   ]
  },
  {
   "cell_type": "code",
   "execution_count": 2,
   "id": "f7e3d12b-b4c2-4463-9a1b-e6d1d445daf4",
   "metadata": {},
   "outputs": [],
   "source": [
    "\n",
    "\n",
    "class MoleculeProcessor:\n",
    "    def __init__(self, smiles, dtx):\n",
    "        self.mol = Chem.MolFromSmiles(smiles)\n",
    "        self.dtx = dtx\n",
    "    \n",
    "    def chain_length(self, ch=30):\n",
    "        mysr = 'C(F)(F)'\n",
    "        mylst = []\n",
    "        for n in range(1, ch):\n",
    "            a = self.mol.HasSubstructMatch(Chem.MolFromSmarts(''.join(mysr * n)))\n",
    "            mylst.append(a)\n",
    "        return mylst.index(False)\n",
    "\n",
    "    def get_morgan_fingerprint(self, radius = 3, nBits=1024):\n",
    "        mgrn_df = pd.DataFrame([np.array(AllChem.GetMorganFingerprintAsBitVect(self.mol,radius,nBits))] )\n",
    "        mgrn_df.columns = ['mrgn_%d'%i for i in mgrn_df.columns]\n",
    "        mgrn_df.index = [self.dtx]\n",
    "        return mgrn_df\n",
    "\n",
    "class CategoryManager:\n",
    "    def __init__(self, categories):\n",
    "        self.categories = categories\n",
    "        \n",
    "    def make_df(self, smiles, dtx, cat='others'):\n",
    "        '''\n",
    "    Construct the appropriate input df to facilitate RF predictions\n",
    "        '''\n",
    "        if cat not in self.categories:\n",
    "            raise ValueError(f\"Category {cat} is not recognized.\") \n",
    "        mol_processor = MoleculeProcessor(smiles, dtx)\n",
    "        df1 = mol_processor.get_morgan_fingerprint()\n",
    "        df1['category'] = cat\n",
    "        df1['chain_length'] = mol_processor.chain_length()\n",
    "        df1['category'] = df1['category'].astype('category')\n",
    "        return df1\n",
    "    \n",
    "\n",
    "\n",
    "categories = ['Aromatic PFASs',\n",
    " 'HFCs',\n",
    " 'Other PFASs',\n",
    " 'Other PFASs, cyclic',\n",
    " 'PASF-based substances',\n",
    " 'PFAA precursors',\n",
    " 'PFAA precursors, cyclic',\n",
    " 'PFAAs',\n",
    " 'PFAAs, cyclic',\n",
    " 'PolyFCA derivatives',\n",
    " 'Polyfluoroalkanes',\n",
    " 'Polyfluoroalkyl acids',\n",
    " 'Polyfluoroalkyl acids, cyclic',\n",
    " 'Si PFASs',\n",
    " 'n:2 fluorotelomer-based substances',\n",
    " 'others',\n",
    " 'others, cyclic',\n",
    " 'unclassified']\n",
    "\n",
    "\n"
   ]
  },
  {
   "cell_type": "code",
   "execution_count": 53,
   "id": "68198aa3-6584-42eb-ba2b-84d19905ef30",
   "metadata": {},
   "outputs": [],
   "source": [
    "class CategoryPrediction:\n",
    "    def __init__(self, rev_dict='reverse_dict2.pkl', rf_model='final_model_v2.sav' ):\n",
    "\n",
    "        #script_dir = os.path.dirname(__file__)\n",
    "        # Construct the full path to the files\n",
    "        #rev_dict_full_path = os.path.join(script_dir, rev_dict)\n",
    "        #rf_model_full_path = os.path.join(script_dir, rf_model)\n",
    "\n",
    "        self.rev_dict = pickle.load(open(rev_dict, 'rb'))\n",
    "        self.rf_model = pickle.load(open(rf_model, 'rb'))\n",
    "\n",
    "    def make_prediction(self, df):\n",
    "        '''\n",
    "        Make prediction using the RF model and convert back into the original terminal categories\n",
    "        '''\n",
    "        pred = self.rf_model.predict(df)[0]\n",
    "        term_cat = self.rev_dict[pred]\n",
    "    \n",
    "        return term_cat\n"
   ]
  },
  {
   "cell_type": "code",
   "execution_count": 36,
   "id": "e6e2a0b1-87f8-4b3a-afbe-4f31af50ec2c",
   "metadata": {},
   "outputs": [],
   "source": [
    "file = open('reverse_dict2.pkl','rb')"
   ]
  },
  {
   "cell_type": "code",
   "execution_count": 38,
   "id": "17baaea6-09e2-45b9-9ec4-32e619d1d7cb",
   "metadata": {},
   "outputs": [],
   "source": [
    "\n",
    "pickle.load(file)"
   ]
  },
  {
   "cell_type": "code",
   "execution_count": 49,
   "id": "60cb379e-d6fa-45da-b9b1-bba898d54918",
   "metadata": {},
   "outputs": [
    {
     "data": {
      "text/plain": [
       "'reverse_dict.pkl'"
      ]
     },
     "execution_count": 49,
     "metadata": {},
     "output_type": "execute_result"
    }
   ],
   "source": [
    "rev_dict"
   ]
  },
  {
   "cell_type": "code",
   "execution_count": 50,
   "id": "caf1758c-6111-4006-b3b9-b150a5fd7079",
   "metadata": {},
   "outputs": [],
   "source": [
    "rev_dict = 'reverse_dict2.pkl'\n",
    "rf_model ='final_model_v2.sav'"
   ]
  },
  {
   "cell_type": "code",
   "execution_count": 11,
   "id": "b25318e4-8329-4b5e-a5d4-463162b6817f",
   "metadata": {},
   "outputs": [],
   "source": [
    "file1 = open('final_model_v2.sav','rb')\n",
    "rf_model= pickle.load(file1)"
   ]
  },
  {
   "cell_type": "code",
   "execution_count": 39,
   "id": "c49beaa8-62cd-4c9f-8cda-66a443f31ff7",
   "metadata": {},
   "outputs": [],
   "source": [
    "category_manager = CategoryManager(categories)\n",
    "\n",
    "\n",
    "\n",
    "df = category_manager.make_df('CCCN(CCNC(=O)c1ccc(Cc2ccc(C(O)=O)cc2)cc1)S(=O)(=O)C(F)(F)C(F)(F)C(F)(F)C(F)(F)C(F)(F)C(F)(F)C(F)(F)C(F)(F)F', dtx = '123', cat=\"Aromatic PFASs\")\n",
    "\n"
   ]
  },
  {
   "cell_type": "code",
   "execution_count": 40,
   "id": "6f2360f9-4a58-4262-8efc-073442ae7181",
   "metadata": {},
   "outputs": [
    {
     "data": {
      "text/html": [
       "<div>\n",
       "<style scoped>\n",
       "    .dataframe tbody tr th:only-of-type {\n",
       "        vertical-align: middle;\n",
       "    }\n",
       "\n",
       "    .dataframe tbody tr th {\n",
       "        vertical-align: top;\n",
       "    }\n",
       "\n",
       "    .dataframe thead th {\n",
       "        text-align: right;\n",
       "    }\n",
       "</style>\n",
       "<table border=\"1\" class=\"dataframe\">\n",
       "  <thead>\n",
       "    <tr style=\"text-align: right;\">\n",
       "      <th></th>\n",
       "      <th>mrgn_0</th>\n",
       "      <th>mrgn_1</th>\n",
       "      <th>mrgn_2</th>\n",
       "      <th>mrgn_3</th>\n",
       "      <th>mrgn_4</th>\n",
       "      <th>mrgn_5</th>\n",
       "      <th>mrgn_6</th>\n",
       "      <th>mrgn_7</th>\n",
       "      <th>mrgn_8</th>\n",
       "      <th>mrgn_9</th>\n",
       "      <th>...</th>\n",
       "      <th>mrgn_1016</th>\n",
       "      <th>mrgn_1017</th>\n",
       "      <th>mrgn_1018</th>\n",
       "      <th>mrgn_1019</th>\n",
       "      <th>mrgn_1020</th>\n",
       "      <th>mrgn_1021</th>\n",
       "      <th>mrgn_1022</th>\n",
       "      <th>mrgn_1023</th>\n",
       "      <th>category</th>\n",
       "      <th>chain_length</th>\n",
       "    </tr>\n",
       "  </thead>\n",
       "  <tbody>\n",
       "    <tr>\n",
       "      <th>123</th>\n",
       "      <td>0</td>\n",
       "      <td>0</td>\n",
       "      <td>0</td>\n",
       "      <td>0</td>\n",
       "      <td>0</td>\n",
       "      <td>0</td>\n",
       "      <td>0</td>\n",
       "      <td>0</td>\n",
       "      <td>1</td>\n",
       "      <td>0</td>\n",
       "      <td>...</td>\n",
       "      <td>1</td>\n",
       "      <td>0</td>\n",
       "      <td>0</td>\n",
       "      <td>0</td>\n",
       "      <td>0</td>\n",
       "      <td>0</td>\n",
       "      <td>0</td>\n",
       "      <td>0</td>\n",
       "      <td>Aromatic PFASs</td>\n",
       "      <td>8</td>\n",
       "    </tr>\n",
       "  </tbody>\n",
       "</table>\n",
       "<p>1 rows × 1026 columns</p>\n",
       "</div>"
      ],
      "text/plain": [
       "     mrgn_0  mrgn_1  mrgn_2  mrgn_3  mrgn_4  mrgn_5  mrgn_6  mrgn_7  mrgn_8  \\\n",
       "123       0       0       0       0       0       0       0       0       1   \n",
       "\n",
       "     mrgn_9  ...  mrgn_1016  mrgn_1017  mrgn_1018  mrgn_1019  mrgn_1020  \\\n",
       "123       0  ...          1          0          0          0          0   \n",
       "\n",
       "     mrgn_1021  mrgn_1022  mrgn_1023        category  chain_length  \n",
       "123          0          0          0  Aromatic PFASs             8  \n",
       "\n",
       "[1 rows x 1026 columns]"
      ]
     },
     "execution_count": 40,
     "metadata": {},
     "output_type": "execute_result"
    }
   ],
   "source": [
    "df"
   ]
  },
  {
   "cell_type": "code",
   "execution_count": 54,
   "id": "386149c1-708b-4cd1-a97d-4f2748acd9ca",
   "metadata": {},
   "outputs": [],
   "source": [
    "catpred = CategoryPrediction(rev_dict, rf_model )\n",
    "\n"
   ]
  },
  {
   "cell_type": "code",
   "execution_count": 55,
   "id": "5c71c0e6-e7bd-4c55-a3e1-c7e2745b84e8",
   "metadata": {},
   "outputs": [
    {
     "data": {
      "text/plain": [
       "\"('Aromatic PFASs', 'gte7', nan, nan)\""
      ]
     },
     "execution_count": 55,
     "metadata": {},
     "output_type": "execute_result"
    }
   ],
   "source": [
    "catpred.make_prediction(df)"
   ]
  },
  {
   "cell_type": "code",
   "execution_count": null,
   "id": "126d8525-46de-4925-b4ab-432a61d29a2e",
   "metadata": {},
   "outputs": [],
   "source": []
  }
 ],
 "metadata": {
  "kernelspec": {
   "display_name": "py310",
   "language": "python",
   "name": "py310"
  },
  "language_info": {
   "codemirror_mode": {
    "name": "ipython",
    "version": 3
   },
   "file_extension": ".py",
   "mimetype": "text/x-python",
   "name": "python",
   "nbconvert_exporter": "python",
   "pygments_lexer": "ipython3",
   "version": "3.10.14"
  },
  "widgets": {
   "application/vnd.jupyter.widget-state+json": {
    "state": {},
    "version_major": 2,
    "version_minor": 0
   }
  }
 },
 "nbformat": 4,
 "nbformat_minor": 5
}
