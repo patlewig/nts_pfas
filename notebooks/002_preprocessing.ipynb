{
 "cells": [
  {
   "cell_type": "markdown",
   "id": "43cc3c05-2284-4ac0-9eac-7b9b80ac4d7c",
   "metadata": {},
   "source": [
    "# Removal of TSCA degradates that are not TSCA8a7"
   ]
  },
  {
   "cell_type": "code",
   "execution_count": 1,
   "id": "ab215788-ae79-44d3-8a8d-20321a25debe",
   "metadata": {},
   "outputs": [],
   "source": [
    "import numpy as np\n",
    "import pandas as pd\n",
    "import matplotlib.pyplot as plt\n",
    "import seaborn as sns\n",
    "%matplotlib inline\n",
    "import openpyxl\n",
    "from rdkit.Chem.Draw import IPythonConsole, MolsToGridImage\n",
    "\n",
    "#Show mols in dataframes\n",
    "from rdkit.Chem import PandasTools\n",
    "from rdkit import Chem\n",
    "from rdkit.Chem.Draw import MolsToGridImage\n",
    "from IPython.core.display import HTML\n",
    "from rdkit.Chem import Descriptors\n",
    "from rdkit.ML.Descriptors import MoleculeDescriptors\n",
    "from rdkit.Chem import PandasTools\n",
    "from rdkit.Chem import AllChem\n",
    "from rdkit.Chem import rdDepictor\n",
    "from rdkit.Chem.Fingerprints import FingerprintMols\n",
    "from rdkit import DataStructs\n",
    "import os"
   ]
  },
  {
   "cell_type": "code",
   "execution_count": 2,
   "id": "c3f5a2a0-0c49-4b37-8c7e-51fe126cd98e",
   "metadata": {},
   "outputs": [],
   "source": [
    "TOP = os.getcwd().replace('notebooks', '')\n",
    "raw_dir = TOP + 'data/raw/'\n",
    "interim_dir = TOP + 'data/interim/'\n",
    "external_dir = TOP + 'data/external/'\n",
    "figures_dir = TOP + 'reports/figures/'"
   ]
  },
  {
   "cell_type": "code",
   "execution_count": 3,
   "id": "0509ec43-fac8-419f-979a-acb71461c7d6",
   "metadata": {},
   "outputs": [],
   "source": [
    "data_toAW = pd.read_csv(external_dir+'pfas_tsca_degradation.csv')"
   ]
  },
  {
   "cell_type": "code",
   "execution_count": 10,
   "id": "84384f7b-9fd7-427a-8731-5c25e884a8b6",
   "metadata": {},
   "outputs": [],
   "source": [
    "data_toAW.columns = ['GRACE_ID', 'INCHI_KEY', 'ID', 'SMILES', 'chain_length']"
   ]
  },
  {
   "cell_type": "code",
   "execution_count": 13,
   "id": "907c08ca-d9c5-4519-b901-c6edb56fc086",
   "metadata": {},
   "outputs": [
    {
     "data": {
      "text/html": [
       "<div>\n",
       "<style scoped>\n",
       "    .dataframe tbody tr th:only-of-type {\n",
       "        vertical-align: middle;\n",
       "    }\n",
       "\n",
       "    .dataframe tbody tr th {\n",
       "        vertical-align: top;\n",
       "    }\n",
       "\n",
       "    .dataframe thead th {\n",
       "        text-align: right;\n",
       "    }\n",
       "</style>\n",
       "<table border=\"1\" class=\"dataframe\">\n",
       "  <thead>\n",
       "    <tr style=\"text-align: right;\">\n",
       "      <th></th>\n",
       "      <th>GRACE_ID</th>\n",
       "      <th>INCHI_KEY</th>\n",
       "      <th>ID</th>\n",
       "      <th>SMILES</th>\n",
       "      <th>chain_length</th>\n",
       "    </tr>\n",
       "  </thead>\n",
       "  <tbody>\n",
       "    <tr>\n",
       "      <th>26</th>\n",
       "      <td>38</td>\n",
       "      <td>AFTSHZRGGNMLHC-UHFFFAOYSA-N</td>\n",
       "      <td>['DTXSID6021377_m_1']</td>\n",
       "      <td>FC(F)C(F)(Cl)Cl</td>\n",
       "      <td>1</td>\n",
       "    </tr>\n",
       "  </tbody>\n",
       "</table>\n",
       "</div>"
      ],
      "text/plain": [
       "    GRACE_ID                    INCHI_KEY                     ID  \\\n",
       "26        38  AFTSHZRGGNMLHC-UHFFFAOYSA-N  ['DTXSID6021377_m_1']   \n",
       "\n",
       "             SMILES  chain_length  \n",
       "26  FC(F)C(F)(Cl)Cl             1  "
      ]
     },
     "execution_count": 13,
     "metadata": {},
     "output_type": "execute_result"
    }
   ],
   "source": [
    "data_toAW[data_toAW['GRACE_ID'] ==38]"
   ]
  },
  {
   "cell_type": "code",
   "execution_count": 5,
   "id": "9f7e508f-b09a-465c-ab43-15e4872dccd0",
   "metadata": {},
   "outputs": [],
   "source": [
    "AW_returned = pd.read_excel(external_dir+'NONPFAS structures.xlsx')"
   ]
  },
  {
   "cell_type": "code",
   "execution_count": 16,
   "id": "e94d8d81-bc7f-42fa-bbd7-1cf9c9bf35dd",
   "metadata": {},
   "outputs": [],
   "source": [
    "ids_to_del = AW_returned['GRACE_ID'].tolist()"
   ]
  },
  {
   "cell_type": "code",
   "execution_count": 34,
   "id": "99bb74c8-de99-4c73-a0cd-334f5a9a1bd2",
   "metadata": {},
   "outputs": [],
   "source": [
    "data_toAW[data_toAW['GRACE_ID'].isin(ids_to_del)].to_csv(interim_dir+'data_todel.csv')"
   ]
  },
  {
   "cell_type": "code",
   "execution_count": 32,
   "id": "e63a02d0-5e54-4577-9379-bd8e1a3e568c",
   "metadata": {},
   "outputs": [],
   "source": [
    "ids_to_rm = data_toAW[data_toAW['GRACE_ID'].isin(ids_to_del)]['INCHI_KEY'].tolist()"
   ]
  },
  {
   "cell_type": "code",
   "execution_count": 25,
   "id": "0f146556-30b0-4dab-a63e-8367ad3d1b9f",
   "metadata": {},
   "outputs": [],
   "source": [
    "universe = pd.read_excel(interim_dir+'universe_020524.xlsx', index_col = [0])"
   ]
  },
  {
   "cell_type": "code",
   "execution_count": 35,
   "id": "80b1dc61-a1d5-404e-bb28-c338989a50c0",
   "metadata": {},
   "outputs": [],
   "source": [
    "universe[universe['dtxsid'].isin(ids_to_rm)].to_csv(interim_dir+'data_todel_cf.csv')"
   ]
  },
  {
   "cell_type": "code",
   "execution_count": 39,
   "id": "e89c94ab-dea6-4d11-b16d-d30cd09eb271",
   "metadata": {},
   "outputs": [],
   "source": [
    "universe1 = universe[~universe['dtxsid'].isin(ids_to_rm)]"
   ]
  },
  {
   "cell_type": "code",
   "execution_count": 44,
   "id": "e98beec4-783c-4550-aceb-01c3ec64a8aa",
   "metadata": {},
   "outputs": [
    {
     "data": {
      "text/plain": [
       "(2484, 168)"
      ]
     },
     "execution_count": 44,
     "metadata": {},
     "output_type": "execute_result"
    }
   ],
   "source": [
    "universe1[(universe1['ID'].notnull()) & (universe1['ID'] != 'matches_tsca_degradate')].shape"
   ]
  },
  {
   "cell_type": "code",
   "execution_count": 45,
   "id": "c01913f1-b6cf-481e-8626-28b70abb2eb8",
   "metadata": {},
   "outputs": [
    {
     "data": {
      "text/plain": [
       "(15538, 168)"
      ]
     },
     "execution_count": 45,
     "metadata": {},
     "output_type": "execute_result"
    }
   ],
   "source": [
    "universe1.shape"
   ]
  },
  {
   "cell_type": "markdown",
   "id": "566fe2f0-e9a1-425b-ba7e-b07ed5fbfef5",
   "metadata": {},
   "source": [
    "The landscape comprises 15,538 substances of which these contain 2484 TSCA degradates."
   ]
  },
  {
   "cell_type": "code",
   "execution_count": 48,
   "id": "0a13f91a-820d-40ae-87c6-3482e72eed88",
   "metadata": {},
   "outputs": [
    {
     "data": {
      "text/plain": [
       "13054"
      ]
     },
     "execution_count": 48,
     "metadata": {},
     "output_type": "execute_result"
    }
   ],
   "source": [
    "15538-2484"
   ]
  },
  {
   "cell_type": "code",
   "execution_count": 47,
   "id": "8c074a93-76b7-4d84-b967-8321d51d5a89",
   "metadata": {},
   "outputs": [],
   "source": [
    "writer = pd.ExcelWriter(interim_dir+'universe_060625.xlsx', engine='xlsxwriter')\n",
    "\n",
    "# Convert the dataframe to an XlsxWriter Excel object.\n",
    "\n",
    "universe1.to_excel(writer)\n",
    "\n",
    "writer.close()\n"
   ]
  },
  {
   "cell_type": "code",
   "execution_count": null,
   "id": "87c7d433-3870-4c2e-a450-fb7ca1a81846",
   "metadata": {},
   "outputs": [],
   "source": []
  },
  {
   "cell_type": "code",
   "execution_count": null,
   "id": "39344b8a-f21d-4cb7-8468-1b0b3062aef2",
   "metadata": {},
   "outputs": [],
   "source": []
  },
  {
   "cell_type": "code",
   "execution_count": null,
   "id": "c4b487ae-a9ed-456c-8f75-c08d11c99fb1",
   "metadata": {},
   "outputs": [],
   "source": []
  }
 ],
 "metadata": {
  "kernelspec": {
   "display_name": "py39",
   "language": "python",
   "name": "py39"
  },
  "language_info": {
   "codemirror_mode": {
    "name": "ipython",
    "version": 3
   },
   "file_extension": ".py",
   "mimetype": "text/x-python",
   "name": "python",
   "nbconvert_exporter": "python",
   "pygments_lexer": "ipython3",
   "version": "3.9.16"
  },
  "widgets": {
   "application/vnd.jupyter.widget-state+json": {
    "state": {},
    "version_major": 2,
    "version_minor": 0
   }
  }
 },
 "nbformat": 4,
 "nbformat_minor": 5
}
