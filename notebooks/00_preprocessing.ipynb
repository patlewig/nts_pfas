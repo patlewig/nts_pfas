{
 "cells": [
  {
   "cell_type": "markdown",
   "id": "0a3ddc23-688e-4308-9e5a-fab54dc23582",
   "metadata": {},
   "source": [
    "# Creating the starting inventory and identifying the TSCA substances for degradation"
   ]
  },
  {
   "cell_type": "markdown",
   "id": "bf0c36ad-953f-44fe-83c8-182aa667eca2",
   "metadata": {},
   "source": [
    "- Created by: Grace Patlewicz\n",
    "- Last date modified: 30 April 2024\n",
    "- Merging OPERA predictions and inventory with PFAS Atlas assignments. Identifying TSCA substances for which degradation products need to be identified"
   ]
  },
  {
   "cell_type": "code",
   "execution_count": 1,
   "id": "532c33b5-bd35-4d3a-ad7d-88a9bfb01db7",
   "metadata": {},
   "outputs": [],
   "source": [
    "import numpy as np\n",
    "import pandas as pd\n",
    "import matplotlib.pyplot as plt\n",
    "import seaborn as sns\n",
    "%matplotlib inline\n",
    "import openpyxl\n",
    "from rdkit.Chem.Draw import IPythonConsole, MolsToGridImage\n",
    "\n",
    "#Show mols in dataframes\n",
    "from rdkit.Chem import PandasTools\n",
    "from rdkit import Chem\n",
    "from rdkit.Chem.Draw import MolsToGridImage\n",
    "from IPython.core.display import HTML\n",
    "from rdkit.Chem import Descriptors\n",
    "from rdkit.ML.Descriptors import MoleculeDescriptors\n",
    "from rdkit.Chem import PandasTools\n",
    "from rdkit.Chem import AllChem\n",
    "from rdkit.Chem import rdDepictor\n",
    "from rdkit.Chem.Fingerprints import FingerprintMols\n",
    "from rdkit import DataStructs\n",
    "import os\n",
    "from scipy.spatial.distance import pdist, squareform\n"
   ]
  },
  {
   "cell_type": "code",
   "execution_count": 2,
   "id": "0b0511e4-fff7-423e-82d2-76e69621e13f",
   "metadata": {},
   "outputs": [],
   "source": [
    "TOP = os.getcwd().replace('notebooks', '')\n",
    "raw_dir = TOP + 'data/raw/'\n",
    "interim_dir = TOP + 'data/interim/'\n",
    "external_dir = TOP + 'data/external/'\n",
    "processed_dir = TOP + 'data/processed/'\n",
    "figures_dir = TOP + 'reports/figures/'"
   ]
  },
  {
   "cell_type": "markdown",
   "id": "2232ff89-bd82-412b-b99e-01810ba5e645",
   "metadata": {},
   "source": [
    "Import new starting inventory prepared by AW and reviewed by TB et al"
   ]
  },
  {
   "cell_type": "code",
   "execution_count": 5,
   "id": "a10d8a52-2f25-4f48-8223-7b842d79e020",
   "metadata": {},
   "outputs": [
    {
     "name": "stderr",
     "output_type": "stream",
     "text": [
      "/home/grace/anaconda3/envs/py39/lib/python3.9/site-packages/openpyxl/styles/stylesheet.py:226: UserWarning: Workbook contains no default style, apply openpyxl's default\n",
      "  warn(\"Workbook contains no default style, apply openpyxl's default\")\n"
     ]
    }
   ],
   "source": [
    "df = pd.read_excel(raw_dir+'DSSTox_PFAS8a7v3_20240426.xlsx')"
   ]
  },
  {
   "cell_type": "code",
   "execution_count": 9,
   "id": "b06875cc-ba72-40bb-a01c-6b020ad59f01",
   "metadata": {},
   "outputs": [],
   "source": [
    "df = df[[ 'DSSTox_Substance_Id','DSSTox_QC-Level', 'Substance_Name',\n",
    "       'Substance_CASRN', 'Substance_Type', 'Substance_Note',\n",
    "       'Structure_SMILES', 'Structure_InChI', 'Structure_InChIKey',\n",
    "       'Structure_Formula', 'Structure_MolWt', 'Structure_SMILES_2D-QSAR']]"
   ]
  },
  {
   "cell_type": "code",
   "execution_count": 10,
   "id": "bfd54fdb-c272-4414-a552-74332737583a",
   "metadata": {},
   "outputs": [
    {
     "data": {
      "text/plain": [
       "(13054, 12)"
      ]
     },
     "execution_count": 10,
     "metadata": {},
     "output_type": "execute_result"
    }
   ],
   "source": [
    "df.shape"
   ]
  },
  {
   "cell_type": "code",
   "execution_count": 11,
   "id": "29d358ac-87ab-42c8-be67-b24d71a2a132",
   "metadata": {},
   "outputs": [
    {
     "name": "stderr",
     "output_type": "stream",
     "text": [
      "/tmp/ipykernel_741177/4233088707.py:1: SettingWithCopyWarning: \n",
      "A value is trying to be set on a copy of a slice from a DataFrame\n",
      "\n",
      "See the caveats in the documentation: https://pandas.pydata.org/pandas-docs/stable/user_guide/indexing.html#returning-a-view-versus-a-copy\n",
      "  df.rename(columns = {'DSSTox_Substance_Id' : 'dtxsid',  'Structure_SMILES':'smiles'}, inplace = True)\n"
     ]
    }
   ],
   "source": [
    "df.rename(columns = {'DSSTox_Substance_Id' : 'dtxsid',  'Structure_SMILES':'smiles'}, inplace = True)"
   ]
  },
  {
   "cell_type": "markdown",
   "id": "c65f765b-4872-401b-8d04-ee106c34b0e9",
   "metadata": {},
   "source": [
    "There are 13,054 substances on this inventory represemted by 13,042 unique SMILES."
   ]
  },
  {
   "cell_type": "code",
   "execution_count": 14,
   "id": "00e912e9-7a40-4e0b-938c-410c7917da5f",
   "metadata": {},
   "outputs": [
    {
     "data": {
      "text/plain": [
       "13042"
      ]
     },
     "execution_count": 14,
     "metadata": {},
     "output_type": "execute_result"
    }
   ],
   "source": [
    "df.smiles.nunique()"
   ]
  },
  {
   "cell_type": "markdown",
   "id": "877acb2f-293d-4945-b596-71fa346c5746",
   "metadata": {},
   "source": [
    "Pulling in the TSCA chemicals downloaded from public Dashboard 30 April 2024"
   ]
  },
  {
   "cell_type": "code",
   "execution_count": 18,
   "id": "1f9160b2-6bcf-4b21-a9c8-3118c1612455",
   "metadata": {},
   "outputs": [],
   "source": [
    "tsca_active = pd.read_excel(raw_dir+'Chemical List TSCA_ACTIVE_NCTI_0224-2024-04-30.xlsx')"
   ]
  },
  {
   "cell_type": "code",
   "execution_count": 19,
   "id": "8bbf6eb1-b124-4b19-8731-6b799f3bb0b0",
   "metadata": {},
   "outputs": [],
   "source": [
    "tsca_inactive = pd.read_excel(raw_dir+'Chemical List TSCA_INACTIVE_NCTI_0224-2024-04-30.xlsx')"
   ]
  },
  {
   "cell_type": "code",
   "execution_count": 22,
   "id": "e805d96c-b9d7-4613-a02b-0748810017ea",
   "metadata": {},
   "outputs": [],
   "source": [
    "inactive_dtx = tsca_inactive['DTXSID'].tolist()"
   ]
  },
  {
   "cell_type": "code",
   "execution_count": 23,
   "id": "22766c49-d768-47b3-925a-70b848686799",
   "metadata": {},
   "outputs": [],
   "source": [
    "active_dtx = tsca_active['DTXSID'].tolist()"
   ]
  },
  {
   "cell_type": "code",
   "execution_count": 29,
   "id": "497b8550-29bb-4dce-9d10-db5656b8ebb6",
   "metadata": {},
   "outputs": [
    {
     "data": {
      "text/plain": [
       "34387"
      ]
     },
     "execution_count": 29,
     "metadata": {},
     "output_type": "execute_result"
    }
   ],
   "source": [
    "len(inactive_dtx)"
   ]
  },
  {
   "cell_type": "code",
   "execution_count": 31,
   "id": "6ef729bb-ee0a-4106-abc2-41e40ccf1055",
   "metadata": {},
   "outputs": [],
   "source": [
    "#df['dtxsid']"
   ]
  },
  {
   "cell_type": "code",
   "execution_count": 34,
   "id": "cfbfa355-8d8f-482b-994a-991d966b99e1",
   "metadata": {},
   "outputs": [
    {
     "name": "stderr",
     "output_type": "stream",
     "text": [
      "/tmp/ipykernel_741177/3662081939.py:1: SettingWithCopyWarning: \n",
      "A value is trying to be set on a copy of a slice from a DataFrame.\n",
      "Try using .loc[row_indexer,col_indexer] = value instead\n",
      "\n",
      "See the caveats in the documentation: https://pandas.pydata.org/pandas-docs/stable/user_guide/indexing.html#returning-a-view-versus-a-copy\n",
      "  df['TSCA_STATUS'] = df['dtxsid'].apply(lambda x: 'active' if x in active_dtx else ('inactive' if x in inactive_dtx else np.nan))\n"
     ]
    }
   ],
   "source": [
    "df['TSCA_STATUS'] = df['dtxsid'].apply(lambda x: 'active' if x in active_dtx else ('inactive' if x in inactive_dtx else np.nan))"
   ]
  },
  {
   "cell_type": "code",
   "execution_count": 36,
   "id": "c30902ff-676d-4af8-9a87-c74deb624d9a",
   "metadata": {},
   "outputs": [
    {
     "data": {
      "text/plain": [
       "inactive    326\n",
       "active      237\n",
       "Name: TSCA_STATUS, dtype: int64"
      ]
     },
     "execution_count": 36,
     "metadata": {},
     "output_type": "execute_result"
    }
   ],
   "source": [
    "df['TSCA_STATUS'].value_counts()"
   ]
  },
  {
   "cell_type": "markdown",
   "id": "d133ab9a-52c1-41c1-a42d-36f30e17c3c3",
   "metadata": {},
   "source": [
    "There are 326 inactives and 237 actives on the TSCA inventory that are PFAS."
   ]
  },
  {
   "cell_type": "markdown",
   "id": "344071ea-2e5d-4a71-b036-1e8f1d56afd5",
   "metadata": {},
   "source": [
    "Pulling in the OPERA predictions and the PFAS Atlas assignments"
   ]
  },
  {
   "cell_type": "code",
   "execution_count": 37,
   "id": "a879acb6-b5f2-41a8-bf8e-f72f0229ef9c",
   "metadata": {},
   "outputs": [],
   "source": [
    "opera = pd.read_csv(raw_dir+'DSSTox_PFAS8a7v3_20240426_V2000-sdf_OPERA2.9Pred.csv')"
   ]
  },
  {
   "cell_type": "code",
   "execution_count": 39,
   "id": "5dec5804-1915-496d-8a9f-a490832e72e1",
   "metadata": {},
   "outputs": [
    {
     "data": {
      "text/plain": [
       "Index(['MoleculeID', 'MolWeight', 'nbAtoms', 'nbHeavyAtoms', 'nbC', 'nbO',\n",
       "       'nbN', 'nbAromAtom', 'nbRing', 'nbHeteroRing',\n",
       "       ...\n",
       "       'Conf_index_CoMPARA_Bind', 'CATMoS_VT_pred', 'CATMoS_NT_pred',\n",
       "       'CATMoS_EPA_pred', 'CATMoS_GHS_pred', 'CATMoS_LD50_pred',\n",
       "       'CATMoS_LD50_predRange', 'AD_CATMoS', 'AD_index_CATMoS',\n",
       "       'Conf_index_CATMoS'],\n",
       "      dtype='object', length=150)"
      ]
     },
     "execution_count": 39,
     "metadata": {},
     "output_type": "execute_result"
    }
   ],
   "source": [
    "opera.columns"
   ]
  },
  {
   "cell_type": "code",
   "execution_count": 40,
   "id": "6aef5e98-c5d7-44e1-ad75-018c70d5939e",
   "metadata": {},
   "outputs": [
    {
     "data": {
      "text/plain": [
       "(12781, 150)"
      ]
     },
     "execution_count": 40,
     "metadata": {},
     "output_type": "execute_result"
    }
   ],
   "source": [
    "opera.shape"
   ]
  },
  {
   "cell_type": "code",
   "execution_count": 41,
   "id": "5ab91d89-649f-403d-abc2-f88eeede708d",
   "metadata": {},
   "outputs": [],
   "source": [
    "opera.rename(columns = {'MoleculeID': 'dtxsid'}, inplace = True)"
   ]
  },
  {
   "cell_type": "code",
   "execution_count": 44,
   "id": "7be166c9-b762-483c-9601-13134bea3af7",
   "metadata": {},
   "outputs": [],
   "source": [
    "df1 = pd.merge(df, opera, on = 'dtxsid', how = 'left')"
   ]
  },
  {
   "cell_type": "code",
   "execution_count": 51,
   "id": "4edf8aef-26a0-42d1-b2c1-3b67f54af4d1",
   "metadata": {},
   "outputs": [],
   "source": [
    "atlas = pd.read_csv(external_dir+'new_inv_pfas_atlas_300424.csv', index_col=[0])"
   ]
  },
  {
   "cell_type": "code",
   "execution_count": 54,
   "id": "abd3d59a-6b58-4865-99fe-5d12429d3104",
   "metadata": {},
   "outputs": [],
   "source": [
    "atlas = atlas[['Canonical_QSARr', 'Molecule name','First_Class', 'Second_Class' ]]"
   ]
  },
  {
   "cell_type": "code",
   "execution_count": 56,
   "id": "cb7f5eae-b8b0-4c96-892b-a976665b8278",
   "metadata": {},
   "outputs": [
    {
     "name": "stderr",
     "output_type": "stream",
     "text": [
      "/tmp/ipykernel_741177/1210519823.py:1: SettingWithCopyWarning: \n",
      "A value is trying to be set on a copy of a slice from a DataFrame\n",
      "\n",
      "See the caveats in the documentation: https://pandas.pydata.org/pandas-docs/stable/user_guide/indexing.html#returning-a-view-versus-a-copy\n",
      "  atlas.rename(columns = {'Canonical_QSARr': 'QSAR_READY_SMILES', 'Molecule name': 'dtxsid'}, inplace = True)\n"
     ]
    }
   ],
   "source": [
    "atlas.rename(columns = {'Canonical_QSARr': 'QSAR_READY_SMILES', 'Molecule name': 'dtxsid'}, inplace = True)"
   ]
  },
  {
   "cell_type": "code",
   "execution_count": 60,
   "id": "09559197-2182-462c-8da7-679f7a1db6c4",
   "metadata": {},
   "outputs": [],
   "source": [
    "atlas = atlas[['dtxsid', 'First_Class', 'Second_Class','QSAR_READY_SMILES']]"
   ]
  },
  {
   "cell_type": "code",
   "execution_count": 62,
   "id": "d59c0e16-b1a5-45ef-a2f0-4df9ecf690d3",
   "metadata": {},
   "outputs": [],
   "source": [
    "df1 = pd.merge(df1, atlas, on = 'dtxsid', how = 'left')"
   ]
  },
  {
   "cell_type": "code",
   "execution_count": 69,
   "id": "fdecd52a-ae87-45fd-aac4-3f8a55b71edf",
   "metadata": {},
   "outputs": [],
   "source": [
    "df1[df1['TSCA_STATUS'].notnull()].to_csv(interim_dir+'april2024_tsca_pfas.csv')"
   ]
  },
  {
   "cell_type": "code",
   "execution_count": null,
   "id": "65276e68-0033-4faf-9fa3-dbb1fda41116",
   "metadata": {},
   "outputs": [],
   "source": []
  },
  {
   "cell_type": "code",
   "execution_count": null,
   "id": "3a1a60db-c46d-4b9d-886b-c635c19b2fd6",
   "metadata": {},
   "outputs": [],
   "source": []
  },
  {
   "cell_type": "code",
   "execution_count": null,
   "id": "4a1b9860-bfb7-4fc5-b316-f767b810afcd",
   "metadata": {},
   "outputs": [],
   "source": []
  },
  {
   "cell_type": "code",
   "execution_count": null,
   "id": "55f1faab-50da-4963-9a4d-0aa908ccbb8b",
   "metadata": {},
   "outputs": [],
   "source": []
  },
  {
   "cell_type": "code",
   "execution_count": null,
   "id": "074e72b8-98e7-4818-9cc3-9018294bba50",
   "metadata": {},
   "outputs": [],
   "source": []
  }
 ],
 "metadata": {
  "kernelspec": {
   "display_name": "py39",
   "language": "python",
   "name": "py39"
  },
  "language_info": {
   "codemirror_mode": {
    "name": "ipython",
    "version": 3
   },
   "file_extension": ".py",
   "mimetype": "text/x-python",
   "name": "python",
   "nbconvert_exporter": "python",
   "pygments_lexer": "ipython3",
   "version": "3.9.16"
  },
  "widgets": {
   "application/vnd.jupyter.widget-state+json": {
    "state": {},
    "version_major": 2,
    "version_minor": 0
   }
  }
 },
 "nbformat": 4,
 "nbformat_minor": 5
}
