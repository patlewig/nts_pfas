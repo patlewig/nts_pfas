{
 "cells": [
  {
   "cell_type": "markdown",
   "id": "4f20ce51-a0c1-41d9-b83e-1814521ba1e8",
   "metadata": {},
   "source": [
    "## Exploring the MITI dataset"
   ]
  },
  {
   "cell_type": "code",
   "execution_count": 1,
   "id": "e6b140c1-8548-467b-8bde-9997983760a2",
   "metadata": {},
   "outputs": [],
   "source": [
    "import numpy as np\n",
    "import pandas as pd\n",
    "import matplotlib.pyplot as plt\n",
    "import seaborn as sns\n",
    "%matplotlib inline\n",
    "import openpyxl\n",
    "from rdkit.Chem.Draw import IPythonConsole, MolsToGridImage\n",
    "\n",
    "#Show mols in dataframes\n",
    "from rdkit.Chem import PandasTools\n",
    "from rdkit import Chem\n",
    "from rdkit.Chem.Draw import MolsToGridImage\n",
    "from IPython.core.display import HTML\n",
    "from rdkit.Chem import Descriptors\n",
    "from rdkit.ML.Descriptors import MoleculeDescriptors\n",
    "from rdkit.Chem import PandasTools\n",
    "from rdkit.Chem import AllChem\n",
    "from rdkit.Chem import rdDepictor\n",
    "from rdkit.Chem.Fingerprints import FingerprintMols\n",
    "from rdkit import DataStructs\n",
    "import os"
   ]
  },
  {
   "cell_type": "code",
   "execution_count": 2,
   "id": "30149527-226b-4aa9-965e-7c16b53c1221",
   "metadata": {},
   "outputs": [],
   "source": [
    "TOP = os.getcwd().replace('notebooks', '')\n",
    "raw_dir = TOP + 'data/raw/'\n",
    "interim_dir = TOP + 'data/interim/'\n",
    "processed_dir = TOP + 'data/processed/'\n",
    "external_dir = TOP + 'data/external/'\n",
    "figures_dir = TOP + 'reports/figures/'"
   ]
  },
  {
   "cell_type": "code",
   "execution_count": 3,
   "id": "3a19e190-0b35-4ec4-991d-81e563ddd9b7",
   "metadata": {},
   "outputs": [],
   "source": [
    "df = pd.read_excel(interim_dir+'secondary_categorisations_new_universe_061123.xlsx', index_col = [0] )"
   ]
  },
  {
   "cell_type": "code",
   "execution_count": 4,
   "id": "0e17bf1c-8251-474b-be43-13b390128ce0",
   "metadata": {},
   "outputs": [],
   "source": [
    "import sys"
   ]
  },
  {
   "cell_type": "code",
   "execution_count": 5,
   "id": "86e79158-4784-4ca6-8d40-651de011e774",
   "metadata": {},
   "outputs": [],
   "source": [
    "LIB = TOP+'src/models/'\n",
    "if not LIB in sys.path: \n",
    "    sys.path.insert(0,LIB)\n"
   ]
  },
  {
   "cell_type": "code",
   "execution_count": 6,
   "id": "fa074338-a51e-49e4-902e-4ff2e76bbae8",
   "metadata": {},
   "outputs": [],
   "source": [
    "from model_functions import *"
   ]
  },
  {
   "cell_type": "code",
   "execution_count": 7,
   "id": "e53c63be-0a8c-410f-8b6a-df3e686d0493",
   "metadata": {},
   "outputs": [],
   "source": [
    "tsca_chems = df[df['TSCA_STATUS'] != 'unclassified']"
   ]
  },
  {
   "cell_type": "code",
   "execution_count": 8,
   "id": "187ec07e-c898-4cdc-88da-6be186741502",
   "metadata": {},
   "outputs": [],
   "source": [
    "tsca_chems_dict = {k:Chem.MolFromSmiles(v) for k,v in zip(tsca_chems['dtxsid'], tsca_chems['smiles'])}"
   ]
  },
  {
   "cell_type": "code",
   "execution_count": 9,
   "id": "b130f250-3fcd-42fa-ac72-28750c8aa40f",
   "metadata": {},
   "outputs": [],
   "source": [
    "tsca_chems_fp = mk_fp(tsca_chems)"
   ]
  },
  {
   "cell_type": "code",
   "execution_count": 10,
   "id": "d34acedb-573b-4767-afc0-742d959e89ce",
   "metadata": {},
   "outputs": [],
   "source": [
    "tsca_chems_fp['source'] = 'tsca'"
   ]
  },
  {
   "cell_type": "code",
   "execution_count": 11,
   "id": "6b0509ff-f0e0-4302-b86f-e5f346f4ffa2",
   "metadata": {},
   "outputs": [],
   "source": [
    "miti = pd.read_excel(external_dir+'CATALOGIC_301C_1549_chemicals.xlsx')"
   ]
  },
  {
   "cell_type": "code",
   "execution_count": 12,
   "id": "24c16e35-61d7-4764-8f60-461bec9bd1e9",
   "metadata": {},
   "outputs": [],
   "source": [
    "miti.rename(columns = {'CASRN':'dtxsid', 'SMILES':'smiles'}, inplace = True)"
   ]
  },
  {
   "cell_type": "code",
   "execution_count": 13,
   "id": "d0ae0ba7-32a8-44ac-bd22-500ae3c89537",
   "metadata": {},
   "outputs": [
    {
     "data": {
      "text/plain": [
       "(1549, 4)"
      ]
     },
     "execution_count": 13,
     "metadata": {},
     "output_type": "execute_result"
    }
   ],
   "source": [
    "miti.shape"
   ]
  },
  {
   "cell_type": "code",
   "execution_count": 14,
   "id": "68e5f38a-7fca-4806-8deb-f65d33564134",
   "metadata": {},
   "outputs": [
    {
     "name": "stderr",
     "output_type": "stream",
     "text": [
      "[08:57:42] SMILES Parse Error: syntax error while parsing: C[N+](C)(C)(.[Cl-])CCO\n",
      "[08:57:42] SMILES Parse Error: Failed parsing SMILES 'C[N+](C)(C)(.[Cl-])CCO' for input: 'C[N+](C)(C)(.[Cl-])CCO'\n",
      "[08:57:42] SMILES Parse Error: syntax error while parsing: CCCCCCCCOP(=O)([O-].[K+])[O-].[K+]_CCCCCCCCOP(=O)(OCCCCCCCC)[O-].[K+]\n",
      "[08:57:42] SMILES Parse Error: Failed parsing SMILES 'CCCCCCCCOP(=O)([O-].[K+])[O-].[K+]_CCCCCCCCOP(=O)(OCCCCCCCC)[O-].[K+]' for input: 'CCCCCCCCOP(=O)([O-].[K+])[O-].[K+]_CCCCCCCCOP(=O)(OCCCCCCCC)[O-].[K+]'\n",
      "[08:57:42] SMILES Parse Error: syntax error while parsing: CCc1ccc(C=C)cc1_CCc1cccc(C=C)c1_CCc1ccccc1C=C\n",
      "[08:57:42] SMILES Parse Error: Failed parsing SMILES 'CCc1ccc(C=C)cc1_CCc1cccc(C=C)c1_CCc1ccccc1C=C' for input: 'CCc1ccc(C=C)cc1_CCc1cccc(C=C)c1_CCc1ccccc1C=C'\n",
      "[08:57:42] SMILES Parse Error: syntax error while parsing: CCCCCCCCc1ccc(Nc2ccc(CCCCCCCC)cc2)cc1_CCCCCCCCc1cccc(Nc2ccc(CCCCCCCC)cc2)c1_CCCCCCCCc1cccc(Nc2cccc(CCCCCCCC)c2)c1_CCCCCCCCc1ccccc1Nc1cccc(CCCCCCCC)c1_CCCCCCCCc1ccccc1Nc1ccccc1CCCCCCCC\n",
      "[08:57:42] SMILES Parse Error: Failed parsing SMILES 'CCCCCCCCc1ccc(Nc2ccc(CCCCCCCC)cc2)cc1_CCCCCCCCc1cccc(Nc2ccc(CCCCCCCC)cc2)c1_CCCCCCCCc1cccc(Nc2cccc(CCCCCCCC)c2)c1_CCCCCCCCc1ccccc1Nc1cccc(CCCCCCCC)c1_CCCCCCCCc1ccccc1Nc1ccccc1CCCCCCCC' for input: 'CCCCCCCCc1ccc(Nc2ccc(CCCCCCCC)cc2)cc1_CCCCCCCCc1cccc(Nc2ccc(CCCCCCCC)cc2)c1_CCCCCCCCc1cccc(Nc2cccc(CCCCCCCC)c2)c1_CCCCCCCCc1ccccc1Nc1cccc(CCCCCCCC)c1_CCCCCCCCc1ccccc1Nc1ccccc1CCCCCCCC'\n",
      "[08:57:42] SMILES Parse Error: syntax error while parsing: Cc1ccc(O)cc1_Cc1cccc(O)c1_Cc1ccccc1O\n",
      "[08:57:42] SMILES Parse Error: Failed parsing SMILES 'Cc1ccc(O)cc1_Cc1cccc(O)c1_Cc1ccccc1O' for input: 'Cc1ccc(O)cc1_Cc1cccc(O)c1_Cc1ccccc1O'\n",
      "[08:57:42] SMILES Parse Error: syntax error while parsing: Cc1ccc(O)c(C)c1_Cc1ccc(O)cc1C_Cc1cccc(C)c1O\n",
      "[08:57:42] SMILES Parse Error: Failed parsing SMILES 'Cc1ccc(O)c(C)c1_Cc1ccc(O)cc1C_Cc1cccc(C)c1O' for input: 'Cc1ccc(O)c(C)c1_Cc1ccc(O)cc1C_Cc1cccc(C)c1O'\n",
      "[08:57:42] SMILES Parse Error: syntax error while parsing: BrC(Br)c1ccc(OCC2CO2)cc1_BrC(Br)c1cccc(OCC2CO2)c1_BrC(Br)c1ccccc1OCC1CO1\n",
      "[08:57:42] SMILES Parse Error: Failed parsing SMILES 'BrC(Br)c1ccc(OCC2CO2)cc1_BrC(Br)c1cccc(OCC2CO2)c1_BrC(Br)c1ccccc1OCC1CO1' for input: 'BrC(Br)c1ccc(OCC2CO2)cc1_BrC(Br)c1cccc(OCC2CO2)c1_BrC(Br)c1ccccc1OCC1CO1'\n",
      "[08:57:42] SMILES Parse Error: syntax error while parsing: CCCCCCCCCCCC[N+](C)(C)(.[Cl-])Cc1ccccc1\n",
      "[08:57:42] SMILES Parse Error: Failed parsing SMILES 'CCCCCCCCCCCC[N+](C)(C)(.[Cl-])Cc1ccccc1' for input: 'CCCCCCCCCCCC[N+](C)(C)(.[Cl-])Cc1ccccc1'\n",
      "[08:57:42] SMILES Parse Error: syntax error while parsing: C[N+](C)(C)(.[Cl-])Cc1ccccc1\n",
      "[08:57:42] SMILES Parse Error: Failed parsing SMILES 'C[N+](C)(C)(.[Cl-])Cc1ccccc1' for input: 'C[N+](C)(C)(.[Cl-])Cc1ccccc1'\n",
      "[08:57:42] SMILES Parse Error: syntax error while parsing: Brc1cc(Br)cc(Br)c1Oc1cc(Br)cc(Br)c1Br_Brc1cc(Oc2cc(Br)c(Br)cc2Br)cc(Br)c1Br_Brc1ccc(Oc2cc(Br)cc(Br)c2Br)c(Br)c1Br\n",
      "[08:57:42] SMILES Parse Error: Failed parsing SMILES 'Brc1cc(Br)cc(Br)c1Oc1cc(Br)cc(Br)c1Br_Brc1cc(Oc2cc(Br)c(Br)cc2Br)cc(Br)c1Br_Brc1ccc(Oc2cc(Br)cc(Br)c2Br)c(Br)c1Br' for input: 'Brc1cc(Br)cc(Br)c1Oc1cc(Br)cc(Br)c1Br_Brc1cc(Oc2cc(Br)c(Br)cc2Br)cc(Br)c1Br_Brc1ccc(Oc2cc(Br)cc(Br)c2Br)c(Br)c1Br'\n",
      "[08:57:42] SMILES Parse Error: syntax error while parsing: Cc1ccc(OP(=O)(Oc2ccc(C)cc2C)Oc2cc(C)cc(C)c2C)c(C)c1_Cc1ccccc1OP(=O)(Oc1ccc(C)cc1C)Oc1cc(C)cc(C)c1C_CCc1ccc(CC)cc1OP(=O)(Oc1ccc(CC)c(CC)c1)Oc1cc(CC)cc(CC)c1_CCc1ccc(OP(=O)(Oc2ccc(C)cc2C)Oc2cc(CC)cc(CC)c2)cc1\n",
      "[08:57:42] SMILES Parse Error: Failed parsing SMILES 'Cc1ccc(OP(=O)(Oc2ccc(C)cc2C)Oc2cc(C)cc(C)c2C)c(C)c1_Cc1ccccc1OP(=O)(Oc1ccc(C)cc1C)Oc1cc(C)cc(C)c1C_CCc1ccc(CC)cc1OP(=O)(Oc1ccc(CC)c(CC)c1)Oc1cc(CC)cc(CC)c1_CCc1ccc(OP(=O)(Oc2ccc(C)cc2C)Oc2cc(CC)cc(CC)c2)cc1' for input: 'Cc1ccc(OP(=O)(Oc2ccc(C)cc2C)Oc2cc(C)cc(C)c2C)c(C)c1_Cc1ccccc1OP(=O)(Oc1ccc(C)cc1C)Oc1cc(C)cc(C)c1C_CCc1ccc(CC)cc1OP(=O)(Oc1ccc(CC)c(CC)c1)Oc1cc(CC)cc(CC)c1_CCc1ccc(OP(=O)(Oc2ccc(C)cc2C)Oc2cc(CC)cc(CC)c2)cc1'\n",
      "[08:57:42] SMILES Parse Error: syntax error while parsing: CCc1ccc(-c2ccccc2)cc1_CCc1cccc(-c2ccccc2)c1_CCc1ccccc1-c1ccccc1\n",
      "[08:57:42] SMILES Parse Error: Failed parsing SMILES 'CCc1ccc(-c2ccccc2)cc1_CCc1cccc(-c2ccccc2)c1_CCc1ccccc1-c1ccccc1' for input: 'CCc1ccc(-c2ccccc2)cc1_CCc1cccc(-c2ccccc2)c1_CCc1ccccc1-c1ccccc1'\n",
      "[08:57:42] SMILES Parse Error: syntax error while parsing: c1ccccc1-c1ccc(-c2ccccc2)cc1_c1ccccc1-c1cccc(-c2ccccc2)c1_c1ccccc1-c1ccccc1-c1ccccc1\n",
      "[08:57:42] SMILES Parse Error: Failed parsing SMILES 'c1ccccc1-c1ccc(-c2ccccc2)cc1_c1ccccc1-c1cccc(-c2ccccc2)c1_c1ccccc1-c1ccccc1-c1ccccc1' for input: 'c1ccccc1-c1ccc(-c2ccccc2)cc1_c1ccccc1-c1cccc(-c2ccccc2)c1_c1ccccc1-c1ccccc1-c1ccccc1'\n",
      "[08:57:42] SMILES Parse Error: syntax error while parsing: CC(C)c1cc2ccccc2c(S(=O)(=O)[O-].[Na+])c1C(C)C_CC(C)c1ccc2c(c1)cc(C(C)C)cc2S(=O)(=O)[O-].[Na+]\n",
      "[08:57:42] SMILES Parse Error: Failed parsing SMILES 'CC(C)c1cc2ccccc2c(S(=O)(=O)[O-].[Na+])c1C(C)C_CC(C)c1ccc2c(c1)cc(C(C)C)cc2S(=O)(=O)[O-].[Na+]' for input: 'CC(C)c1cc2ccccc2c(S(=O)(=O)[O-].[Na+])c1C(C)C_CC(C)c1ccc2c(c1)cc(C(C)C)cc2S(=O)(=O)[O-].[Na+]'\n",
      "[08:57:42] SMILES Parse Error: syntax error while parsing: Cc1cc(Cc2ccccc2)ccc1Cc1ccccc1_Cc1ccc(Cc2ccccc2)c(Cc2ccccc2)c1_Cc1cccc(Cc2ccccc2)c1Cc1ccccc1\n",
      "[08:57:42] SMILES Parse Error: Failed parsing SMILES 'Cc1cc(Cc2ccccc2)ccc1Cc1ccccc1_Cc1ccc(Cc2ccccc2)c(Cc2ccccc2)c1_Cc1cccc(Cc2ccccc2)c1Cc1ccccc1' for input: 'Cc1cc(Cc2ccccc2)ccc1Cc1ccccc1_Cc1ccc(Cc2ccccc2)c(Cc2ccccc2)c1_Cc1cccc(Cc2ccccc2)c1Cc1ccccc1'\n",
      "[08:57:42] SMILES Parse Error: syntax error while parsing: O=Nc1c2ccccc2ccc1O[Co++](.[O-]c1ccc2ccccc2c1N=O).[O-]c1ccc2ccccc2c1N=O\n",
      "[08:57:42] SMILES Parse Error: Failed parsing SMILES 'O=Nc1c2ccccc2ccc1O[Co++](.[O-]c1ccc2ccccc2c1N=O).[O-]c1ccc2ccccc2c1N=O' for input: 'O=Nc1c2ccccc2ccc1O[Co++](.[O-]c1ccc2ccccc2c1N=O).[O-]c1ccc2ccccc2c1N=O'\n",
      "[08:57:42] SMILES Parse Error: syntax error while parsing: CCN(CC)c1ccc2c(c1)OC1=CC(=[N+](.[Cl-])(CC)CC)C=CC1=C2c1ccccc1C(O)=O\n",
      "[08:57:42] SMILES Parse Error: Failed parsing SMILES 'CCN(CC)c1ccc2c(c1)OC1=CC(=[N+](.[Cl-])(CC)CC)C=CC1=C2c1ccccc1C(O)=O' for input: 'CCN(CC)c1ccc2c(c1)OC1=CC(=[N+](.[Cl-])(CC)CC)C=CC1=C2c1ccccc1C(O)=O'\n",
      "[08:57:42] SMILES Parse Error: syntax error while parsing: C[n+]1(.[Cl-])ccc(-c2cc[n+](C)(.[Cl-])cc2)cc1\n",
      "[08:57:42] SMILES Parse Error: Failed parsing SMILES 'C[n+]1(.[Cl-])ccc(-c2cc[n+](C)(.[Cl-])cc2)cc1' for input: 'C[n+]1(.[Cl-])ccc(-c2cc[n+](C)(.[Cl-])cc2)cc1'\n",
      "[08:57:42] SMILES Parse Error: syntax error while parsing: [Br-].[n+]12CC[n+]3(.[Br-])ccccc3-c1cccc2\n",
      "[08:57:42] SMILES Parse Error: Failed parsing SMILES '[Br-].[n+]12CC[n+]3(.[Br-])ccccc3-c1cccc2' for input: '[Br-].[n+]12CC[n+]3(.[Br-])ccccc3-c1cccc2'\n",
      "[08:57:42] SMILES Parse Error: syntax error while parsing: CCCCCCCCCCCCCCCCCC(=O)[O-].[Al+++](.[O-]).[O-]\n",
      "[08:57:42] SMILES Parse Error: Failed parsing SMILES 'CCCCCCCCCCCCCCCCCC(=O)[O-].[Al+++](.[O-]).[O-]' for input: 'CCCCCCCCCCCCCCCCCC(=O)[O-].[Al+++](.[O-]).[O-]'\n",
      "[08:57:42] SMILES Parse Error: syntax error while parsing: CCC[N+](.[Br-])(CCC)(CCC)CCC\n",
      "[08:57:42] SMILES Parse Error: Failed parsing SMILES 'CCC[N+](.[Br-])(CCC)(CCC)CCC' for input: 'CCC[N+](.[Br-])(CCC)(CCC)CCC'\n",
      "[08:57:42] SMILES Parse Error: syntax error while parsing: Cl_NC(=O)NN\n",
      "[08:57:42] SMILES Parse Error: Failed parsing SMILES 'Cl_NC(=O)NN' for input: 'Cl_NC(=O)NN'\n",
      "[08:57:42] SMILES Parse Error: syntax error while parsing: CCCCCCCCCC[N+](C)(C)(.[Cl-])CCCCCCCCCC\n",
      "[08:57:42] SMILES Parse Error: Failed parsing SMILES 'CCCCCCCCCC[N+](C)(C)(.[Cl-])CCCCCCCCCC' for input: 'CCCCCCCCCC[N+](C)(C)(.[Cl-])CCCCCCCCCC'\n",
      "[08:57:42] SMILES Parse Error: syntax error while parsing: c1cccc2[n+]1.[O-][Zn++]1([O-].[n+]3ccccc3[S-].1).[S-]2\n",
      "[08:57:42] SMILES Parse Error: Failed parsing SMILES 'c1cccc2[n+]1.[O-][Zn++]1([O-].[n+]3ccccc3[S-].1).[S-]2' for input: 'c1cccc2[n+]1.[O-][Zn++]1([O-].[n+]3ccccc3[S-].1).[S-]2'\n"
     ]
    }
   ],
   "source": [
    "miti_fp = mk_fp(miti)"
   ]
  },
  {
   "cell_type": "code",
   "execution_count": 19,
   "id": "eaa75647-49a8-4390-b141-679ee9a6ef6b",
   "metadata": {},
   "outputs": [],
   "source": [
    "miti_fp['source'] = 'miti'"
   ]
  },
  {
   "cell_type": "code",
   "execution_count": 20,
   "id": "31ee8284-3abc-4fc7-bd00-f7f82af22016",
   "metadata": {},
   "outputs": [
    {
     "data": {
      "text/plain": [
       "(1439, 1025)"
      ]
     },
     "execution_count": 20,
     "metadata": {},
     "output_type": "execute_result"
    }
   ],
   "source": [
    "miti_fp.shape"
   ]
  },
  {
   "cell_type": "code",
   "execution_count": 21,
   "id": "01697f01-5261-4525-afbc-5f78fcb508b9",
   "metadata": {},
   "outputs": [],
   "source": [
    "all_df = pd.concat([miti_fp, tsca_chems_fp])"
   ]
  },
  {
   "cell_type": "code",
   "execution_count": 22,
   "id": "231be0f1-207e-4489-a0d1-3cde90d39700",
   "metadata": {},
   "outputs": [
    {
     "data": {
      "text/html": [
       "<div>\n",
       "<style scoped>\n",
       "    .dataframe tbody tr th:only-of-type {\n",
       "        vertical-align: middle;\n",
       "    }\n",
       "\n",
       "    .dataframe tbody tr th {\n",
       "        vertical-align: top;\n",
       "    }\n",
       "\n",
       "    .dataframe thead th {\n",
       "        text-align: right;\n",
       "    }\n",
       "</style>\n",
       "<table border=\"1\" class=\"dataframe\">\n",
       "  <thead>\n",
       "    <tr style=\"text-align: right;\">\n",
       "      <th></th>\n",
       "      <th>mrgn_0</th>\n",
       "      <th>mrgn_1</th>\n",
       "      <th>mrgn_2</th>\n",
       "      <th>mrgn_3</th>\n",
       "      <th>mrgn_4</th>\n",
       "      <th>mrgn_5</th>\n",
       "      <th>mrgn_6</th>\n",
       "      <th>mrgn_7</th>\n",
       "      <th>mrgn_8</th>\n",
       "      <th>mrgn_9</th>\n",
       "      <th>...</th>\n",
       "      <th>mrgn_1015</th>\n",
       "      <th>mrgn_1016</th>\n",
       "      <th>mrgn_1017</th>\n",
       "      <th>mrgn_1018</th>\n",
       "      <th>mrgn_1019</th>\n",
       "      <th>mrgn_1020</th>\n",
       "      <th>mrgn_1021</th>\n",
       "      <th>mrgn_1022</th>\n",
       "      <th>mrgn_1023</th>\n",
       "      <th>source</th>\n",
       "    </tr>\n",
       "  </thead>\n",
       "  <tbody>\n",
       "    <tr>\n",
       "      <th>112-95-8</th>\n",
       "      <td>0</td>\n",
       "      <td>0</td>\n",
       "      <td>0</td>\n",
       "      <td>0</td>\n",
       "      <td>0</td>\n",
       "      <td>0</td>\n",
       "      <td>0</td>\n",
       "      <td>0</td>\n",
       "      <td>0</td>\n",
       "      <td>0</td>\n",
       "      <td>...</td>\n",
       "      <td>0</td>\n",
       "      <td>0</td>\n",
       "      <td>0</td>\n",
       "      <td>0</td>\n",
       "      <td>0</td>\n",
       "      <td>0</td>\n",
       "      <td>0</td>\n",
       "      <td>0</td>\n",
       "      <td>0</td>\n",
       "      <td>miti</td>\n",
       "    </tr>\n",
       "    <tr>\n",
       "      <th>629-62-9</th>\n",
       "      <td>0</td>\n",
       "      <td>0</td>\n",
       "      <td>0</td>\n",
       "      <td>0</td>\n",
       "      <td>0</td>\n",
       "      <td>0</td>\n",
       "      <td>0</td>\n",
       "      <td>0</td>\n",
       "      <td>0</td>\n",
       "      <td>0</td>\n",
       "      <td>...</td>\n",
       "      <td>0</td>\n",
       "      <td>0</td>\n",
       "      <td>0</td>\n",
       "      <td>0</td>\n",
       "      <td>0</td>\n",
       "      <td>0</td>\n",
       "      <td>0</td>\n",
       "      <td>0</td>\n",
       "      <td>0</td>\n",
       "      <td>miti</td>\n",
       "    </tr>\n",
       "    <tr>\n",
       "      <th>630-03-5</th>\n",
       "      <td>0</td>\n",
       "      <td>0</td>\n",
       "      <td>0</td>\n",
       "      <td>0</td>\n",
       "      <td>0</td>\n",
       "      <td>0</td>\n",
       "      <td>0</td>\n",
       "      <td>0</td>\n",
       "      <td>0</td>\n",
       "      <td>0</td>\n",
       "      <td>...</td>\n",
       "      <td>0</td>\n",
       "      <td>0</td>\n",
       "      <td>0</td>\n",
       "      <td>0</td>\n",
       "      <td>0</td>\n",
       "      <td>0</td>\n",
       "      <td>0</td>\n",
       "      <td>0</td>\n",
       "      <td>0</td>\n",
       "      <td>miti</td>\n",
       "    </tr>\n",
       "    <tr>\n",
       "      <th>4390-04-9</th>\n",
       "      <td>0</td>\n",
       "      <td>1</td>\n",
       "      <td>0</td>\n",
       "      <td>0</td>\n",
       "      <td>0</td>\n",
       "      <td>0</td>\n",
       "      <td>0</td>\n",
       "      <td>0</td>\n",
       "      <td>0</td>\n",
       "      <td>0</td>\n",
       "      <td>...</td>\n",
       "      <td>0</td>\n",
       "      <td>0</td>\n",
       "      <td>0</td>\n",
       "      <td>0</td>\n",
       "      <td>0</td>\n",
       "      <td>0</td>\n",
       "      <td>0</td>\n",
       "      <td>0</td>\n",
       "      <td>0</td>\n",
       "      <td>miti</td>\n",
       "    </tr>\n",
       "    <tr>\n",
       "      <th>78-79-5</th>\n",
       "      <td>0</td>\n",
       "      <td>0</td>\n",
       "      <td>0</td>\n",
       "      <td>0</td>\n",
       "      <td>0</td>\n",
       "      <td>0</td>\n",
       "      <td>0</td>\n",
       "      <td>0</td>\n",
       "      <td>0</td>\n",
       "      <td>0</td>\n",
       "      <td>...</td>\n",
       "      <td>0</td>\n",
       "      <td>0</td>\n",
       "      <td>1</td>\n",
       "      <td>0</td>\n",
       "      <td>0</td>\n",
       "      <td>0</td>\n",
       "      <td>0</td>\n",
       "      <td>1</td>\n",
       "      <td>0</td>\n",
       "      <td>miti</td>\n",
       "    </tr>\n",
       "    <tr>\n",
       "      <th>...</th>\n",
       "      <td>...</td>\n",
       "      <td>...</td>\n",
       "      <td>...</td>\n",
       "      <td>...</td>\n",
       "      <td>...</td>\n",
       "      <td>...</td>\n",
       "      <td>...</td>\n",
       "      <td>...</td>\n",
       "      <td>...</td>\n",
       "      <td>...</td>\n",
       "      <td>...</td>\n",
       "      <td>...</td>\n",
       "      <td>...</td>\n",
       "      <td>...</td>\n",
       "      <td>...</td>\n",
       "      <td>...</td>\n",
       "      <td>...</td>\n",
       "      <td>...</td>\n",
       "      <td>...</td>\n",
       "      <td>...</td>\n",
       "      <td>...</td>\n",
       "    </tr>\n",
       "    <tr>\n",
       "      <th>DTXSID70881282</th>\n",
       "      <td>0</td>\n",
       "      <td>1</td>\n",
       "      <td>0</td>\n",
       "      <td>0</td>\n",
       "      <td>0</td>\n",
       "      <td>0</td>\n",
       "      <td>0</td>\n",
       "      <td>0</td>\n",
       "      <td>0</td>\n",
       "      <td>0</td>\n",
       "      <td>...</td>\n",
       "      <td>0</td>\n",
       "      <td>0</td>\n",
       "      <td>0</td>\n",
       "      <td>0</td>\n",
       "      <td>0</td>\n",
       "      <td>0</td>\n",
       "      <td>0</td>\n",
       "      <td>0</td>\n",
       "      <td>0</td>\n",
       "      <td>tsca</td>\n",
       "    </tr>\n",
       "    <tr>\n",
       "      <th>DTXSID10881281</th>\n",
       "      <td>0</td>\n",
       "      <td>1</td>\n",
       "      <td>0</td>\n",
       "      <td>0</td>\n",
       "      <td>0</td>\n",
       "      <td>0</td>\n",
       "      <td>0</td>\n",
       "      <td>0</td>\n",
       "      <td>0</td>\n",
       "      <td>0</td>\n",
       "      <td>...</td>\n",
       "      <td>0</td>\n",
       "      <td>0</td>\n",
       "      <td>0</td>\n",
       "      <td>0</td>\n",
       "      <td>0</td>\n",
       "      <td>0</td>\n",
       "      <td>0</td>\n",
       "      <td>0</td>\n",
       "      <td>0</td>\n",
       "      <td>tsca</td>\n",
       "    </tr>\n",
       "    <tr>\n",
       "      <th>DTXSID20897297</th>\n",
       "      <td>0</td>\n",
       "      <td>0</td>\n",
       "      <td>0</td>\n",
       "      <td>0</td>\n",
       "      <td>0</td>\n",
       "      <td>0</td>\n",
       "      <td>0</td>\n",
       "      <td>0</td>\n",
       "      <td>0</td>\n",
       "      <td>0</td>\n",
       "      <td>...</td>\n",
       "      <td>0</td>\n",
       "      <td>0</td>\n",
       "      <td>0</td>\n",
       "      <td>0</td>\n",
       "      <td>0</td>\n",
       "      <td>0</td>\n",
       "      <td>0</td>\n",
       "      <td>0</td>\n",
       "      <td>0</td>\n",
       "      <td>tsca</td>\n",
       "    </tr>\n",
       "    <tr>\n",
       "      <th>DTXSID40420521</th>\n",
       "      <td>0</td>\n",
       "      <td>0</td>\n",
       "      <td>0</td>\n",
       "      <td>0</td>\n",
       "      <td>0</td>\n",
       "      <td>0</td>\n",
       "      <td>0</td>\n",
       "      <td>0</td>\n",
       "      <td>0</td>\n",
       "      <td>0</td>\n",
       "      <td>...</td>\n",
       "      <td>0</td>\n",
       "      <td>0</td>\n",
       "      <td>0</td>\n",
       "      <td>0</td>\n",
       "      <td>0</td>\n",
       "      <td>0</td>\n",
       "      <td>0</td>\n",
       "      <td>0</td>\n",
       "      <td>0</td>\n",
       "      <td>tsca</td>\n",
       "    </tr>\n",
       "    <tr>\n",
       "      <th>DTXSID30896615</th>\n",
       "      <td>0</td>\n",
       "      <td>0</td>\n",
       "      <td>0</td>\n",
       "      <td>0</td>\n",
       "      <td>0</td>\n",
       "      <td>0</td>\n",
       "      <td>0</td>\n",
       "      <td>0</td>\n",
       "      <td>0</td>\n",
       "      <td>0</td>\n",
       "      <td>...</td>\n",
       "      <td>0</td>\n",
       "      <td>0</td>\n",
       "      <td>0</td>\n",
       "      <td>0</td>\n",
       "      <td>0</td>\n",
       "      <td>1</td>\n",
       "      <td>0</td>\n",
       "      <td>0</td>\n",
       "      <td>0</td>\n",
       "      <td>tsca</td>\n",
       "    </tr>\n",
       "  </tbody>\n",
       "</table>\n",
       "<p>2097 rows × 1025 columns</p>\n",
       "</div>"
      ],
      "text/plain": [
       "                mrgn_0  mrgn_1  mrgn_2  mrgn_3  mrgn_4  mrgn_5  mrgn_6  \\\n",
       "112-95-8             0       0       0       0       0       0       0   \n",
       "629-62-9             0       0       0       0       0       0       0   \n",
       "630-03-5             0       0       0       0       0       0       0   \n",
       "4390-04-9            0       1       0       0       0       0       0   \n",
       "78-79-5              0       0       0       0       0       0       0   \n",
       "...                ...     ...     ...     ...     ...     ...     ...   \n",
       "DTXSID70881282       0       1       0       0       0       0       0   \n",
       "DTXSID10881281       0       1       0       0       0       0       0   \n",
       "DTXSID20897297       0       0       0       0       0       0       0   \n",
       "DTXSID40420521       0       0       0       0       0       0       0   \n",
       "DTXSID30896615       0       0       0       0       0       0       0   \n",
       "\n",
       "                mrgn_7  mrgn_8  mrgn_9  ...  mrgn_1015  mrgn_1016  mrgn_1017  \\\n",
       "112-95-8             0       0       0  ...          0          0          0   \n",
       "629-62-9             0       0       0  ...          0          0          0   \n",
       "630-03-5             0       0       0  ...          0          0          0   \n",
       "4390-04-9            0       0       0  ...          0          0          0   \n",
       "78-79-5              0       0       0  ...          0          0          1   \n",
       "...                ...     ...     ...  ...        ...        ...        ...   \n",
       "DTXSID70881282       0       0       0  ...          0          0          0   \n",
       "DTXSID10881281       0       0       0  ...          0          0          0   \n",
       "DTXSID20897297       0       0       0  ...          0          0          0   \n",
       "DTXSID40420521       0       0       0  ...          0          0          0   \n",
       "DTXSID30896615       0       0       0  ...          0          0          0   \n",
       "\n",
       "                mrgn_1018  mrgn_1019  mrgn_1020  mrgn_1021  mrgn_1022  \\\n",
       "112-95-8                0          0          0          0          0   \n",
       "629-62-9                0          0          0          0          0   \n",
       "630-03-5                0          0          0          0          0   \n",
       "4390-04-9               0          0          0          0          0   \n",
       "78-79-5                 0          0          0          0          1   \n",
       "...                   ...        ...        ...        ...        ...   \n",
       "DTXSID70881282          0          0          0          0          0   \n",
       "DTXSID10881281          0          0          0          0          0   \n",
       "DTXSID20897297          0          0          0          0          0   \n",
       "DTXSID40420521          0          0          0          0          0   \n",
       "DTXSID30896615          0          0          1          0          0   \n",
       "\n",
       "                mrgn_1023  source  \n",
       "112-95-8                0    miti  \n",
       "629-62-9                0    miti  \n",
       "630-03-5                0    miti  \n",
       "4390-04-9               0    miti  \n",
       "78-79-5                 0    miti  \n",
       "...                   ...     ...  \n",
       "DTXSID70881282          0    tsca  \n",
       "DTXSID10881281          0    tsca  \n",
       "DTXSID20897297          0    tsca  \n",
       "DTXSID40420521          0    tsca  \n",
       "DTXSID30896615          0    tsca  \n",
       "\n",
       "[2097 rows x 1025 columns]"
      ]
     },
     "execution_count": 22,
     "metadata": {},
     "output_type": "execute_result"
    }
   ],
   "source": [
    "all_df"
   ]
  },
  {
   "cell_type": "code",
   "execution_count": 23,
   "id": "83e8d215-8f4c-4ac0-aead-8d6245040844",
   "metadata": {},
   "outputs": [],
   "source": [
    "import umap"
   ]
  },
  {
   "cell_type": "code",
   "execution_count": 24,
   "id": "50f1ca54-ed3d-4400-9141-aeb03af567d4",
   "metadata": {},
   "outputs": [],
   "source": [
    " model = umap.UMAP(n_components=2)\n",
    "#model = TSNE(learning_rate = 200, perplexity=a[label].shape[0]-1, random_state = 42)\n"
   ]
  },
  {
   "cell_type": "code",
   "execution_count": 23,
   "id": "1d6ca6fc-94c5-4492-80bc-9f3ce3623448",
   "metadata": {},
   "outputs": [],
   "source": [
    "#from sklearn.manifold import TSNE"
   ]
  },
  {
   "cell_type": "code",
   "execution_count": 24,
   "id": "030109b7-a9ac-4b82-a846-809bf2ee0df1",
   "metadata": {},
   "outputs": [],
   "source": [
    "#model2 = TSNE(learning_rate = 200, random_state = 42)"
   ]
  },
  {
   "cell_type": "code",
   "execution_count": 25,
   "id": "58d40d26-2d7e-4dfd-857e-c65a5522b1a3",
   "metadata": {},
   "outputs": [],
   "source": [
    "tsne_bio = model.fit_transform(all_df.iloc[:,:-1])"
   ]
  },
  {
   "cell_type": "code",
   "execution_count": 28,
   "id": "88fdf72d-0aaf-4113-897c-cee5737cc9a7",
   "metadata": {},
   "outputs": [],
   "source": [
    "tsne_bio_df = pd.concat([pd.DataFrame(tsne_bio, index = all_df.index, columns = ['umap_x', 'umap_y']), all_df.iloc[:,-1]], axis = 1)\n"
   ]
  },
  {
   "cell_type": "code",
   "execution_count": 31,
   "id": "ce6f1f81-7d31-4f52-ac90-c661647bcf80",
   "metadata": {},
   "outputs": [
    {
     "data": {
      "image/png": "[encoded data removed]",
      "text/plain": [
       "<Figure size 640x480 with 1 Axes>"
      ]
     },
     "metadata": {},
     "output_type": "display_data"
    }
   ],
   "source": [
    "sns.scatterplot(x=\"umap_x\", y=\"umap_y\",  hue = 'source',  \n",
    "                     data=tsne_bio_df)\n",
    "\n",
    "plt.ylabel('UMAP (Second Dimension)')\n",
    "plt.xlabel('UMAP (First Dimension)')\n",
    "plt.tight_layout()\n",
    "plt.legend(loc=2,bbox_to_anchor=(1.01, 0.5))\n",
    "plt.savefig(figures_dir+'FigureS9_211223.png', dpi = 300)\n"
   ]
  },
  {
   "cell_type": "code",
   "execution_count": 27,
   "id": "d9f80420-25f7-4419-be8d-1cd59f6e7b05",
   "metadata": {},
   "outputs": [],
   "source": [
    "catalogic = pd.read_excel(processed_dir+'catalogic_tsca_out.xlsx', sheet_name = 'Sheet2')"
   ]
  },
  {
   "cell_type": "code",
   "execution_count": 29,
   "id": "42c92e6c-c166-426d-9899-1f135cb55726",
   "metadata": {},
   "outputs": [
    {
     "data": {
      "text/plain": [
       "Index(['#', 'Cas#', 'Chem. Name', 'Smiles', 'Quantity [mol/mol parent]',\n",
       "       'log Kow', 'Molecular weight Da', 'Water solubility (FR) mg/L',\n",
       "       'Number of rings', 'Number of single bonds', 'Number of double bonds',\n",
       "       'Number of aromatic bonds', 'Number of cyclic bonds', 'Mixture/Salt',\n",
       "       'Microbial toxicity', 'Map reliability', 'BOD_Observed [28.00 days]',\n",
       "       'BOD [28.00 days]', '±_BOD [28.00 days]', 'Number of tautomers',\n",
       "       'Excess BOD', 'Primary Half Life', 'Ultimate Half Life Predicted',\n",
       "       'Estimated half life by BOD obs.', 'Parameter ranges',\n",
       "       'Structural domain', 'Unnamed: 26', 'Unnamed: 27', 'Unnamed: 28',\n",
       "       'Mechanistic domain', 'Total Domain', 'Remark'],\n",
       "      dtype='object')"
      ]
     },
     "execution_count": 29,
     "metadata": {},
     "output_type": "execute_result"
    }
   ],
   "source": [
    "catalogic.columns"
   ]
  },
  {
   "cell_type": "code",
   "execution_count": 30,
   "id": "2ed54a2c-df76-4283-80a2-0212fee9a223",
   "metadata": {},
   "outputs": [],
   "source": [
    "catalogic.rename(columns = {'Structural domain': 'Structural domain_correct', 'Unnamed: 26' :  'Structural domain_incorrect', 'Unnamed: 27': 'Structural domain_unknown','Unnamed: 28': 'Structural domain_total'}, inplace = True)"
   ]
  },
  {
   "cell_type": "code",
   "execution_count": 35,
   "id": "10d02e70-c589-4740-96d6-62108f69dda5",
   "metadata": {},
   "outputs": [],
   "source": [
    "catalogic = catalogic.iloc[1:860,:]"
   ]
  },
  {
   "cell_type": "code",
   "execution_count": 41,
   "id": "04ce3307-27a2-4d79-8ff2-2670ae984ae8",
   "metadata": {},
   "outputs": [
    {
     "data": {
      "text/plain": [
       "17"
      ]
     },
     "execution_count": 41,
     "metadata": {},
     "output_type": "execute_result"
    }
   ],
   "source": [
    "len(catalogic[catalogic['Remark'].notnull()]['Chem. Name'].tolist())"
   ]
  },
  {
   "cell_type": "code",
   "execution_count": 46,
   "id": "21dc022b-b1e6-4043-a8e9-1cda2913b892",
   "metadata": {},
   "outputs": [
    {
     "data": {
      "text/plain": [
       "['DTXSID6021377',\n",
       " 'DTXSID8026434',\n",
       " 'DTXSID0041226',\n",
       " 'DTXSID8031861',\n",
       " 'DTXSID0059798',\n",
       " 'DTXSID0027141',\n",
       " 'DTXSID60871632',\n",
       " 'DTXSID8052019',\n",
       " 'DTXSID8031865',\n",
       " 'DTXSID0059879',\n",
       " 'DTXSID3059921',\n",
       " 'DTXSID7059933',\n",
       " 'DTXSID7029904',\n",
       " 'DTXSID3031864',\n",
       " 'DTXSID8037706',\n",
       " 'DTXSID8037708',\n",
       " 'DTXSID9059832']"
      ]
     },
     "execution_count": 46,
     "metadata": {},
     "output_type": "execute_result"
    }
   ],
   "source": [
    "catalogic[catalogic['Remark'].notnull()]['Chem. Name'].tolist()"
   ]
  },
  {
   "cell_type": "code",
   "execution_count": 44,
   "id": "9ddaf89a-1441-4270-950b-c6c2e545be65",
   "metadata": {},
   "outputs": [
    {
     "data": {
      "text/plain": [
       "Out of domain    0.696401\n",
       "In domain        0.303599\n",
       "Name: Structural domain_total, dtype: float64"
      ]
     },
     "execution_count": 44,
     "metadata": {},
     "output_type": "execute_result"
    }
   ],
   "source": [
    "catalogic['Structural domain_total'].value_counts(normalize = True)"
   ]
  },
  {
   "cell_type": "code",
   "execution_count": 45,
   "id": "7dfe93db-6802-418c-92f1-aeea476f35be",
   "metadata": {},
   "outputs": [
    {
     "data": {
      "text/plain": [
       "Out of Domain    0.696401\n",
       "In domain        0.303599\n",
       "Name: Total Domain, dtype: float64"
      ]
     },
     "execution_count": 45,
     "metadata": {},
     "output_type": "execute_result"
    }
   ],
   "source": [
    "catalogic['Total Domain'].value_counts(normalize = True)"
   ]
  },
  {
   "cell_type": "code",
   "execution_count": null,
   "id": "1feb26b5-95fe-4d1e-a7d6-4a571950a19a",
   "metadata": {},
   "outputs": [],
   "source": []
  },
  {
   "cell_type": "code",
   "execution_count": null,
   "id": "5e3edc34-23fe-47df-b590-e56e8c1410f2",
   "metadata": {},
   "outputs": [],
   "source": []
  }
 ],
 "metadata": {
  "kernelspec": {
   "display_name": "py39",
   "language": "python",
   "name": "py39"
  },
  "language_info": {
   "codemirror_mode": {
    "name": "ipython",
    "version": 3
   },
   "file_extension": ".py",
   "mimetype": "text/x-python",
   "name": "python",
   "nbconvert_exporter": "python",
   "pygments_lexer": "ipython3",
   "version": "3.9.16"
  },
  "widgets": {
   "application/vnd.jupyter.widget-state+json": {
    "state": {},
    "version_major": 2,
    "version_minor": 0
   }
  }
 },
 "nbformat": 4,
 "nbformat_minor": 5
}
