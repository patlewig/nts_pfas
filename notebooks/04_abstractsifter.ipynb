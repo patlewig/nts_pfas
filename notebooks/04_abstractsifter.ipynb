{
 "cells": [
  {
   "cell_type": "markdown",
   "id": "b419d95f-d695-47a4-b132-eb16821f3f40",
   "metadata": {},
   "source": [
    "## Preparing queries for Abstract Sifter"
   ]
  },
  {
   "cell_type": "markdown",
   "id": "78105a51-1f88-4692-87ab-1d29ebe5fee6",
   "metadata": {},
   "source": [
    "Querying Pubmed against the PFAS landscape (new inventory) to determine article counts."
   ]
  },
  {
   "cell_type": "code",
   "execution_count": 1,
   "id": "d4ea854e-0cae-4342-841e-5e74b5027db0",
   "metadata": {},
   "outputs": [],
   "source": [
    "import numpy as np\n",
    "import pandas as pd\n",
    "import matplotlib.pyplot as plt\n",
    "import seaborn as sns\n",
    "%matplotlib inline\n",
    "import openpyxl\n",
    "from rdkit.Chem.Draw import IPythonConsole, MolsToGridImage\n",
    "\n",
    "#Show mols in dataframes\n",
    "from rdkit.Chem import PandasTools\n",
    "from rdkit import Chem\n",
    "from rdkit.Chem.Draw import MolsToGridImage\n",
    "from IPython.core.display import HTML\n",
    "from rdkit.Chem import Descriptors\n",
    "from rdkit.ML.Descriptors import MoleculeDescriptors\n",
    "from rdkit.Chem import PandasTools\n",
    "from rdkit.Chem import AllChem\n",
    "from rdkit.Chem import rdDepictor\n",
    "from rdkit.Chem.Fingerprints import FingerprintMols\n",
    "from rdkit import DataStructs\n",
    "import os"
   ]
  },
  {
   "cell_type": "code",
   "execution_count": 2,
   "id": "0bf1e829-02e9-4227-bf06-5fa3b065ff84",
   "metadata": {},
   "outputs": [],
   "source": [
    "TOP = os.getcwd().replace('notebooks', '')\n",
    "raw_dir = TOP + 'data/raw/'\n",
    "interim_dir = TOP + 'data/interim/'\n",
    "external_dir = TOP + 'data/external/'\n",
    "figures_dir = TOP + 'reports/figures/'"
   ]
  },
  {
   "cell_type": "code",
   "execution_count": 3,
   "id": "07c7d989-1cd5-4c3e-96e1-7ac05d464c79",
   "metadata": {},
   "outputs": [],
   "source": [
    "df = pd.read_excel(interim_dir+'final_universe_categorisations_wCDR_100524.xlsx', index_col = [0])"
   ]
  },
  {
   "cell_type": "code",
   "execution_count": 4,
   "id": "eec78025-d24b-4b59-996e-8ce8b2a9ad66",
   "metadata": {},
   "outputs": [],
   "source": [
    "df = df[['dtxsid','Substance_Name', 'Substance_CASRN']].dropna()"
   ]
  },
  {
   "cell_type": "code",
   "execution_count": 15,
   "id": "df45e776-b8b8-4cfb-ba96-ba050cf463a6",
   "metadata": {},
   "outputs": [
    {
     "data": {
      "text/html": [
       "<div>\n",
       "<style scoped>\n",
       "    .dataframe tbody tr th:only-of-type {\n",
       "        vertical-align: middle;\n",
       "    }\n",
       "\n",
       "    .dataframe tbody tr th {\n",
       "        vertical-align: top;\n",
       "    }\n",
       "\n",
       "    .dataframe thead th {\n",
       "        text-align: right;\n",
       "    }\n",
       "</style>\n",
       "<table border=\"1\" class=\"dataframe\">\n",
       "  <thead>\n",
       "    <tr style=\"text-align: right;\">\n",
       "      <th></th>\n",
       "      <th>dtxsid</th>\n",
       "      <th>Substance_Name</th>\n",
       "      <th>Substance_CASRN</th>\n",
       "      <th>query</th>\n",
       "      <th>Column3</th>\n",
       "      <th>term1</th>\n",
       "      <th>term2</th>\n",
       "      <th>term3</th>\n",
       "    </tr>\n",
       "  </thead>\n",
       "  <tbody>\n",
       "    <tr>\n",
       "      <th>1</th>\n",
       "      <td>DTXSID90897582</td>\n",
       "      <td>4-(Perfluorononyl)oxybenzenesulfonate sodium</td>\n",
       "      <td>91998-13-9</td>\n",
       "      <td>4-(Perfluorononyl)oxybenzenesulfonate sodium O...</td>\n",
       "      <td>4-(Perfluorononyl)oxybenzenesulfonate sodium O...</td>\n",
       "      <td>4-(Perfluorononyl)oxybenzenesulfonate sodium</td>\n",
       "      <td>91998-13-9</td>\n",
       "      <td>4-(Perfluorononyl)oxybenzenesulfonate sodium</td>\n",
       "    </tr>\n",
       "    <tr>\n",
       "      <th>2</th>\n",
       "      <td>DTXSID90896257</td>\n",
       "      <td>(2S)-2-{Bis[4-(heptadecafluorooctyl)phenyl][(t...</td>\n",
       "      <td>914391-37-0</td>\n",
       "      <td>(2S)-2-{Bis[4-(heptadecafluorooctyl)phenyl][(t...</td>\n",
       "      <td>(2S)-2-{Bis[4-(heptadecafluorooctyl)phenyl][(t...</td>\n",
       "      <td>(2S)-2-{Bis[4-(heptadecafluorooctyl)phenyl][(t...</td>\n",
       "      <td>914391-37-0</td>\n",
       "      <td>(2S)-2-{Bis[4-(heptadecafluorooctyl)phenyl][(t...</td>\n",
       "    </tr>\n",
       "    <tr>\n",
       "      <th>3</th>\n",
       "      <td>DTXSID90896196</td>\n",
       "      <td>2,2,3,3,4,4,5,5,6,6,7,7,8,8,9,9,9-Heptadecaflu...</td>\n",
       "      <td>157584-47-9</td>\n",
       "      <td>2,2,3,3,4,4,5,5,6,6,7,7,8,8,9,9,9-Heptadecaflu...</td>\n",
       "      <td>2,2,3,3,4,4,5,5,6,6,7,7,8,8,9,9,9-Heptadecaflu...</td>\n",
       "      <td>2,2,3,3,4,4,5,5,6,6,7,7,8,8,9,9,9-Heptadecaflu...</td>\n",
       "      <td>157584-47-9</td>\n",
       "      <td>2,2,3,3,4,4,5,5,6,6,7,7,8,8,9,9,9-Heptadecaflu...</td>\n",
       "    </tr>\n",
       "    <tr>\n",
       "      <th>4</th>\n",
       "      <td>DTXSID90896095</td>\n",
       "      <td>3,3,4,4,5,5,6,6,7,7,8,8,9,9,10,10,10-Heptadeca...</td>\n",
       "      <td>113823-56-6</td>\n",
       "      <td>3,3,4,4,5,5,6,6,7,7,8,8,9,9,10,10,10-Heptadeca...</td>\n",
       "      <td>3,3,4,4,5,5,6,6,7,7,8,8,9,9,10,10,10-Heptadeca...</td>\n",
       "      <td>3,3,4,4,5,5,6,6,7,7,8,8,9,9,10,10,10-Heptadeca...</td>\n",
       "      <td>113823-56-6</td>\n",
       "      <td>3,3,4,4,5,5,6,6,7,7,8,8,9,9,10,10,10-Heptadeca...</td>\n",
       "    </tr>\n",
       "    <tr>\n",
       "      <th>5</th>\n",
       "      <td>DTXSID90896015</td>\n",
       "      <td>5-(Heptadecafluorooctyl)-1H-imidazole</td>\n",
       "      <td>81769-56-4</td>\n",
       "      <td>5-(Heptadecafluorooctyl)-1H-imidazole OR 81769...</td>\n",
       "      <td>5-(Heptadecafluorooctyl)-1H-imidazole OR 81769...</td>\n",
       "      <td>5-(Heptadecafluorooctyl)-1H-imidazole</td>\n",
       "      <td>81769-56-4</td>\n",
       "      <td>5-(Heptadecafluorooctyl)-1H-imidazole</td>\n",
       "    </tr>\n",
       "    <tr>\n",
       "      <th>...</th>\n",
       "      <td>...</td>\n",
       "      <td>...</td>\n",
       "      <td>...</td>\n",
       "      <td>...</td>\n",
       "      <td>...</td>\n",
       "      <td>...</td>\n",
       "      <td>...</td>\n",
       "      <td>...</td>\n",
       "    </tr>\n",
       "    <tr>\n",
       "      <th>15403</th>\n",
       "      <td>DTXSID001346201</td>\n",
       "      <td>4‐{[4‐(Dimethylamino)phenyl][4‐ (phenylamino)n...</td>\n",
       "      <td>1310480-28-4</td>\n",
       "      <td>4‐{[4‐(Dimethylamino)phenyl][4‐ (phenylamino)n...</td>\n",
       "      <td>4‐{[4‐(Dimethylamino)phenyl][4‐ (phenylamino)n...</td>\n",
       "      <td>4‐{[4‐(Dimethylamino)phenyl][4‐ (phenylamino)n...</td>\n",
       "      <td>1310480-28-4</td>\n",
       "      <td>4‐{[4‐(Dimethylamino)phenyl][4‐ (phenylamino)n...</td>\n",
       "    </tr>\n",
       "    <tr>\n",
       "      <th>15404</th>\n",
       "      <td>DTXSID001346194</td>\n",
       "      <td>4‐{[4‐(Dimethylamino)phenyl][4‐ (ethylamino)na...</td>\n",
       "      <td>1310480-27-3</td>\n",
       "      <td>4‐{[4‐(Dimethylamino)phenyl][4‐ (ethylamino)na...</td>\n",
       "      <td>4‐{[4‐(Dimethylamino)phenyl][4‐ (ethylamino)na...</td>\n",
       "      <td>4‐{[4‐(Dimethylamino)phenyl][4‐ (ethylamino)na...</td>\n",
       "      <td>1310480-27-3</td>\n",
       "      <td>4‐{[4‐(Dimethylamino)phenyl][4‐ (ethylamino)na...</td>\n",
       "    </tr>\n",
       "    <tr>\n",
       "      <th>15405</th>\n",
       "      <td>DTXSID001047621</td>\n",
       "      <td>(4-Methylphenyl)(diphenyl)sulfanium 4,4,5,5,6,...</td>\n",
       "      <td>862261-51-6</td>\n",
       "      <td>(4-Methylphenyl)(diphenyl)sulfanium 4,4,5,5,6,...</td>\n",
       "      <td>(4-Methylphenyl)(diphenyl)sulfanium 4,4,5,5,6,...</td>\n",
       "      <td>(4-Methylphenyl)(diphenyl)sulfanium 4,4,5,5,6,...</td>\n",
       "      <td>862261-51-6</td>\n",
       "      <td>(4-Methylphenyl)(diphenyl)sulfanium 4,4,5,5,6,...</td>\n",
       "    </tr>\n",
       "    <tr>\n",
       "      <th>15406</th>\n",
       "      <td>DTXSID001046130</td>\n",
       "      <td>11beta-Hydroxysaxitoxin bis(trifluoroacetate)</td>\n",
       "      <td>1923856-43-2</td>\n",
       "      <td>11beta-Hydroxysaxitoxin bis(trifluoroacetate) ...</td>\n",
       "      <td>11beta-Hydroxysaxitoxin bis(trifluoroacetate) ...</td>\n",
       "      <td>11beta-Hydroxysaxitoxin bis(trifluoroacetate)</td>\n",
       "      <td>1923856-43-2</td>\n",
       "      <td>11beta-Hydroxysaxitoxin bis(trifluoroacetate)</td>\n",
       "    </tr>\n",
       "    <tr>\n",
       "      <th>15407</th>\n",
       "      <td>DTXSID001033078</td>\n",
       "      <td>Tetramethylammonium perfluorohexane sulfonate</td>\n",
       "      <td>189274-31-5</td>\n",
       "      <td>Tetramethylammonium perfluorohexane sulfonate ...</td>\n",
       "      <td>Tetramethylammonium perfluorohexane sulfonate ...</td>\n",
       "      <td>Tetramethylammonium perfluorohexane sulfonate</td>\n",
       "      <td>189274-31-5</td>\n",
       "      <td>Tetramethylammonium perfluorohexane sulfonate</td>\n",
       "    </tr>\n",
       "  </tbody>\n",
       "</table>\n",
       "<p>13041 rows × 8 columns</p>\n",
       "</div>"
      ],
      "text/plain": [
       "                dtxsid                                     Substance_Name  \\\n",
       "1       DTXSID90897582       4-(Perfluorononyl)oxybenzenesulfonate sodium   \n",
       "2       DTXSID90896257  (2S)-2-{Bis[4-(heptadecafluorooctyl)phenyl][(t...   \n",
       "3       DTXSID90896196  2,2,3,3,4,4,5,5,6,6,7,7,8,8,9,9,9-Heptadecaflu...   \n",
       "4       DTXSID90896095  3,3,4,4,5,5,6,6,7,7,8,8,9,9,10,10,10-Heptadeca...   \n",
       "5       DTXSID90896015              5-(Heptadecafluorooctyl)-1H-imidazole   \n",
       "...                ...                                                ...   \n",
       "15403  DTXSID001346201  4‐{[4‐(Dimethylamino)phenyl][4‐ (phenylamino)n...   \n",
       "15404  DTXSID001346194  4‐{[4‐(Dimethylamino)phenyl][4‐ (ethylamino)na...   \n",
       "15405  DTXSID001047621  (4-Methylphenyl)(diphenyl)sulfanium 4,4,5,5,6,...   \n",
       "15406  DTXSID001046130      11beta-Hydroxysaxitoxin bis(trifluoroacetate)   \n",
       "15407  DTXSID001033078      Tetramethylammonium perfluorohexane sulfonate   \n",
       "\n",
       "      Substance_CASRN                                              query  \\\n",
       "1          91998-13-9  4-(Perfluorononyl)oxybenzenesulfonate sodium O...   \n",
       "2         914391-37-0  (2S)-2-{Bis[4-(heptadecafluorooctyl)phenyl][(t...   \n",
       "3         157584-47-9  2,2,3,3,4,4,5,5,6,6,7,7,8,8,9,9,9-Heptadecaflu...   \n",
       "4         113823-56-6  3,3,4,4,5,5,6,6,7,7,8,8,9,9,10,10,10-Heptadeca...   \n",
       "5          81769-56-4  5-(Heptadecafluorooctyl)-1H-imidazole OR 81769...   \n",
       "...               ...                                                ...   \n",
       "15403    1310480-28-4  4‐{[4‐(Dimethylamino)phenyl][4‐ (phenylamino)n...   \n",
       "15404    1310480-27-3  4‐{[4‐(Dimethylamino)phenyl][4‐ (ethylamino)na...   \n",
       "15405     862261-51-6  (4-Methylphenyl)(diphenyl)sulfanium 4,4,5,5,6,...   \n",
       "15406    1923856-43-2  11beta-Hydroxysaxitoxin bis(trifluoroacetate) ...   \n",
       "15407     189274-31-5  Tetramethylammonium perfluorohexane sulfonate ...   \n",
       "\n",
       "                                                 Column3  \\\n",
       "1      4-(Perfluorononyl)oxybenzenesulfonate sodium O...   \n",
       "2      (2S)-2-{Bis[4-(heptadecafluorooctyl)phenyl][(t...   \n",
       "3      2,2,3,3,4,4,5,5,6,6,7,7,8,8,9,9,9-Heptadecaflu...   \n",
       "4      3,3,4,4,5,5,6,6,7,7,8,8,9,9,10,10,10-Heptadeca...   \n",
       "5      5-(Heptadecafluorooctyl)-1H-imidazole OR 81769...   \n",
       "...                                                  ...   \n",
       "15403  4‐{[4‐(Dimethylamino)phenyl][4‐ (phenylamino)n...   \n",
       "15404  4‐{[4‐(Dimethylamino)phenyl][4‐ (ethylamino)na...   \n",
       "15405  (4-Methylphenyl)(diphenyl)sulfanium 4,4,5,5,6,...   \n",
       "15406  11beta-Hydroxysaxitoxin bis(trifluoroacetate) ...   \n",
       "15407  Tetramethylammonium perfluorohexane sulfonate ...   \n",
       "\n",
       "                                                   term1          term2  \\\n",
       "1           4-(Perfluorononyl)oxybenzenesulfonate sodium     91998-13-9   \n",
       "2      (2S)-2-{Bis[4-(heptadecafluorooctyl)phenyl][(t...    914391-37-0   \n",
       "3      2,2,3,3,4,4,5,5,6,6,7,7,8,8,9,9,9-Heptadecaflu...    157584-47-9   \n",
       "4      3,3,4,4,5,5,6,6,7,7,8,8,9,9,10,10,10-Heptadeca...    113823-56-6   \n",
       "5                  5-(Heptadecafluorooctyl)-1H-imidazole     81769-56-4   \n",
       "...                                                  ...            ...   \n",
       "15403  4‐{[4‐(Dimethylamino)phenyl][4‐ (phenylamino)n...   1310480-28-4   \n",
       "15404  4‐{[4‐(Dimethylamino)phenyl][4‐ (ethylamino)na...   1310480-27-3   \n",
       "15405  (4-Methylphenyl)(diphenyl)sulfanium 4,4,5,5,6,...    862261-51-6   \n",
       "15406      11beta-Hydroxysaxitoxin bis(trifluoroacetate)   1923856-43-2   \n",
       "15407      Tetramethylammonium perfluorohexane sulfonate    189274-31-5   \n",
       "\n",
       "                                                   term3  \n",
       "1          4-(Perfluorononyl)oxybenzenesulfonate sodium   \n",
       "2      (2S)-2-{Bis[4-(heptadecafluorooctyl)phenyl][(t...  \n",
       "3      2,2,3,3,4,4,5,5,6,6,7,7,8,8,9,9,9-Heptadecaflu...  \n",
       "4      3,3,4,4,5,5,6,6,7,7,8,8,9,9,10,10,10-Heptadeca...  \n",
       "5                 5-(Heptadecafluorooctyl)-1H-imidazole   \n",
       "...                                                  ...  \n",
       "15403  4‐{[4‐(Dimethylamino)phenyl][4‐ (phenylamino)n...  \n",
       "15404  4‐{[4‐(Dimethylamino)phenyl][4‐ (ethylamino)na...  \n",
       "15405  (4-Methylphenyl)(diphenyl)sulfanium 4,4,5,5,6,...  \n",
       "15406     11beta-Hydroxysaxitoxin bis(trifluoroacetate)   \n",
       "15407     Tetramethylammonium perfluorohexane sulfonate   \n",
       "\n",
       "[13041 rows x 8 columns]"
      ]
     },
     "execution_count": 15,
     "metadata": {},
     "output_type": "execute_result"
    }
   ],
   "source": [
    "df"
   ]
  },
  {
   "cell_type": "code",
   "execution_count": 6,
   "id": "dafc40d8-7cf9-40a5-9168-8dac4ad441ab",
   "metadata": {},
   "outputs": [],
   "source": [
    "df['query'] = df['Substance_Name'] + ' OR ' + df['Substance_CASRN']+\" [tiab]\""
   ]
  },
  {
   "cell_type": "code",
   "execution_count": 10,
   "id": "c06afee8-4f8d-4f63-8c8c-149d976c6302",
   "metadata": {},
   "outputs": [],
   "source": [
    "df['Column3'] = df.apply(lambda row: row['Substance_Name'] + ' OR '+ row['Substance_CASRN'] if ' ' not in row['Substance_Name'] else f'{row[\"Substance_Name\"]} OR {row[\"Substance_CASRN\"]}', axis=1)"
   ]
  },
  {
   "cell_type": "code",
   "execution_count": 11,
   "id": "05f3cb00-8d95-4f82-8827-ff9d22461154",
   "metadata": {},
   "outputs": [],
   "source": [
    "df['term1'] = [e.split(\"OR\")[0] for e in df['Column3']]\n",
    "df['term2'] = [e.split(\"OR\")[1] for e in df['Column3']]"
   ]
  },
  {
   "cell_type": "code",
   "execution_count": 12,
   "id": "ccc0dd0e-8973-4a1a-b37e-796b8bd286a2",
   "metadata": {},
   "outputs": [],
   "source": [
    "df['term3'] = [f\"{e}\" for e in df['term1']]"
   ]
  },
  {
   "cell_type": "code",
   "execution_count": 13,
   "id": "3d18319c-2980-4e55-8617-dc4c72108d18",
   "metadata": {},
   "outputs": [],
   "source": [
    "df['term1'] = [e.strip() for e in df['term1']]"
   ]
  },
  {
   "cell_type": "code",
   "execution_count": 16,
   "id": "484a29da-5795-4a44-b5d4-a5260b61996c",
   "metadata": {},
   "outputs": [],
   "source": [
    "df['term3'] = ['\"' + s + '\"' for s in df['term1']]"
   ]
  },
  {
   "cell_type": "code",
   "execution_count": 17,
   "id": "dc1c650d-c91a-411b-9640-ff8327e20052",
   "metadata": {},
   "outputs": [],
   "source": [
    "df['term4']= ['\"' + s + '\"' for s in df['term2']]"
   ]
  },
  {
   "cell_type": "code",
   "execution_count": 18,
   "id": "68405dbe-de4a-4bfc-a82e-6f18485366ef",
   "metadata": {},
   "outputs": [],
   "source": [
    "import time\n",
    "import requests\n",
    "import json"
   ]
  },
  {
   "cell_type": "code",
   "execution_count": 22,
   "id": "93152810-041e-41e8-bbb1-7b6c7b1ea6f7",
   "metadata": {},
   "outputs": [],
   "source": [
    "my_lst = []\n",
    "#url = f\"https://eutils.ncbi.nlm.nih.gov/entrez/eutils/esearch.fcgi?db=pubmed&retmode=json&retmax=1&sort=relevance&term=({term2} OR {term3})\"\n",
    "for i, row in df.iterrows():\n",
    "    term, term1, term2,  = row['dtxsid'], row['term3'], row['term4']\n",
    "   # print(term, term1, term2)\n",
    "    url = f\"https://eutils.ncbi.nlm.nih.gov/entrez/eutils/esearch.fcgi?db=pubmed&retmode=json&retmax=1&sort=relevance&term=({term1} OR {term2})[tiab]\"\n",
    "    #print(url)\n",
    "    try:\n",
    "        response = requests.get(url).json()\n",
    "        a = response['esearchresult']['count']\n",
    "        time.sleep(1)\n",
    "    except Exception as error:\n",
    "        print(error)\n",
    "    finally:\n",
    "        my_lst.append([term,a])"
   ]
  },
  {
   "cell_type": "code",
   "execution_count": 24,
   "id": "434bd4ac-f76b-425e-8652-c5dbf6c984f0",
   "metadata": {},
   "outputs": [
    {
     "data": {
      "text/plain": [
       "13041"
      ]
     },
     "execution_count": 24,
     "metadata": {},
     "output_type": "execute_result"
    }
   ],
   "source": [
    "len(my_lst)"
   ]
  },
  {
   "cell_type": "code",
   "execution_count": 28,
   "id": "9c929c34-6e9b-4d5f-b58e-822953e769bb",
   "metadata": {},
   "outputs": [],
   "source": [
    "pubmed = pd.DataFrame(my_lst, columns = ['dtxsid', 'article_count'])\n",
    "#.to_csv(interim_dir+'pubmed_counts_110524csv')"
   ]
  },
  {
   "cell_type": "code",
   "execution_count": 31,
   "id": "dfde3c4e-aa0d-4377-acab-6b43a85f8aa2",
   "metadata": {},
   "outputs": [],
   "source": [
    "pubmed['article_count'] = pubmed['article_count'].astype(int)"
   ]
  },
  {
   "cell_type": "code",
   "execution_count": 33,
   "id": "e4fcfa34-df3c-4663-9144-6299bf51ac77",
   "metadata": {},
   "outputs": [],
   "source": [
    "pubmed['Pubmed'] = pubmed['article_count'].apply(lambda x: 1 if x>= 1 else 0)"
   ]
  },
  {
   "cell_type": "code",
   "execution_count": 35,
   "id": "2fe86a78-f77c-4b34-8d2a-48bb491b105a",
   "metadata": {},
   "outputs": [
    {
     "data": {
      "text/plain": [
       "0    8344\n",
       "1    4697\n",
       "Name: Pubmed, dtype: int64"
      ]
     },
     "execution_count": 35,
     "metadata": {},
     "output_type": "execute_result"
    }
   ],
   "source": [
    "pubmed['Pubmed'].value_counts()"
   ]
  },
  {
   "cell_type": "code",
   "execution_count": 37,
   "id": "33b31bc4-7568-4eca-a3d1-b7ebc010d6ac",
   "metadata": {},
   "outputs": [],
   "source": [
    "pubmed.to_csv(interim_dir+'pubmed_counts_110524.csv')"
   ]
  },
  {
   "cell_type": "code",
   "execution_count": null,
   "id": "90714f08-eb4a-49e7-b8e2-5473a2e9775a",
   "metadata": {},
   "outputs": [],
   "source": []
  }
 ],
 "metadata": {
  "kernelspec": {
   "display_name": "py39",
   "language": "python",
   "name": "py39"
  },
  "language_info": {
   "codemirror_mode": {
    "name": "ipython",
    "version": 3
   },
   "file_extension": ".py",
   "mimetype": "text/x-python",
   "name": "python",
   "nbconvert_exporter": "python",
   "pygments_lexer": "ipython3",
   "version": "3.9.16"
  },
  "widgets": {
   "application/vnd.jupyter.widget-state+json": {
    "state": {},
    "version_major": 2,
    "version_minor": 0
   }
  }
 },
 "nbformat": 4,
 "nbformat_minor": 5
}
