{
 "cells": [
  {
   "cell_type": "markdown",
   "id": "b419d95f-d695-47a4-b132-eb16821f3f40",
   "metadata": {},
   "source": [
    "## Preparing queries for Abstract Sifter"
   ]
  },
  {
   "cell_type": "code",
   "execution_count": 1,
   "id": "d4ea854e-0cae-4342-841e-5e74b5027db0",
   "metadata": {},
   "outputs": [],
   "source": [
    "import numpy as np\n",
    "import pandas as pd\n",
    "import matplotlib.pyplot as plt\n",
    "import seaborn as sns\n",
    "%matplotlib inline\n",
    "import openpyxl\n",
    "from rdkit.Chem.Draw import IPythonConsole, MolsToGridImage\n",
    "\n",
    "#Show mols in dataframes\n",
    "from rdkit.Chem import PandasTools\n",
    "from rdkit import Chem\n",
    "from rdkit.Chem.Draw import MolsToGridImage\n",
    "from IPython.core.display import HTML\n",
    "from rdkit.Chem import Descriptors\n",
    "from rdkit.ML.Descriptors import MoleculeDescriptors\n",
    "from rdkit.Chem import PandasTools\n",
    "from rdkit.Chem import AllChem\n",
    "from rdkit.Chem import rdDepictor\n",
    "from rdkit.Chem.Fingerprints import FingerprintMols\n",
    "from rdkit import DataStructs\n",
    "import os"
   ]
  },
  {
   "cell_type": "code",
   "execution_count": 2,
   "id": "0bf1e829-02e9-4227-bf06-5fa3b065ff84",
   "metadata": {},
   "outputs": [],
   "source": [
    "TOP = os.getcwd().replace('notebooks', '')\n",
    "raw_dir = TOP + 'data/raw/'\n",
    "interim_dir = TOP + 'data/interim/'\n",
    "external_dir = TOP + 'data/external/'\n",
    "figures_dir = TOP + 'reports/figures/'"
   ]
  },
  {
   "cell_type": "code",
   "execution_count": 3,
   "id": "07c7d989-1cd5-4c3e-96e1-7ac05d464c79",
   "metadata": {},
   "outputs": [],
   "source": [
    "df = pd.read_excel(interim_dir+'secondary_categorisations_new_universe_061123.xlsx', index_col = [0])"
   ]
  },
  {
   "cell_type": "code",
   "execution_count": 4,
   "id": "eec78025-d24b-4b59-996e-8ce8b2a9ad66",
   "metadata": {},
   "outputs": [],
   "source": [
    "df = df[['dtxsid','Substance_Name', 'Substance_CASRN']].dropna()"
   ]
  },
  {
   "cell_type": "code",
   "execution_count": 5,
   "id": "dafc40d8-7cf9-40a5-9168-8dac4ad441ab",
   "metadata": {},
   "outputs": [],
   "source": [
    "df['query'] = df['Substance_Name'] + ' OR ' + df['Substance_CASRN']+\" [tiab]\""
   ]
  },
  {
   "cell_type": "code",
   "execution_count": 6,
   "id": "d0b6e185-019a-4c85-a3fe-7ebaa405d05d",
   "metadata": {},
   "outputs": [
    {
     "data": {
      "text/plain": [
       "'N-Ethyl-N-((pentadecafluoroheptyl)sulphonyl)glycine OR 68957-63-1 [tiab]'"
      ]
     },
     "execution_count": 6,
     "metadata": {},
     "output_type": "execute_result"
    }
   ],
   "source": [
    "df['query'][0]"
   ]
  },
  {
   "cell_type": "code",
   "execution_count": 7,
   "id": "c06afee8-4f8d-4f63-8c8c-149d976c6302",
   "metadata": {},
   "outputs": [],
   "source": [
    "df['Column3'] = df.apply(lambda row: row['Substance_Name'] + ' OR '+ row['Substance_CASRN'] if ' ' not in row['Substance_Name'] else f'{row[\"Substance_Name\"]} OR {row[\"Substance_CASRN\"]}', axis=1)"
   ]
  },
  {
   "cell_type": "code",
   "execution_count": 8,
   "id": "05f3cb00-8d95-4f82-8827-ff9d22461154",
   "metadata": {},
   "outputs": [],
   "source": [
    "df['term1'] = [e.split(\"OR\")[0] for e in df['Column3']]\n",
    "df['term2'] = [e.split(\"OR\")[1] for e in df['Column3']]"
   ]
  },
  {
   "cell_type": "code",
   "execution_count": 9,
   "id": "ccc0dd0e-8973-4a1a-b37e-796b8bd286a2",
   "metadata": {},
   "outputs": [],
   "source": [
    "df['term3'] = [f\"{e}\" for e in df['term1']]"
   ]
  },
  {
   "cell_type": "code",
   "execution_count": 10,
   "id": "3d18319c-2980-4e55-8617-dc4c72108d18",
   "metadata": {},
   "outputs": [],
   "source": [
    "df['term1'] = [e.strip() for e in df['term1']]"
   ]
  },
  {
   "cell_type": "code",
   "execution_count": 11,
   "id": "abf821ca-8556-45c4-9576-8e6b574d183b",
   "metadata": {},
   "outputs": [
    {
     "data": {
      "text/plain": [
       "'N-Ethyl-N-((pentadecafluoroheptyl)sulphonyl)glycine'"
      ]
     },
     "execution_count": 11,
     "metadata": {},
     "output_type": "execute_result"
    }
   ],
   "source": [
    "df['term1'][0]"
   ]
  },
  {
   "cell_type": "code",
   "execution_count": 12,
   "id": "484a29da-5795-4a44-b5d4-a5260b61996c",
   "metadata": {},
   "outputs": [],
   "source": [
    "df['term3'] = ['\"' + s + '\"' for s in df['term1']]"
   ]
  },
  {
   "cell_type": "code",
   "execution_count": 13,
   "id": "dc1c650d-c91a-411b-9640-ff8327e20052",
   "metadata": {},
   "outputs": [],
   "source": [
    "df['term4']= ['\"' + s + '\"' for s in df['term2']]"
   ]
  },
  {
   "cell_type": "code",
   "execution_count": 14,
   "id": "68405dbe-de4a-4bfc-a82e-6f18485366ef",
   "metadata": {},
   "outputs": [],
   "source": [
    "import time\n",
    "import requests\n",
    "import json"
   ]
  },
  {
   "cell_type": "code",
   "execution_count": 15,
   "id": "93152810-041e-41e8-bbb1-7b6c7b1ea6f7",
   "metadata": {},
   "outputs": [
    {
     "name": "stdout",
     "output_type": "stream",
     "text": [
      "'count'\n",
      "'count'\n",
      "'count'\n",
      "'count'\n",
      "'count'\n",
      "'count'\n",
      "'esearchresult'\n",
      "'count'\n",
      "'count'\n",
      "'count'\n",
      "'count'\n",
      "'count'\n",
      "'count'\n",
      "'count'\n",
      "'count'\n",
      "'count'\n",
      "'count'\n",
      "'count'\n",
      "'count'\n",
      "'count'\n",
      "'count'\n",
      "'count'\n",
      "'count'\n",
      "'count'\n",
      "'count'\n",
      "'count'\n",
      "'count'\n",
      "'count'\n",
      "'count'\n",
      "'count'\n",
      "'count'\n",
      "'count'\n",
      "'count'\n",
      "'count'\n",
      "'count'\n",
      "'count'\n",
      "'count'\n",
      "'count'\n",
      "'count'\n",
      "'count'\n",
      "'count'\n",
      "'count'\n",
      "'count'\n",
      "'count'\n",
      "'count'\n",
      "'count'\n",
      "'count'\n",
      "'count'\n",
      "'esearchresult'\n",
      "'esearchresult'\n",
      "'count'\n",
      "'count'\n",
      "'count'\n",
      "'count'\n",
      "'count'\n",
      "'count'\n",
      "'count'\n",
      "'count'\n",
      "'count'\n",
      "'count'\n",
      "'count'\n",
      "'count'\n",
      "'count'\n",
      "'count'\n",
      "'count'\n",
      "'count'\n",
      "'count'\n",
      "'count'\n",
      "'count'\n",
      "'count'\n",
      "'count'\n",
      "'count'\n",
      "'count'\n",
      "'count'\n",
      "'count'\n",
      "'count'\n",
      "'count'\n",
      "'count'\n",
      "Expecting value: line 1 column 1 (char 0)\n",
      "Expecting value: line 1 column 1 (char 0)\n"
     ]
    }
   ],
   "source": [
    "my_lst = []\n",
    "#url = f\"https://eutils.ncbi.nlm.nih.gov/entrez/eutils/esearch.fcgi?db=pubmed&retmode=json&retmax=1&sort=relevance&term=({term2} OR {term3})\"\n",
    "for i, row in df.iterrows():\n",
    "    term, term1, term2,  = row['dtxsid'], row['term3'], row['term4']\n",
    "    url = f\"https://eutils.ncbi.nlm.nih.gov/entrez/eutils/esearch.fcgi?db=pubmed&retmode=json&retmax=1&sort=relevance&term=({term1} OR {term2})[tiab]\"\n",
    "    #print(url)\n",
    "    try:\n",
    "        response = requests.get(url).json()\n",
    "        a = response['esearchresult']['count']\n",
    "        time.sleep(1)\n",
    "    except Exception as error:\n",
    "        print(error)\n",
    "    finally:\n",
    "        my_lst.append([term,a])"
   ]
  },
  {
   "cell_type": "code",
   "execution_count": 19,
   "id": "9c929c34-6e9b-4d5f-b58e-822953e769bb",
   "metadata": {},
   "outputs": [],
   "source": [
    "pd.DataFrame(my_lst, columns = ['dtxsid', 'article_count']).to_csv(interim_dir+'pubmed_counts_081123.csv')"
   ]
  },
  {
   "cell_type": "code",
   "execution_count": 22,
   "id": "dfde3c4e-aa0d-4377-acab-6b43a85f8aa2",
   "metadata": {},
   "outputs": [
    {
     "ename": "KeyError",
     "evalue": "'article_counts'",
     "output_type": "error",
     "traceback": [
      "\u001b[0;31m---------------------------------------------------------------------------\u001b[0m",
      "\u001b[0;31mKeyError\u001b[0m                                  Traceback (most recent call last)",
      "File \u001b[0;32m~/anaconda3/envs/py39/lib/python3.9/site-packages/pandas/core/indexes/base.py:3802\u001b[0m, in \u001b[0;36mIndex.get_loc\u001b[0;34m(self, key, method, tolerance)\u001b[0m\n\u001b[1;32m   3801\u001b[0m \u001b[38;5;28;01mtry\u001b[39;00m:\n\u001b[0;32m-> 3802\u001b[0m     \u001b[38;5;28;01mreturn\u001b[39;00m \u001b[38;5;28;43mself\u001b[39;49m\u001b[38;5;241;43m.\u001b[39;49m\u001b[43m_engine\u001b[49m\u001b[38;5;241;43m.\u001b[39;49m\u001b[43mget_loc\u001b[49m\u001b[43m(\u001b[49m\u001b[43mcasted_key\u001b[49m\u001b[43m)\u001b[49m\n\u001b[1;32m   3803\u001b[0m \u001b[38;5;28;01mexcept\u001b[39;00m \u001b[38;5;167;01mKeyError\u001b[39;00m \u001b[38;5;28;01mas\u001b[39;00m err:\n",
      "File \u001b[0;32m~/anaconda3/envs/py39/lib/python3.9/site-packages/pandas/_libs/index.pyx:138\u001b[0m, in \u001b[0;36mpandas._libs.index.IndexEngine.get_loc\u001b[0;34m()\u001b[0m\n",
      "File \u001b[0;32m~/anaconda3/envs/py39/lib/python3.9/site-packages/pandas/_libs/index.pyx:165\u001b[0m, in \u001b[0;36mpandas._libs.index.IndexEngine.get_loc\u001b[0;34m()\u001b[0m\n",
      "File \u001b[0;32mpandas/_libs/hashtable_class_helper.pxi:5745\u001b[0m, in \u001b[0;36mpandas._libs.hashtable.PyObjectHashTable.get_item\u001b[0;34m()\u001b[0m\n",
      "File \u001b[0;32mpandas/_libs/hashtable_class_helper.pxi:5753\u001b[0m, in \u001b[0;36mpandas._libs.hashtable.PyObjectHashTable.get_item\u001b[0;34m()\u001b[0m\n",
      "\u001b[0;31mKeyError\u001b[0m: 'article_counts'",
      "\nThe above exception was the direct cause of the following exception:\n",
      "\u001b[0;31mKeyError\u001b[0m                                  Traceback (most recent call last)",
      "Cell \u001b[0;32mIn[22], line 1\u001b[0m\n\u001b[0;32m----> 1\u001b[0m \u001b[43mpd\u001b[49m\u001b[38;5;241;43m.\u001b[39;49m\u001b[43mDataFrame\u001b[49m\u001b[43m(\u001b[49m\u001b[43mmy_lst\u001b[49m\u001b[43m,\u001b[49m\u001b[43m \u001b[49m\u001b[43mcolumns\u001b[49m\u001b[43m \u001b[49m\u001b[38;5;241;43m=\u001b[39;49m\u001b[43m \u001b[49m\u001b[43m[\u001b[49m\u001b[38;5;124;43m'\u001b[39;49m\u001b[38;5;124;43mdtxsid\u001b[39;49m\u001b[38;5;124;43m'\u001b[39;49m\u001b[43m,\u001b[49m\u001b[43m \u001b[49m\u001b[38;5;124;43m'\u001b[39;49m\u001b[38;5;124;43marticle_count\u001b[39;49m\u001b[38;5;124;43m'\u001b[39;49m\u001b[43m]\u001b[49m\u001b[43m)\u001b[49m\u001b[43m[\u001b[49m\u001b[38;5;124;43m'\u001b[39;49m\u001b[38;5;124;43marticle_counts\u001b[39;49m\u001b[38;5;124;43m'\u001b[39;49m\u001b[43m]\u001b[49m\u001b[38;5;241m.\u001b[39mastype(\u001b[38;5;28mfloat\u001b[39m)\u001b[38;5;241m.\u001b[39mhist()\n",
      "File \u001b[0;32m~/anaconda3/envs/py39/lib/python3.9/site-packages/pandas/core/frame.py:3807\u001b[0m, in \u001b[0;36mDataFrame.__getitem__\u001b[0;34m(self, key)\u001b[0m\n\u001b[1;32m   3805\u001b[0m \u001b[38;5;28;01mif\u001b[39;00m \u001b[38;5;28mself\u001b[39m\u001b[38;5;241m.\u001b[39mcolumns\u001b[38;5;241m.\u001b[39mnlevels \u001b[38;5;241m>\u001b[39m \u001b[38;5;241m1\u001b[39m:\n\u001b[1;32m   3806\u001b[0m     \u001b[38;5;28;01mreturn\u001b[39;00m \u001b[38;5;28mself\u001b[39m\u001b[38;5;241m.\u001b[39m_getitem_multilevel(key)\n\u001b[0;32m-> 3807\u001b[0m indexer \u001b[38;5;241m=\u001b[39m \u001b[38;5;28;43mself\u001b[39;49m\u001b[38;5;241;43m.\u001b[39;49m\u001b[43mcolumns\u001b[49m\u001b[38;5;241;43m.\u001b[39;49m\u001b[43mget_loc\u001b[49m\u001b[43m(\u001b[49m\u001b[43mkey\u001b[49m\u001b[43m)\u001b[49m\n\u001b[1;32m   3808\u001b[0m \u001b[38;5;28;01mif\u001b[39;00m is_integer(indexer):\n\u001b[1;32m   3809\u001b[0m     indexer \u001b[38;5;241m=\u001b[39m [indexer]\n",
      "File \u001b[0;32m~/anaconda3/envs/py39/lib/python3.9/site-packages/pandas/core/indexes/base.py:3804\u001b[0m, in \u001b[0;36mIndex.get_loc\u001b[0;34m(self, key, method, tolerance)\u001b[0m\n\u001b[1;32m   3802\u001b[0m     \u001b[38;5;28;01mreturn\u001b[39;00m \u001b[38;5;28mself\u001b[39m\u001b[38;5;241m.\u001b[39m_engine\u001b[38;5;241m.\u001b[39mget_loc(casted_key)\n\u001b[1;32m   3803\u001b[0m \u001b[38;5;28;01mexcept\u001b[39;00m \u001b[38;5;167;01mKeyError\u001b[39;00m \u001b[38;5;28;01mas\u001b[39;00m err:\n\u001b[0;32m-> 3804\u001b[0m     \u001b[38;5;28;01mraise\u001b[39;00m \u001b[38;5;167;01mKeyError\u001b[39;00m(key) \u001b[38;5;28;01mfrom\u001b[39;00m \u001b[38;5;21;01merr\u001b[39;00m\n\u001b[1;32m   3805\u001b[0m \u001b[38;5;28;01mexcept\u001b[39;00m \u001b[38;5;167;01mTypeError\u001b[39;00m:\n\u001b[1;32m   3806\u001b[0m     \u001b[38;5;66;03m# If we have a listlike key, _check_indexing_error will raise\u001b[39;00m\n\u001b[1;32m   3807\u001b[0m     \u001b[38;5;66;03m#  InvalidIndexError. Otherwise we fall through and re-raise\u001b[39;00m\n\u001b[1;32m   3808\u001b[0m     \u001b[38;5;66;03m#  the TypeError.\u001b[39;00m\n\u001b[1;32m   3809\u001b[0m     \u001b[38;5;28mself\u001b[39m\u001b[38;5;241m.\u001b[39m_check_indexing_error(key)\n",
      "\u001b[0;31mKeyError\u001b[0m: 'article_counts'"
     ]
    }
   ],
   "source": [
    "pd.DataFrame(my_lst, columns = ['dtxsid', 'article_count'])['article_counts'].astype(float).hist()"
   ]
  },
  {
   "cell_type": "code",
   "execution_count": null,
   "id": "e4fcfa34-df3c-4663-9144-6299bf51ac77",
   "metadata": {},
   "outputs": [],
   "source": []
  },
  {
   "cell_type": "code",
   "execution_count": null,
   "id": "2fe86a78-f77c-4b34-8d2a-48bb491b105a",
   "metadata": {},
   "outputs": [],
   "source": []
  }
 ],
 "metadata": {
  "kernelspec": {
   "display_name": "py39",
   "language": "python",
   "name": "py39"
  },
  "language_info": {
   "codemirror_mode": {
    "name": "ipython",
    "version": 3
   },
   "file_extension": ".py",
   "mimetype": "text/x-python",
   "name": "python",
   "nbconvert_exporter": "python",
   "pygments_lexer": "ipython3",
   "version": "3.9.16"
  },
  "widgets": {
   "application/vnd.jupyter.widget-state+json": {
    "state": {},
    "version_major": 2,
    "version_minor": 0
   }
  }
 },
 "nbformat": 4,
 "nbformat_minor": 5
}
