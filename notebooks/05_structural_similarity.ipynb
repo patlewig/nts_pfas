{
 "cells": [
  {
   "cell_type": "markdown",
   "id": "951c277b-5b81-4994-b99c-9b9494e4fd8d",
   "metadata": {},
   "source": [
    "## Exploring the increase in structural similarity within the terminal categories as ECDFs"
   ]
  },
  {
   "cell_type": "code",
   "execution_count": 1,
   "id": "f80eaf67-edb5-4e83-8e4c-1882e7972fc5",
   "metadata": {},
   "outputs": [],
   "source": [
    "import numpy as np\n",
    "import pandas as pd\n",
    "import matplotlib.pyplot as plt\n",
    "import seaborn as sns\n",
    "%matplotlib inline\n",
    "import openpyxl\n",
    "from rdkit.Chem.Draw import IPythonConsole, MolsToGridImage\n",
    "\n",
    "#Show mols in dataframes\n",
    "from rdkit.Chem import PandasTools\n",
    "from rdkit import Chem\n",
    "from rdkit.Chem.Draw import MolsToGridImage\n",
    "from IPython.core.display import HTML\n",
    "from rdkit.Chem import Descriptors\n",
    "from rdkit.ML.Descriptors import MoleculeDescriptors\n",
    "from rdkit.Chem import PandasTools\n",
    "from rdkit.Chem import AllChem\n",
    "from rdkit.Chem import rdDepictor\n",
    "from rdkit.Chem.Fingerprints import FingerprintMols\n",
    "from rdkit import DataStructs\n",
    "import os"
   ]
  },
  {
   "cell_type": "code",
   "execution_count": 10,
   "id": "5e4d0527-1d1a-4bd8-ae46-13119ec27c35",
   "metadata": {},
   "outputs": [],
   "source": [
    "import sys"
   ]
  },
  {
   "cell_type": "code",
   "execution_count": 2,
   "id": "34763ead-8de6-4657-b290-5904eab29e89",
   "metadata": {},
   "outputs": [],
   "source": [
    "TOP = os.getcwd().replace('notebooks', '')\n",
    "raw_dir = TOP + 'data/raw/'\n",
    "interim_dir = TOP + 'data/interim/'\n",
    "external_dir = TOP + 'data/external/'\n",
    "figures_dir = TOP + 'reports/figures/'\n"
   ]
  },
  {
   "cell_type": "code",
   "execution_count": 6,
   "id": "2efc2e7d-08b2-4644-a0ee-06a9e607bf13",
   "metadata": {},
   "outputs": [],
   "source": [
    "df = pd.read_excel(interim_dir+'mediod_new_universe_061123.xlsx', index_col = [0])"
   ]
  },
  {
   "cell_type": "code",
   "execution_count": 7,
   "id": "c41c0547-8cc0-4186-b6c1-6660b1bd4cfa",
   "metadata": {},
   "outputs": [],
   "source": [
    "df['group'] = df[['category','subcategory', 'cluster_d',  'lvl_cluster_d']].apply(tuple, axis = 1)\n",
    "df['group_str']=[str(e) for e in df['group'] ]\n"
   ]
  },
  {
   "cell_type": "code",
   "execution_count": 11,
   "id": "d1faefa2-b02a-4127-9025-f273703d8442",
   "metadata": {},
   "outputs": [],
   "source": [
    "LIB = TOP+'src/models/'\n",
    "if not LIB in sys.path: \n",
    "    sys.path.insert(0,LIB)"
   ]
  },
  {
   "cell_type": "code",
   "execution_count": 12,
   "id": "40e05336-5a09-417c-b4b0-919d8171008c",
   "metadata": {},
   "outputs": [],
   "source": [
    "from model_functions import *"
   ]
  },
  {
   "cell_type": "code",
   "execution_count": null,
   "id": "033cb283-b07a-4db8-9453-b7bd8047f1fc",
   "metadata": {},
   "outputs": [],
   "source": [
    "results = {}\n",
    "for i, group in df.groupby('group_str'):\n",
    "    try:\n",
    "        a = mk_fp(group)\n",
    "    except Exception as error:\n",
    "        print(error)\n",
    "    else:\n",
    "        results[i] = a\n"
   ]
  },
  {
   "cell_type": "code",
   "execution_count": null,
   "id": "0ac41633-4314-4ca8-a67f-c680f953cb78",
   "metadata": {},
   "outputs": [],
   "source": []
  },
  {
   "cell_type": "code",
   "execution_count": null,
   "id": "e2aadcf4-9840-4575-97eb-f2ee9fc0fb58",
   "metadata": {},
   "outputs": [],
   "source": []
  },
  {
   "cell_type": "code",
   "execution_count": null,
   "id": "9f9d6540-3700-4172-8af4-831f0587182e",
   "metadata": {},
   "outputs": [],
   "source": []
  },
  {
   "cell_type": "code",
   "execution_count": null,
   "id": "6acee408-4938-4ed7-90e5-b563a177028e",
   "metadata": {},
   "outputs": [],
   "source": []
  },
  {
   "cell_type": "code",
   "execution_count": null,
   "id": "42f812a6-7e4c-4134-b6c7-d61c4ea9094e",
   "metadata": {},
   "outputs": [],
   "source": []
  },
  {
   "cell_type": "code",
   "execution_count": null,
   "id": "51ae27ea-40e3-48fd-ba83-def9d72ca794",
   "metadata": {},
   "outputs": [],
   "source": []
  }
 ],
 "metadata": {
  "kernelspec": {
   "display_name": "py39",
   "language": "python",
   "name": "py39"
  },
  "language_info": {
   "codemirror_mode": {
    "name": "ipython",
    "version": 3
   },
   "file_extension": ".py",
   "mimetype": "text/x-python",
   "name": "python",
   "nbconvert_exporter": "python",
   "pygments_lexer": "ipython3",
   "version": "3.9.16"
  },
  "widgets": {
   "application/vnd.jupyter.widget-state+json": {
    "state": {},
    "version_major": 2,
    "version_minor": 0
   }
  }
 },
 "nbformat": 4,
 "nbformat_minor": 5
}
