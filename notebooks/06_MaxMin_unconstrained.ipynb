{
 "cells": [
  {
   "cell_type": "markdown",
   "id": "da7baa8e-75ea-441a-88c4-7f355875fd6c",
   "metadata": {},
   "source": [
    "#### Considering additional chemicals beyond the centroids "
   ]
  },
  {
   "cell_type": "markdown",
   "id": "b9d13a3b-a56d-4dd8-a68a-b9b07ccdb815",
   "metadata": {},
   "source": [
    "Created by: Grace Patlewicz <br>\n",
    "Last modified: 10th May 2024<br>\n",
    "Change: Updated the MaxMin calculations for the April 2024 inventory."
   ]
  },
  {
   "cell_type": "markdown",
   "id": "e5eda956-f35d-4ea2-9334-145ae2f0787c",
   "metadata": {},
   "source": [
    "This notebook captures several threads but the main focus early on captures the manor in which structurally diverse substances are selected from the overall PFAS Landscape using the MaxMin approach as implemented in RDKit. A couple of bespoke functions were created to more systematically apply the approach to all terminal categories that comprised more than 5 members."
   ]
  },
  {
   "cell_type": "code",
   "execution_count": 1,
   "id": "1efe9a46-1496-4dd6-90df-ef6c36defa22",
   "metadata": {},
   "outputs": [],
   "source": [
    "import numpy as np\n",
    "import pandas as pd\n",
    "import matplotlib.pyplot as plt\n",
    "import seaborn as sns\n",
    "%matplotlib inline\n",
    "import openpyxl\n",
    "from rdkit.Chem.Draw import IPythonConsole, MolsToGridImage\n",
    "\n",
    "#Show mols in dataframes\n",
    "from rdkit.Chem import PandasTools\n",
    "from rdkit import Chem\n",
    "from rdkit.Chem.Draw import MolsToGridImage\n",
    "from IPython.core.display import HTML\n",
    "from rdkit.Chem import Descriptors\n",
    "from rdkit.ML.Descriptors import MoleculeDescriptors\n",
    "from rdkit.Chem import PandasTools\n",
    "from rdkit.Chem import AllChem\n",
    "from rdkit.Chem import rdDepictor\n",
    "from rdkit.Chem.Fingerprints import FingerprintMols\n",
    "from rdkit import DataStructs\n",
    "import os\n",
    "from scipy.spatial.distance import pdist, squareform\n",
    "import sys"
   ]
  },
  {
   "cell_type": "code",
   "execution_count": 2,
   "id": "b72f6f76-fbda-4771-b92f-23ea2fab6db9",
   "metadata": {},
   "outputs": [],
   "source": [
    "TOP = os.getcwd().replace('notebooks', '')\n",
    "raw_dir = TOP + 'data/raw/'\n",
    "interim_dir = TOP + 'data/interim/'\n",
    "external_dir = TOP + 'data/external/'\n",
    "figures_dir = TOP + 'reports/figures/'"
   ]
  },
  {
   "cell_type": "code",
   "execution_count": 3,
   "id": "5a421fc6-0794-44e3-9697-4fa47d956122",
   "metadata": {},
   "outputs": [],
   "source": [
    "LIB = TOP+'src/models/'\n",
    "if not LIB in sys.path: \n",
    "    sys.path.insert(0,LIB)"
   ]
  },
  {
   "cell_type": "code",
   "execution_count": 4,
   "id": "de212a2f-08d1-46dc-a8bd-528987eb21b7",
   "metadata": {},
   "outputs": [],
   "source": [
    "from model_functions import *"
   ]
  },
  {
   "cell_type": "code",
   "execution_count": 5,
   "id": "fc3f029a-1cbb-4b16-b38a-6ee03b5a81ba",
   "metadata": {},
   "outputs": [],
   "source": [
    "df = pd.read_excel(interim_dir+'mediod_new_universe_090524.xlsx', index_col = [0])"
   ]
  },
  {
   "cell_type": "code",
   "execution_count": 6,
   "id": "ef8c4ae9-4d39-4c1a-a51c-7d62955bb970",
   "metadata": {},
   "outputs": [
    {
     "data": {
      "text/html": [
       "<div>\n",
       "<style scoped>\n",
       "    .dataframe tbody tr th:only-of-type {\n",
       "        vertical-align: middle;\n",
       "    }\n",
       "\n",
       "    .dataframe tbody tr th {\n",
       "        vertical-align: top;\n",
       "    }\n",
       "\n",
       "    .dataframe thead th {\n",
       "        text-align: right;\n",
       "    }\n",
       "</style>\n",
       "<table border=\"1\" class=\"dataframe\">\n",
       "  <thead>\n",
       "    <tr style=\"text-align: right;\">\n",
       "      <th></th>\n",
       "      <th>dtxsid</th>\n",
       "      <th>DSSTox_QC-Level</th>\n",
       "      <th>Substance_Name</th>\n",
       "      <th>Substance_CASRN</th>\n",
       "      <th>Substance_Type</th>\n",
       "      <th>Substance_Note</th>\n",
       "      <th>smiles</th>\n",
       "      <th>Structure_InChI</th>\n",
       "      <th>Structure_InChIKey</th>\n",
       "      <th>Structure_Formula</th>\n",
       "      <th>...</th>\n",
       "      <th>level3_cluster_centroid</th>\n",
       "      <th>lvl_cluster_d</th>\n",
       "      <th>lvl3_centroid</th>\n",
       "      <th>lvl3_centroid2</th>\n",
       "      <th>lvl3_analogues</th>\n",
       "      <th>lvl3_Dist</th>\n",
       "      <th>final_centroid</th>\n",
       "      <th>final_dist</th>\n",
       "      <th>group</th>\n",
       "      <th>group_str</th>\n",
       "    </tr>\n",
       "  </thead>\n",
       "  <tbody>\n",
       "    <tr>\n",
       "      <th>0</th>\n",
       "      <td>IROQAHVXXUQBOS-UHFFFAOYSA-N</td>\n",
       "      <td>NaN</td>\n",
       "      <td>NaN</td>\n",
       "      <td>NaN</td>\n",
       "      <td>NaN</td>\n",
       "      <td>NaN</td>\n",
       "      <td>CCCN(CCNC(=O)c1ccc(Cc2ccc(C(O)=O)cc2)cc1)S(=O)...</td>\n",
       "      <td>NaN</td>\n",
       "      <td>NaN</td>\n",
       "      <td>NaN</td>\n",
       "      <td>...</td>\n",
       "      <td>NaN</td>\n",
       "      <td>NaN</td>\n",
       "      <td>NaN</td>\n",
       "      <td>NaN</td>\n",
       "      <td>NaN</td>\n",
       "      <td>NaN</td>\n",
       "      <td>IROQAHVXXUQBOS-UHFFFAOYSA-N</td>\n",
       "      <td>0.000000</td>\n",
       "      <td>('Aromatic PFASs', 'gte7', nan, nan)</td>\n",
       "      <td>('Aromatic PFASs', 'gte7', nan, nan)</td>\n",
       "    </tr>\n",
       "    <tr>\n",
       "      <th>1</th>\n",
       "      <td>DTXSID90897582</td>\n",
       "      <td>DSSTox_High</td>\n",
       "      <td>4-(Perfluorononyl)oxybenzenesulfonate sodium</td>\n",
       "      <td>91998-13-9</td>\n",
       "      <td>Single Compound</td>\n",
       "      <td>NaN</td>\n",
       "      <td>[Na+].[O-]S(=O)(=O)C1=CC=C(OC(F)(F)C(F)(F)C(F)...</td>\n",
       "      <td>InChI=1S/C15H5F19O4S.Na/c16-7(17,8(18,19)10(22...</td>\n",
       "      <td>WEKFOCTWTWPVEG-UHFFFAOYSA-M</td>\n",
       "      <td>C15H4F19NaO4S</td>\n",
       "      <td>...</td>\n",
       "      <td>NaN</td>\n",
       "      <td>NaN</td>\n",
       "      <td>NaN</td>\n",
       "      <td>NaN</td>\n",
       "      <td>NaN</td>\n",
       "      <td>NaN</td>\n",
       "      <td>IROQAHVXXUQBOS-UHFFFAOYSA-N</td>\n",
       "      <td>0.788889</td>\n",
       "      <td>('Aromatic PFASs', 'gte7', nan, nan)</td>\n",
       "      <td>('Aromatic PFASs', 'gte7', nan, nan)</td>\n",
       "    </tr>\n",
       "    <tr>\n",
       "      <th>2</th>\n",
       "      <td>DTXSID90896257</td>\n",
       "      <td>Public_Low</td>\n",
       "      <td>(2S)-2-{Bis[4-(heptadecafluorooctyl)phenyl][(t...</td>\n",
       "      <td>914391-37-0</td>\n",
       "      <td>Single Compound</td>\n",
       "      <td>NaN</td>\n",
       "      <td>CC[Si](CC)(CC)OC([C@@H]1CCCN1)(C1=CC=C(C=C1)C(...</td>\n",
       "      <td>InChI=1S/C39H31F34NOSi/c1-4-76(5-2,6-3)75-23(2...</td>\n",
       "      <td>PARYPNCCAOUHML-QFIPXVFZSA-N</td>\n",
       "      <td>C39H31F34NOSi</td>\n",
       "      <td>...</td>\n",
       "      <td>NaN</td>\n",
       "      <td>NaN</td>\n",
       "      <td>NaN</td>\n",
       "      <td>NaN</td>\n",
       "      <td>NaN</td>\n",
       "      <td>NaN</td>\n",
       "      <td>IROQAHVXXUQBOS-UHFFFAOYSA-N</td>\n",
       "      <td>0.814815</td>\n",
       "      <td>('Aromatic PFASs', 'gte7', nan, nan)</td>\n",
       "      <td>('Aromatic PFASs', 'gte7', nan, nan)</td>\n",
       "    </tr>\n",
       "    <tr>\n",
       "      <th>3</th>\n",
       "      <td>DTXSID90896196</td>\n",
       "      <td>Public_Low</td>\n",
       "      <td>2,2,3,3,4,4,5,5,6,6,7,7,8,8,9,9,9-Heptadecaflu...</td>\n",
       "      <td>157584-47-9</td>\n",
       "      <td>Single Compound</td>\n",
       "      <td>NaN</td>\n",
       "      <td>FC(F)(F)C(F)(F)C(F)(F)C(F)(F)C(F)(F)C(F)(F)C(F...</td>\n",
       "      <td>InChI=1S/C21H10F17NO/c22-14(23,13(40)39(11-7-3...</td>\n",
       "      <td>IDJHICNQDCLWAB-UHFFFAOYSA-N</td>\n",
       "      <td>C21H10F17NO</td>\n",
       "      <td>...</td>\n",
       "      <td>NaN</td>\n",
       "      <td>NaN</td>\n",
       "      <td>NaN</td>\n",
       "      <td>NaN</td>\n",
       "      <td>NaN</td>\n",
       "      <td>NaN</td>\n",
       "      <td>IROQAHVXXUQBOS-UHFFFAOYSA-N</td>\n",
       "      <td>0.788889</td>\n",
       "      <td>('Aromatic PFASs', 'gte7', nan, nan)</td>\n",
       "      <td>('Aromatic PFASs', 'gte7', nan, nan)</td>\n",
       "    </tr>\n",
       "    <tr>\n",
       "      <th>4</th>\n",
       "      <td>DTXSID90896095</td>\n",
       "      <td>Public_Low</td>\n",
       "      <td>3,3,4,4,5,5,6,6,7,7,8,8,9,9,10,10,10-Heptadeca...</td>\n",
       "      <td>113823-56-6</td>\n",
       "      <td>Single Compound</td>\n",
       "      <td>NaN</td>\n",
       "      <td>CC1=CC=C(C=C1)S(=O)(=O)OCCC(F)(F)C(F)(F)C(F)(F...</td>\n",
       "      <td>InChI=1S/C17H11F17O3S/c1-8-2-4-9(5-3-8)38(35,3...</td>\n",
       "      <td>WGCSEECKLMOBLT-UHFFFAOYSA-N</td>\n",
       "      <td>C17H11F17O3S</td>\n",
       "      <td>...</td>\n",
       "      <td>NaN</td>\n",
       "      <td>NaN</td>\n",
       "      <td>NaN</td>\n",
       "      <td>NaN</td>\n",
       "      <td>NaN</td>\n",
       "      <td>NaN</td>\n",
       "      <td>IROQAHVXXUQBOS-UHFFFAOYSA-N</td>\n",
       "      <td>0.791667</td>\n",
       "      <td>('Aromatic PFASs', 'gte7', nan, nan)</td>\n",
       "      <td>('Aromatic PFASs', 'gte7', nan, nan)</td>\n",
       "    </tr>\n",
       "  </tbody>\n",
       "</table>\n",
       "<p>5 rows × 194 columns</p>\n",
       "</div>"
      ],
      "text/plain": [
       "                        dtxsid DSSTox_QC-Level  \\\n",
       "0  IROQAHVXXUQBOS-UHFFFAOYSA-N             NaN   \n",
       "1               DTXSID90897582     DSSTox_High   \n",
       "2               DTXSID90896257      Public_Low   \n",
       "3               DTXSID90896196      Public_Low   \n",
       "4               DTXSID90896095      Public_Low   \n",
       "\n",
       "                                      Substance_Name Substance_CASRN  \\\n",
       "0                                                NaN             NaN   \n",
       "1       4-(Perfluorononyl)oxybenzenesulfonate sodium      91998-13-9   \n",
       "2  (2S)-2-{Bis[4-(heptadecafluorooctyl)phenyl][(t...     914391-37-0   \n",
       "3  2,2,3,3,4,4,5,5,6,6,7,7,8,8,9,9,9-Heptadecaflu...     157584-47-9   \n",
       "4  3,3,4,4,5,5,6,6,7,7,8,8,9,9,10,10,10-Heptadeca...     113823-56-6   \n",
       "\n",
       "    Substance_Type Substance_Note  \\\n",
       "0              NaN            NaN   \n",
       "1  Single Compound            NaN   \n",
       "2  Single Compound            NaN   \n",
       "3  Single Compound            NaN   \n",
       "4  Single Compound            NaN   \n",
       "\n",
       "                                              smiles  \\\n",
       "0  CCCN(CCNC(=O)c1ccc(Cc2ccc(C(O)=O)cc2)cc1)S(=O)...   \n",
       "1  [Na+].[O-]S(=O)(=O)C1=CC=C(OC(F)(F)C(F)(F)C(F)...   \n",
       "2  CC[Si](CC)(CC)OC([C@@H]1CCCN1)(C1=CC=C(C=C1)C(...   \n",
       "3  FC(F)(F)C(F)(F)C(F)(F)C(F)(F)C(F)(F)C(F)(F)C(F...   \n",
       "4  CC1=CC=C(C=C1)S(=O)(=O)OCCC(F)(F)C(F)(F)C(F)(F...   \n",
       "\n",
       "                                     Structure_InChI  \\\n",
       "0                                                NaN   \n",
       "1  InChI=1S/C15H5F19O4S.Na/c16-7(17,8(18,19)10(22...   \n",
       "2  InChI=1S/C39H31F34NOSi/c1-4-76(5-2,6-3)75-23(2...   \n",
       "3  InChI=1S/C21H10F17NO/c22-14(23,13(40)39(11-7-3...   \n",
       "4  InChI=1S/C17H11F17O3S/c1-8-2-4-9(5-3-8)38(35,3...   \n",
       "\n",
       "            Structure_InChIKey Structure_Formula  ...  \\\n",
       "0                          NaN               NaN  ...   \n",
       "1  WEKFOCTWTWPVEG-UHFFFAOYSA-M     C15H4F19NaO4S  ...   \n",
       "2  PARYPNCCAOUHML-QFIPXVFZSA-N     C39H31F34NOSi  ...   \n",
       "3  IDJHICNQDCLWAB-UHFFFAOYSA-N       C21H10F17NO  ...   \n",
       "4  WGCSEECKLMOBLT-UHFFFAOYSA-N      C17H11F17O3S  ...   \n",
       "\n",
       "   level3_cluster_centroid lvl_cluster_d lvl3_centroid  lvl3_centroid2  \\\n",
       "0                      NaN           NaN           NaN             NaN   \n",
       "1                      NaN           NaN           NaN             NaN   \n",
       "2                      NaN           NaN           NaN             NaN   \n",
       "3                      NaN           NaN           NaN             NaN   \n",
       "4                      NaN           NaN           NaN             NaN   \n",
       "\n",
       "   lvl3_analogues  lvl3_Dist               final_centroid  final_dist  \\\n",
       "0             NaN        NaN  IROQAHVXXUQBOS-UHFFFAOYSA-N    0.000000   \n",
       "1             NaN        NaN  IROQAHVXXUQBOS-UHFFFAOYSA-N    0.788889   \n",
       "2             NaN        NaN  IROQAHVXXUQBOS-UHFFFAOYSA-N    0.814815   \n",
       "3             NaN        NaN  IROQAHVXXUQBOS-UHFFFAOYSA-N    0.788889   \n",
       "4             NaN        NaN  IROQAHVXXUQBOS-UHFFFAOYSA-N    0.791667   \n",
       "\n",
       "                                  group                             group_str  \n",
       "0  ('Aromatic PFASs', 'gte7', nan, nan)  ('Aromatic PFASs', 'gte7', nan, nan)  \n",
       "1  ('Aromatic PFASs', 'gte7', nan, nan)  ('Aromatic PFASs', 'gte7', nan, nan)  \n",
       "2  ('Aromatic PFASs', 'gte7', nan, nan)  ('Aromatic PFASs', 'gte7', nan, nan)  \n",
       "3  ('Aromatic PFASs', 'gte7', nan, nan)  ('Aromatic PFASs', 'gte7', nan, nan)  \n",
       "4  ('Aromatic PFASs', 'gte7', nan, nan)  ('Aromatic PFASs', 'gte7', nan, nan)  \n",
       "\n",
       "[5 rows x 194 columns]"
      ]
     },
     "execution_count": 6,
     "metadata": {},
     "output_type": "execute_result"
    }
   ],
   "source": [
    "df.head()"
   ]
  },
  {
   "cell_type": "code",
   "execution_count": 7,
   "id": "8a7249d6-425e-413e-a4b2-0a48d4ad6926",
   "metadata": {},
   "outputs": [
    {
     "data": {
      "text/plain": [
       "Index(['dtxsid', 'DSSTox_QC-Level', 'Substance_Name', 'Substance_CASRN',\n",
       "       'Substance_Type', 'Substance_Note', 'smiles', 'Structure_InChI',\n",
       "       'Structure_InChIKey', 'Structure_Formula',\n",
       "       ...\n",
       "       'level3_cluster_centroid', 'lvl_cluster_d', 'lvl3_centroid',\n",
       "       'lvl3_centroid2', 'lvl3_analogues', 'lvl3_Dist', 'final_centroid',\n",
       "       'final_dist', 'group', 'group_str'],\n",
       "      dtype='object', length=194)"
      ]
     },
     "execution_count": 7,
     "metadata": {},
     "output_type": "execute_result"
    }
   ],
   "source": [
    "df.columns"
   ]
  },
  {
   "cell_type": "code",
   "execution_count": 8,
   "id": "ac29c979-16d8-45c4-9165-88047c53f5a2",
   "metadata": {},
   "outputs": [
    {
     "data": {
      "text/plain": [
       "128"
      ]
     },
     "execution_count": 8,
     "metadata": {},
     "output_type": "execute_result"
    }
   ],
   "source": [
    "df.final_centroid.nunique()"
   ]
  },
  {
   "cell_type": "code",
   "execution_count": 9,
   "id": "f8989022-f8b2-4b95-85b9-f31daad52045",
   "metadata": {},
   "outputs": [
    {
     "data": {
      "text/plain": [
       "['IROQAHVXXUQBOS-UHFFFAOYSA-N',\n",
       " 'DTXSID80382098',\n",
       " 'DTXSID50895206',\n",
       " 'DTXSID60448262',\n",
       " 'SMKKJMHYQXYWND-UHFFFAOYSA-N']"
      ]
     },
     "execution_count": 9,
     "metadata": {},
     "output_type": "execute_result"
    }
   ],
   "source": [
    "df.final_centroid.unique().tolist()[0:5]"
   ]
  },
  {
   "cell_type": "code",
   "execution_count": 10,
   "id": "9e2e76a6-beef-4c78-ac4d-a2dedcf30efa",
   "metadata": {},
   "outputs": [],
   "source": [
    "#df['group'] = df[['category','subcategory', 'cluster_d',  'lvl_cluster_d']].apply(tuple, axis = 1)\n",
    "#df['group_str']=[str(e) for e in df['group'] ]"
   ]
  },
  {
   "cell_type": "code",
   "execution_count": 11,
   "id": "b36ba0ea-70a8-4b02-ab49-e4b4d0ddfd66",
   "metadata": {},
   "outputs": [],
   "source": [
    "#df[df['final_centroid'] == 'DTXSID6071908']['group_str']"
   ]
  },
  {
   "cell_type": "code",
   "execution_count": 12,
   "id": "825f6a31-6fe4-45b6-b33e-d1c10d7ff620",
   "metadata": {},
   "outputs": [],
   "source": [
    "cats = df['group_str'].unique().tolist()"
   ]
  },
  {
   "cell_type": "code",
   "execution_count": 13,
   "id": "8131938d-0f9c-445a-81a3-e058611ef737",
   "metadata": {},
   "outputs": [],
   "source": [
    "def content_max(df,  k = None):\n",
    "    content = {}\n",
    "    tdf = df[df['group_str'] == k]\n",
    "    content['t_dict'] = {k:Chem.MolFromSmiles(v) for k,v in zip(tdf['dtxsid'], tdf['smiles'])}\n",
    "    content['fp_dict'] = [AllChem.GetMorganFingerprintAsBitVect(i, 3, 1024) for i in content['t_dict'].values()]\n",
    "    content['nfp_dict'] = len(content['fp_dict'])\n",
    "    content['t_index'] = {k:v for k,v in enumerate(content['t_dict'].keys())} \n",
    "    content['k'] = k\n",
    "    \n",
    "    return content"
   ]
  },
  {
   "cell_type": "code",
   "execution_count": 14,
   "id": "e436bf38-0c5a-4226-a8de-81587719e8fc",
   "metadata": {},
   "outputs": [],
   "source": [
    "lte_summaries = []\n",
    "for k in cats:\n",
    "    try:\n",
    "        lte_summaries.append(content_max(df, k))\n",
    "    except Exception as error:\n",
    "        print(k)"
   ]
  },
  {
   "cell_type": "code",
   "execution_count": 15,
   "id": "23648838-9a39-466e-977f-18a9db88f017",
   "metadata": {},
   "outputs": [
    {
     "data": {
      "text/plain": [
       "dict_keys(['t_dict', 'fp_dict', 'nfp_dict', 't_index', 'k'])"
      ]
     },
     "execution_count": 15,
     "metadata": {},
     "output_type": "execute_result"
    }
   ],
   "source": [
    "lte_summaries[0].keys()"
   ]
  },
  {
   "cell_type": "code",
   "execution_count": 16,
   "id": "c1a8679d-f034-485c-b3ba-3ad0efb1980a",
   "metadata": {},
   "outputs": [],
   "source": [
    "from rdkit.SimDivFilters import MaxMinPicker"
   ]
  },
  {
   "cell_type": "code",
   "execution_count": 17,
   "id": "971f9972-1283-4972-8d03-534ece54379f",
   "metadata": {},
   "outputs": [],
   "source": [
    "def picker_func(fps, n1, start_with  = 1, n2 = 3, label = None, fps_index = None):\n",
    "    picker_dict = {}\n",
    "    mmp = MaxMinPicker()\n",
    "    picker_dict['label'] = label\n",
    "    picker_dict['indices'] = mmp.LazyBitVectorPick(fps,n1, start_with+n2, [0])\n",
    "    picker_dict['diverse_chems'] = [fps_index[x] for x in picker_dict['indices']]\n",
    "    return picker_dict"
   ]
  },
  {
   "cell_type": "code",
   "execution_count": 18,
   "id": "77f0ee00-16f6-4085-9f55-849e3c45530d",
   "metadata": {},
   "outputs": [],
   "source": [
    "picker_lst = []\n",
    "for i in range(len(lte_summaries)):\n",
    "    if lte_summaries[i]['nfp_dict'] > 5:\n",
    "        picker_lst.append(picker_func(lte_summaries[i]['fp_dict'], n1 =lte_summaries[i]['nfp_dict'], n2 = 3, label = lte_summaries[i]['k'], fps_index = lte_summaries[i]['t_index']  ))\n"
   ]
  },
  {
   "cell_type": "code",
   "execution_count": 19,
   "id": "a96a0f64-20dc-4e5f-932a-6a67f746bc30",
   "metadata": {},
   "outputs": [],
   "source": [
    "mylst2 = []\n",
    "for i in range(len(picker_lst)):\n",
    "    mylst2.append(picker_lst[i]['diverse_chems'])\n"
   ]
  },
  {
   "cell_type": "code",
   "execution_count": 20,
   "id": "739d9f27-c4c6-40b3-ba58-278967ba45c8",
   "metadata": {},
   "outputs": [],
   "source": [
    "mylst2 = [e for a in mylst2 for e in a]"
   ]
  },
  {
   "cell_type": "code",
   "execution_count": 21,
   "id": "3c30187d-7625-4785-a406-91955f31f566",
   "metadata": {},
   "outputs": [
    {
     "data": {
      "text/plain": [
       "484"
      ]
     },
     "execution_count": 21,
     "metadata": {},
     "output_type": "execute_result"
    }
   ],
   "source": [
    "len(mylst2)"
   ]
  },
  {
   "cell_type": "code",
   "execution_count": 22,
   "id": "27791c04-f43f-4c97-aec1-f2183cdc2558",
   "metadata": {},
   "outputs": [
    {
     "data": {
      "text/plain": [
       "{'label': \"('Aromatic PFASs', 'gte7', nan, nan)\",\n",
       " 'indices': <rdkit.rdBase._vecti at 0x767a6ad35570>,\n",
       " 'diverse_chems': ['IROQAHVXXUQBOS-UHFFFAOYSA-N',\n",
       "  'DTXSID701026741',\n",
       "  'DTXSID30290775',\n",
       "  'DTXSID301041127']}"
      ]
     },
     "execution_count": 22,
     "metadata": {},
     "output_type": "execute_result"
    }
   ],
   "source": [
    "picker_lst[0]"
   ]
  },
  {
   "cell_type": "code",
   "execution_count": 23,
   "id": "4c179ae3-a64a-4eec-a35c-ff9d1ea03409",
   "metadata": {},
   "outputs": [],
   "source": [
    "#picker_lst"
   ]
  },
  {
   "cell_type": "markdown",
   "id": "72f6544f-f476-4a01-8c01-215036b23f82",
   "metadata": {},
   "source": [
    "Which categories had a MaxMin approach applied?"
   ]
  },
  {
   "cell_type": "code",
   "execution_count": 24,
   "id": "1d68ec59-394f-4cfe-8254-b863a9f4e3b0",
   "metadata": {},
   "outputs": [],
   "source": [
    "pick_cats = [picker_lst[i]['label'] for i in range(len(picker_lst))]"
   ]
  },
  {
   "cell_type": "code",
   "execution_count": 25,
   "id": "6d24a5ca-3199-4e74-922b-d09fd8fc2c08",
   "metadata": {},
   "outputs": [
    {
     "data": {
      "text/plain": [
       "121"
      ]
     },
     "execution_count": 25,
     "metadata": {},
     "output_type": "execute_result"
    }
   ],
   "source": [
    "len(pick_cats)"
   ]
  },
  {
   "cell_type": "markdown",
   "id": "2ae0945b-0c23-418e-bf51-af93bb06b331",
   "metadata": {},
   "source": [
    "Which did not and how large were they?"
   ]
  },
  {
   "cell_type": "code",
   "execution_count": 26,
   "id": "d884a9f1-13b8-4eb4-b457-32d1ee114030",
   "metadata": {},
   "outputs": [
    {
     "data": {
      "text/plain": [
       "[\"('Other PFASs, cyclic', 'gte7', 1.0, nan)\",\n",
       " \"('Other PFASs, cyclic', 'gte7', 2.0, nan)\",\n",
       " \"('Other PFASs, cyclic', 'gte7', 3.0, nan)\",\n",
       " \"('PFAAs, cyclic', 'gte7', nan, nan)\",\n",
       " \"('PFAAs, cyclic', 'lt7', 3.0, 1.0)\",\n",
       " \"('unclassified', 'lt7', 2.0, 1.0)\",\n",
       " \"('unclassified', 'lt7', 2.0, 2.0)\"]"
      ]
     },
     "execution_count": 26,
     "metadata": {},
     "output_type": "execute_result"
    }
   ],
   "source": [
    "[e for e in cats if e not in pick_cats]"
   ]
  },
  {
   "cell_type": "code",
   "execution_count": 27,
   "id": "949ce994-5688-4a22-8166-7ba926f223b5",
   "metadata": {},
   "outputs": [],
   "source": [
    "cat_dict = {k:len(v) for k,v in df.groupby('group_str')}"
   ]
  },
  {
   "cell_type": "code",
   "execution_count": 28,
   "id": "17d22181-b3c8-4bc8-be79-f458b6b2ed3d",
   "metadata": {},
   "outputs": [
    {
     "data": {
      "text/plain": [
       "{\"('Other PFASs, cyclic', 'gte7', 1.0, nan)\": 2,\n",
       " \"('Other PFASs, cyclic', 'gte7', 2.0, nan)\": 4,\n",
       " \"('Other PFASs, cyclic', 'gte7', 3.0, nan)\": 2,\n",
       " \"('PFAAs, cyclic', 'gte7', nan, nan)\": 1,\n",
       " \"('PFAAs, cyclic', 'lt7', 3.0, 1.0)\": 4,\n",
       " \"('unclassified', 'lt7', 2.0, 1.0)\": 5,\n",
       " \"('unclassified', 'lt7', 2.0, 2.0)\": 2}"
      ]
     },
     "execution_count": 28,
     "metadata": {},
     "output_type": "execute_result"
    }
   ],
   "source": [
    "{e:cat_dict[e] for e in cat_dict.keys() if e in [e for e in cats if e not in pick_cats]}"
   ]
  },
  {
   "cell_type": "code",
   "execution_count": 29,
   "id": "e9f1b27f-1164-4faf-b774-8ead1fe5c86b",
   "metadata": {},
   "outputs": [],
   "source": [
    "df['MaxMin_picks'] = df['dtxsid'].apply(lambda x: 1 if x in mylst2 else 0)"
   ]
  },
  {
   "cell_type": "code",
   "execution_count": 30,
   "id": "e9cf13d5-4ea4-423b-8324-740e815259fb",
   "metadata": {},
   "outputs": [
    {
     "data": {
      "text/plain": [
       "0    15041\n",
       "1      484\n",
       "Name: MaxMin_picks, dtype: int64"
      ]
     },
     "execution_count": 30,
     "metadata": {},
     "output_type": "execute_result"
    }
   ],
   "source": [
    "df.MaxMin_picks.value_counts()"
   ]
  },
  {
   "cell_type": "code",
   "execution_count": 31,
   "id": "27758895-303d-4eb1-84a0-144c6cfbb110",
   "metadata": {},
   "outputs": [
    {
     "data": {
      "text/html": [
       "<div>\n",
       "<style scoped>\n",
       "    .dataframe tbody tr th:only-of-type {\n",
       "        vertical-align: middle;\n",
       "    }\n",
       "\n",
       "    .dataframe tbody tr th {\n",
       "        vertical-align: top;\n",
       "    }\n",
       "\n",
       "    .dataframe thead th {\n",
       "        text-align: right;\n",
       "    }\n",
       "</style>\n",
       "<table border=\"1\" class=\"dataframe\">\n",
       "  <thead>\n",
       "    <tr style=\"text-align: right;\">\n",
       "      <th></th>\n",
       "      <th>MaxMin_picks</th>\n",
       "    </tr>\n",
       "    <tr>\n",
       "      <th>group_str</th>\n",
       "      <th></th>\n",
       "    </tr>\n",
       "  </thead>\n",
       "  <tbody>\n",
       "    <tr>\n",
       "      <th>('Aromatic PFASs', 'gte7', nan, nan)</th>\n",
       "      <td>4</td>\n",
       "    </tr>\n",
       "    <tr>\n",
       "      <th>('Aromatic PFASs', 'lt7', 1.0, nan)</th>\n",
       "      <td>4</td>\n",
       "    </tr>\n",
       "    <tr>\n",
       "      <th>('Aromatic PFASs', 'lt7', 2.0, 1.0)</th>\n",
       "      <td>4</td>\n",
       "    </tr>\n",
       "    <tr>\n",
       "      <th>('Aromatic PFASs', 'lt7', 2.0, 2.0)</th>\n",
       "      <td>4</td>\n",
       "    </tr>\n",
       "    <tr>\n",
       "      <th>('Aromatic PFASs', 'lt7', 2.0, 3.0)</th>\n",
       "      <td>4</td>\n",
       "    </tr>\n",
       "    <tr>\n",
       "      <th>...</th>\n",
       "      <td>...</td>\n",
       "    </tr>\n",
       "    <tr>\n",
       "      <th>('unclassified', 'lt7', 2.0, 3.0)</th>\n",
       "      <td>4</td>\n",
       "    </tr>\n",
       "    <tr>\n",
       "      <th>('unclassified', 'lt7', 3.0, 1.0)</th>\n",
       "      <td>4</td>\n",
       "    </tr>\n",
       "    <tr>\n",
       "      <th>('unclassified', 'lt7', 3.0, 2.0)</th>\n",
       "      <td>4</td>\n",
       "    </tr>\n",
       "    <tr>\n",
       "      <th>('unclassified', 'lt7', 3.0, 3.0)</th>\n",
       "      <td>4</td>\n",
       "    </tr>\n",
       "    <tr>\n",
       "      <th>('unclassified', 'lt7', nan, nan)</th>\n",
       "      <td>4</td>\n",
       "    </tr>\n",
       "  </tbody>\n",
       "</table>\n",
       "<p>128 rows × 1 columns</p>\n",
       "</div>"
      ],
      "text/plain": [
       "                                      MaxMin_picks\n",
       "group_str                                         \n",
       "('Aromatic PFASs', 'gte7', nan, nan)             4\n",
       "('Aromatic PFASs', 'lt7', 1.0, nan)              4\n",
       "('Aromatic PFASs', 'lt7', 2.0, 1.0)              4\n",
       "('Aromatic PFASs', 'lt7', 2.0, 2.0)              4\n",
       "('Aromatic PFASs', 'lt7', 2.0, 3.0)              4\n",
       "...                                            ...\n",
       "('unclassified', 'lt7', 2.0, 3.0)                4\n",
       "('unclassified', 'lt7', 3.0, 1.0)                4\n",
       "('unclassified', 'lt7', 3.0, 2.0)                4\n",
       "('unclassified', 'lt7', 3.0, 3.0)                4\n",
       "('unclassified', 'lt7', nan, nan)                4\n",
       "\n",
       "[128 rows x 1 columns]"
      ]
     },
     "execution_count": 31,
     "metadata": {},
     "output_type": "execute_result"
    }
   ],
   "source": [
    "df.groupby('group_str').agg({'MaxMin_picks' : 'sum'})"
   ]
  },
  {
   "cell_type": "code",
   "execution_count": 32,
   "id": "811551fa-0f4a-4d6d-b855-fe87a5d771d2",
   "metadata": {},
   "outputs": [],
   "source": [
    "writer = pd.ExcelWriter(interim_dir+'final_universe_wMaxMin_100524.xlsx', engine='xlsxwriter')\n",
    "\n",
    "# Convert the dataframe to an XlsxWriter Excel object.\n",
    "\n",
    "df.to_excel(writer)\n",
    "\n",
    "\n",
    "writer.save()"
   ]
  },
  {
   "cell_type": "code",
   "execution_count": 33,
   "id": "d98c1f1c-bb00-41aa-a003-00c602323942",
   "metadata": {},
   "outputs": [
    {
     "data": {
      "text/plain": [
       "0    15041\n",
       "1      484\n",
       "Name: MaxMin_picks, dtype: int64"
      ]
     },
     "execution_count": 33,
     "metadata": {},
     "output_type": "execute_result"
    }
   ],
   "source": [
    "df.MaxMin_picks.value_counts()"
   ]
  },
  {
   "cell_type": "code",
   "execution_count": null,
   "id": "b87043a4-4f8e-454e-bb9f-5022fc3148e2",
   "metadata": {},
   "outputs": [],
   "source": []
  }
 ],
 "metadata": {
  "kernelspec": {
   "display_name": "pfas_dap",
   "language": "python",
   "name": "pfas_dap"
  },
  "language_info": {
   "codemirror_mode": {
    "name": "ipython",
    "version": 3
   },
   "file_extension": ".py",
   "mimetype": "text/x-python",
   "name": "python",
   "nbconvert_exporter": "python",
   "pygments_lexer": "ipython3",
   "version": "3.8.6"
  },
  "widgets": {
   "application/vnd.jupyter.widget-state+json": {
    "state": {},
    "version_major": 2,
    "version_minor": 0
   }
  }
 },
 "nbformat": 4,
 "nbformat_minor": 5
}
