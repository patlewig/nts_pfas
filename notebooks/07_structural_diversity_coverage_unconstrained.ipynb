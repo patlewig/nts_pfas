{
 "cells": [
  {
   "cell_type": "markdown",
   "id": "da7baa8e-75ea-441a-88c4-7f355875fd6c",
   "metadata": {},
   "source": [
    "#### Considering additional chemicals beyond the centroids "
   ]
  },
  {
   "cell_type": "markdown",
   "id": "e1fcf173-ffea-40e6-b84f-ecbe81ee8d3a",
   "metadata": {},
   "source": [
    "#### Reworking to consider whether there is a sweet spot for the number of additional substances"
   ]
  },
  {
   "cell_type": "markdown",
   "id": "3b534c6e-98fa-4375-8b89-6402c9eb77ee",
   "metadata": {},
   "source": [
    "Created by: Grace Patlewicz<br>\n",
    "Last modified: 06 November 2023<br>\n",
    "Change: Additional background"
   ]
  },
  {
   "cell_type": "markdown",
   "id": "e0943e55-86fc-400c-b52b-75d2804277ea",
   "metadata": {},
   "source": [
    "In response to the question of whether there is a defined number of candidates to select which will cover a specific structural diversity. This notebook tries some exploratory work to uncover a means of using the MaxMin approach to derive a ranked list of diverse chemicals on a per terminal category basis from which a plot of number of diverse picks vs structural coverage % captured could be constructed."
   ]
  },
  {
   "cell_type": "code",
   "execution_count": 1,
   "id": "1efe9a46-1496-4dd6-90df-ef6c36defa22",
   "metadata": {},
   "outputs": [],
   "source": [
    "import numpy as np\n",
    "import pandas as pd\n",
    "import matplotlib.pyplot as plt\n",
    "import seaborn as sns\n",
    "%matplotlib inline\n",
    "import openpyxl\n",
    "from rdkit.Chem.Draw import IPythonConsole, MolsToGridImage\n",
    "\n",
    "#Show mols in dataframes\n",
    "from rdkit.Chem import PandasTools\n",
    "from rdkit import Chem\n",
    "from rdkit.Chem.Draw import MolsToGridImage\n",
    "from IPython.core.display import HTML\n",
    "from rdkit.Chem import Descriptors\n",
    "from rdkit.ML.Descriptors import MoleculeDescriptors\n",
    "from rdkit.Chem import PandasTools\n",
    "from rdkit.Chem import AllChem\n",
    "from rdkit.Chem import rdDepictor\n",
    "from rdkit.Chem.Fingerprints import FingerprintMols\n",
    "from rdkit import DataStructs\n",
    "import os\n",
    "from scipy.spatial.distance import pdist, squareform\n",
    "import sys"
   ]
  },
  {
   "cell_type": "code",
   "execution_count": 2,
   "id": "b72f6f76-fbda-4771-b92f-23ea2fab6db9",
   "metadata": {},
   "outputs": [],
   "source": [
    "TOP = os.getcwd().replace('notebooks', '')\n",
    "raw_dir = TOP + 'data/raw/'\n",
    "interim_dir = TOP + 'data/interim/'\n",
    "external_dir = TOP + 'data/external/'\n",
    "figures_dir = TOP + 'reports/figures/'"
   ]
  },
  {
   "cell_type": "code",
   "execution_count": 3,
   "id": "5a421fc6-0794-44e3-9697-4fa47d956122",
   "metadata": {},
   "outputs": [],
   "source": [
    "LIB = TOP+'src/models/'\n",
    "if not LIB in sys.path: \n",
    "    sys.path.insert(0,LIB)"
   ]
  },
  {
   "cell_type": "code",
   "execution_count": 4,
   "id": "de212a2f-08d1-46dc-a8bd-528987eb21b7",
   "metadata": {},
   "outputs": [],
   "source": [
    "from model_functions import *"
   ]
  },
  {
   "cell_type": "code",
   "execution_count": 5,
   "id": "fc3f029a-1cbb-4b16-b38a-6ee03b5a81ba",
   "metadata": {},
   "outputs": [],
   "source": [
    "df = pd.read_excel(interim_dir+'final_universe_wMaxMin_061123.xlsx',  index_col = [0])"
   ]
  },
  {
   "cell_type": "code",
   "execution_count": 6,
   "id": "ef8c4ae9-4d39-4c1a-a51c-7d62955bb970",
   "metadata": {},
   "outputs": [
    {
     "data": {
      "text/html": [
       "<div>\n",
       "<style scoped>\n",
       "    .dataframe tbody tr th:only-of-type {\n",
       "        vertical-align: middle;\n",
       "    }\n",
       "\n",
       "    .dataframe tbody tr th {\n",
       "        vertical-align: top;\n",
       "    }\n",
       "\n",
       "    .dataframe thead th {\n",
       "        text-align: right;\n",
       "    }\n",
       "</style>\n",
       "<table border=\"1\" class=\"dataframe\">\n",
       "  <thead>\n",
       "    <tr style=\"text-align: right;\">\n",
       "      <th></th>\n",
       "      <th>dtxsid</th>\n",
       "      <th>DSSTox_QC-Level</th>\n",
       "      <th>Substance_Name</th>\n",
       "      <th>Substance_CASRN</th>\n",
       "      <th>Substance_Type</th>\n",
       "      <th>smiles</th>\n",
       "      <th>Structure_InChI</th>\n",
       "      <th>Structure_InChIKey</th>\n",
       "      <th>Structure_Formula</th>\n",
       "      <th>Structure_MolWt</th>\n",
       "      <th>...</th>\n",
       "      <th>lvl_cluster_d</th>\n",
       "      <th>lvl3_centroid</th>\n",
       "      <th>lvl3_centroid2</th>\n",
       "      <th>lvl3_analogues</th>\n",
       "      <th>lvl3_Dist</th>\n",
       "      <th>final_centroid</th>\n",
       "      <th>final_dist</th>\n",
       "      <th>group</th>\n",
       "      <th>group_str</th>\n",
       "      <th>MaxMin_picks</th>\n",
       "    </tr>\n",
       "  </thead>\n",
       "  <tbody>\n",
       "    <tr>\n",
       "      <th>0</th>\n",
       "      <td>DTXSID6071908</td>\n",
       "      <td>DSSTox_High</td>\n",
       "      <td>N-Ethyl-N-((pentadecafluoroheptyl)sulphonyl)gl...</td>\n",
       "      <td>68957-63-1</td>\n",
       "      <td>Single Compound</td>\n",
       "      <td>CCN(CC(O)=O)S(=O)(=O)C(F)(F)C(F)(F)C(F)(F)C(F)...</td>\n",
       "      <td>InChI=1S/C11H8F15NO4S/c1-2-27(3-4(28)29)32(30,...</td>\n",
       "      <td>IOQHTIQMCISFKB-UHFFFAOYSA-N</td>\n",
       "      <td>C11H8F15NO4S</td>\n",
       "      <td>535.22</td>\n",
       "      <td>...</td>\n",
       "      <td>NaN</td>\n",
       "      <td>NaN</td>\n",
       "      <td>NaN</td>\n",
       "      <td>NaN</td>\n",
       "      <td>NaN</td>\n",
       "      <td>DTXSID6071908</td>\n",
       "      <td>0.000000</td>\n",
       "      <td>('FASA based PFAA precursors', 'gte7', nan, nan)</td>\n",
       "      <td>('FASA based PFAA precursors', 'gte7', nan, nan)</td>\n",
       "      <td>1</td>\n",
       "    </tr>\n",
       "    <tr>\n",
       "      <th>1</th>\n",
       "      <td>DTXSID8071358</td>\n",
       "      <td>DSSTox_High</td>\n",
       "      <td>N-Methyl-perfluoro-1-heptanesulfonamide</td>\n",
       "      <td>68259-14-3</td>\n",
       "      <td>Single Compound</td>\n",
       "      <td>CNS(=O)(=O)C(F)(F)C(F)(F)C(F)(F)C(F)(F)C(F)(F)...</td>\n",
       "      <td>InChI=1S/C8H4F15NO2S/c1-24-27(25,26)8(22,23)6(...</td>\n",
       "      <td>KDHCALLFPWZTPN-UHFFFAOYSA-N</td>\n",
       "      <td>C8H4F15NO2S</td>\n",
       "      <td>463.16</td>\n",
       "      <td>...</td>\n",
       "      <td>NaN</td>\n",
       "      <td>NaN</td>\n",
       "      <td>NaN</td>\n",
       "      <td>NaN</td>\n",
       "      <td>NaN</td>\n",
       "      <td>DTXSID6071908</td>\n",
       "      <td>0.640000</td>\n",
       "      <td>('FASA based PFAA precursors', 'gte7', nan, nan)</td>\n",
       "      <td>('FASA based PFAA precursors', 'gte7', nan, nan)</td>\n",
       "      <td>0</td>\n",
       "    </tr>\n",
       "    <tr>\n",
       "      <th>2</th>\n",
       "      <td>DTXSID1071907</td>\n",
       "      <td>DSSTox_High</td>\n",
       "      <td>N-Ethylpentadecafluoro-1-heptanesulfonamide</td>\n",
       "      <td>68957-62-0</td>\n",
       "      <td>Single Compound</td>\n",
       "      <td>CCNS(=O)(=O)C(F)(F)C(F)(F)C(F)(F)C(F)(F)C(F)(F...</td>\n",
       "      <td>InChI=1S/C9H6F15NO2S/c1-2-25-28(26,27)9(23,24)...</td>\n",
       "      <td>WMOMXEHEPXLIAV-UHFFFAOYSA-N</td>\n",
       "      <td>C9H6F15NO2S</td>\n",
       "      <td>477.19</td>\n",
       "      <td>...</td>\n",
       "      <td>NaN</td>\n",
       "      <td>NaN</td>\n",
       "      <td>NaN</td>\n",
       "      <td>NaN</td>\n",
       "      <td>NaN</td>\n",
       "      <td>DTXSID6071908</td>\n",
       "      <td>0.615385</td>\n",
       "      <td>('FASA based PFAA precursors', 'gte7', nan, nan)</td>\n",
       "      <td>('FASA based PFAA precursors', 'gte7', nan, nan)</td>\n",
       "      <td>0</td>\n",
       "    </tr>\n",
       "    <tr>\n",
       "      <th>3</th>\n",
       "      <td>DTXSID001026645</td>\n",
       "      <td>DSSTox_Low</td>\n",
       "      <td>1,1,2,2,3,3,4,4,5,5,6,6,7,7,7-Pentadecafluoro-...</td>\n",
       "      <td>167398-54-1</td>\n",
       "      <td>Single Compound</td>\n",
       "      <td>OCCNS(=O)(=O)C(F)(F)C(F)(F)C(F)(F)C(F)(F)C(F)(...</td>\n",
       "      <td>InChI=1S/C9H6F15NO3S/c10-3(11,4(12,13)6(16,17)...</td>\n",
       "      <td>LJJUSVBJKZXMCP-UHFFFAOYSA-N</td>\n",
       "      <td>C9H6F15NO3S</td>\n",
       "      <td>493.19</td>\n",
       "      <td>...</td>\n",
       "      <td>NaN</td>\n",
       "      <td>NaN</td>\n",
       "      <td>NaN</td>\n",
       "      <td>NaN</td>\n",
       "      <td>NaN</td>\n",
       "      <td>DTXSID6071908</td>\n",
       "      <td>0.660714</td>\n",
       "      <td>('FASA based PFAA precursors', 'gte7', nan, nan)</td>\n",
       "      <td>('FASA based PFAA precursors', 'gte7', nan, nan)</td>\n",
       "      <td>0</td>\n",
       "    </tr>\n",
       "    <tr>\n",
       "      <th>4</th>\n",
       "      <td>DTXSID301026644</td>\n",
       "      <td>DSSTox_Low</td>\n",
       "      <td>(Perfluoroheptyl)(sulfonylamino)acetic acid</td>\n",
       "      <td>1003194-00-0</td>\n",
       "      <td>Single Compound</td>\n",
       "      <td>OC(=O)CNS(=O)(=O)C(F)(F)C(F)(F)C(F)(F)C(F)(F)C...</td>\n",
       "      <td>InChI=1S/C9H4F15NO4S/c10-3(11,4(12,13)6(16,17)...</td>\n",
       "      <td>LAAXCIZXZCKWFF-UHFFFAOYSA-N</td>\n",
       "      <td>C9H4F15NO4S</td>\n",
       "      <td>507.17</td>\n",
       "      <td>...</td>\n",
       "      <td>NaN</td>\n",
       "      <td>NaN</td>\n",
       "      <td>NaN</td>\n",
       "      <td>NaN</td>\n",
       "      <td>NaN</td>\n",
       "      <td>DTXSID6071908</td>\n",
       "      <td>0.592593</td>\n",
       "      <td>('FASA based PFAA precursors', 'gte7', nan, nan)</td>\n",
       "      <td>('FASA based PFAA precursors', 'gte7', nan, nan)</td>\n",
       "      <td>0</td>\n",
       "    </tr>\n",
       "  </tbody>\n",
       "</table>\n",
       "<p>5 rows × 75 columns</p>\n",
       "</div>"
      ],
      "text/plain": [
       "            dtxsid DSSTox_QC-Level  \\\n",
       "0    DTXSID6071908     DSSTox_High   \n",
       "1    DTXSID8071358     DSSTox_High   \n",
       "2    DTXSID1071907     DSSTox_High   \n",
       "3  DTXSID001026645      DSSTox_Low   \n",
       "4  DTXSID301026644      DSSTox_Low   \n",
       "\n",
       "                                      Substance_Name Substance_CASRN  \\\n",
       "0  N-Ethyl-N-((pentadecafluoroheptyl)sulphonyl)gl...      68957-63-1   \n",
       "1            N-Methyl-perfluoro-1-heptanesulfonamide      68259-14-3   \n",
       "2        N-Ethylpentadecafluoro-1-heptanesulfonamide      68957-62-0   \n",
       "3  1,1,2,2,3,3,4,4,5,5,6,6,7,7,7-Pentadecafluoro-...     167398-54-1   \n",
       "4        (Perfluoroheptyl)(sulfonylamino)acetic acid    1003194-00-0   \n",
       "\n",
       "    Substance_Type                                             smiles  \\\n",
       "0  Single Compound  CCN(CC(O)=O)S(=O)(=O)C(F)(F)C(F)(F)C(F)(F)C(F)...   \n",
       "1  Single Compound  CNS(=O)(=O)C(F)(F)C(F)(F)C(F)(F)C(F)(F)C(F)(F)...   \n",
       "2  Single Compound  CCNS(=O)(=O)C(F)(F)C(F)(F)C(F)(F)C(F)(F)C(F)(F...   \n",
       "3  Single Compound  OCCNS(=O)(=O)C(F)(F)C(F)(F)C(F)(F)C(F)(F)C(F)(...   \n",
       "4  Single Compound  OC(=O)CNS(=O)(=O)C(F)(F)C(F)(F)C(F)(F)C(F)(F)C...   \n",
       "\n",
       "                                     Structure_InChI  \\\n",
       "0  InChI=1S/C11H8F15NO4S/c1-2-27(3-4(28)29)32(30,...   \n",
       "1  InChI=1S/C8H4F15NO2S/c1-24-27(25,26)8(22,23)6(...   \n",
       "2  InChI=1S/C9H6F15NO2S/c1-2-25-28(26,27)9(23,24)...   \n",
       "3  InChI=1S/C9H6F15NO3S/c10-3(11,4(12,13)6(16,17)...   \n",
       "4  InChI=1S/C9H4F15NO4S/c10-3(11,4(12,13)6(16,17)...   \n",
       "\n",
       "            Structure_InChIKey Structure_Formula  Structure_MolWt  ...  \\\n",
       "0  IOQHTIQMCISFKB-UHFFFAOYSA-N      C11H8F15NO4S           535.22  ...   \n",
       "1  KDHCALLFPWZTPN-UHFFFAOYSA-N       C8H4F15NO2S           463.16  ...   \n",
       "2  WMOMXEHEPXLIAV-UHFFFAOYSA-N       C9H6F15NO2S           477.19  ...   \n",
       "3  LJJUSVBJKZXMCP-UHFFFAOYSA-N       C9H6F15NO3S           493.19  ...   \n",
       "4  LAAXCIZXZCKWFF-UHFFFAOYSA-N       C9H4F15NO4S           507.17  ...   \n",
       "\n",
       "  lvl_cluster_d lvl3_centroid lvl3_centroid2  lvl3_analogues lvl3_Dist  \\\n",
       "0           NaN           NaN            NaN             NaN       NaN   \n",
       "1           NaN           NaN            NaN             NaN       NaN   \n",
       "2           NaN           NaN            NaN             NaN       NaN   \n",
       "3           NaN           NaN            NaN             NaN       NaN   \n",
       "4           NaN           NaN            NaN             NaN       NaN   \n",
       "\n",
       "   final_centroid  final_dist  \\\n",
       "0   DTXSID6071908    0.000000   \n",
       "1   DTXSID6071908    0.640000   \n",
       "2   DTXSID6071908    0.615385   \n",
       "3   DTXSID6071908    0.660714   \n",
       "4   DTXSID6071908    0.592593   \n",
       "\n",
       "                                              group  \\\n",
       "0  ('FASA based PFAA precursors', 'gte7', nan, nan)   \n",
       "1  ('FASA based PFAA precursors', 'gte7', nan, nan)   \n",
       "2  ('FASA based PFAA precursors', 'gte7', nan, nan)   \n",
       "3  ('FASA based PFAA precursors', 'gte7', nan, nan)   \n",
       "4  ('FASA based PFAA precursors', 'gte7', nan, nan)   \n",
       "\n",
       "                                          group_str  MaxMin_picks  \n",
       "0  ('FASA based PFAA precursors', 'gte7', nan, nan)             1  \n",
       "1  ('FASA based PFAA precursors', 'gte7', nan, nan)             0  \n",
       "2  ('FASA based PFAA precursors', 'gte7', nan, nan)             0  \n",
       "3  ('FASA based PFAA precursors', 'gte7', nan, nan)             0  \n",
       "4  ('FASA based PFAA precursors', 'gte7', nan, nan)             0  \n",
       "\n",
       "[5 rows x 75 columns]"
      ]
     },
     "execution_count": 6,
     "metadata": {},
     "output_type": "execute_result"
    }
   ],
   "source": [
    "df.head()"
   ]
  },
  {
   "cell_type": "code",
   "execution_count": 7,
   "id": "8a7249d6-425e-413e-a4b2-0a48d4ad6926",
   "metadata": {},
   "outputs": [
    {
     "data": {
      "text/plain": [
       "Index(['dtxsid', 'DSSTox_QC-Level', 'Substance_Name', 'Substance_CASRN',\n",
       "       'Substance_Type', 'smiles', 'Structure_InChI', 'Structure_InChIKey',\n",
       "       'Structure_Formula', 'Structure_MolWt', 'Structure_SMILES_2D-QSAR',\n",
       "       'Canonical_QSARr', 'TSCA_STATUS', 'chain_length', 'category',\n",
       "       'MolWeight', 'LogP_pred', 'LogP_predRange', 'AD_LogP', 'AD_index_LogP',\n",
       "       'Conf_index_LogP', 'MP_pred', 'MP_predRange', 'AD_MP', 'AD_index_MP',\n",
       "       'Conf_index_MP', 'BP_pred', 'BP_predRange', 'AD_BP', 'AD_index_BP',\n",
       "       'Conf_index_BP', 'LogVP_pred', 'VP_predRange', 'AD_VP', 'AD_index_VP',\n",
       "       'Conf_index_VP', 'LogWS_pred', 'WS_predRange', 'AD_WS', 'AD_index_WS',\n",
       "       'Conf_index_WS', 'LogHL_pred', 'HL_predRange', 'AD_HL', 'AD_index_HL',\n",
       "       'Conf_index_HL', 'ID', 'tsca_match', 'subcategory', 'cluster',\n",
       "       'cluster_centroid', 'centroid_x', 'centroid2', 'centroid_y',\n",
       "       'analogues', 'Dist', 'level2_cluster_centroid', 'cluster_d',\n",
       "       'lvl2_centroid', 'lvl2_centroid2', 'lvl2_analogues', 'lvl2_Dist',\n",
       "       'prelim_final_centroid', 'prelim_final_dist', 'level3_cluster_centroid',\n",
       "       'lvl_cluster_d', 'lvl3_centroid', 'lvl3_centroid2', 'lvl3_analogues',\n",
       "       'lvl3_Dist', 'final_centroid', 'final_dist', 'group', 'group_str',\n",
       "       'MaxMin_picks'],\n",
       "      dtype='object')"
      ]
     },
     "execution_count": 7,
     "metadata": {},
     "output_type": "execute_result"
    }
   ],
   "source": [
    "df.columns"
   ]
  },
  {
   "cell_type": "code",
   "execution_count": 8,
   "id": "ac29c979-16d8-45c4-9165-88047c53f5a2",
   "metadata": {},
   "outputs": [
    {
     "data": {
      "text/plain": [
       "90"
      ]
     },
     "execution_count": 8,
     "metadata": {},
     "output_type": "execute_result"
    }
   ],
   "source": [
    "df.final_centroid.nunique()"
   ]
  },
  {
   "cell_type": "code",
   "execution_count": 9,
   "id": "825f6a31-6fe4-45b6-b33e-d1c10d7ff620",
   "metadata": {},
   "outputs": [],
   "source": [
    "cats = df['group_str'].unique().tolist()"
   ]
  },
  {
   "cell_type": "code",
   "execution_count": 10,
   "id": "8131938d-0f9c-445a-81a3-e058611ef737",
   "metadata": {},
   "outputs": [],
   "source": [
    "def content_max(df,  k = None):\n",
    "    content = {}\n",
    "    tdf = df[df['group_str'] == k]\n",
    "    content['t_dict'] = {k:Chem.MolFromSmiles(v) for k,v in zip(tdf['dtxsid'], tdf['smiles'])}\n",
    "    content['fp_dict'] = [AllChem.GetMorganFingerprintAsBitVect(i, 3, 1024) for i in content['t_dict'].values()]\n",
    "    content['nfp_dict'] = len(content['fp_dict'])\n",
    "    content['t_index'] = {k:v for k,v in enumerate(content['t_dict'].keys())} \n",
    "    content['dm'] = pd.DataFrame(squareform(pdist(pd.DataFrame(np.array(content['fp_dict']), index = content['t_dict'].keys()), 'jaccard')), index = content['t_dict'].keys(), columns = content['t_dict'].keys())\n",
    "    content['k'] = k\n",
    "    \n",
    "    return content"
   ]
  },
  {
   "cell_type": "code",
   "execution_count": 11,
   "id": "e436bf38-0c5a-4226-a8de-81587719e8fc",
   "metadata": {},
   "outputs": [
    {
     "name": "stderr",
     "output_type": "stream",
     "text": [
      "[14:43:34] WARNING: not removing hydrogen atom without neighbors\n"
     ]
    }
   ],
   "source": [
    "lte_summaries = []\n",
    "for k in cats:\n",
    "    try:\n",
    "        lte_summaries.append(content_max(df, k))\n",
    "    except Exception as error:\n",
    "        print(k)"
   ]
  },
  {
   "cell_type": "code",
   "execution_count": 12,
   "id": "c1a8679d-f034-485c-b3ba-3ad0efb1980a",
   "metadata": {},
   "outputs": [],
   "source": [
    "from rdkit.SimDivFilters import MaxMinPicker"
   ]
  },
  {
   "cell_type": "code",
   "execution_count": 13,
   "id": "971f9972-1283-4972-8d03-534ece54379f",
   "metadata": {},
   "outputs": [],
   "source": [
    "def picker_func(fps, n1, start_with  = 1, n2 = 3, label = None, fps_index = None):\n",
    "    picker_dict = {}\n",
    "    mmp = MaxMinPicker()\n",
    "    picker_dict['label'] = label\n",
    "    picker_dict['indices'] = mmp.LazyBitVectorPick(fps,n1, start_with+n2, [0])\n",
    "    picker_dict['diverse_chems'] = [fps_index[x] for x in picker_dict['indices']]\n",
    "    return picker_dict"
   ]
  },
  {
   "cell_type": "code",
   "execution_count": 14,
   "id": "77f0ee00-16f6-4085-9f55-849e3c45530d",
   "metadata": {},
   "outputs": [],
   "source": [
    "picker_lst = []\n",
    "for i in range(len(lte_summaries)):\n",
    "    if lte_summaries[i]['nfp_dict'] > 5:\n",
    "        picker_lst.append(picker_func(lte_summaries[i]['fp_dict'], n1 =lte_summaries[i]['nfp_dict'], n2 = lte_summaries[i]['nfp_dict']-1, label = lte_summaries[i]['k'], fps_index = lte_summaries[i]['t_index'],))\n"
   ]
  },
  {
   "cell_type": "code",
   "execution_count": 18,
   "id": "41d923e4-ca53-49fa-b5bd-50a9c2f2a7f5",
   "metadata": {},
   "outputs": [],
   "source": [
    "def representive(df, lst):\n",
    "    temps = []\n",
    "    for n in range(1,len(lst)):\n",
    "        a = lst[:n]\n",
    "        b = np.mean(np.min(df.loc[a], axis = 0))\n",
    "        temps.append([n,b])\n",
    "    new_df = pd.concat([pd.DataFrame(temps), np.cumsum(pd.DataFrame(temps)[1])], axis = 1)\n",
    "    new_df.columns = ['#', 'min', 'cummin']\n",
    "    new_df['norm_min'] = new_df['cummin']/np.sum(new_df['min'])\n",
    "    return new_df"
   ]
  },
  {
   "cell_type": "code",
   "execution_count": 19,
   "id": "9fd9f186-8539-40b3-b5d8-54da166d7907",
   "metadata": {},
   "outputs": [],
   "source": [
    "index_pick = {k: picker_lst[k]['label'] for k in range(len(picker_lst))}\n",
    "rev_index_picks = {v:k for k,v in index_pick.items()}"
   ]
  },
  {
   "cell_type": "code",
   "execution_count": 20,
   "id": "aeec6b86-d51d-4af8-83b6-baf4d6f31440",
   "metadata": {},
   "outputs": [],
   "source": [
    "def summary_exp(i = 0):\n",
    "    summary = {}\n",
    "    k = lte_summaries[i]['k']\n",
    "    x = rev_index_picks[k]\n",
    "    summary['label'] = lte_summaries[i]['k']\n",
    "    summary['representative'] = representive(lte_summaries[i]['dm'],picker_lst[x]['diverse_chems'])\n",
    "    summary['chk'] = summary['label'], x\n",
    "    return summary"
   ]
  },
  {
   "cell_type": "code",
   "execution_count": 21,
   "id": "017d0b47-6ef8-4c09-8ccf-d8e633a56f7a",
   "metadata": {},
   "outputs": [
    {
     "data": {
      "text/html": [
       "<div>\n",
       "<style scoped>\n",
       "    .dataframe tbody tr th:only-of-type {\n",
       "        vertical-align: middle;\n",
       "    }\n",
       "\n",
       "    .dataframe tbody tr th {\n",
       "        vertical-align: top;\n",
       "    }\n",
       "\n",
       "    .dataframe thead th {\n",
       "        text-align: right;\n",
       "    }\n",
       "</style>\n",
       "<table border=\"1\" class=\"dataframe\">\n",
       "  <thead>\n",
       "    <tr style=\"text-align: right;\">\n",
       "      <th></th>\n",
       "      <th>#</th>\n",
       "      <th>min</th>\n",
       "      <th>cummin</th>\n",
       "      <th>norm_min</th>\n",
       "    </tr>\n",
       "  </thead>\n",
       "  <tbody>\n",
       "    <tr>\n",
       "      <th>0</th>\n",
       "      <td>1</td>\n",
       "      <td>0.478014</td>\n",
       "      <td>0.478014</td>\n",
       "      <td>0.110565</td>\n",
       "    </tr>\n",
       "    <tr>\n",
       "      <th>1</th>\n",
       "      <td>2</td>\n",
       "      <td>0.408458</td>\n",
       "      <td>0.886473</td>\n",
       "      <td>0.205042</td>\n",
       "    </tr>\n",
       "    <tr>\n",
       "      <th>2</th>\n",
       "      <td>3</td>\n",
       "      <td>0.381714</td>\n",
       "      <td>1.268187</td>\n",
       "      <td>0.293333</td>\n",
       "    </tr>\n",
       "    <tr>\n",
       "      <th>3</th>\n",
       "      <td>4</td>\n",
       "      <td>0.342090</td>\n",
       "      <td>1.610277</td>\n",
       "      <td>0.372459</td>\n",
       "    </tr>\n",
       "    <tr>\n",
       "      <th>4</th>\n",
       "      <td>5</td>\n",
       "      <td>0.331226</td>\n",
       "      <td>1.941503</td>\n",
       "      <td>0.449072</td>\n",
       "    </tr>\n",
       "    <tr>\n",
       "      <th>...</th>\n",
       "      <td>...</td>\n",
       "      <td>...</td>\n",
       "      <td>...</td>\n",
       "      <td>...</td>\n",
       "    </tr>\n",
       "    <tr>\n",
       "      <th>100</th>\n",
       "      <td>101</td>\n",
       "      <td>0.000000</td>\n",
       "      <td>4.323369</td>\n",
       "      <td>1.000000</td>\n",
       "    </tr>\n",
       "    <tr>\n",
       "      <th>101</th>\n",
       "      <td>102</td>\n",
       "      <td>0.000000</td>\n",
       "      <td>4.323369</td>\n",
       "      <td>1.000000</td>\n",
       "    </tr>\n",
       "    <tr>\n",
       "      <th>102</th>\n",
       "      <td>103</td>\n",
       "      <td>0.000000</td>\n",
       "      <td>4.323369</td>\n",
       "      <td>1.000000</td>\n",
       "    </tr>\n",
       "    <tr>\n",
       "      <th>103</th>\n",
       "      <td>104</td>\n",
       "      <td>0.000000</td>\n",
       "      <td>4.323369</td>\n",
       "      <td>1.000000</td>\n",
       "    </tr>\n",
       "    <tr>\n",
       "      <th>104</th>\n",
       "      <td>105</td>\n",
       "      <td>0.000000</td>\n",
       "      <td>4.323369</td>\n",
       "      <td>1.000000</td>\n",
       "    </tr>\n",
       "  </tbody>\n",
       "</table>\n",
       "<p>105 rows × 4 columns</p>\n",
       "</div>"
      ],
      "text/plain": [
       "       #       min    cummin  norm_min\n",
       "0      1  0.478014  0.478014  0.110565\n",
       "1      2  0.408458  0.886473  0.205042\n",
       "2      3  0.381714  1.268187  0.293333\n",
       "3      4  0.342090  1.610277  0.372459\n",
       "4      5  0.331226  1.941503  0.449072\n",
       "..   ...       ...       ...       ...\n",
       "100  101  0.000000  4.323369  1.000000\n",
       "101  102  0.000000  4.323369  1.000000\n",
       "102  103  0.000000  4.323369  1.000000\n",
       "103  104  0.000000  4.323369  1.000000\n",
       "104  105  0.000000  4.323369  1.000000\n",
       "\n",
       "[105 rows x 4 columns]"
      ]
     },
     "execution_count": 21,
     "metadata": {},
     "output_type": "execute_result"
    }
   ],
   "source": [
    "representive(lte_summaries[0]['dm'], picker_lst[0]['diverse_chems'])"
   ]
  },
  {
   "cell_type": "code",
   "execution_count": 22,
   "id": "593eda4e-4686-45b6-a6fc-f8f6619ab569",
   "metadata": {},
   "outputs": [
    {
     "name": "stdout",
     "output_type": "stream",
     "text": [
      "36\n",
      "37\n",
      "74\n",
      "77\n"
     ]
    }
   ],
   "source": [
    "check_lst = []\n",
    "for e in range(len(lte_summaries)):\n",
    "    try:\n",
    "        a = summary_exp(i=e)\n",
    "    except Exception as error:\n",
    "        print(e)\n",
    "    finally:\n",
    "        check_lst.append(a)"
   ]
  },
  {
   "cell_type": "code",
   "execution_count": 23,
   "id": "f19be6fa-ae46-476e-8c81-65c02ed9ac4e",
   "metadata": {},
   "outputs": [],
   "source": [
    "def how_many(df, threshold = 0.8):\n",
    "    return df.loc[np.where(df['norm_min'] >threshold)[0][0], '#']"
   ]
  },
  {
   "cell_type": "code",
   "execution_count": 24,
   "id": "80ea9146-83f7-4034-90b5-0adf763ab679",
   "metadata": {},
   "outputs": [],
   "source": [
    "def threshold_3(df, threshold = 3):\n",
    "    return df.loc[np.where(df['#'] == threshold)[0][0], 'norm_min']"
   ]
  },
  {
   "cell_type": "code",
   "execution_count": 25,
   "id": "4d26dc1c-32aa-4249-aae9-14858ebd9caf",
   "metadata": {},
   "outputs": [],
   "source": [
    "number_chems = {}\n",
    "for e in range(len(check_lst)):\n",
    "    a = how_many(check_lst[e]['representative'], threshold = 0.8)\n",
    "    b = check_lst[e]['label']\n",
    "    c = np.round(threshold_3(check_lst[e]['representative'], threshold = 3)*100,2)\n",
    "    d = check_lst[e]['representative'].shape[0]+1\n",
    "    number_chems[b] =[a,c,d]"
   ]
  },
  {
   "cell_type": "code",
   "execution_count": 26,
   "id": "6e3147f1-eb28-46a6-a2a3-bc4b371a1e1b",
   "metadata": {},
   "outputs": [],
   "source": [
    "df2 = pd.concat([pd.DataFrame(list(number_chems.items())), pd.DataFrame(list(number_chems.items()))[1].apply(pd.Series)], axis=1)\n",
    "df2.columns = ['terminal_category', 'temp', 'ideal#', '%diversity', 'category_size']\n",
    "df2.drop(['temp'], axis = 1, inplace =True)"
   ]
  },
  {
   "cell_type": "code",
   "execution_count": 27,
   "id": "bfae47fb-284e-4fb9-a4e8-a7eb01c66322",
   "metadata": {},
   "outputs": [],
   "source": [
    "df2.sort_values('%diversity', ascending = False).to_csv(interim_dir+'category_diversity_unconstrained_061123.csv')"
   ]
  },
  {
   "cell_type": "code",
   "execution_count": 33,
   "id": "7f6cae93-4bb0-4ba2-8ea2-62b459f4d768",
   "metadata": {},
   "outputs": [
    {
     "data": {
      "text/html": [
       "<div>\n",
       "<style scoped>\n",
       "    .dataframe tbody tr th:only-of-type {\n",
       "        vertical-align: middle;\n",
       "    }\n",
       "\n",
       "    .dataframe tbody tr th {\n",
       "        vertical-align: top;\n",
       "    }\n",
       "\n",
       "    .dataframe thead th {\n",
       "        text-align: right;\n",
       "    }\n",
       "</style>\n",
       "<table border=\"1\" class=\"dataframe\">\n",
       "  <thead>\n",
       "    <tr style=\"text-align: right;\">\n",
       "      <th></th>\n",
       "      <th>terminal_category</th>\n",
       "      <th>ideal#</th>\n",
       "      <th>%diversity</th>\n",
       "      <th>category_size</th>\n",
       "    </tr>\n",
       "  </thead>\n",
       "  <tbody>\n",
       "    <tr>\n",
       "      <th>75</th>\n",
       "      <td>('unclassified', 'gte7', 3.0, 3.0)</td>\n",
       "      <td>1.0</td>\n",
       "      <td>100.00</td>\n",
       "      <td>9.0</td>\n",
       "    </tr>\n",
       "    <tr>\n",
       "      <th>35</th>\n",
       "      <td>('PFAA precursors', 'lt7', 1.0, 1.0)</td>\n",
       "      <td>3.0</td>\n",
       "      <td>85.29</td>\n",
       "      <td>7.0</td>\n",
       "    </tr>\n",
       "    <tr>\n",
       "      <th>38</th>\n",
       "      <td>('PFAA precursors', 'lt7', 3.0, 2.0)</td>\n",
       "      <td>3.0</td>\n",
       "      <td>84.41</td>\n",
       "      <td>12.0</td>\n",
       "    </tr>\n",
       "    <tr>\n",
       "      <th>50</th>\n",
       "      <td>('PFAS derivatives', 'lt7', 4.0, 1.0)</td>\n",
       "      <td>3.0</td>\n",
       "      <td>84.32</td>\n",
       "      <td>6.0</td>\n",
       "    </tr>\n",
       "    <tr>\n",
       "      <th>76</th>\n",
       "      <td>('unclassified', 'gte7', 3.0, 4.0)</td>\n",
       "      <td>4.0</td>\n",
       "      <td>75.47</td>\n",
       "      <td>13.0</td>\n",
       "    </tr>\n",
       "    <tr>\n",
       "      <th>...</th>\n",
       "      <td>...</td>\n",
       "      <td>...</td>\n",
       "      <td>...</td>\n",
       "      <td>...</td>\n",
       "    </tr>\n",
       "    <tr>\n",
       "      <th>29</th>\n",
       "      <td>('Other aliphatics', 'lt7', 2.0, 4.0)</td>\n",
       "      <td>214.0</td>\n",
       "      <td>1.88</td>\n",
       "      <td>481.0</td>\n",
       "    </tr>\n",
       "    <tr>\n",
       "      <th>31</th>\n",
       "      <td>('Other aliphatics', 'lt7', 3.0, 2.0)</td>\n",
       "      <td>308.0</td>\n",
       "      <td>1.43</td>\n",
       "      <td>779.0</td>\n",
       "    </tr>\n",
       "    <tr>\n",
       "      <th>64</th>\n",
       "      <td>('Side-chain aromatics', 'lt7', 3.0, 2.0)</td>\n",
       "      <td>390.0</td>\n",
       "      <td>1.01</td>\n",
       "      <td>890.0</td>\n",
       "    </tr>\n",
       "    <tr>\n",
       "      <th>65</th>\n",
       "      <td>('Side-chain aromatics', 'lt7', 3.0, 3.0)</td>\n",
       "      <td>766.0</td>\n",
       "      <td>0.57</td>\n",
       "      <td>1758.0</td>\n",
       "    </tr>\n",
       "    <tr>\n",
       "      <th>33</th>\n",
       "      <td>('Other aliphatics', 'lt7', 3.0, 4.0)</td>\n",
       "      <td>1149.0</td>\n",
       "      <td>0.38</td>\n",
       "      <td>2733.0</td>\n",
       "    </tr>\n",
       "  </tbody>\n",
       "</table>\n",
       "<p>86 rows × 4 columns</p>\n",
       "</div>"
      ],
      "text/plain": [
       "                            terminal_category  ideal#  %diversity  \\\n",
       "75         ('unclassified', 'gte7', 3.0, 3.0)     1.0      100.00   \n",
       "35       ('PFAA precursors', 'lt7', 1.0, 1.0)     3.0       85.29   \n",
       "38       ('PFAA precursors', 'lt7', 3.0, 2.0)     3.0       84.41   \n",
       "50      ('PFAS derivatives', 'lt7', 4.0, 1.0)     3.0       84.32   \n",
       "76         ('unclassified', 'gte7', 3.0, 4.0)     4.0       75.47   \n",
       "..                                        ...     ...         ...   \n",
       "29      ('Other aliphatics', 'lt7', 2.0, 4.0)   214.0        1.88   \n",
       "31      ('Other aliphatics', 'lt7', 3.0, 2.0)   308.0        1.43   \n",
       "64  ('Side-chain aromatics', 'lt7', 3.0, 2.0)   390.0        1.01   \n",
       "65  ('Side-chain aromatics', 'lt7', 3.0, 3.0)   766.0        0.57   \n",
       "33      ('Other aliphatics', 'lt7', 3.0, 4.0)  1149.0        0.38   \n",
       "\n",
       "    category_size  \n",
       "75            9.0  \n",
       "35            7.0  \n",
       "38           12.0  \n",
       "50            6.0  \n",
       "76           13.0  \n",
       "..            ...  \n",
       "29          481.0  \n",
       "31          779.0  \n",
       "64          890.0  \n",
       "65         1758.0  \n",
       "33         2733.0  \n",
       "\n",
       "[86 rows x 4 columns]"
      ]
     },
     "execution_count": 33,
     "metadata": {},
     "output_type": "execute_result"
    }
   ],
   "source": [
    "df2.sort_values('%diversity', ascending = False)"
   ]
  },
  {
   "cell_type": "code",
   "execution_count": 48,
   "id": "8ccd0745-3244-4eb8-863c-1e5242b15750",
   "metadata": {},
   "outputs": [
    {
     "data": {
      "text/html": [
       "<div>\n",
       "<style scoped>\n",
       "    .dataframe tbody tr th:only-of-type {\n",
       "        vertical-align: middle;\n",
       "    }\n",
       "\n",
       "    .dataframe tbody tr th {\n",
       "        vertical-align: top;\n",
       "    }\n",
       "\n",
       "    .dataframe thead th {\n",
       "        text-align: right;\n",
       "    }\n",
       "</style>\n",
       "<table border=\"1\" class=\"dataframe\">\n",
       "  <thead>\n",
       "    <tr style=\"text-align: right;\">\n",
       "      <th></th>\n",
       "      <th>terminal_category</th>\n",
       "      <th>ideal#</th>\n",
       "      <th>%diversity</th>\n",
       "      <th>category_size</th>\n",
       "    </tr>\n",
       "  </thead>\n",
       "  <tbody>\n",
       "    <tr>\n",
       "      <th>75</th>\n",
       "      <td>('unclassified', 'gte7', 3.0, 3.0)</td>\n",
       "      <td>1.0</td>\n",
       "      <td>100.00</td>\n",
       "      <td>9.0</td>\n",
       "    </tr>\n",
       "    <tr>\n",
       "      <th>35</th>\n",
       "      <td>('PFAA precursors', 'lt7', 1.0, 1.0)</td>\n",
       "      <td>3.0</td>\n",
       "      <td>85.29</td>\n",
       "      <td>7.0</td>\n",
       "    </tr>\n",
       "    <tr>\n",
       "      <th>38</th>\n",
       "      <td>('PFAA precursors', 'lt7', 3.0, 2.0)</td>\n",
       "      <td>3.0</td>\n",
       "      <td>84.41</td>\n",
       "      <td>12.0</td>\n",
       "    </tr>\n",
       "    <tr>\n",
       "      <th>50</th>\n",
       "      <td>('PFAS derivatives', 'lt7', 4.0, 1.0)</td>\n",
       "      <td>3.0</td>\n",
       "      <td>84.32</td>\n",
       "      <td>6.0</td>\n",
       "    </tr>\n",
       "    <tr>\n",
       "      <th>76</th>\n",
       "      <td>('unclassified', 'gte7', 3.0, 4.0)</td>\n",
       "      <td>4.0</td>\n",
       "      <td>75.47</td>\n",
       "      <td>13.0</td>\n",
       "    </tr>\n",
       "    <tr>\n",
       "      <th>47</th>\n",
       "      <td>('PFAS derivatives', 'lt7', 2.0, 2.0)</td>\n",
       "      <td>4.0</td>\n",
       "      <td>68.31</td>\n",
       "      <td>8.0</td>\n",
       "    </tr>\n",
       "    <tr>\n",
       "      <th>34</th>\n",
       "      <td>('PFAA precursors', 'gte7', nan, nan)</td>\n",
       "      <td>5.0</td>\n",
       "      <td>66.84</td>\n",
       "      <td>57.0</td>\n",
       "    </tr>\n",
       "    <tr>\n",
       "      <th>7</th>\n",
       "      <td>('Fluorotelomer PFAA precursors', 'lt7', 3.0, ...</td>\n",
       "      <td>4.0</td>\n",
       "      <td>66.69</td>\n",
       "      <td>24.0</td>\n",
       "    </tr>\n",
       "    <tr>\n",
       "      <th>5</th>\n",
       "      <td>('Fluorotelomer PFAA precursors', 'lt7', 2.0, ...</td>\n",
       "      <td>5.0</td>\n",
       "      <td>63.55</td>\n",
       "      <td>19.0</td>\n",
       "    </tr>\n",
       "    <tr>\n",
       "      <th>8</th>\n",
       "      <td>('Fluorotelomer PFAA precursors', 'lt7', 3.0, ...</td>\n",
       "      <td>6.0</td>\n",
       "      <td>58.96</td>\n",
       "      <td>19.0</td>\n",
       "    </tr>\n",
       "    <tr>\n",
       "      <th>37</th>\n",
       "      <td>('PFAA precursors', 'lt7', 3.0, 1.0)</td>\n",
       "      <td>6.0</td>\n",
       "      <td>54.08</td>\n",
       "      <td>18.0</td>\n",
       "    </tr>\n",
       "    <tr>\n",
       "      <th>52</th>\n",
       "      <td>('PFAS derivatives', 'lt7', 4.0, 3.0)</td>\n",
       "      <td>6.0</td>\n",
       "      <td>50.09</td>\n",
       "      <td>12.0</td>\n",
       "    </tr>\n",
       "  </tbody>\n",
       "</table>\n",
       "</div>"
      ],
      "text/plain": [
       "                                    terminal_category  ideal#  %diversity  \\\n",
       "75                 ('unclassified', 'gte7', 3.0, 3.0)     1.0      100.00   \n",
       "35               ('PFAA precursors', 'lt7', 1.0, 1.0)     3.0       85.29   \n",
       "38               ('PFAA precursors', 'lt7', 3.0, 2.0)     3.0       84.41   \n",
       "50              ('PFAS derivatives', 'lt7', 4.0, 1.0)     3.0       84.32   \n",
       "76                 ('unclassified', 'gte7', 3.0, 4.0)     4.0       75.47   \n",
       "47              ('PFAS derivatives', 'lt7', 2.0, 2.0)     4.0       68.31   \n",
       "34              ('PFAA precursors', 'gte7', nan, nan)     5.0       66.84   \n",
       "7   ('Fluorotelomer PFAA precursors', 'lt7', 3.0, ...     4.0       66.69   \n",
       "5   ('Fluorotelomer PFAA precursors', 'lt7', 2.0, ...     5.0       63.55   \n",
       "8   ('Fluorotelomer PFAA precursors', 'lt7', 3.0, ...     6.0       58.96   \n",
       "37               ('PFAA precursors', 'lt7', 3.0, 1.0)     6.0       54.08   \n",
       "52              ('PFAS derivatives', 'lt7', 4.0, 3.0)     6.0       50.09   \n",
       "\n",
       "    category_size  \n",
       "75            9.0  \n",
       "35            7.0  \n",
       "38           12.0  \n",
       "50            6.0  \n",
       "76           13.0  \n",
       "47            8.0  \n",
       "34           57.0  \n",
       "7            24.0  \n",
       "5            19.0  \n",
       "8            19.0  \n",
       "37           18.0  \n",
       "52           12.0  "
      ]
     },
     "execution_count": 48,
     "metadata": {},
     "output_type": "execute_result"
    }
   ],
   "source": [
    "df2[df2['%diversity']>=50].sort_values('%diversity', ascending = False)"
   ]
  },
  {
   "cell_type": "code",
   "execution_count": 28,
   "id": "d755a50f-a219-4126-be9a-5ab811f465ee",
   "metadata": {},
   "outputs": [
    {
     "data": {
      "text/html": [
       "<div>\n",
       "<style scoped>\n",
       "    .dataframe tbody tr th:only-of-type {\n",
       "        vertical-align: middle;\n",
       "    }\n",
       "\n",
       "    .dataframe tbody tr th {\n",
       "        vertical-align: top;\n",
       "    }\n",
       "\n",
       "    .dataframe thead th {\n",
       "        text-align: right;\n",
       "    }\n",
       "</style>\n",
       "<table border=\"1\" class=\"dataframe\">\n",
       "  <thead>\n",
       "    <tr style=\"text-align: right;\">\n",
       "      <th></th>\n",
       "      <th>ideal#</th>\n",
       "      <th>%diversity</th>\n",
       "      <th>category_size</th>\n",
       "    </tr>\n",
       "  </thead>\n",
       "  <tbody>\n",
       "    <tr>\n",
       "      <th>count</th>\n",
       "      <td>86.000000</td>\n",
       "      <td>86.000000</td>\n",
       "      <td>86.000000</td>\n",
       "    </tr>\n",
       "    <tr>\n",
       "      <th>mean</th>\n",
       "      <td>66.069767</td>\n",
       "      <td>25.228023</td>\n",
       "      <td>179.046512</td>\n",
       "    </tr>\n",
       "    <tr>\n",
       "      <th>std</th>\n",
       "      <td>156.267929</td>\n",
       "      <td>22.963802</td>\n",
       "      <td>376.309913</td>\n",
       "    </tr>\n",
       "    <tr>\n",
       "      <th>min</th>\n",
       "      <td>1.000000</td>\n",
       "      <td>0.380000</td>\n",
       "      <td>6.000000</td>\n",
       "    </tr>\n",
       "    <tr>\n",
       "      <th>25%</th>\n",
       "      <td>10.000000</td>\n",
       "      <td>8.277500</td>\n",
       "      <td>29.250000</td>\n",
       "    </tr>\n",
       "    <tr>\n",
       "      <th>50%</th>\n",
       "      <td>21.000000</td>\n",
       "      <td>18.405000</td>\n",
       "      <td>73.000000</td>\n",
       "    </tr>\n",
       "    <tr>\n",
       "      <th>75%</th>\n",
       "      <td>46.500000</td>\n",
       "      <td>35.300000</td>\n",
       "      <td>136.750000</td>\n",
       "    </tr>\n",
       "    <tr>\n",
       "      <th>max</th>\n",
       "      <td>1149.000000</td>\n",
       "      <td>100.000000</td>\n",
       "      <td>2733.000000</td>\n",
       "    </tr>\n",
       "  </tbody>\n",
       "</table>\n",
       "</div>"
      ],
      "text/plain": [
       "            ideal#  %diversity  category_size\n",
       "count    86.000000   86.000000      86.000000\n",
       "mean     66.069767   25.228023     179.046512\n",
       "std     156.267929   22.963802     376.309913\n",
       "min       1.000000    0.380000       6.000000\n",
       "25%      10.000000    8.277500      29.250000\n",
       "50%      21.000000   18.405000      73.000000\n",
       "75%      46.500000   35.300000     136.750000\n",
       "max    1149.000000  100.000000    2733.000000"
      ]
     },
     "execution_count": 28,
     "metadata": {},
     "output_type": "execute_result"
    }
   ],
   "source": [
    "df2.describe()"
   ]
  },
  {
   "cell_type": "code",
   "execution_count": 29,
   "id": "884fb217-7936-43fc-a476-c8ec49559d8f",
   "metadata": {},
   "outputs": [
    {
     "data": {
      "text/plain": [
       "{'label': \"('FASA based PFAA precursors', 'gte7', nan, nan)\",\n",
       " 'representative':        #       min    cummin  norm_min\n",
       " 0      1  0.478014  0.478014  0.110565\n",
       " 1      2  0.408458  0.886473  0.205042\n",
       " 2      3  0.381714  1.268187  0.293333\n",
       " 3      4  0.342090  1.610277  0.372459\n",
       " 4      5  0.331226  1.941503  0.449072\n",
       " ..   ...       ...       ...       ...\n",
       " 100  101  0.000000  4.323369  1.000000\n",
       " 101  102  0.000000  4.323369  1.000000\n",
       " 102  103  0.000000  4.323369  1.000000\n",
       " 103  104  0.000000  4.323369  1.000000\n",
       " 104  105  0.000000  4.323369  1.000000\n",
       " \n",
       " [105 rows x 4 columns],\n",
       " 'chk': (\"('FASA based PFAA precursors', 'gte7', nan, nan)\", 0)}"
      ]
     },
     "execution_count": 29,
     "metadata": {},
     "output_type": "execute_result"
    }
   ],
   "source": [
    "check_lst[0]"
   ]
  },
  {
   "cell_type": "code",
   "execution_count": 30,
   "id": "6f94ff13-cde1-4638-a32d-5ef2e7dd2c15",
   "metadata": {},
   "outputs": [],
   "source": [
    "def plot_rep(df, label = None):\n",
    "    fig, ax = plt.subplots(figsize = (10,9))\n",
    "    ax.set_xlabel('Number of chemicals')\n",
    "    ax.set_ylabel('Cumulative minimum distance')\n",
    "    ax.plot(df['#'],  df['norm_min'], linestyle = 'none', marker = '.', label = label)\n",
    "    ax.legend(bbox_to_anchor=(1, 1))\n",
    "    return fig, ax"
   ]
  },
  {
   "cell_type": "code",
   "execution_count": 31,
   "id": "5d8791d3-5ace-4e18-a89f-4f2da7d12f95",
   "metadata": {},
   "outputs": [
    {
     "data": {
      "text/plain": [
       "(<Figure size 1000x900 with 1 Axes>,\n",
       " <Axes: xlabel='Number of chemicals', ylabel='Cumulative minimum distance'>)"
      ]
     },
     "execution_count": 31,
     "metadata": {},
     "output_type": "execute_result"
    },
    {
     "data": {
      "image/png": "[encoded data removed]",
      "text/plain": [
       "<Figure size 1000x900 with 1 Axes>"
      ]
     },
     "metadata": {},
     "output_type": "display_data"
    }
   ],
   "source": [
    "plot_rep(check_lst[0]['representative'], label = check_lst[0]['label'])"
   ]
  },
  {
   "cell_type": "code",
   "execution_count": 32,
   "id": "a0b87982-77ac-48a7-8408-5602eda3cc4b",
   "metadata": {},
   "outputs": [
    {
     "data": {
      "image/png": "[encoded data removed]",
      "text/plain": [
       "<Figure size 1000x900 with 1 Axes>"
      ]
     },
     "metadata": {},
     "output_type": "display_data"
    }
   ],
   "source": [
    "fig, ax = plt.subplots(figsize = (10,9))\n",
    "for i in range(len(check_lst))[0:30:3]:\n",
    "    ax.set_ylabel('Cumulative minimum distance')\n",
    "    ax.set_xlabel('Number of chemicals')\n",
    "    #ax.set_title('ECDFs of within Category-Subcategory combinations')\n",
    "    ax.plot(check_lst[i]['representative']['#'],check_lst[i]['representative']['norm_min'], marker = '.', linestyle = 'none', label = check_lst[i]['label'])\n",
    "    ax.legend(bbox_to_anchor=(1, 1))\n",
    "    #ax.annotate(\" \", xy = (0.65,0.8), xytext = (0.5, 0.8), arrowprops = dict(arrowstyle = '->', lw = 2, color = 'black'))\n",
    "fig.savefig(figures_dir+'Figure1_structural_diversity_061123.png', dpi = 300, bbox_inches='tight')"
   ]
  },
  {
   "cell_type": "code",
   "execution_count": 35,
   "id": "a148962f-f4ca-4f47-b636-13acb9fed942",
   "metadata": {},
   "outputs": [],
   "source": [
    "number_chems2 = []\n",
    "\n",
    "\n",
    "for e in range(len(check_lst)):\n",
    "    for i in np.arange(0.1,1,0.1):\n",
    "        a = how_many(check_lst[e]['representative'], threshold = i)\n",
    "        #print(a)\n",
    "        b = check_lst[e]['label']\n",
    "        number_chems2.append([a,b,i])"
   ]
  },
  {
   "cell_type": "code",
   "execution_count": 36,
   "id": "c9a98222-aad8-4a87-be0a-1aaeaceab9cd",
   "metadata": {},
   "outputs": [
    {
     "data": {
      "text/html": [
       "<div>\n",
       "<style scoped>\n",
       "    .dataframe tbody tr th:only-of-type {\n",
       "        vertical-align: middle;\n",
       "    }\n",
       "\n",
       "    .dataframe tbody tr th {\n",
       "        vertical-align: top;\n",
       "    }\n",
       "\n",
       "    .dataframe thead th {\n",
       "        text-align: right;\n",
       "    }\n",
       "</style>\n",
       "<table border=\"1\" class=\"dataframe\">\n",
       "  <thead>\n",
       "    <tr style=\"text-align: right;\">\n",
       "      <th></th>\n",
       "      <th>#ideal</th>\n",
       "      <th>terminal_category</th>\n",
       "      <th>threshold</th>\n",
       "    </tr>\n",
       "  </thead>\n",
       "  <tbody>\n",
       "    <tr>\n",
       "      <th>0</th>\n",
       "      <td>1</td>\n",
       "      <td>('FASA based PFAA precursors', 'gte7', nan, nan)</td>\n",
       "      <td>0.1</td>\n",
       "    </tr>\n",
       "    <tr>\n",
       "      <th>1</th>\n",
       "      <td>2</td>\n",
       "      <td>('FASA based PFAA precursors', 'gte7', nan, nan)</td>\n",
       "      <td>0.2</td>\n",
       "    </tr>\n",
       "    <tr>\n",
       "      <th>2</th>\n",
       "      <td>4</td>\n",
       "      <td>('FASA based PFAA precursors', 'gte7', nan, nan)</td>\n",
       "      <td>0.3</td>\n",
       "    </tr>\n",
       "    <tr>\n",
       "      <th>3</th>\n",
       "      <td>5</td>\n",
       "      <td>('FASA based PFAA precursors', 'gte7', nan, nan)</td>\n",
       "      <td>0.4</td>\n",
       "    </tr>\n",
       "    <tr>\n",
       "      <th>4</th>\n",
       "      <td>6</td>\n",
       "      <td>('FASA based PFAA precursors', 'gte7', nan, nan)</td>\n",
       "      <td>0.5</td>\n",
       "    </tr>\n",
       "    <tr>\n",
       "      <th>...</th>\n",
       "      <td>...</td>\n",
       "      <td>...</td>\n",
       "      <td>...</td>\n",
       "    </tr>\n",
       "    <tr>\n",
       "      <th>805</th>\n",
       "      <td>22</td>\n",
       "      <td>('unclassified', 'lt7', 3.0, 4.0)</td>\n",
       "      <td>0.5</td>\n",
       "    </tr>\n",
       "    <tr>\n",
       "      <th>806</th>\n",
       "      <td>27</td>\n",
       "      <td>('unclassified', 'lt7', 3.0, 4.0)</td>\n",
       "      <td>0.6</td>\n",
       "    </tr>\n",
       "    <tr>\n",
       "      <th>807</th>\n",
       "      <td>34</td>\n",
       "      <td>('unclassified', 'lt7', 3.0, 4.0)</td>\n",
       "      <td>0.7</td>\n",
       "    </tr>\n",
       "    <tr>\n",
       "      <th>808</th>\n",
       "      <td>42</td>\n",
       "      <td>('unclassified', 'lt7', 3.0, 4.0)</td>\n",
       "      <td>0.8</td>\n",
       "    </tr>\n",
       "    <tr>\n",
       "      <th>809</th>\n",
       "      <td>53</td>\n",
       "      <td>('unclassified', 'lt7', 3.0, 4.0)</td>\n",
       "      <td>0.9</td>\n",
       "    </tr>\n",
       "  </tbody>\n",
       "</table>\n",
       "<p>810 rows × 3 columns</p>\n",
       "</div>"
      ],
      "text/plain": [
       "     #ideal                                 terminal_category  threshold\n",
       "0         1  ('FASA based PFAA precursors', 'gte7', nan, nan)        0.1\n",
       "1         2  ('FASA based PFAA precursors', 'gte7', nan, nan)        0.2\n",
       "2         4  ('FASA based PFAA precursors', 'gte7', nan, nan)        0.3\n",
       "3         5  ('FASA based PFAA precursors', 'gte7', nan, nan)        0.4\n",
       "4         6  ('FASA based PFAA precursors', 'gte7', nan, nan)        0.5\n",
       "..      ...                                               ...        ...\n",
       "805      22                 ('unclassified', 'lt7', 3.0, 4.0)        0.5\n",
       "806      27                 ('unclassified', 'lt7', 3.0, 4.0)        0.6\n",
       "807      34                 ('unclassified', 'lt7', 3.0, 4.0)        0.7\n",
       "808      42                 ('unclassified', 'lt7', 3.0, 4.0)        0.8\n",
       "809      53                 ('unclassified', 'lt7', 3.0, 4.0)        0.9\n",
       "\n",
       "[810 rows x 3 columns]"
      ]
     },
     "execution_count": 36,
     "metadata": {},
     "output_type": "execute_result"
    }
   ],
   "source": [
    "df3 = pd.DataFrame(number_chems2, columns = ['#ideal', 'terminal_category', 'threshold'])\n",
    "df3"
   ]
  },
  {
   "cell_type": "code",
   "execution_count": 37,
   "id": "5f737a07-7d7c-4cb1-ac82-749923c39baa",
   "metadata": {},
   "outputs": [],
   "source": [
    "df4 = pd.pivot_table(df3, index = 'terminal_category', values = '#ideal', columns = 'threshold')"
   ]
  },
  {
   "cell_type": "code",
   "execution_count": 38,
   "id": "2d674900-cf23-4112-8e66-de6bbd3bbda4",
   "metadata": {},
   "outputs": [],
   "source": [
    "df4.loc['other'] = list(np.repeat(5,9))"
   ]
  },
  {
   "cell_type": "code",
   "execution_count": 39,
   "id": "232f4acc-db0e-4577-81fc-b87280aacdae",
   "metadata": {},
   "outputs": [],
   "source": [
    "df5 = df4.sum(axis = 0).reset_index()\n",
    "\n",
    "df5.columns = ['threshold', '#']"
   ]
  },
  {
   "cell_type": "code",
   "execution_count": 40,
   "id": "cb8eadc0-8d02-4a20-a928-93f24dbe1107",
   "metadata": {},
   "outputs": [],
   "source": [
    "df5['threshold'] = (df5.threshold * 100)"
   ]
  },
  {
   "cell_type": "code",
   "execution_count": 44,
   "id": "d5c582c9-8e47-4276-ac8c-81ea464da756",
   "metadata": {},
   "outputs": [
    {
     "data": {
      "text/plain": [
       "<Figure size 1000x900 with 0 Axes>"
      ]
     },
     "metadata": {},
     "output_type": "display_data"
    },
    {
     "data": {
      "image/png": "[encoded data removed]",
      "text/plain": [
       "<Figure size 640x480 with 1 Axes>"
      ]
     },
     "metadata": {},
     "output_type": "display_data"
    }
   ],
   "source": [
    "plt.figure(figsize = (10,9))\n",
    "df5.plot(y = 'threshold', x = '#', marker = '.',legend = False)\n",
    "#plt.ylim(0,150)\n",
    "plt.ylim(0,100)\n",
    "plt.yticks(np.arange(0, 100+10, 10.0))\n",
    "plt.ylabel('% structural diversity within each terminal category')\n",
    "plt.xlabel('total number of substances to test (centroids + MaxMin)')\n",
    "plt.savefig(figures_dir+'Terminal_categorisation_unconstrained_landscape.png', dpi = 300)"
   ]
  },
  {
   "cell_type": "code",
   "execution_count": null,
   "id": "4cb8faed-4753-4101-8f78-1fa59fff7115",
   "metadata": {},
   "outputs": [],
   "source": []
  },
  {
   "cell_type": "code",
   "execution_count": null,
   "id": "70d007e0-b40b-4751-837b-55bd28da0190",
   "metadata": {},
   "outputs": [],
   "source": []
  },
  {
   "cell_type": "code",
   "execution_count": null,
   "id": "5c2ad702-89b3-4c20-9b4e-c4de58f905a5",
   "metadata": {},
   "outputs": [],
   "source": []
  },
  {
   "cell_type": "code",
   "execution_count": null,
   "id": "5755ab47-cdc6-462d-8cf7-74bfd2f065ba",
   "metadata": {},
   "outputs": [],
   "source": []
  },
  {
   "cell_type": "code",
   "execution_count": null,
   "id": "ae415229-92cc-47eb-a082-159392c26dc7",
   "metadata": {},
   "outputs": [],
   "source": []
  }
 ],
 "metadata": {
  "kernelspec": {
   "display_name": "py39",
   "language": "python",
   "name": "py39"
  },
  "language_info": {
   "codemirror_mode": {
    "name": "ipython",
    "version": 3
   },
   "file_extension": ".py",
   "mimetype": "text/x-python",
   "name": "python",
   "nbconvert_exporter": "python",
   "pygments_lexer": "ipython3",
   "version": "3.9.16"
  },
  "widgets": {
   "application/vnd.jupyter.widget-state+json": {
    "state": {},
    "version_major": 2,
    "version_minor": 0
   }
  }
 },
 "nbformat": 4,
 "nbformat_minor": 5
}
