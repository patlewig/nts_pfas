{
 "cells": [
  {
   "cell_type": "markdown",
   "id": "a8c123c0-aafc-4d23-b0c8-58f48222e3ff",
   "metadata": {},
   "source": [
    "# TSCA MaxMin selections"
   ]
  },
  {
   "cell_type": "markdown",
   "id": "bdb59ace-ba66-4462-a1fa-9fd20f6e99e3",
   "metadata": {},
   "source": [
    "Created by: Grace Patlewicz <br>\n",
    "Last modified:10 May 2024<br>\n",
    "Changes: This notebook describes the process of identifying TSCA PFAS - both their centroids and MaxMin selections. Updated notebook to reflect the change in inventory."
   ]
  },
  {
   "cell_type": "code",
   "execution_count": 1,
   "id": "218761dd-37b9-4fe7-8407-48b953d583cf",
   "metadata": {},
   "outputs": [],
   "source": [
    "import numpy as np\n",
    "import pandas as pd\n",
    "import matplotlib.pyplot as plt\n",
    "import seaborn as sns\n",
    "%matplotlib inline\n",
    "import openpyxl\n",
    "from rdkit.Chem.Draw import IPythonConsole, MolsToGridImage\n",
    "\n",
    "#Show mols in dataframes\n",
    "from rdkit.Chem import PandasTools\n",
    "from rdkit import Chem\n",
    "from rdkit.Chem.Draw import MolsToGridImage\n",
    "from IPython.core.display import HTML\n",
    "from rdkit.Chem import Descriptors\n",
    "from rdkit.ML.Descriptors import MoleculeDescriptors\n",
    "from rdkit.Chem import PandasTools\n",
    "from rdkit.Chem import AllChem\n",
    "from rdkit.Chem import rdDepictor\n",
    "from rdkit.Chem.Fingerprints import FingerprintMols\n",
    "from rdkit import DataStructs\n",
    "import os\n",
    "from scipy.spatial.distance import pdist, squareform\n",
    "import sys"
   ]
  },
  {
   "cell_type": "code",
   "execution_count": 2,
   "id": "921a4f84-8e82-4c0e-93fc-a648af5117fb",
   "metadata": {},
   "outputs": [],
   "source": [
    "TOP = os.getcwd().replace('notebooks', '')\n",
    "raw_dir = TOP + 'data/raw/'\n",
    "interim_dir = TOP + 'data/interim/'\n",
    "external_dir = TOP + 'data/external/'\n",
    "figures_dir = TOP + 'reports/figures/'"
   ]
  },
  {
   "cell_type": "code",
   "execution_count": 3,
   "id": "9bc2081f-16b3-4d09-a2f8-aee14321064d",
   "metadata": {},
   "outputs": [],
   "source": [
    "LIB = TOP+'src/models/'\n",
    "if not LIB in sys.path: \n",
    "    sys.path.insert(0,LIB)"
   ]
  },
  {
   "cell_type": "code",
   "execution_count": 4,
   "id": "a8defb36-128f-47cc-8380-53583b9f335f",
   "metadata": {},
   "outputs": [],
   "source": [
    "from model_functions import *"
   ]
  },
  {
   "cell_type": "code",
   "execution_count": 5,
   "id": "79b3124a-6a78-4fa8-9aa0-1ae811a7046a",
   "metadata": {},
   "outputs": [],
   "source": [
    "df = pd.read_excel(interim_dir+'final_universe_wMaxMin_100524.xlsx')"
   ]
  },
  {
   "cell_type": "code",
   "execution_count": 6,
   "id": "369ad093-37c0-4190-98f6-f951ebda9cea",
   "metadata": {},
   "outputs": [
    {
     "data": {
      "text/html": [
       "<div>\n",
       "<style scoped>\n",
       "    .dataframe tbody tr th:only-of-type {\n",
       "        vertical-align: middle;\n",
       "    }\n",
       "\n",
       "    .dataframe tbody tr th {\n",
       "        vertical-align: top;\n",
       "    }\n",
       "\n",
       "    .dataframe thead th {\n",
       "        text-align: right;\n",
       "    }\n",
       "</style>\n",
       "<table border=\"1\" class=\"dataframe\">\n",
       "  <thead>\n",
       "    <tr style=\"text-align: right;\">\n",
       "      <th></th>\n",
       "      <th>dtxsid</th>\n",
       "      <th>DSSTox_QC-Level</th>\n",
       "      <th>Substance_Name</th>\n",
       "      <th>Substance_CASRN</th>\n",
       "      <th>Substance_Type</th>\n",
       "      <th>Substance_Note</th>\n",
       "      <th>smiles</th>\n",
       "      <th>Structure_InChI</th>\n",
       "      <th>Structure_InChIKey</th>\n",
       "      <th>Structure_Formula</th>\n",
       "      <th>...</th>\n",
       "      <th>lvl_cluster_d</th>\n",
       "      <th>lvl3_centroid</th>\n",
       "      <th>lvl3_centroid2</th>\n",
       "      <th>lvl3_analogues</th>\n",
       "      <th>lvl3_Dist</th>\n",
       "      <th>final_centroid</th>\n",
       "      <th>final_dist</th>\n",
       "      <th>group</th>\n",
       "      <th>group_str</th>\n",
       "      <th>MaxMin_picks</th>\n",
       "    </tr>\n",
       "  </thead>\n",
       "  <tbody>\n",
       "    <tr>\n",
       "      <th>0</th>\n",
       "      <td>IROQAHVXXUQBOS-UHFFFAOYSA-N</td>\n",
       "      <td>NaN</td>\n",
       "      <td>NaN</td>\n",
       "      <td>NaN</td>\n",
       "      <td>NaN</td>\n",
       "      <td>NaN</td>\n",
       "      <td>CCCN(CCNC(=O)c1ccc(Cc2ccc(C(O)=O)cc2)cc1)S(=O)...</td>\n",
       "      <td>NaN</td>\n",
       "      <td>NaN</td>\n",
       "      <td>NaN</td>\n",
       "      <td>...</td>\n",
       "      <td>NaN</td>\n",
       "      <td>NaN</td>\n",
       "      <td>NaN</td>\n",
       "      <td>NaN</td>\n",
       "      <td>NaN</td>\n",
       "      <td>IROQAHVXXUQBOS-UHFFFAOYSA-N</td>\n",
       "      <td>0.000000</td>\n",
       "      <td>('Aromatic PFASs', 'gte7', nan, nan)</td>\n",
       "      <td>('Aromatic PFASs', 'gte7', nan, nan)</td>\n",
       "      <td>1</td>\n",
       "    </tr>\n",
       "    <tr>\n",
       "      <th>1</th>\n",
       "      <td>DTXSID90897582</td>\n",
       "      <td>DSSTox_High</td>\n",
       "      <td>4-(Perfluorononyl)oxybenzenesulfonate sodium</td>\n",
       "      <td>91998-13-9</td>\n",
       "      <td>Single Compound</td>\n",
       "      <td>NaN</td>\n",
       "      <td>[Na+].[O-]S(=O)(=O)C1=CC=C(OC(F)(F)C(F)(F)C(F)...</td>\n",
       "      <td>InChI=1S/C15H5F19O4S.Na/c16-7(17,8(18,19)10(22...</td>\n",
       "      <td>WEKFOCTWTWPVEG-UHFFFAOYSA-M</td>\n",
       "      <td>C15H4F19NaO4S</td>\n",
       "      <td>...</td>\n",
       "      <td>NaN</td>\n",
       "      <td>NaN</td>\n",
       "      <td>NaN</td>\n",
       "      <td>NaN</td>\n",
       "      <td>NaN</td>\n",
       "      <td>IROQAHVXXUQBOS-UHFFFAOYSA-N</td>\n",
       "      <td>0.788889</td>\n",
       "      <td>('Aromatic PFASs', 'gte7', nan, nan)</td>\n",
       "      <td>('Aromatic PFASs', 'gte7', nan, nan)</td>\n",
       "      <td>0</td>\n",
       "    </tr>\n",
       "    <tr>\n",
       "      <th>2</th>\n",
       "      <td>DTXSID90896257</td>\n",
       "      <td>Public_Low</td>\n",
       "      <td>(2S)-2-{Bis[4-(heptadecafluorooctyl)phenyl][(t...</td>\n",
       "      <td>914391-37-0</td>\n",
       "      <td>Single Compound</td>\n",
       "      <td>NaN</td>\n",
       "      <td>CC[Si](CC)(CC)OC([C@@H]1CCCN1)(C1=CC=C(C=C1)C(...</td>\n",
       "      <td>InChI=1S/C39H31F34NOSi/c1-4-76(5-2,6-3)75-23(2...</td>\n",
       "      <td>PARYPNCCAOUHML-QFIPXVFZSA-N</td>\n",
       "      <td>C39H31F34NOSi</td>\n",
       "      <td>...</td>\n",
       "      <td>NaN</td>\n",
       "      <td>NaN</td>\n",
       "      <td>NaN</td>\n",
       "      <td>NaN</td>\n",
       "      <td>NaN</td>\n",
       "      <td>IROQAHVXXUQBOS-UHFFFAOYSA-N</td>\n",
       "      <td>0.814815</td>\n",
       "      <td>('Aromatic PFASs', 'gte7', nan, nan)</td>\n",
       "      <td>('Aromatic PFASs', 'gte7', nan, nan)</td>\n",
       "      <td>0</td>\n",
       "    </tr>\n",
       "    <tr>\n",
       "      <th>3</th>\n",
       "      <td>DTXSID90896196</td>\n",
       "      <td>Public_Low</td>\n",
       "      <td>2,2,3,3,4,4,5,5,6,6,7,7,8,8,9,9,9-Heptadecaflu...</td>\n",
       "      <td>157584-47-9</td>\n",
       "      <td>Single Compound</td>\n",
       "      <td>NaN</td>\n",
       "      <td>FC(F)(F)C(F)(F)C(F)(F)C(F)(F)C(F)(F)C(F)(F)C(F...</td>\n",
       "      <td>InChI=1S/C21H10F17NO/c22-14(23,13(40)39(11-7-3...</td>\n",
       "      <td>IDJHICNQDCLWAB-UHFFFAOYSA-N</td>\n",
       "      <td>C21H10F17NO</td>\n",
       "      <td>...</td>\n",
       "      <td>NaN</td>\n",
       "      <td>NaN</td>\n",
       "      <td>NaN</td>\n",
       "      <td>NaN</td>\n",
       "      <td>NaN</td>\n",
       "      <td>IROQAHVXXUQBOS-UHFFFAOYSA-N</td>\n",
       "      <td>0.788889</td>\n",
       "      <td>('Aromatic PFASs', 'gte7', nan, nan)</td>\n",
       "      <td>('Aromatic PFASs', 'gte7', nan, nan)</td>\n",
       "      <td>0</td>\n",
       "    </tr>\n",
       "    <tr>\n",
       "      <th>4</th>\n",
       "      <td>DTXSID90896095</td>\n",
       "      <td>Public_Low</td>\n",
       "      <td>3,3,4,4,5,5,6,6,7,7,8,8,9,9,10,10,10-Heptadeca...</td>\n",
       "      <td>113823-56-6</td>\n",
       "      <td>Single Compound</td>\n",
       "      <td>NaN</td>\n",
       "      <td>CC1=CC=C(C=C1)S(=O)(=O)OCCC(F)(F)C(F)(F)C(F)(F...</td>\n",
       "      <td>InChI=1S/C17H11F17O3S/c1-8-2-4-9(5-3-8)38(35,3...</td>\n",
       "      <td>WGCSEECKLMOBLT-UHFFFAOYSA-N</td>\n",
       "      <td>C17H11F17O3S</td>\n",
       "      <td>...</td>\n",
       "      <td>NaN</td>\n",
       "      <td>NaN</td>\n",
       "      <td>NaN</td>\n",
       "      <td>NaN</td>\n",
       "      <td>NaN</td>\n",
       "      <td>IROQAHVXXUQBOS-UHFFFAOYSA-N</td>\n",
       "      <td>0.791667</td>\n",
       "      <td>('Aromatic PFASs', 'gte7', nan, nan)</td>\n",
       "      <td>('Aromatic PFASs', 'gte7', nan, nan)</td>\n",
       "      <td>0</td>\n",
       "    </tr>\n",
       "  </tbody>\n",
       "</table>\n",
       "<p>5 rows × 195 columns</p>\n",
       "</div>"
      ],
      "text/plain": [
       "                        dtxsid DSSTox_QC-Level  \\\n",
       "0  IROQAHVXXUQBOS-UHFFFAOYSA-N             NaN   \n",
       "1               DTXSID90897582     DSSTox_High   \n",
       "2               DTXSID90896257      Public_Low   \n",
       "3               DTXSID90896196      Public_Low   \n",
       "4               DTXSID90896095      Public_Low   \n",
       "\n",
       "                                      Substance_Name Substance_CASRN  \\\n",
       "0                                                NaN             NaN   \n",
       "1       4-(Perfluorononyl)oxybenzenesulfonate sodium      91998-13-9   \n",
       "2  (2S)-2-{Bis[4-(heptadecafluorooctyl)phenyl][(t...     914391-37-0   \n",
       "3  2,2,3,3,4,4,5,5,6,6,7,7,8,8,9,9,9-Heptadecaflu...     157584-47-9   \n",
       "4  3,3,4,4,5,5,6,6,7,7,8,8,9,9,10,10,10-Heptadeca...     113823-56-6   \n",
       "\n",
       "    Substance_Type Substance_Note  \\\n",
       "0              NaN            NaN   \n",
       "1  Single Compound            NaN   \n",
       "2  Single Compound            NaN   \n",
       "3  Single Compound            NaN   \n",
       "4  Single Compound            NaN   \n",
       "\n",
       "                                              smiles  \\\n",
       "0  CCCN(CCNC(=O)c1ccc(Cc2ccc(C(O)=O)cc2)cc1)S(=O)...   \n",
       "1  [Na+].[O-]S(=O)(=O)C1=CC=C(OC(F)(F)C(F)(F)C(F)...   \n",
       "2  CC[Si](CC)(CC)OC([C@@H]1CCCN1)(C1=CC=C(C=C1)C(...   \n",
       "3  FC(F)(F)C(F)(F)C(F)(F)C(F)(F)C(F)(F)C(F)(F)C(F...   \n",
       "4  CC1=CC=C(C=C1)S(=O)(=O)OCCC(F)(F)C(F)(F)C(F)(F...   \n",
       "\n",
       "                                     Structure_InChI  \\\n",
       "0                                                NaN   \n",
       "1  InChI=1S/C15H5F19O4S.Na/c16-7(17,8(18,19)10(22...   \n",
       "2  InChI=1S/C39H31F34NOSi/c1-4-76(5-2,6-3)75-23(2...   \n",
       "3  InChI=1S/C21H10F17NO/c22-14(23,13(40)39(11-7-3...   \n",
       "4  InChI=1S/C17H11F17O3S/c1-8-2-4-9(5-3-8)38(35,3...   \n",
       "\n",
       "            Structure_InChIKey Structure_Formula  ...  lvl_cluster_d  \\\n",
       "0                          NaN               NaN  ...            NaN   \n",
       "1  WEKFOCTWTWPVEG-UHFFFAOYSA-M     C15H4F19NaO4S  ...            NaN   \n",
       "2  PARYPNCCAOUHML-QFIPXVFZSA-N     C39H31F34NOSi  ...            NaN   \n",
       "3  IDJHICNQDCLWAB-UHFFFAOYSA-N       C21H10F17NO  ...            NaN   \n",
       "4  WGCSEECKLMOBLT-UHFFFAOYSA-N      C17H11F17O3S  ...            NaN   \n",
       "\n",
       "  lvl3_centroid lvl3_centroid2  lvl3_analogues  lvl3_Dist  \\\n",
       "0           NaN            NaN             NaN        NaN   \n",
       "1           NaN            NaN             NaN        NaN   \n",
       "2           NaN            NaN             NaN        NaN   \n",
       "3           NaN            NaN             NaN        NaN   \n",
       "4           NaN            NaN             NaN        NaN   \n",
       "\n",
       "                final_centroid  final_dist  \\\n",
       "0  IROQAHVXXUQBOS-UHFFFAOYSA-N    0.000000   \n",
       "1  IROQAHVXXUQBOS-UHFFFAOYSA-N    0.788889   \n",
       "2  IROQAHVXXUQBOS-UHFFFAOYSA-N    0.814815   \n",
       "3  IROQAHVXXUQBOS-UHFFFAOYSA-N    0.788889   \n",
       "4  IROQAHVXXUQBOS-UHFFFAOYSA-N    0.791667   \n",
       "\n",
       "                                  group                             group_str  \\\n",
       "0  ('Aromatic PFASs', 'gte7', nan, nan)  ('Aromatic PFASs', 'gte7', nan, nan)   \n",
       "1  ('Aromatic PFASs', 'gte7', nan, nan)  ('Aromatic PFASs', 'gte7', nan, nan)   \n",
       "2  ('Aromatic PFASs', 'gte7', nan, nan)  ('Aromatic PFASs', 'gte7', nan, nan)   \n",
       "3  ('Aromatic PFASs', 'gte7', nan, nan)  ('Aromatic PFASs', 'gte7', nan, nan)   \n",
       "4  ('Aromatic PFASs', 'gte7', nan, nan)  ('Aromatic PFASs', 'gte7', nan, nan)   \n",
       "\n",
       "   MaxMin_picks  \n",
       "0             1  \n",
       "1             0  \n",
       "2             0  \n",
       "3             0  \n",
       "4             0  \n",
       "\n",
       "[5 rows x 195 columns]"
      ]
     },
     "execution_count": 6,
     "metadata": {},
     "output_type": "execute_result"
    }
   ],
   "source": [
    "df.drop(['Unnamed: 0'], axis = 1, inplace = True)\n",
    "df.head()"
   ]
  },
  {
   "cell_type": "code",
   "execution_count": 57,
   "id": "43a7e08a-4f0c-4181-8ac2-4e9af647e17d",
   "metadata": {},
   "outputs": [
    {
     "data": {
      "text/plain": [
       "unclassified    14962\n",
       "inactive          326\n",
       "active            237\n",
       "Name: TSCA_STATUS, dtype: int64"
      ]
     },
     "execution_count": 57,
     "metadata": {},
     "output_type": "execute_result"
    }
   ],
   "source": [
    "df['TSCA_STATUS'].value_counts()"
   ]
  },
  {
   "cell_type": "code",
   "execution_count": 61,
   "id": "588fdc55-3b62-4a20-a43d-2022827cead7",
   "metadata": {},
   "outputs": [
    {
     "data": {
      "text/plain": [
       "matches_tsca_degradate                                                                                                                 384\n",
       "['DTXSID1075305_m_35']                                                                                                                   1\n",
       "['DTXSID70880210_m_16']                                                                                                                  1\n",
       "['DTXSID0069042_m_1', 'DTXSID0069042_m_14', 'DTXSID0069042_m_16', 'DTXSID0069042_m_64', 'DTXSID0069042_m_71', 'DTXSID0069042_m_79']      1\n",
       "['DTXSID1075305_m_10', 'DTXSID1075305_m_36', 'DTXSID1075305_m_77', 'DTXSID1075305_m_97']                                                 1\n",
       "                                                                                                                                      ... \n",
       "['DTXSID3071301_m_135']                                                                                                                  1\n",
       "['DTXSID70880578_m_77', 'DTXSID70880578_m_88', 'DTXSID8070887_m_78', 'DTXSID8070887_m_89']                                               1\n",
       "['DTXSID7062295_m_69']                                                                                                                   1\n",
       "['DTXSID3071301_m_139', 'DTXSID9070826_m_154']                                                                                           1\n",
       "['DTXSID40883016_m_109', 'DTXSID40883016_m_66', 'DTXSID40883016_m_90']                                                                   1\n",
       "Name: ID, Length: 2485, dtype: int64"
      ]
     },
     "execution_count": 61,
     "metadata": {},
     "output_type": "execute_result"
    }
   ],
   "source": [
    "df[df['ID'].notnull()]['ID'].value_counts()"
   ]
  },
  {
   "cell_type": "markdown",
   "id": "1b2b353b-94d6-4117-b34a-9cdcb85b7bdc",
   "metadata": {},
   "source": [
    "#### Constraining the universe to TSCA and computing centroids and MaxMin from the contrained inventory"
   ]
  },
  {
   "cell_type": "markdown",
   "id": "670d8b0a-4cc9-4cdf-aee6-824ab878f6e7",
   "metadata": {},
   "source": [
    "Calculate centroids for terminal categories but constraining the substances to those with substances on the TSCA inventory"
   ]
  },
  {
   "cell_type": "code",
   "execution_count": 7,
   "id": "aa04f364-55bb-4a1e-a58e-697810ebcf87",
   "metadata": {},
   "outputs": [],
   "source": [
    "pfas_tsca = df[df['TSCA_STATUS']!= 'unclassified']"
   ]
  },
  {
   "cell_type": "code",
   "execution_count": 8,
   "id": "22df3407-c3ec-48d5-bec0-0691982fa3ae",
   "metadata": {},
   "outputs": [
    {
     "data": {
      "text/plain": [
       "(563, 195)"
      ]
     },
     "execution_count": 8,
     "metadata": {},
     "output_type": "execute_result"
    }
   ],
   "source": [
    "pfas_tsca.shape"
   ]
  },
  {
   "cell_type": "code",
   "execution_count": 12,
   "id": "1a918b16-5d9b-44b3-bbb2-c1679522f11e",
   "metadata": {},
   "outputs": [],
   "source": [
    "results_subcats = {}\n",
    "for i, group in pfas_tsca.groupby('group_str'):\n",
    "    try:\n",
    "        a = mk_fp(group)\n",
    "    except Exception as error:\n",
    "        print(error)\n",
    "    else:\n",
    "        results_subcats[i] = a\n"
   ]
  },
  {
   "cell_type": "code",
   "execution_count": 13,
   "id": "cf7751e1-6705-481a-a67b-cc341f2f7dd0",
   "metadata": {},
   "outputs": [],
   "source": [
    "distances_subcats = {}\n",
    "for k,v in results_subcats.items():\n",
    "    a = distance_matrix(results_subcats[k])\n",
    "    distances_subcats[k] = a"
   ]
  },
  {
   "cell_type": "code",
   "execution_count": 14,
   "id": "44095a59-f620-43d1-9155-711e80d65136",
   "metadata": {},
   "outputs": [
    {
     "data": {
      "text/plain": [
       "80"
      ]
     },
     "execution_count": 14,
     "metadata": {},
     "output_type": "execute_result"
    }
   ],
   "source": [
    "len(results_subcats)\n"
   ]
  },
  {
   "cell_type": "code",
   "execution_count": 15,
   "id": "aa9b8469-a51f-40e7-b05b-0b1feef79c0d",
   "metadata": {},
   "outputs": [
    {
     "data": {
      "text/plain": [
       "27"
      ]
     },
     "execution_count": 15,
     "metadata": {},
     "output_type": "execute_result"
    }
   ],
   "source": [
    "len({k:v.shape[0] for k,v in results_subcats.items() if v.shape[0] >5})"
   ]
  },
  {
   "cell_type": "code",
   "execution_count": 16,
   "id": "e467d719-5523-494f-bf47-a7225ae344b7",
   "metadata": {},
   "outputs": [
    {
     "data": {
      "text/plain": [
       "80"
      ]
     },
     "execution_count": 16,
     "metadata": {},
     "output_type": "execute_result"
    }
   ],
   "source": [
    "len(distances_subcats)"
   ]
  },
  {
   "cell_type": "code",
   "execution_count": 17,
   "id": "8d515b95-98af-4864-92ca-303051462c5b",
   "metadata": {},
   "outputs": [],
   "source": [
    "centres = []\n",
    "for i,group in pfas_tsca.groupby('group_str'):\n",
    "    try:\n",
    "        m = medoid_calc(distances_subcats[i])\n",
    "        centres.append(m)\n",
    "    except Exception as error:\n",
    "        print(error)\n"
   ]
  },
  {
   "cell_type": "code",
   "execution_count": 18,
   "id": "474f368c-7f84-4adc-b266-2e7b977600e8",
   "metadata": {},
   "outputs": [
    {
     "name": "stderr",
     "output_type": "stream",
     "text": [
      "/tmp/ipykernel_3280041/1021335603.py:1: SettingWithCopyWarning: \n",
      "A value is trying to be set on a copy of a slice from a DataFrame.\n",
      "Try using .loc[row_indexer,col_indexer] = value instead\n",
      "\n",
      "See the caveats in the documentation: https://pandas.pydata.org/pandas-docs/stable/user_guide/indexing.html#returning-a-view-versus-a-copy\n",
      "  pfas_tsca['tsca_centroid'] = pfas_tsca['dtxsid'].apply(lambda x: 'centroid' if x in centres else np.nan)\n"
     ]
    }
   ],
   "source": [
    "pfas_tsca['tsca_centroid'] = pfas_tsca['dtxsid'].apply(lambda x: 'centroid' if x in centres else np.nan)"
   ]
  },
  {
   "cell_type": "code",
   "execution_count": 19,
   "id": "7e6e602b-7c21-4230-8758-fd08d3cd5a1a",
   "metadata": {},
   "outputs": [
    {
     "data": {
      "text/plain": [
       "centroid    80\n",
       "Name: tsca_centroid, dtype: int64"
      ]
     },
     "execution_count": 19,
     "metadata": {},
     "output_type": "execute_result"
    }
   ],
   "source": [
    "pfas_tsca.tsca_centroid.value_counts()"
   ]
  },
  {
   "cell_type": "code",
   "execution_count": 20,
   "id": "f568fe7a-0db1-4828-ad03-baf9c5d5b652",
   "metadata": {},
   "outputs": [],
   "source": [
    "df3 = pfas_tsca.copy()"
   ]
  },
  {
   "cell_type": "code",
   "execution_count": 21,
   "id": "f72e96d5-1740-408c-b152-a86252abc783",
   "metadata": {},
   "outputs": [],
   "source": [
    "df_3 = df3.set_index('dtxsid')"
   ]
  },
  {
   "cell_type": "code",
   "execution_count": 22,
   "id": "4b25748b-e860-4e5b-885d-d2d0d04437b6",
   "metadata": {},
   "outputs": [],
   "source": [
    "members = {}\n",
    "\n",
    "for i, group in df_3.groupby('group_str'):\n",
    "    subset = group[['group_str', 'tsca_centroid']]\n",
    "    try: \n",
    "        for x, y in subset.iterrows():\n",
    "            a, b = y\n",
    "            if b == 'centroid':\n",
    "                #print(x)\n",
    "                c = [distances_subcats[i][x].index, distances_subcats[i][x].values]\n",
    "                members[x] = c\n",
    "    except Exception as error:\n",
    "            print(error)"
   ]
  },
  {
   "cell_type": "code",
   "execution_count": 23,
   "id": "88199408-741e-40c9-8403-df364052b756",
   "metadata": {},
   "outputs": [
    {
     "data": {
      "text/html": [
       "<div>\n",
       "<style scoped>\n",
       "    .dataframe tbody tr th:only-of-type {\n",
       "        vertical-align: middle;\n",
       "    }\n",
       "\n",
       "    .dataframe tbody tr th {\n",
       "        vertical-align: top;\n",
       "    }\n",
       "\n",
       "    .dataframe thead th {\n",
       "        text-align: right;\n",
       "    }\n",
       "</style>\n",
       "<table border=\"1\" class=\"dataframe\">\n",
       "  <thead>\n",
       "    <tr style=\"text-align: right;\">\n",
       "      <th></th>\n",
       "      <th>tsca_centroid</th>\n",
       "      <th>lvl2_analogues</th>\n",
       "      <th>lvl2_Dist</th>\n",
       "    </tr>\n",
       "  </thead>\n",
       "  <tbody>\n",
       "    <tr>\n",
       "      <th>0</th>\n",
       "      <td>DTXSID6071372</td>\n",
       "      <td>DTXSID9066673</td>\n",
       "      <td>0.752688</td>\n",
       "    </tr>\n",
       "    <tr>\n",
       "      <th>0</th>\n",
       "      <td>DTXSID6071372</td>\n",
       "      <td>DTXSID80880488</td>\n",
       "      <td>0.722222</td>\n",
       "    </tr>\n",
       "    <tr>\n",
       "      <th>0</th>\n",
       "      <td>DTXSID6071372</td>\n",
       "      <td>DTXSID60880966</td>\n",
       "      <td>0.744898</td>\n",
       "    </tr>\n",
       "    <tr>\n",
       "      <th>0</th>\n",
       "      <td>DTXSID6071372</td>\n",
       "      <td>DTXSID6071372</td>\n",
       "      <td>0.0</td>\n",
       "    </tr>\n",
       "    <tr>\n",
       "      <th>0</th>\n",
       "      <td>DTXSID6071372</td>\n",
       "      <td>DTXSID50887449</td>\n",
       "      <td>0.722222</td>\n",
       "    </tr>\n",
       "  </tbody>\n",
       "</table>\n",
       "</div>"
      ],
      "text/plain": [
       "   tsca_centroid  lvl2_analogues lvl2_Dist\n",
       "0  DTXSID6071372   DTXSID9066673  0.752688\n",
       "0  DTXSID6071372  DTXSID80880488  0.722222\n",
       "0  DTXSID6071372  DTXSID60880966  0.744898\n",
       "0  DTXSID6071372   DTXSID6071372       0.0\n",
       "0  DTXSID6071372  DTXSID50887449  0.722222"
      ]
     },
     "execution_count": 23,
     "metadata": {},
     "output_type": "execute_result"
    }
   ],
   "source": [
    "cluster_members = pd.DataFrame(list(members.items()))\n",
    "cluster_members.columns = ['tsca_centroid', 1]\n",
    "cluster_members[['lvl2_analogues','lvl2_Dist']] = pd.DataFrame(cluster_members[1].tolist(), index= cluster_members.index)\n",
    "cluster_members.drop([1], axis = 1, inplace = True)\n",
    "cluster_members_1 = cluster_members.apply(pd.Series.explode)\n",
    "cluster_members_1.head()\n"
   ]
  },
  {
   "cell_type": "code",
   "execution_count": 24,
   "id": "38b286c7-8893-44ce-9fd0-19ef88286125",
   "metadata": {},
   "outputs": [],
   "source": [
    "df3['tsca_centroid_id'] = df3.apply(lambda x: x['dtxsid'] if x['tsca_centroid'] == 'centroid' else np.nan, axis = 1)\n"
   ]
  },
  {
   "cell_type": "code",
   "execution_count": 25,
   "id": "598a22ca-0b0e-4155-b78d-97be618c94d6",
   "metadata": {},
   "outputs": [],
   "source": [
    "df3 = df3.sort_values(by = ['group_str', 'tsca_centroid_id'], ascending = [True, False])"
   ]
  },
  {
   "cell_type": "code",
   "execution_count": 26,
   "id": "afecff2e-d46a-49ab-a613-19886a75a2b4",
   "metadata": {},
   "outputs": [],
   "source": [
    "df3['tsca_centroid_id2'] = df3['tsca_centroid_id'].fillna(method = 'ffill')\n"
   ]
  },
  {
   "cell_type": "code",
   "execution_count": 27,
   "id": "e68523d4-5afa-43f1-b1c0-fd12e1766040",
   "metadata": {},
   "outputs": [],
   "source": [
    "mydict_ = {}\n",
    "for i, group in df3.groupby('tsca_centroid_id2'):\n",
    "    k = [n for n in group['tsca_centroid_id2'] if n != ' '][0]\n",
    "    v = list(group['dtxsid'])\n",
    "    mydict_[k] = v\n"
   ]
  },
  {
   "cell_type": "code",
   "execution_count": 28,
   "id": "e8ad26da-1588-43f7-b4cf-c1cd4e45edc0",
   "metadata": {},
   "outputs": [
    {
     "data": {
      "text/plain": [
       "80"
      ]
     },
     "execution_count": 28,
     "metadata": {},
     "output_type": "execute_result"
    }
   ],
   "source": [
    "len(list(mydict_.values()))"
   ]
  },
  {
   "cell_type": "code",
   "execution_count": 29,
   "id": "8ffbe2ca-ee7f-486f-83ef-8ec9f63bc104",
   "metadata": {},
   "outputs": [],
   "source": [
    "dist_ = []\n",
    "for i, group in cluster_members_1.groupby('tsca_centroid'):\n",
    "    a = cluster_members_1[(cluster_members_1['tsca_centroid'] == i) & (cluster_members_1['lvl2_analogues'].isin(mydict_[i]))]\n",
    "    dist_.append(a)"
   ]
  },
  {
   "cell_type": "code",
   "execution_count": 30,
   "id": "42517c97-aaa4-4a8e-acea-de0c91d018d3",
   "metadata": {},
   "outputs": [],
   "source": [
    "dist_df = pd.concat([e for e in dist_])"
   ]
  },
  {
   "cell_type": "code",
   "execution_count": 31,
   "id": "282fc00f-e337-4e5e-bede-d3f1dc22172f",
   "metadata": {},
   "outputs": [],
   "source": [
    "df3_w = pd.merge(df3, dist_df[['lvl2_analogues', 'lvl2_Dist']], left_on = 'dtxsid', right_on = 'lvl2_analogues', how = 'left')\n"
   ]
  },
  {
   "cell_type": "code",
   "execution_count": 32,
   "id": "5801d79a-2d7c-49e2-a468-be4f9eba5726",
   "metadata": {},
   "outputs": [
    {
     "data": {
      "text/plain": [
       "Index(['dtxsid', 'DSSTox_QC-Level', 'Substance_Name', 'Substance_CASRN',\n",
       "       'Substance_Type', 'Substance_Note', 'smiles', 'Structure_InChI',\n",
       "       'Structure_InChIKey', 'Structure_Formula',\n",
       "       ...\n",
       "       'final_centroid', 'final_dist', 'group', 'group_str', 'MaxMin_picks',\n",
       "       'tsca_centroid', 'tsca_centroid_id', 'tsca_centroid_id2',\n",
       "       'lvl2_analogues_y', 'lvl2_Dist_y'],\n",
       "      dtype='object', length=200)"
      ]
     },
     "execution_count": 32,
     "metadata": {},
     "output_type": "execute_result"
    }
   ],
   "source": [
    "df3_w.columns"
   ]
  },
  {
   "cell_type": "code",
   "execution_count": 33,
   "id": "cd50cf90-c932-427a-8699-3967299d0156",
   "metadata": {},
   "outputs": [],
   "source": [
    "df3_w.rename(columns = {'lvl2_analogues_x' : 'lvl2_analogues', 'lvl2_Dist_x' : 'lvl2_Dist', 'lvl2_analogues_y' : 'tsca_analogues' ,'lvl2_Dist_y' : 'tsca_dist'},  inplace = True)"
   ]
  },
  {
   "cell_type": "code",
   "execution_count": 34,
   "id": "aa2a850c-85c8-442b-84f5-24569faad2fa",
   "metadata": {},
   "outputs": [
    {
     "data": {
      "text/html": [
       "<div>\n",
       "<style scoped>\n",
       "    .dataframe tbody tr th:only-of-type {\n",
       "        vertical-align: middle;\n",
       "    }\n",
       "\n",
       "    .dataframe tbody tr th {\n",
       "        vertical-align: top;\n",
       "    }\n",
       "\n",
       "    .dataframe thead th {\n",
       "        text-align: right;\n",
       "    }\n",
       "</style>\n",
       "<table border=\"1\" class=\"dataframe\">\n",
       "  <thead>\n",
       "    <tr style=\"text-align: right;\">\n",
       "      <th></th>\n",
       "      <th>dtxsid</th>\n",
       "      <th>DSSTox_QC-Level</th>\n",
       "      <th>Substance_Name</th>\n",
       "      <th>Substance_CASRN</th>\n",
       "      <th>Substance_Type</th>\n",
       "      <th>Substance_Note</th>\n",
       "      <th>smiles</th>\n",
       "      <th>Structure_InChI</th>\n",
       "      <th>Structure_InChIKey</th>\n",
       "      <th>Structure_Formula</th>\n",
       "      <th>...</th>\n",
       "      <th>final_centroid</th>\n",
       "      <th>final_dist</th>\n",
       "      <th>group</th>\n",
       "      <th>group_str</th>\n",
       "      <th>MaxMin_picks</th>\n",
       "      <th>tsca_centroid</th>\n",
       "      <th>tsca_centroid_id</th>\n",
       "      <th>tsca_centroid_id2</th>\n",
       "      <th>tsca_analogues</th>\n",
       "      <th>tsca_dist</th>\n",
       "    </tr>\n",
       "  </thead>\n",
       "  <tbody>\n",
       "    <tr>\n",
       "      <th>0</th>\n",
       "      <td>DTXSID6071372</td>\n",
       "      <td>DSSTox_High</td>\n",
       "      <td>N-(Phenylmethyl)perfluoroheptanesulfonamide</td>\n",
       "      <td>68298-10-2</td>\n",
       "      <td>Single Compound</td>\n",
       "      <td>NaN</td>\n",
       "      <td>FC(F)(F)C(F)(F)C(F)(F)C(F)(F)C(F)(F)C(F)(F)C(F...</td>\n",
       "      <td>InChI=1S/C14H8F15NO2S/c15-8(16,9(17,18)11(21,2...</td>\n",
       "      <td>ZJIFWMOMOPJFRZ-UHFFFAOYSA-N</td>\n",
       "      <td>C14H8F15NO2S</td>\n",
       "      <td>...</td>\n",
       "      <td>IROQAHVXXUQBOS-UHFFFAOYSA-N</td>\n",
       "      <td>0.701149</td>\n",
       "      <td>('Aromatic PFASs', 'gte7', nan, nan)</td>\n",
       "      <td>('Aromatic PFASs', 'gte7', nan, nan)</td>\n",
       "      <td>0</td>\n",
       "      <td>centroid</td>\n",
       "      <td>DTXSID6071372</td>\n",
       "      <td>DTXSID6071372</td>\n",
       "      <td>DTXSID6071372</td>\n",
       "      <td>0.0</td>\n",
       "    </tr>\n",
       "    <tr>\n",
       "      <th>1</th>\n",
       "      <td>DTXSID9066673</td>\n",
       "      <td>DSSTox_High</td>\n",
       "      <td>Bis(2-(ethyl((heptadecafluorooctyl)sulphonyl)a...</td>\n",
       "      <td>21055-88-9</td>\n",
       "      <td>Single Compound</td>\n",
       "      <td>NaN</td>\n",
       "      <td>CCN(CCOC(=O)NC1=CC=C(C)C(NC(=O)OCCN(CC)S(=O)(=...</td>\n",
       "      <td>InChI=1S/C33H26F34N4O8S2/c1-4-70(80(74,75)32(6...</td>\n",
       "      <td>UTFFCBMSUHQFKN-UHFFFAOYSA-N</td>\n",
       "      <td>C33H26F34N4O8S2</td>\n",
       "      <td>...</td>\n",
       "      <td>IROQAHVXXUQBOS-UHFFFAOYSA-N</td>\n",
       "      <td>0.669811</td>\n",
       "      <td>('Aromatic PFASs', 'gte7', nan, nan)</td>\n",
       "      <td>('Aromatic PFASs', 'gte7', nan, nan)</td>\n",
       "      <td>0</td>\n",
       "      <td>NaN</td>\n",
       "      <td>NaN</td>\n",
       "      <td>DTXSID6071372</td>\n",
       "      <td>DTXSID9066673</td>\n",
       "      <td>0.752688</td>\n",
       "    </tr>\n",
       "    <tr>\n",
       "      <th>2</th>\n",
       "      <td>DTXSID80880488</td>\n",
       "      <td>DSSTox_High</td>\n",
       "      <td>Potassium 2,3,4,5-tetrachloro-6-(((3-(((heptad...</td>\n",
       "      <td>57589-85-2</td>\n",
       "      <td>Single Compound</td>\n",
       "      <td>Record was reviewed with Common Chemistry.\\n</td>\n",
       "      <td>[K+].[H]N(C(=O)C1=C(C([O-])=O)C(Cl)=C(Cl)C(Cl)...</td>\n",
       "      <td>InChI=1S/C22H6Cl4F17NO6S.K/c23-9-7(8(14(46)47)...</td>\n",
       "      <td>HZRBKZMKUYGJRU-UHFFFAOYSA-M</td>\n",
       "      <td>C22H5Cl4F17KNO6S</td>\n",
       "      <td>...</td>\n",
       "      <td>IROQAHVXXUQBOS-UHFFFAOYSA-N</td>\n",
       "      <td>0.727273</td>\n",
       "      <td>('Aromatic PFASs', 'gte7', nan, nan)</td>\n",
       "      <td>('Aromatic PFASs', 'gte7', nan, nan)</td>\n",
       "      <td>0</td>\n",
       "      <td>NaN</td>\n",
       "      <td>NaN</td>\n",
       "      <td>DTXSID6071372</td>\n",
       "      <td>DTXSID80880488</td>\n",
       "      <td>0.722222</td>\n",
       "    </tr>\n",
       "    <tr>\n",
       "      <th>3</th>\n",
       "      <td>DTXSID60880966</td>\n",
       "      <td>DSSTox_High</td>\n",
       "      <td>N3-(2-(((heptadecafluorooctyl)sulfonyl)methyla...</td>\n",
       "      <td>73019-20-2</td>\n",
       "      <td>Single Compound</td>\n",
       "      <td>NaN</td>\n",
       "      <td>CCCN(CCNC(=O)C1=CC=C(C)C(=C1)C(=O)NCCN(C)S(=O)...</td>\n",
       "      <td>InChI=1S/C33H26F34N4O6S2/c1-4-9-71(79(76,77)33...</td>\n",
       "      <td>TZGYROAPHGJQIG-UHFFFAOYSA-N</td>\n",
       "      <td>C33H26F34N4O6S2</td>\n",
       "      <td>...</td>\n",
       "      <td>IROQAHVXXUQBOS-UHFFFAOYSA-N</td>\n",
       "      <td>0.408602</td>\n",
       "      <td>('Aromatic PFASs', 'gte7', nan, nan)</td>\n",
       "      <td>('Aromatic PFASs', 'gte7', nan, nan)</td>\n",
       "      <td>0</td>\n",
       "      <td>NaN</td>\n",
       "      <td>NaN</td>\n",
       "      <td>DTXSID6071372</td>\n",
       "      <td>DTXSID60880966</td>\n",
       "      <td>0.744898</td>\n",
       "    </tr>\n",
       "    <tr>\n",
       "      <th>4</th>\n",
       "      <td>DTXSID50887449</td>\n",
       "      <td>DSSTox_High</td>\n",
       "      <td>2,3,4,5-Tetrachloro-6-[3-(perfluoroheptyl)sulf...</td>\n",
       "      <td>68541-01-5</td>\n",
       "      <td>Single Compound</td>\n",
       "      <td>Record was reviewed with Common Chemistry.\\n</td>\n",
       "      <td>[K+].[O-]C(=O)C1=C(Cl)C(Cl)=C(Cl)C(Cl)=C1C(=O)...</td>\n",
       "      <td>InChI=1S/C21H6Cl4F15NO6S.K/c22-9-7(8(14(43)44)...</td>\n",
       "      <td>NIQGEMTXVGOSBT-UHFFFAOYSA-M</td>\n",
       "      <td>C21H5Cl4F15KNO6S</td>\n",
       "      <td>...</td>\n",
       "      <td>IROQAHVXXUQBOS-UHFFFAOYSA-N</td>\n",
       "      <td>0.727273</td>\n",
       "      <td>('Aromatic PFASs', 'gte7', nan, nan)</td>\n",
       "      <td>('Aromatic PFASs', 'gte7', nan, nan)</td>\n",
       "      <td>0</td>\n",
       "      <td>NaN</td>\n",
       "      <td>NaN</td>\n",
       "      <td>DTXSID6071372</td>\n",
       "      <td>DTXSID50887449</td>\n",
       "      <td>0.722222</td>\n",
       "    </tr>\n",
       "  </tbody>\n",
       "</table>\n",
       "<p>5 rows × 200 columns</p>\n",
       "</div>"
      ],
      "text/plain": [
       "           dtxsid DSSTox_QC-Level  \\\n",
       "0   DTXSID6071372     DSSTox_High   \n",
       "1   DTXSID9066673     DSSTox_High   \n",
       "2  DTXSID80880488     DSSTox_High   \n",
       "3  DTXSID60880966     DSSTox_High   \n",
       "4  DTXSID50887449     DSSTox_High   \n",
       "\n",
       "                                      Substance_Name Substance_CASRN  \\\n",
       "0        N-(Phenylmethyl)perfluoroheptanesulfonamide      68298-10-2   \n",
       "1  Bis(2-(ethyl((heptadecafluorooctyl)sulphonyl)a...      21055-88-9   \n",
       "2  Potassium 2,3,4,5-tetrachloro-6-(((3-(((heptad...      57589-85-2   \n",
       "3  N3-(2-(((heptadecafluorooctyl)sulfonyl)methyla...      73019-20-2   \n",
       "4  2,3,4,5-Tetrachloro-6-[3-(perfluoroheptyl)sulf...      68541-01-5   \n",
       "\n",
       "    Substance_Type                                Substance_Note  \\\n",
       "0  Single Compound                                           NaN   \n",
       "1  Single Compound                                           NaN   \n",
       "2  Single Compound  Record was reviewed with Common Chemistry.\\n   \n",
       "3  Single Compound                                           NaN   \n",
       "4  Single Compound  Record was reviewed with Common Chemistry.\\n   \n",
       "\n",
       "                                              smiles  \\\n",
       "0  FC(F)(F)C(F)(F)C(F)(F)C(F)(F)C(F)(F)C(F)(F)C(F...   \n",
       "1  CCN(CCOC(=O)NC1=CC=C(C)C(NC(=O)OCCN(CC)S(=O)(=...   \n",
       "2  [K+].[H]N(C(=O)C1=C(C([O-])=O)C(Cl)=C(Cl)C(Cl)...   \n",
       "3  CCCN(CCNC(=O)C1=CC=C(C)C(=C1)C(=O)NCCN(C)S(=O)...   \n",
       "4  [K+].[O-]C(=O)C1=C(Cl)C(Cl)=C(Cl)C(Cl)=C1C(=O)...   \n",
       "\n",
       "                                     Structure_InChI  \\\n",
       "0  InChI=1S/C14H8F15NO2S/c15-8(16,9(17,18)11(21,2...   \n",
       "1  InChI=1S/C33H26F34N4O8S2/c1-4-70(80(74,75)32(6...   \n",
       "2  InChI=1S/C22H6Cl4F17NO6S.K/c23-9-7(8(14(46)47)...   \n",
       "3  InChI=1S/C33H26F34N4O6S2/c1-4-9-71(79(76,77)33...   \n",
       "4  InChI=1S/C21H6Cl4F15NO6S.K/c22-9-7(8(14(43)44)...   \n",
       "\n",
       "            Structure_InChIKey Structure_Formula  ...  \\\n",
       "0  ZJIFWMOMOPJFRZ-UHFFFAOYSA-N      C14H8F15NO2S  ...   \n",
       "1  UTFFCBMSUHQFKN-UHFFFAOYSA-N   C33H26F34N4O8S2  ...   \n",
       "2  HZRBKZMKUYGJRU-UHFFFAOYSA-M  C22H5Cl4F17KNO6S  ...   \n",
       "3  TZGYROAPHGJQIG-UHFFFAOYSA-N   C33H26F34N4O6S2  ...   \n",
       "4  NIQGEMTXVGOSBT-UHFFFAOYSA-M  C21H5Cl4F15KNO6S  ...   \n",
       "\n",
       "                final_centroid final_dist  \\\n",
       "0  IROQAHVXXUQBOS-UHFFFAOYSA-N   0.701149   \n",
       "1  IROQAHVXXUQBOS-UHFFFAOYSA-N   0.669811   \n",
       "2  IROQAHVXXUQBOS-UHFFFAOYSA-N   0.727273   \n",
       "3  IROQAHVXXUQBOS-UHFFFAOYSA-N   0.408602   \n",
       "4  IROQAHVXXUQBOS-UHFFFAOYSA-N   0.727273   \n",
       "\n",
       "                                  group                             group_str  \\\n",
       "0  ('Aromatic PFASs', 'gte7', nan, nan)  ('Aromatic PFASs', 'gte7', nan, nan)   \n",
       "1  ('Aromatic PFASs', 'gte7', nan, nan)  ('Aromatic PFASs', 'gte7', nan, nan)   \n",
       "2  ('Aromatic PFASs', 'gte7', nan, nan)  ('Aromatic PFASs', 'gte7', nan, nan)   \n",
       "3  ('Aromatic PFASs', 'gte7', nan, nan)  ('Aromatic PFASs', 'gte7', nan, nan)   \n",
       "4  ('Aromatic PFASs', 'gte7', nan, nan)  ('Aromatic PFASs', 'gte7', nan, nan)   \n",
       "\n",
       "   MaxMin_picks  tsca_centroid  tsca_centroid_id  tsca_centroid_id2  \\\n",
       "0             0       centroid     DTXSID6071372      DTXSID6071372   \n",
       "1             0            NaN               NaN      DTXSID6071372   \n",
       "2             0            NaN               NaN      DTXSID6071372   \n",
       "3             0            NaN               NaN      DTXSID6071372   \n",
       "4             0            NaN               NaN      DTXSID6071372   \n",
       "\n",
       "   tsca_analogues  tsca_dist  \n",
       "0   DTXSID6071372        0.0  \n",
       "1   DTXSID9066673   0.752688  \n",
       "2  DTXSID80880488   0.722222  \n",
       "3  DTXSID60880966   0.744898  \n",
       "4  DTXSID50887449   0.722222  \n",
       "\n",
       "[5 rows x 200 columns]"
      ]
     },
     "execution_count": 34,
     "metadata": {},
     "output_type": "execute_result"
    }
   ],
   "source": [
    "df3_w.head()"
   ]
  },
  {
   "cell_type": "markdown",
   "id": "10bd7c98-5e7b-4c26-a79d-3590c1807a21",
   "metadata": {},
   "source": [
    "Now have our centroids and pairwise distances for the tsca_pfas set"
   ]
  },
  {
   "cell_type": "code",
   "execution_count": 35,
   "id": "49be6185-9109-441e-a2fe-da783a6a9de6",
   "metadata": {},
   "outputs": [],
   "source": [
    "cats = df3_w['group_str'].unique().tolist()\n"
   ]
  },
  {
   "cell_type": "code",
   "execution_count": 36,
   "id": "9071020c-1fde-4996-9de1-0da537b06dec",
   "metadata": {},
   "outputs": [],
   "source": [
    "def content_max(df,  k = None):\n",
    "    content = {}\n",
    "    tdf = df[df['group_str'] == k]\n",
    "    content['t_dict'] = {k:Chem.MolFromSmiles(v) for k,v in zip(tdf['dtxsid'], tdf['smiles'])}\n",
    "    content['fp_dict'] = [AllChem.GetMorganFingerprintAsBitVect(i, 3, 1024) for i in content['t_dict'].values()]\n",
    "    content['nfp_dict'] = len(content['fp_dict'])\n",
    "    content['t_index'] = {k:v for k,v in enumerate(content['t_dict'].keys())} \n",
    "    content['k'] = k\n",
    "    \n",
    "    return content"
   ]
  },
  {
   "cell_type": "code",
   "execution_count": 37,
   "id": "d6dfba54-9a77-4e97-981e-df446e16865d",
   "metadata": {},
   "outputs": [],
   "source": [
    "lte_summaries = []\n",
    "for k in cats:\n",
    "    try:\n",
    "        lte_summaries.append(content_max(df3_w, k))\n",
    "    except Exception as error:\n",
    "        print(k)\n"
   ]
  },
  {
   "cell_type": "code",
   "execution_count": 38,
   "id": "fe1a02db-e54c-4fa6-9830-97668761cd30",
   "metadata": {},
   "outputs": [],
   "source": [
    "from rdkit.SimDivFilters import MaxMinPicker"
   ]
  },
  {
   "cell_type": "code",
   "execution_count": 39,
   "id": "0200a4d4-d6b2-4049-aef0-3dc085c98282",
   "metadata": {},
   "outputs": [],
   "source": [
    "def picker_func(fps, n1, start_with  = 1, n2 = 3, label = None, fps_index = None):\n",
    "    picker_dict = {}\n",
    "    mmp = MaxMinPicker()\n",
    "    picker_dict['label'] = label\n",
    "    picker_dict['indices'] = mmp.LazyBitVectorPick(fps,n1, start_with+n2, [0])\n",
    "    picker_dict['diverse_chems'] = [fps_index[x] for x in picker_dict['indices']]\n",
    "    return picker_dict\n"
   ]
  },
  {
   "cell_type": "code",
   "execution_count": 40,
   "id": "2bcecc55-b630-4b26-ae72-c29c99cf4a3d",
   "metadata": {},
   "outputs": [],
   "source": [
    "picker_lst = []\n",
    "for i in range(len(lte_summaries)):\n",
    "    if lte_summaries[i]['nfp_dict'] > 5:\n",
    "        picker_lst.append(picker_func(lte_summaries[i]['fp_dict'], n1 =lte_summaries[i]['nfp_dict'], n2 = 3, label = lte_summaries[i]['k'], fps_index = lte_summaries[i]['t_index'] ))\n",
    "\n"
   ]
  },
  {
   "cell_type": "code",
   "execution_count": 41,
   "id": "ace1fa84-1434-4292-9a85-82814b5ed42b",
   "metadata": {},
   "outputs": [],
   "source": [
    "mylst2 = []\n",
    "for i in range(len(picker_lst)):\n",
    "    mylst2.append(picker_lst[i]['diverse_chems'])\n"
   ]
  },
  {
   "cell_type": "code",
   "execution_count": 42,
   "id": "c26652d8-7a92-458a-8b07-5940de83aa48",
   "metadata": {},
   "outputs": [],
   "source": [
    "mylst2 = [e for a in mylst2 for e in a]"
   ]
  },
  {
   "cell_type": "code",
   "execution_count": 43,
   "id": "e3207b24-97f2-429a-93f1-75008f7bbace",
   "metadata": {},
   "outputs": [
    {
     "data": {
      "text/plain": [
       "108"
      ]
     },
     "execution_count": 43,
     "metadata": {},
     "output_type": "execute_result"
    }
   ],
   "source": [
    "len(mylst2)"
   ]
  },
  {
   "cell_type": "code",
   "execution_count": 44,
   "id": "b7e27746-2771-464d-a80b-ddd934616613",
   "metadata": {},
   "outputs": [],
   "source": [
    "df3_w['MaxMin_tsca_picks'] = df3_w['dtxsid'].apply(lambda x: 1 if x in mylst2 else 0)\n"
   ]
  },
  {
   "cell_type": "code",
   "execution_count": 45,
   "id": "475504ab-7f11-4d7a-842a-0fd2ea647e48",
   "metadata": {},
   "outputs": [
    {
     "data": {
      "text/plain": [
       "0    455\n",
       "1    108\n",
       "Name: MaxMin_tsca_picks, dtype: int64"
      ]
     },
     "execution_count": 45,
     "metadata": {},
     "output_type": "execute_result"
    }
   ],
   "source": [
    "df3_w.MaxMin_tsca_picks.value_counts()"
   ]
  },
  {
   "cell_type": "code",
   "execution_count": 46,
   "id": "3f97b971-5c10-4581-8bdf-9dd5c7ff5cf2",
   "metadata": {},
   "outputs": [],
   "source": [
    "groups_ =df3_w.groupby('group_str').agg({'MaxMin_tsca_picks' : 'sum'})"
   ]
  },
  {
   "cell_type": "code",
   "execution_count": 47,
   "id": "6e273b90-2156-4fa3-b597-79ab7456d91f",
   "metadata": {},
   "outputs": [
    {
     "data": {
      "text/plain": [
       "(27, 1)"
      ]
     },
     "execution_count": 47,
     "metadata": {},
     "output_type": "execute_result"
    }
   ],
   "source": [
    "groups_[groups_.MaxMin_tsca_picks >0].shape"
   ]
  },
  {
   "cell_type": "code",
   "execution_count": 48,
   "id": "458f5756-ddd2-4730-837d-ba05ba5a3898",
   "metadata": {},
   "outputs": [
    {
     "data": {
      "text/plain": [
       "(53, 1)"
      ]
     },
     "execution_count": 48,
     "metadata": {},
     "output_type": "execute_result"
    }
   ],
   "source": [
    "groups_[groups_.MaxMin_tsca_picks < 4].shape\n",
    "\n",
    "#groups.apply(lambda g: g[g['B'] == g['B'].max()]))"
   ]
  },
  {
   "cell_type": "code",
   "execution_count": 49,
   "id": "52b154ef-6569-40ee-b9a9-d126468f2dee",
   "metadata": {},
   "outputs": [],
   "source": [
    "final_df = pd.merge(df, df3_w[['dtxsid', \n",
    "       'tsca_centroid', 'tsca_centroid_id', 'tsca_centroid_id2',\n",
    "       'tsca_analogues', 'tsca_dist', 'MaxMin_tsca_picks']], on = 'dtxsid', how = 'left')\n"
   ]
  },
  {
   "cell_type": "code",
   "execution_count": 50,
   "id": "3d1a654f-a30e-417e-8393-23b6e7fb9f81",
   "metadata": {},
   "outputs": [
    {
     "data": {
      "text/plain": [
       "Index(['dtxsid', 'DSSTox_QC-Level', 'Substance_Name', 'Substance_CASRN',\n",
       "       'Substance_Type', 'Substance_Note', 'smiles', 'Structure_InChI',\n",
       "       'Structure_InChIKey', 'Structure_Formula',\n",
       "       ...\n",
       "       'final_dist', 'group', 'group_str', 'MaxMin_picks', 'tsca_centroid',\n",
       "       'tsca_centroid_id', 'tsca_centroid_id2', 'tsca_analogues', 'tsca_dist',\n",
       "       'MaxMin_tsca_picks'],\n",
       "      dtype='object', length=201)"
      ]
     },
     "execution_count": 50,
     "metadata": {},
     "output_type": "execute_result"
    }
   ],
   "source": [
    "final_df.columns"
   ]
  },
  {
   "cell_type": "code",
   "execution_count": 51,
   "id": "9acc2cab-d181-4e4f-9c3c-0990b175897c",
   "metadata": {},
   "outputs": [],
   "source": [
    "writer = pd.ExcelWriter(interim_dir+'final_universe_categorisatons_wtsca_constraints_100524.xlsx', engine='xlsxwriter')\n",
    "\n",
    "# Convert the dataframe to an XlsxWriter Excel object.\n",
    "\n",
    "final_df.to_excel(writer)\n",
    "\n",
    "\n",
    "writer.close()\n"
   ]
  },
  {
   "cell_type": "code",
   "execution_count": 52,
   "id": "34daf398-667f-43ea-a800-40e2edc700fe",
   "metadata": {},
   "outputs": [],
   "source": [
    "from venn import venn"
   ]
  },
  {
   "cell_type": "code",
   "execution_count": 53,
   "id": "7ce177a1-c4d0-4ae1-ba40-9bae46228284",
   "metadata": {},
   "outputs": [],
   "source": [
    "#final_df.tsca_centroid_id2"
   ]
  },
  {
   "cell_type": "code",
   "execution_count": 54,
   "id": "86551dfe-bcf3-4f3f-8b3c-df2c0eac7cb5",
   "metadata": {},
   "outputs": [],
   "source": [
    "mydict3 = {\n",
    "           'Unconstrained centroid' : set(final_df['final_centroid'].unique().tolist()),\n",
    "           \n",
    "           'Unconstrained MaxMin selections' : set(final_df[final_df['MaxMin_picks'] ==1]['dtxsid'].tolist()),\n",
    "           'TSCA inventory MaxMin selections' : set(final_df[final_df['MaxMin_tsca_picks']==1]['dtxsid'].tolist()),\n",
    "           'TSCA inventory centroid' : set(final_df['tsca_centroid_id2'].unique().tolist()),\n",
    "           }"
   ]
  },
  {
   "cell_type": "code",
   "execution_count": 55,
   "id": "2b7a6264-0846-4de7-abb0-e92b047ed5b2",
   "metadata": {},
   "outputs": [
    {
     "data": {
      "image/png": "[encoded data removed]",
      "text/plain": [
       "<Figure size 1000x800 with 1 Axes>"
      ]
     },
     "metadata": {},
     "output_type": "display_data"
    }
   ],
   "source": [
    "plt.style.use('ggplot')\n",
    "f, ax = plt.subplots(figsize=(10, 8))\n",
    "#plt.figure(figsize=(18, 8))\n",
    "venn(mydict3, cmap=\"viridis\", fontsize=12, legend_loc=\"upper left\",ax = ax )\n",
    "f.savefig(figures_dir+'Figure7_100524.png', dpi = 300)"
   ]
  },
  {
   "cell_type": "code",
   "execution_count": 56,
   "id": "598f8379-e419-4cd5-9d47-f95043dcf1fc",
   "metadata": {},
   "outputs": [
    {
     "data": {
      "text/plain": [
       "0.625"
      ]
     },
     "execution_count": 56,
     "metadata": {},
     "output_type": "execute_result"
    }
   ],
   "source": [
    "80/128"
   ]
  },
  {
   "cell_type": "code",
   "execution_count": null,
   "id": "a78fc653-bdc3-470e-8bd9-403c3c67bf35",
   "metadata": {},
   "outputs": [],
   "source": []
  }
 ],
 "metadata": {
  "kernelspec": {
   "display_name": "py39",
   "language": "python",
   "name": "py39"
  },
  "language_info": {
   "codemirror_mode": {
    "name": "ipython",
    "version": 3
   },
   "file_extension": ".py",
   "mimetype": "text/x-python",
   "name": "python",
   "nbconvert_exporter": "python",
   "pygments_lexer": "ipython3",
   "version": "3.9.16"
  },
  "widgets": {
   "application/vnd.jupyter.widget-state+json": {
    "state": {},
    "version_major": 2,
    "version_minor": 0
   }
  }
 },
 "nbformat": 4,
 "nbformat_minor": 5
}
