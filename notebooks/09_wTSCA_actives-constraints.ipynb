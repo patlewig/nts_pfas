{
 "cells": [
  {
   "cell_type": "markdown",
   "id": "01ac3cbb-accf-403f-a4fb-2cf1de3ea92b",
   "metadata": {},
   "source": [
    "#### Constraining inventory to the TSCA actives for centroid and MaxMin selection"
   ]
  },
  {
   "cell_type": "markdown",
   "id": "0eb66719-6da6-46d6-835a-58d21ebb6aea",
   "metadata": {},
   "source": [
    "Created by: Grace Patlewicz<br>\n",
    "Last modified: 06 November 2023<br>\n"
   ]
  },
  {
   "cell_type": "markdown",
   "id": "5a23431e-2920-43b2-809d-7c2086586c88",
   "metadata": {},
   "source": [
    "This notebook considers the PFAS Landscape with the contraint that only substances on the active inventory should be considered. Centroids and additional diverse substances are identified and these are captured with the sets of chemical identified from the main unconstrained inventory."
   ]
  },
  {
   "cell_type": "code",
   "execution_count": 1,
   "id": "218761dd-37b9-4fe7-8407-48b953d583cf",
   "metadata": {},
   "outputs": [],
   "source": [
    "import numpy as np\n",
    "import pandas as pd\n",
    "import matplotlib.pyplot as plt\n",
    "import seaborn as sns\n",
    "%matplotlib inline\n",
    "import openpyxl\n",
    "from rdkit.Chem.Draw import IPythonConsole, MolsToGridImage\n",
    "\n",
    "#Show mols in dataframes\n",
    "from rdkit.Chem import PandasTools\n",
    "from rdkit import Chem\n",
    "from rdkit.Chem.Draw import MolsToGridImage\n",
    "from IPython.core.display import HTML\n",
    "from rdkit.Chem import Descriptors\n",
    "from rdkit.ML.Descriptors import MoleculeDescriptors\n",
    "from rdkit.Chem import PandasTools\n",
    "from rdkit.Chem import AllChem\n",
    "from rdkit.Chem import rdDepictor\n",
    "from rdkit.Chem.Fingerprints import FingerprintMols\n",
    "from rdkit import DataStructs\n",
    "import os\n",
    "from scipy.spatial.distance import pdist, squareform\n",
    "import sys"
   ]
  },
  {
   "cell_type": "code",
   "execution_count": 2,
   "id": "921a4f84-8e82-4c0e-93fc-a648af5117fb",
   "metadata": {},
   "outputs": [],
   "source": [
    "TOP = os.getcwd().replace('notebooks', '')\n",
    "raw_dir = TOP + 'data/raw/'\n",
    "interim_dir = TOP + 'data/interim/'\n",
    "external_dir = TOP + 'data/external/'\n",
    "figures_dir = TOP + 'reports/figures/'"
   ]
  },
  {
   "cell_type": "code",
   "execution_count": 3,
   "id": "9bc2081f-16b3-4d09-a2f8-aee14321064d",
   "metadata": {},
   "outputs": [],
   "source": [
    "LIB = TOP+'src/models/'\n",
    "if not LIB in sys.path: \n",
    "    sys.path.insert(0,LIB)"
   ]
  },
  {
   "cell_type": "code",
   "execution_count": 4,
   "id": "a8defb36-128f-47cc-8380-53583b9f335f",
   "metadata": {},
   "outputs": [],
   "source": [
    "from model_functions import *"
   ]
  },
  {
   "cell_type": "code",
   "execution_count": 5,
   "id": "79b3124a-6a78-4fa8-9aa0-1ae811a7046a",
   "metadata": {},
   "outputs": [],
   "source": [
    "df = pd.read_excel(interim_dir+'final_universe_categorisatons_wtsca_constraints_110623.xlsx')"
   ]
  },
  {
   "cell_type": "code",
   "execution_count": 6,
   "id": "369ad093-37c0-4190-98f6-f951ebda9cea",
   "metadata": {},
   "outputs": [
    {
     "data": {
      "text/html": [
       "<div>\n",
       "<style scoped>\n",
       "    .dataframe tbody tr th:only-of-type {\n",
       "        vertical-align: middle;\n",
       "    }\n",
       "\n",
       "    .dataframe tbody tr th {\n",
       "        vertical-align: top;\n",
       "    }\n",
       "\n",
       "    .dataframe thead th {\n",
       "        text-align: right;\n",
       "    }\n",
       "</style>\n",
       "<table border=\"1\" class=\"dataframe\">\n",
       "  <thead>\n",
       "    <tr style=\"text-align: right;\">\n",
       "      <th></th>\n",
       "      <th>dtxsid</th>\n",
       "      <th>DSSTox_QC-Level</th>\n",
       "      <th>Substance_Name</th>\n",
       "      <th>Substance_CASRN</th>\n",
       "      <th>Substance_Type</th>\n",
       "      <th>smiles</th>\n",
       "      <th>Structure_InChI</th>\n",
       "      <th>Structure_InChIKey</th>\n",
       "      <th>Structure_Formula</th>\n",
       "      <th>Structure_MolWt</th>\n",
       "      <th>...</th>\n",
       "      <th>final_dist</th>\n",
       "      <th>group</th>\n",
       "      <th>group_str</th>\n",
       "      <th>MaxMin_picks</th>\n",
       "      <th>tsca_centroid</th>\n",
       "      <th>tsca_centroid_id</th>\n",
       "      <th>tsca_centroid_id2</th>\n",
       "      <th>tsca_analogues</th>\n",
       "      <th>tsca_dist</th>\n",
       "      <th>MaxMin_tsca_picks</th>\n",
       "    </tr>\n",
       "  </thead>\n",
       "  <tbody>\n",
       "    <tr>\n",
       "      <th>0</th>\n",
       "      <td>DTXSID6071908</td>\n",
       "      <td>DSSTox_High</td>\n",
       "      <td>N-Ethyl-N-((pentadecafluoroheptyl)sulphonyl)gl...</td>\n",
       "      <td>68957-63-1</td>\n",
       "      <td>Single Compound</td>\n",
       "      <td>CCN(CC(O)=O)S(=O)(=O)C(F)(F)C(F)(F)C(F)(F)C(F)...</td>\n",
       "      <td>InChI=1S/C11H8F15NO4S/c1-2-27(3-4(28)29)32(30,...</td>\n",
       "      <td>IOQHTIQMCISFKB-UHFFFAOYSA-N</td>\n",
       "      <td>C11H8F15NO4S</td>\n",
       "      <td>535.22</td>\n",
       "      <td>...</td>\n",
       "      <td>0.000000</td>\n",
       "      <td>('FASA based PFAA precursors', 'gte7', nan, nan)</td>\n",
       "      <td>('FASA based PFAA precursors', 'gte7', nan, nan)</td>\n",
       "      <td>1</td>\n",
       "      <td>NaN</td>\n",
       "      <td>NaN</td>\n",
       "      <td>DTXSID1071662</td>\n",
       "      <td>DTXSID6071908</td>\n",
       "      <td>0.375</td>\n",
       "      <td>0.0</td>\n",
       "    </tr>\n",
       "    <tr>\n",
       "      <th>1</th>\n",
       "      <td>DTXSID8071358</td>\n",
       "      <td>DSSTox_High</td>\n",
       "      <td>N-Methyl-perfluoro-1-heptanesulfonamide</td>\n",
       "      <td>68259-14-3</td>\n",
       "      <td>Single Compound</td>\n",
       "      <td>CNS(=O)(=O)C(F)(F)C(F)(F)C(F)(F)C(F)(F)C(F)(F)...</td>\n",
       "      <td>InChI=1S/C8H4F15NO2S/c1-24-27(25,26)8(22,23)6(...</td>\n",
       "      <td>KDHCALLFPWZTPN-UHFFFAOYSA-N</td>\n",
       "      <td>C8H4F15NO2S</td>\n",
       "      <td>463.16</td>\n",
       "      <td>...</td>\n",
       "      <td>0.640000</td>\n",
       "      <td>('FASA based PFAA precursors', 'gte7', nan, nan)</td>\n",
       "      <td>('FASA based PFAA precursors', 'gte7', nan, nan)</td>\n",
       "      <td>0</td>\n",
       "      <td>NaN</td>\n",
       "      <td>NaN</td>\n",
       "      <td>DTXSID1071662</td>\n",
       "      <td>DTXSID8071358</td>\n",
       "      <td>0.625</td>\n",
       "      <td>1.0</td>\n",
       "    </tr>\n",
       "    <tr>\n",
       "      <th>2</th>\n",
       "      <td>DTXSID1071907</td>\n",
       "      <td>DSSTox_High</td>\n",
       "      <td>N-Ethylpentadecafluoro-1-heptanesulfonamide</td>\n",
       "      <td>68957-62-0</td>\n",
       "      <td>Single Compound</td>\n",
       "      <td>CCNS(=O)(=O)C(F)(F)C(F)(F)C(F)(F)C(F)(F)C(F)(F...</td>\n",
       "      <td>InChI=1S/C9H6F15NO2S/c1-2-25-28(26,27)9(23,24)...</td>\n",
       "      <td>WMOMXEHEPXLIAV-UHFFFAOYSA-N</td>\n",
       "      <td>C9H6F15NO2S</td>\n",
       "      <td>477.19</td>\n",
       "      <td>...</td>\n",
       "      <td>0.615385</td>\n",
       "      <td>('FASA based PFAA precursors', 'gte7', nan, nan)</td>\n",
       "      <td>('FASA based PFAA precursors', 'gte7', nan, nan)</td>\n",
       "      <td>0</td>\n",
       "      <td>NaN</td>\n",
       "      <td>NaN</td>\n",
       "      <td>DTXSID1071662</td>\n",
       "      <td>DTXSID1071907</td>\n",
       "      <td>0.600</td>\n",
       "      <td>0.0</td>\n",
       "    </tr>\n",
       "    <tr>\n",
       "      <th>3</th>\n",
       "      <td>DTXSID001026645</td>\n",
       "      <td>DSSTox_Low</td>\n",
       "      <td>1,1,2,2,3,3,4,4,5,5,6,6,7,7,7-Pentadecafluoro-...</td>\n",
       "      <td>167398-54-1</td>\n",
       "      <td>Single Compound</td>\n",
       "      <td>OCCNS(=O)(=O)C(F)(F)C(F)(F)C(F)(F)C(F)(F)C(F)(...</td>\n",
       "      <td>InChI=1S/C9H6F15NO3S/c10-3(11,4(12,13)6(16,17)...</td>\n",
       "      <td>LJJUSVBJKZXMCP-UHFFFAOYSA-N</td>\n",
       "      <td>C9H6F15NO3S</td>\n",
       "      <td>493.19</td>\n",
       "      <td>...</td>\n",
       "      <td>0.660714</td>\n",
       "      <td>('FASA based PFAA precursors', 'gte7', nan, nan)</td>\n",
       "      <td>('FASA based PFAA precursors', 'gte7', nan, nan)</td>\n",
       "      <td>0</td>\n",
       "      <td>NaN</td>\n",
       "      <td>NaN</td>\n",
       "      <td>NaN</td>\n",
       "      <td>NaN</td>\n",
       "      <td>NaN</td>\n",
       "      <td>NaN</td>\n",
       "    </tr>\n",
       "    <tr>\n",
       "      <th>4</th>\n",
       "      <td>DTXSID301026644</td>\n",
       "      <td>DSSTox_Low</td>\n",
       "      <td>(Perfluoroheptyl)(sulfonylamino)acetic acid</td>\n",
       "      <td>1003194-00-0</td>\n",
       "      <td>Single Compound</td>\n",
       "      <td>OC(=O)CNS(=O)(=O)C(F)(F)C(F)(F)C(F)(F)C(F)(F)C...</td>\n",
       "      <td>InChI=1S/C9H4F15NO4S/c10-3(11,4(12,13)6(16,17)...</td>\n",
       "      <td>LAAXCIZXZCKWFF-UHFFFAOYSA-N</td>\n",
       "      <td>C9H4F15NO4S</td>\n",
       "      <td>507.17</td>\n",
       "      <td>...</td>\n",
       "      <td>0.592593</td>\n",
       "      <td>('FASA based PFAA precursors', 'gte7', nan, nan)</td>\n",
       "      <td>('FASA based PFAA precursors', 'gte7', nan, nan)</td>\n",
       "      <td>0</td>\n",
       "      <td>NaN</td>\n",
       "      <td>NaN</td>\n",
       "      <td>NaN</td>\n",
       "      <td>NaN</td>\n",
       "      <td>NaN</td>\n",
       "      <td>NaN</td>\n",
       "    </tr>\n",
       "  </tbody>\n",
       "</table>\n",
       "<p>5 rows × 81 columns</p>\n",
       "</div>"
      ],
      "text/plain": [
       "            dtxsid DSSTox_QC-Level  \\\n",
       "0    DTXSID6071908     DSSTox_High   \n",
       "1    DTXSID8071358     DSSTox_High   \n",
       "2    DTXSID1071907     DSSTox_High   \n",
       "3  DTXSID001026645      DSSTox_Low   \n",
       "4  DTXSID301026644      DSSTox_Low   \n",
       "\n",
       "                                      Substance_Name Substance_CASRN  \\\n",
       "0  N-Ethyl-N-((pentadecafluoroheptyl)sulphonyl)gl...      68957-63-1   \n",
       "1            N-Methyl-perfluoro-1-heptanesulfonamide      68259-14-3   \n",
       "2        N-Ethylpentadecafluoro-1-heptanesulfonamide      68957-62-0   \n",
       "3  1,1,2,2,3,3,4,4,5,5,6,6,7,7,7-Pentadecafluoro-...     167398-54-1   \n",
       "4        (Perfluoroheptyl)(sulfonylamino)acetic acid    1003194-00-0   \n",
       "\n",
       "    Substance_Type                                             smiles  \\\n",
       "0  Single Compound  CCN(CC(O)=O)S(=O)(=O)C(F)(F)C(F)(F)C(F)(F)C(F)...   \n",
       "1  Single Compound  CNS(=O)(=O)C(F)(F)C(F)(F)C(F)(F)C(F)(F)C(F)(F)...   \n",
       "2  Single Compound  CCNS(=O)(=O)C(F)(F)C(F)(F)C(F)(F)C(F)(F)C(F)(F...   \n",
       "3  Single Compound  OCCNS(=O)(=O)C(F)(F)C(F)(F)C(F)(F)C(F)(F)C(F)(...   \n",
       "4  Single Compound  OC(=O)CNS(=O)(=O)C(F)(F)C(F)(F)C(F)(F)C(F)(F)C...   \n",
       "\n",
       "                                     Structure_InChI  \\\n",
       "0  InChI=1S/C11H8F15NO4S/c1-2-27(3-4(28)29)32(30,...   \n",
       "1  InChI=1S/C8H4F15NO2S/c1-24-27(25,26)8(22,23)6(...   \n",
       "2  InChI=1S/C9H6F15NO2S/c1-2-25-28(26,27)9(23,24)...   \n",
       "3  InChI=1S/C9H6F15NO3S/c10-3(11,4(12,13)6(16,17)...   \n",
       "4  InChI=1S/C9H4F15NO4S/c10-3(11,4(12,13)6(16,17)...   \n",
       "\n",
       "            Structure_InChIKey Structure_Formula  Structure_MolWt  ...  \\\n",
       "0  IOQHTIQMCISFKB-UHFFFAOYSA-N      C11H8F15NO4S           535.22  ...   \n",
       "1  KDHCALLFPWZTPN-UHFFFAOYSA-N       C8H4F15NO2S           463.16  ...   \n",
       "2  WMOMXEHEPXLIAV-UHFFFAOYSA-N       C9H6F15NO2S           477.19  ...   \n",
       "3  LJJUSVBJKZXMCP-UHFFFAOYSA-N       C9H6F15NO3S           493.19  ...   \n",
       "4  LAAXCIZXZCKWFF-UHFFFAOYSA-N       C9H4F15NO4S           507.17  ...   \n",
       "\n",
       "  final_dist                                             group  \\\n",
       "0   0.000000  ('FASA based PFAA precursors', 'gte7', nan, nan)   \n",
       "1   0.640000  ('FASA based PFAA precursors', 'gte7', nan, nan)   \n",
       "2   0.615385  ('FASA based PFAA precursors', 'gte7', nan, nan)   \n",
       "3   0.660714  ('FASA based PFAA precursors', 'gte7', nan, nan)   \n",
       "4   0.592593  ('FASA based PFAA precursors', 'gte7', nan, nan)   \n",
       "\n",
       "                                          group_str  MaxMin_picks  \\\n",
       "0  ('FASA based PFAA precursors', 'gte7', nan, nan)             1   \n",
       "1  ('FASA based PFAA precursors', 'gte7', nan, nan)             0   \n",
       "2  ('FASA based PFAA precursors', 'gte7', nan, nan)             0   \n",
       "3  ('FASA based PFAA precursors', 'gte7', nan, nan)             0   \n",
       "4  ('FASA based PFAA precursors', 'gte7', nan, nan)             0   \n",
       "\n",
       "  tsca_centroid  tsca_centroid_id  tsca_centroid_id2 tsca_analogues  \\\n",
       "0           NaN               NaN      DTXSID1071662  DTXSID6071908   \n",
       "1           NaN               NaN      DTXSID1071662  DTXSID8071358   \n",
       "2           NaN               NaN      DTXSID1071662  DTXSID1071907   \n",
       "3           NaN               NaN                NaN            NaN   \n",
       "4           NaN               NaN                NaN            NaN   \n",
       "\n",
       "   tsca_dist  MaxMin_tsca_picks  \n",
       "0      0.375                0.0  \n",
       "1      0.625                1.0  \n",
       "2      0.600                0.0  \n",
       "3        NaN                NaN  \n",
       "4        NaN                NaN  \n",
       "\n",
       "[5 rows x 81 columns]"
      ]
     },
     "execution_count": 6,
     "metadata": {},
     "output_type": "execute_result"
    }
   ],
   "source": [
    "df.drop(['Unnamed: 0'], axis = 1, inplace = True)\n",
    "df.head()"
   ]
  },
  {
   "cell_type": "markdown",
   "id": "1b2b353b-94d6-4117-b34a-9cdcb85b7bdc",
   "metadata": {},
   "source": [
    "#### Constraining the universe to TSCA actives and computing centroids and MaxMin from the contrained inventory"
   ]
  },
  {
   "cell_type": "markdown",
   "id": "670d8b0a-4cc9-4cdf-aee6-824ab878f6e7",
   "metadata": {},
   "source": [
    "Calculate centroids for terminal categories but constraining the substances to those with substances on the TSCA active inventory"
   ]
  },
  {
   "cell_type": "code",
   "execution_count": 7,
   "id": "aa04f364-55bb-4a1e-a58e-697810ebcf87",
   "metadata": {},
   "outputs": [],
   "source": [
    "pfas_tsca = df[df['TSCA_STATUS']== 'active']"
   ]
  },
  {
   "cell_type": "code",
   "execution_count": 8,
   "id": "22df3407-c3ec-48d5-bec0-0691982fa3ae",
   "metadata": {},
   "outputs": [
    {
     "data": {
      "text/plain": [
       "(321, 81)"
      ]
     },
     "execution_count": 8,
     "metadata": {},
     "output_type": "execute_result"
    }
   ],
   "source": [
    "pfas_tsca.shape"
   ]
  },
  {
   "cell_type": "code",
   "execution_count": 9,
   "id": "1a918b16-5d9b-44b3-bbb2-c1679522f11e",
   "metadata": {},
   "outputs": [],
   "source": [
    "results_subcats = {}\n",
    "for i, group in pfas_tsca.groupby('group_str'):\n",
    "    try:\n",
    "        a = mk_fp(group)\n",
    "    except Exception as error:\n",
    "        print(error)\n",
    "    else:\n",
    "        results_subcats[i] = a\n"
   ]
  },
  {
   "cell_type": "code",
   "execution_count": 10,
   "id": "cf7751e1-6705-481a-a67b-cc341f2f7dd0",
   "metadata": {},
   "outputs": [],
   "source": [
    "distances_subcats = {}\n",
    "for k,v in results_subcats.items():\n",
    "    a = distance_matrix(results_subcats[k])\n",
    "    distances_subcats[k] = a"
   ]
  },
  {
   "cell_type": "code",
   "execution_count": 11,
   "id": "44095a59-f620-43d1-9155-711e80d65136",
   "metadata": {},
   "outputs": [
    {
     "data": {
      "text/plain": [
       "57"
      ]
     },
     "execution_count": 11,
     "metadata": {},
     "output_type": "execute_result"
    }
   ],
   "source": [
    "len(results_subcats)\n"
   ]
  },
  {
   "cell_type": "code",
   "execution_count": 12,
   "id": "aa9b8469-a51f-40e7-b05b-0b1feef79c0d",
   "metadata": {},
   "outputs": [
    {
     "data": {
      "text/plain": [
       "16"
      ]
     },
     "execution_count": 12,
     "metadata": {},
     "output_type": "execute_result"
    }
   ],
   "source": [
    "len({k:v.shape[0] for k,v in results_subcats.items() if v.shape[0] >5})"
   ]
  },
  {
   "cell_type": "code",
   "execution_count": 13,
   "id": "e467d719-5523-494f-bf47-a7225ae344b7",
   "metadata": {},
   "outputs": [
    {
     "data": {
      "text/plain": [
       "57"
      ]
     },
     "execution_count": 13,
     "metadata": {},
     "output_type": "execute_result"
    }
   ],
   "source": [
    "len(distances_subcats)"
   ]
  },
  {
   "cell_type": "code",
   "execution_count": 14,
   "id": "8d515b95-98af-4864-92ca-303051462c5b",
   "metadata": {},
   "outputs": [],
   "source": [
    "centres = []\n",
    "for i,group in pfas_tsca.groupby('group_str'):\n",
    "    try:\n",
    "        m = medoid_calc(distances_subcats[i])\n",
    "        centres.append(m)\n",
    "    except Exception as error:\n",
    "        print(error)\n"
   ]
  },
  {
   "cell_type": "code",
   "execution_count": 15,
   "id": "474f368c-7f84-4adc-b266-2e7b977600e8",
   "metadata": {},
   "outputs": [
    {
     "name": "stderr",
     "output_type": "stream",
     "text": [
      "/tmp/ipykernel_1998118/3181416301.py:1: SettingWithCopyWarning: \n",
      "A value is trying to be set on a copy of a slice from a DataFrame.\n",
      "Try using .loc[row_indexer,col_indexer] = value instead\n",
      "\n",
      "See the caveats in the documentation: https://pandas.pydata.org/pandas-docs/stable/user_guide/indexing.html#returning-a-view-versus-a-copy\n",
      "  pfas_tsca['tsca_active_centroid'] = pfas_tsca['dtxsid'].apply(lambda x: 'centroid' if x in centres else np.nan)\n"
     ]
    }
   ],
   "source": [
    "pfas_tsca['tsca_active_centroid'] = pfas_tsca['dtxsid'].apply(lambda x: 'centroid' if x in centres else np.nan)"
   ]
  },
  {
   "cell_type": "code",
   "execution_count": 16,
   "id": "7e6e602b-7c21-4230-8758-fd08d3cd5a1a",
   "metadata": {},
   "outputs": [
    {
     "data": {
      "text/plain": [
       "centroid    57\n",
       "Name: tsca_active_centroid, dtype: int64"
      ]
     },
     "execution_count": 16,
     "metadata": {},
     "output_type": "execute_result"
    }
   ],
   "source": [
    "pfas_tsca.tsca_active_centroid.value_counts()"
   ]
  },
  {
   "cell_type": "code",
   "execution_count": 17,
   "id": "f568fe7a-0db1-4828-ad03-baf9c5d5b652",
   "metadata": {},
   "outputs": [],
   "source": [
    "df3 = pfas_tsca.copy()"
   ]
  },
  {
   "cell_type": "code",
   "execution_count": 18,
   "id": "f72e96d5-1740-408c-b152-a86252abc783",
   "metadata": {},
   "outputs": [],
   "source": [
    "df_3 = df3.set_index('dtxsid')"
   ]
  },
  {
   "cell_type": "code",
   "execution_count": 19,
   "id": "4b25748b-e860-4e5b-885d-d2d0d04437b6",
   "metadata": {},
   "outputs": [],
   "source": [
    "members = {}\n",
    "\n",
    "for i, group in df_3.groupby('group_str'):\n",
    "    subset = group[['group_str', 'tsca_active_centroid']]\n",
    "    try: \n",
    "        for x, y in subset.iterrows():\n",
    "            a, b = y\n",
    "            if b == 'centroid':\n",
    "                #print(x)\n",
    "                c = [distances_subcats[i][x].index, distances_subcats[i][x].values]\n",
    "                members[x] = c\n",
    "    except Exception as error:\n",
    "            print(error)"
   ]
  },
  {
   "cell_type": "code",
   "execution_count": 20,
   "id": "88199408-741e-40c9-8403-df364052b756",
   "metadata": {},
   "outputs": [
    {
     "data": {
      "text/html": [
       "<div>\n",
       "<style scoped>\n",
       "    .dataframe tbody tr th:only-of-type {\n",
       "        vertical-align: middle;\n",
       "    }\n",
       "\n",
       "    .dataframe tbody tr th {\n",
       "        vertical-align: top;\n",
       "    }\n",
       "\n",
       "    .dataframe thead th {\n",
       "        text-align: right;\n",
       "    }\n",
       "</style>\n",
       "<table border=\"1\" class=\"dataframe\">\n",
       "  <thead>\n",
       "    <tr style=\"text-align: right;\">\n",
       "      <th></th>\n",
       "      <th>tsca_active_centroid</th>\n",
       "      <th>lvl2_analogues</th>\n",
       "      <th>lvl2_Dist</th>\n",
       "    </tr>\n",
       "  </thead>\n",
       "  <tbody>\n",
       "    <tr>\n",
       "      <th>0</th>\n",
       "      <td>DTXSID6027426</td>\n",
       "      <td>DTXSID1071907</td>\n",
       "      <td>0.6</td>\n",
       "    </tr>\n",
       "    <tr>\n",
       "      <th>0</th>\n",
       "      <td>DTXSID6027426</td>\n",
       "      <td>DTXSID6071665</td>\n",
       "      <td>0.391304</td>\n",
       "    </tr>\n",
       "    <tr>\n",
       "      <th>0</th>\n",
       "      <td>DTXSID6027426</td>\n",
       "      <td>DTXSID1067629</td>\n",
       "      <td>0.625</td>\n",
       "    </tr>\n",
       "    <tr>\n",
       "      <th>0</th>\n",
       "      <td>DTXSID6027426</td>\n",
       "      <td>DTXSID1032646</td>\n",
       "      <td>0.6</td>\n",
       "    </tr>\n",
       "    <tr>\n",
       "      <th>0</th>\n",
       "      <td>DTXSID6027426</td>\n",
       "      <td>DTXSID7027831</td>\n",
       "      <td>0.391304</td>\n",
       "    </tr>\n",
       "  </tbody>\n",
       "</table>\n",
       "</div>"
      ],
      "text/plain": [
       "  tsca_active_centroid lvl2_analogues lvl2_Dist\n",
       "0        DTXSID6027426  DTXSID1071907       0.6\n",
       "0        DTXSID6027426  DTXSID6071665  0.391304\n",
       "0        DTXSID6027426  DTXSID1067629     0.625\n",
       "0        DTXSID6027426  DTXSID1032646       0.6\n",
       "0        DTXSID6027426  DTXSID7027831  0.391304"
      ]
     },
     "execution_count": 20,
     "metadata": {},
     "output_type": "execute_result"
    }
   ],
   "source": [
    "cluster_members = pd.DataFrame(list(members.items()))\n",
    "cluster_members.columns = ['tsca_active_centroid', 1]\n",
    "cluster_members[['lvl2_analogues','lvl2_Dist']] = pd.DataFrame(cluster_members[1].tolist(), index= cluster_members.index)\n",
    "cluster_members.drop([1], axis = 1, inplace = True)\n",
    "cluster_members_1 = cluster_members.apply(pd.Series.explode)\n",
    "cluster_members_1.head()\n"
   ]
  },
  {
   "cell_type": "code",
   "execution_count": 21,
   "id": "38b286c7-8893-44ce-9fd0-19ef88286125",
   "metadata": {},
   "outputs": [],
   "source": [
    "df3['tsca_active_centroid_id'] = df3.apply(lambda x: x['dtxsid'] if x['tsca_active_centroid'] == 'centroid' else np.nan, axis = 1)\n"
   ]
  },
  {
   "cell_type": "code",
   "execution_count": 22,
   "id": "598a22ca-0b0e-4155-b78d-97be618c94d6",
   "metadata": {},
   "outputs": [],
   "source": [
    "df3 = df3.sort_values(by = ['group_str', 'tsca_active_centroid_id'], ascending = [True, False])"
   ]
  },
  {
   "cell_type": "code",
   "execution_count": 23,
   "id": "afecff2e-d46a-49ab-a613-19886a75a2b4",
   "metadata": {},
   "outputs": [],
   "source": [
    "df3['tsca_active_centroid_id2'] = df3['tsca_active_centroid_id'].fillna(method = 'ffill')\n"
   ]
  },
  {
   "cell_type": "code",
   "execution_count": 24,
   "id": "e68523d4-5afa-43f1-b1c0-fd12e1766040",
   "metadata": {},
   "outputs": [],
   "source": [
    "mydict_ = {}\n",
    "for i, group in df3.groupby('tsca_active_centroid_id2'):\n",
    "    k = [n for n in group['tsca_active_centroid_id2'] if n != ' '][0]\n",
    "    v = list(group['dtxsid'])\n",
    "    mydict_[k] = v\n"
   ]
  },
  {
   "cell_type": "code",
   "execution_count": 25,
   "id": "e8ad26da-1588-43f7-b4cf-c1cd4e45edc0",
   "metadata": {},
   "outputs": [
    {
     "data": {
      "text/plain": [
       "57"
      ]
     },
     "execution_count": 25,
     "metadata": {},
     "output_type": "execute_result"
    }
   ],
   "source": [
    "len(list(mydict_.values()))"
   ]
  },
  {
   "cell_type": "code",
   "execution_count": 26,
   "id": "8ffbe2ca-ee7f-486f-83ef-8ec9f63bc104",
   "metadata": {},
   "outputs": [],
   "source": [
    "dist_ = []\n",
    "for i, group in cluster_members_1.groupby('tsca_active_centroid'):\n",
    "    a = cluster_members_1[(cluster_members_1['tsca_active_centroid'] == i) & (cluster_members_1['lvl2_analogues'].isin(mydict_[i]))]\n",
    "    dist_.append(a)"
   ]
  },
  {
   "cell_type": "code",
   "execution_count": 27,
   "id": "42517c97-aaa4-4a8e-acea-de0c91d018d3",
   "metadata": {},
   "outputs": [],
   "source": [
    "dist_df = pd.concat([e for e in dist_])"
   ]
  },
  {
   "cell_type": "code",
   "execution_count": 28,
   "id": "282fc00f-e337-4e5e-bede-d3f1dc22172f",
   "metadata": {},
   "outputs": [],
   "source": [
    "df3_w = pd.merge(df3, dist_df[['lvl2_analogues', 'lvl2_Dist']], left_on = 'dtxsid', right_on = 'lvl2_analogues', how = 'left')\n"
   ]
  },
  {
   "cell_type": "code",
   "execution_count": 29,
   "id": "5801d79a-2d7c-49e2-a468-be4f9eba5726",
   "metadata": {},
   "outputs": [
    {
     "data": {
      "text/plain": [
       "Index(['dtxsid', 'DSSTox_QC-Level', 'Substance_Name', 'Substance_CASRN',\n",
       "       'Substance_Type', 'smiles', 'Structure_InChI', 'Structure_InChIKey',\n",
       "       'Structure_Formula', 'Structure_MolWt', 'Structure_SMILES_2D-QSAR',\n",
       "       'Canonical_QSARr', 'TSCA_STATUS', 'chain_length', 'category',\n",
       "       'MolWeight', 'LogP_pred', 'LogP_predRange', 'AD_LogP', 'AD_index_LogP',\n",
       "       'Conf_index_LogP', 'MP_pred', 'MP_predRange', 'AD_MP', 'AD_index_MP',\n",
       "       'Conf_index_MP', 'BP_pred', 'BP_predRange', 'AD_BP', 'AD_index_BP',\n",
       "       'Conf_index_BP', 'LogVP_pred', 'VP_predRange', 'AD_VP', 'AD_index_VP',\n",
       "       'Conf_index_VP', 'LogWS_pred', 'WS_predRange', 'AD_WS', 'AD_index_WS',\n",
       "       'Conf_index_WS', 'LogHL_pred', 'HL_predRange', 'AD_HL', 'AD_index_HL',\n",
       "       'Conf_index_HL', 'ID', 'tsca_match', 'subcategory', 'cluster',\n",
       "       'cluster_centroid', 'centroid_x', 'centroid2', 'centroid_y',\n",
       "       'analogues', 'Dist', 'level2_cluster_centroid', 'cluster_d',\n",
       "       'lvl2_centroid', 'lvl2_centroid2', 'lvl2_analogues_x', 'lvl2_Dist_x',\n",
       "       'prelim_final_centroid', 'prelim_final_dist', 'level3_cluster_centroid',\n",
       "       'lvl_cluster_d', 'lvl3_centroid', 'lvl3_centroid2', 'lvl3_analogues',\n",
       "       'lvl3_Dist', 'final_centroid', 'final_dist', 'group', 'group_str',\n",
       "       'MaxMin_picks', 'tsca_centroid', 'tsca_centroid_id',\n",
       "       'tsca_centroid_id2', 'tsca_analogues', 'tsca_dist', 'MaxMin_tsca_picks',\n",
       "       'tsca_active_centroid', 'tsca_active_centroid_id',\n",
       "       'tsca_active_centroid_id2', 'lvl2_analogues_y', 'lvl2_Dist_y'],\n",
       "      dtype='object')"
      ]
     },
     "execution_count": 29,
     "metadata": {},
     "output_type": "execute_result"
    }
   ],
   "source": [
    "df3_w.columns"
   ]
  },
  {
   "cell_type": "code",
   "execution_count": 30,
   "id": "cd50cf90-c932-427a-8699-3967299d0156",
   "metadata": {},
   "outputs": [],
   "source": [
    "df3_w.rename(columns = {'lvl2_analogues_x' : 'lvl2_analogues', 'lvl2_Dist_x' : 'lvl2_Dist', 'lvl2_analogues_y' : 'tsca_active_analogues' ,'lvl2_Dist_y' : 'tsca_active_dist'},  inplace = True)"
   ]
  },
  {
   "cell_type": "code",
   "execution_count": 31,
   "id": "aa2a850c-85c8-442b-84f5-24569faad2fa",
   "metadata": {},
   "outputs": [
    {
     "data": {
      "text/html": [
       "<div>\n",
       "<style scoped>\n",
       "    .dataframe tbody tr th:only-of-type {\n",
       "        vertical-align: middle;\n",
       "    }\n",
       "\n",
       "    .dataframe tbody tr th {\n",
       "        vertical-align: top;\n",
       "    }\n",
       "\n",
       "    .dataframe thead th {\n",
       "        text-align: right;\n",
       "    }\n",
       "</style>\n",
       "<table border=\"1\" class=\"dataframe\">\n",
       "  <thead>\n",
       "    <tr style=\"text-align: right;\">\n",
       "      <th></th>\n",
       "      <th>dtxsid</th>\n",
       "      <th>DSSTox_QC-Level</th>\n",
       "      <th>Substance_Name</th>\n",
       "      <th>Substance_CASRN</th>\n",
       "      <th>Substance_Type</th>\n",
       "      <th>smiles</th>\n",
       "      <th>Structure_InChI</th>\n",
       "      <th>Structure_InChIKey</th>\n",
       "      <th>Structure_Formula</th>\n",
       "      <th>Structure_MolWt</th>\n",
       "      <th>...</th>\n",
       "      <th>tsca_centroid_id</th>\n",
       "      <th>tsca_centroid_id2</th>\n",
       "      <th>tsca_analogues</th>\n",
       "      <th>tsca_dist</th>\n",
       "      <th>MaxMin_tsca_picks</th>\n",
       "      <th>tsca_active_centroid</th>\n",
       "      <th>tsca_active_centroid_id</th>\n",
       "      <th>tsca_active_centroid_id2</th>\n",
       "      <th>tsca_active_analogues</th>\n",
       "      <th>tsca_active_dist</th>\n",
       "    </tr>\n",
       "  </thead>\n",
       "  <tbody>\n",
       "    <tr>\n",
       "      <th>0</th>\n",
       "      <td>DTXSID6027426</td>\n",
       "      <td>DSSTox_High</td>\n",
       "      <td>N-Ethyl-N-(2-hydroxyethyl)perfluorooctane sulf...</td>\n",
       "      <td>1691-99-2</td>\n",
       "      <td>Single Compound</td>\n",
       "      <td>CCN(CCO)S(=O)(=O)C(F)(F)C(F)(F)C(F)(F)C(F)(F)C...</td>\n",
       "      <td>InChI=1S/C12H10F17NO3S/c1-2-30(3-4-31)34(32,33...</td>\n",
       "      <td>HUFHNYZNTFSKCT-UHFFFAOYSA-N</td>\n",
       "      <td>C12H10F17NO3S</td>\n",
       "      <td>571.25</td>\n",
       "      <td>...</td>\n",
       "      <td>NaN</td>\n",
       "      <td>DTXSID1071662</td>\n",
       "      <td>DTXSID6027426</td>\n",
       "      <td>0.000000</td>\n",
       "      <td>0.0</td>\n",
       "      <td>centroid</td>\n",
       "      <td>DTXSID6027426</td>\n",
       "      <td>DTXSID6027426</td>\n",
       "      <td>DTXSID6027426</td>\n",
       "      <td>0.0</td>\n",
       "    </tr>\n",
       "    <tr>\n",
       "      <th>1</th>\n",
       "      <td>DTXSID1071907</td>\n",
       "      <td>DSSTox_High</td>\n",
       "      <td>N-Ethylpentadecafluoro-1-heptanesulfonamide</td>\n",
       "      <td>68957-62-0</td>\n",
       "      <td>Single Compound</td>\n",
       "      <td>CCNS(=O)(=O)C(F)(F)C(F)(F)C(F)(F)C(F)(F)C(F)(F...</td>\n",
       "      <td>InChI=1S/C9H6F15NO2S/c1-2-25-28(26,27)9(23,24)...</td>\n",
       "      <td>WMOMXEHEPXLIAV-UHFFFAOYSA-N</td>\n",
       "      <td>C9H6F15NO2S</td>\n",
       "      <td>477.19</td>\n",
       "      <td>...</td>\n",
       "      <td>NaN</td>\n",
       "      <td>DTXSID1071662</td>\n",
       "      <td>DTXSID1071907</td>\n",
       "      <td>0.600000</td>\n",
       "      <td>0.0</td>\n",
       "      <td>NaN</td>\n",
       "      <td>NaN</td>\n",
       "      <td>DTXSID6027426</td>\n",
       "      <td>DTXSID1071907</td>\n",
       "      <td>0.6</td>\n",
       "    </tr>\n",
       "    <tr>\n",
       "      <th>2</th>\n",
       "      <td>DTXSID6071665</td>\n",
       "      <td>DSSTox_High</td>\n",
       "      <td>Pentadecafluoro-N-(2-hydroxyethyl)-N-methyl-1-...</td>\n",
       "      <td>68555-76-0</td>\n",
       "      <td>Single Compound</td>\n",
       "      <td>CN(CCO)S(=O)(=O)C(F)(F)C(F)(F)C(F)(F)C(F)(F)C(...</td>\n",
       "      <td>InChI=1S/C10H8F15NO3S/c1-26(2-3-27)30(28,29)10...</td>\n",
       "      <td>UIZUTEDYGNRNSW-UHFFFAOYSA-N</td>\n",
       "      <td>C10H8F15NO3S</td>\n",
       "      <td>507.21</td>\n",
       "      <td>...</td>\n",
       "      <td>NaN</td>\n",
       "      <td>DTXSID1071662</td>\n",
       "      <td>DTXSID6071665</td>\n",
       "      <td>0.391304</td>\n",
       "      <td>0.0</td>\n",
       "      <td>NaN</td>\n",
       "      <td>NaN</td>\n",
       "      <td>DTXSID6027426</td>\n",
       "      <td>DTXSID6071665</td>\n",
       "      <td>0.391304</td>\n",
       "    </tr>\n",
       "    <tr>\n",
       "      <th>3</th>\n",
       "      <td>DTXSID1067629</td>\n",
       "      <td>DSSTox_High</td>\n",
       "      <td>N-Methylperfluorooctanesulfonamide</td>\n",
       "      <td>31506-32-8</td>\n",
       "      <td>Single Compound</td>\n",
       "      <td>CNS(=O)(=O)C(F)(F)C(F)(F)C(F)(F)C(F)(F)C(F)(F)...</td>\n",
       "      <td>InChI=1S/C9H4F17NO2S/c1-27-30(28,29)9(25,26)7(...</td>\n",
       "      <td>SRMWNTGHXHOWBT-UHFFFAOYSA-N</td>\n",
       "      <td>C9H4F17NO2S</td>\n",
       "      <td>513.17</td>\n",
       "      <td>...</td>\n",
       "      <td>NaN</td>\n",
       "      <td>DTXSID1071662</td>\n",
       "      <td>DTXSID1067629</td>\n",
       "      <td>0.625000</td>\n",
       "      <td>0.0</td>\n",
       "      <td>NaN</td>\n",
       "      <td>NaN</td>\n",
       "      <td>DTXSID6027426</td>\n",
       "      <td>DTXSID1067629</td>\n",
       "      <td>0.625</td>\n",
       "    </tr>\n",
       "    <tr>\n",
       "      <th>4</th>\n",
       "      <td>DTXSID1032646</td>\n",
       "      <td>DSSTox_High</td>\n",
       "      <td>N-Ethylperfluorooctane sulfonamide</td>\n",
       "      <td>4151-50-2</td>\n",
       "      <td>Single Compound</td>\n",
       "      <td>CCNS(=O)(=O)C(F)(F)C(F)(F)C(F)(F)C(F)(F)C(F)(F...</td>\n",
       "      <td>InChI=1S/C10H6F17NO2S/c1-2-28-31(29,30)10(26,2...</td>\n",
       "      <td>CCEKAJIANROZEO-UHFFFAOYSA-N</td>\n",
       "      <td>C10H6F17NO2S</td>\n",
       "      <td>527.20</td>\n",
       "      <td>...</td>\n",
       "      <td>NaN</td>\n",
       "      <td>DTXSID1071662</td>\n",
       "      <td>DTXSID1032646</td>\n",
       "      <td>0.600000</td>\n",
       "      <td>0.0</td>\n",
       "      <td>NaN</td>\n",
       "      <td>NaN</td>\n",
       "      <td>DTXSID6027426</td>\n",
       "      <td>DTXSID1032646</td>\n",
       "      <td>0.6</td>\n",
       "    </tr>\n",
       "  </tbody>\n",
       "</table>\n",
       "<p>5 rows × 86 columns</p>\n",
       "</div>"
      ],
      "text/plain": [
       "          dtxsid DSSTox_QC-Level  \\\n",
       "0  DTXSID6027426     DSSTox_High   \n",
       "1  DTXSID1071907     DSSTox_High   \n",
       "2  DTXSID6071665     DSSTox_High   \n",
       "3  DTXSID1067629     DSSTox_High   \n",
       "4  DTXSID1032646     DSSTox_High   \n",
       "\n",
       "                                      Substance_Name Substance_CASRN  \\\n",
       "0  N-Ethyl-N-(2-hydroxyethyl)perfluorooctane sulf...       1691-99-2   \n",
       "1        N-Ethylpentadecafluoro-1-heptanesulfonamide      68957-62-0   \n",
       "2  Pentadecafluoro-N-(2-hydroxyethyl)-N-methyl-1-...      68555-76-0   \n",
       "3                 N-Methylperfluorooctanesulfonamide      31506-32-8   \n",
       "4                 N-Ethylperfluorooctane sulfonamide       4151-50-2   \n",
       "\n",
       "    Substance_Type                                             smiles  \\\n",
       "0  Single Compound  CCN(CCO)S(=O)(=O)C(F)(F)C(F)(F)C(F)(F)C(F)(F)C...   \n",
       "1  Single Compound  CCNS(=O)(=O)C(F)(F)C(F)(F)C(F)(F)C(F)(F)C(F)(F...   \n",
       "2  Single Compound  CN(CCO)S(=O)(=O)C(F)(F)C(F)(F)C(F)(F)C(F)(F)C(...   \n",
       "3  Single Compound  CNS(=O)(=O)C(F)(F)C(F)(F)C(F)(F)C(F)(F)C(F)(F)...   \n",
       "4  Single Compound  CCNS(=O)(=O)C(F)(F)C(F)(F)C(F)(F)C(F)(F)C(F)(F...   \n",
       "\n",
       "                                     Structure_InChI  \\\n",
       "0  InChI=1S/C12H10F17NO3S/c1-2-30(3-4-31)34(32,33...   \n",
       "1  InChI=1S/C9H6F15NO2S/c1-2-25-28(26,27)9(23,24)...   \n",
       "2  InChI=1S/C10H8F15NO3S/c1-26(2-3-27)30(28,29)10...   \n",
       "3  InChI=1S/C9H4F17NO2S/c1-27-30(28,29)9(25,26)7(...   \n",
       "4  InChI=1S/C10H6F17NO2S/c1-2-28-31(29,30)10(26,2...   \n",
       "\n",
       "            Structure_InChIKey Structure_Formula  Structure_MolWt  ...  \\\n",
       "0  HUFHNYZNTFSKCT-UHFFFAOYSA-N     C12H10F17NO3S           571.25  ...   \n",
       "1  WMOMXEHEPXLIAV-UHFFFAOYSA-N       C9H6F15NO2S           477.19  ...   \n",
       "2  UIZUTEDYGNRNSW-UHFFFAOYSA-N      C10H8F15NO3S           507.21  ...   \n",
       "3  SRMWNTGHXHOWBT-UHFFFAOYSA-N       C9H4F17NO2S           513.17  ...   \n",
       "4  CCEKAJIANROZEO-UHFFFAOYSA-N      C10H6F17NO2S           527.20  ...   \n",
       "\n",
       "  tsca_centroid_id tsca_centroid_id2 tsca_analogues  tsca_dist  \\\n",
       "0              NaN     DTXSID1071662  DTXSID6027426   0.000000   \n",
       "1              NaN     DTXSID1071662  DTXSID1071907   0.600000   \n",
       "2              NaN     DTXSID1071662  DTXSID6071665   0.391304   \n",
       "3              NaN     DTXSID1071662  DTXSID1067629   0.625000   \n",
       "4              NaN     DTXSID1071662  DTXSID1032646   0.600000   \n",
       "\n",
       "  MaxMin_tsca_picks  tsca_active_centroid  tsca_active_centroid_id  \\\n",
       "0               0.0              centroid            DTXSID6027426   \n",
       "1               0.0                   NaN                      NaN   \n",
       "2               0.0                   NaN                      NaN   \n",
       "3               0.0                   NaN                      NaN   \n",
       "4               0.0                   NaN                      NaN   \n",
       "\n",
       "  tsca_active_centroid_id2  tsca_active_analogues  tsca_active_dist  \n",
       "0            DTXSID6027426          DTXSID6027426               0.0  \n",
       "1            DTXSID6027426          DTXSID1071907               0.6  \n",
       "2            DTXSID6027426          DTXSID6071665          0.391304  \n",
       "3            DTXSID6027426          DTXSID1067629             0.625  \n",
       "4            DTXSID6027426          DTXSID1032646               0.6  \n",
       "\n",
       "[5 rows x 86 columns]"
      ]
     },
     "execution_count": 31,
     "metadata": {},
     "output_type": "execute_result"
    }
   ],
   "source": [
    "df3_w.head()"
   ]
  },
  {
   "cell_type": "markdown",
   "id": "10bd7c98-5e7b-4c26-a79d-3590c1807a21",
   "metadata": {},
   "source": [
    "Now have our centroids and pairwise distances for the tsca_pfas set"
   ]
  },
  {
   "cell_type": "code",
   "execution_count": 32,
   "id": "49be6185-9109-441e-a2fe-da783a6a9de6",
   "metadata": {},
   "outputs": [],
   "source": [
    "cats = df3_w['group_str'].unique().tolist()\n"
   ]
  },
  {
   "cell_type": "code",
   "execution_count": 33,
   "id": "9071020c-1fde-4996-9de1-0da537b06dec",
   "metadata": {},
   "outputs": [],
   "source": [
    "def content_max(df,  k = None):\n",
    "    content = {}\n",
    "    tdf = df[df['group_str'] == k]\n",
    "    content['t_dict'] = {k:Chem.MolFromSmiles(v) for k,v in zip(tdf['dtxsid'], tdf['smiles'])}\n",
    "    content['fp_dict'] = [AllChem.GetMorganFingerprintAsBitVect(i, 3, 1024) for i in content['t_dict'].values()]\n",
    "    content['nfp_dict'] = len(content['fp_dict'])\n",
    "    content['t_index'] = {k:v for k,v in enumerate(content['t_dict'].keys())} \n",
    "    content['k'] = k\n",
    "    \n",
    "    return content"
   ]
  },
  {
   "cell_type": "code",
   "execution_count": 34,
   "id": "d6dfba54-9a77-4e97-981e-df446e16865d",
   "metadata": {},
   "outputs": [],
   "source": [
    "lte_summaries = []\n",
    "for k in cats:\n",
    "    try:\n",
    "        lte_summaries.append(content_max(df3_w, k))\n",
    "    except Exception as error:\n",
    "        print(k)\n"
   ]
  },
  {
   "cell_type": "code",
   "execution_count": 35,
   "id": "fe1a02db-e54c-4fa6-9830-97668761cd30",
   "metadata": {},
   "outputs": [],
   "source": [
    "from rdkit.SimDivFilters import MaxMinPicker"
   ]
  },
  {
   "cell_type": "code",
   "execution_count": 36,
   "id": "0200a4d4-d6b2-4049-aef0-3dc085c98282",
   "metadata": {},
   "outputs": [],
   "source": [
    "def picker_func(fps, n1, start_with  = 1, n2 = 3, label = None, fps_index = None):\n",
    "    picker_dict = {}\n",
    "    mmp = MaxMinPicker()\n",
    "    picker_dict['label'] = label\n",
    "    picker_dict['indices'] = mmp.LazyBitVectorPick(fps,n1, start_with+n2, [0])\n",
    "    picker_dict['diverse_chems'] = [fps_index[x] for x in picker_dict['indices']]\n",
    "    return picker_dict\n"
   ]
  },
  {
   "cell_type": "code",
   "execution_count": 37,
   "id": "2bcecc55-b630-4b26-ae72-c29c99cf4a3d",
   "metadata": {},
   "outputs": [],
   "source": [
    "picker_lst = []\n",
    "for i in range(len(lte_summaries)):\n",
    "    if lte_summaries[i]['nfp_dict'] > 5:\n",
    "        picker_lst.append(picker_func(lte_summaries[i]['fp_dict'], n1 =lte_summaries[i]['nfp_dict'], n2 = 3, label = lte_summaries[i]['k'], fps_index = lte_summaries[i]['t_index'] ))\n",
    "\n"
   ]
  },
  {
   "cell_type": "code",
   "execution_count": 38,
   "id": "ace1fa84-1434-4292-9a85-82814b5ed42b",
   "metadata": {},
   "outputs": [],
   "source": [
    "mylst2 = []\n",
    "for i in range(len(picker_lst)):\n",
    "    mylst2.append(picker_lst[i]['diverse_chems'])\n"
   ]
  },
  {
   "cell_type": "code",
   "execution_count": 39,
   "id": "c26652d8-7a92-458a-8b07-5940de83aa48",
   "metadata": {},
   "outputs": [],
   "source": [
    "mylst2 = [e for a in mylst2 for e in a]"
   ]
  },
  {
   "cell_type": "code",
   "execution_count": 40,
   "id": "e3207b24-97f2-429a-93f1-75008f7bbace",
   "metadata": {},
   "outputs": [
    {
     "data": {
      "text/plain": [
       "64"
      ]
     },
     "execution_count": 40,
     "metadata": {},
     "output_type": "execute_result"
    }
   ],
   "source": [
    "len(mylst2)"
   ]
  },
  {
   "cell_type": "code",
   "execution_count": 41,
   "id": "b7e27746-2771-464d-a80b-ddd934616613",
   "metadata": {},
   "outputs": [],
   "source": [
    "df3_w['MaxMin_tsca_active_picks'] = df3_w['dtxsid'].apply(lambda x: 1 if x in mylst2 else 0)\n"
   ]
  },
  {
   "cell_type": "code",
   "execution_count": 42,
   "id": "475504ab-7f11-4d7a-842a-0fd2ea647e48",
   "metadata": {},
   "outputs": [
    {
     "data": {
      "text/plain": [
       "0    257\n",
       "1     64\n",
       "Name: MaxMin_tsca_active_picks, dtype: int64"
      ]
     },
     "execution_count": 42,
     "metadata": {},
     "output_type": "execute_result"
    }
   ],
   "source": [
    "df3_w.MaxMin_tsca_active_picks.value_counts()"
   ]
  },
  {
   "cell_type": "code",
   "execution_count": 43,
   "id": "3f97b971-5c10-4581-8bdf-9dd5c7ff5cf2",
   "metadata": {},
   "outputs": [],
   "source": [
    "groups_ =df3_w.groupby('group_str').agg({'MaxMin_tsca_active_picks' : 'sum'})"
   ]
  },
  {
   "cell_type": "code",
   "execution_count": 44,
   "id": "6e273b90-2156-4fa3-b597-79ab7456d91f",
   "metadata": {},
   "outputs": [
    {
     "data": {
      "text/plain": [
       "(16, 1)"
      ]
     },
     "execution_count": 44,
     "metadata": {},
     "output_type": "execute_result"
    }
   ],
   "source": [
    "groups_[groups_.MaxMin_tsca_active_picks >0].shape"
   ]
  },
  {
   "cell_type": "code",
   "execution_count": 45,
   "id": "458f5756-ddd2-4730-837d-ba05ba5a3898",
   "metadata": {},
   "outputs": [
    {
     "data": {
      "text/plain": [
       "(41, 1)"
      ]
     },
     "execution_count": 45,
     "metadata": {},
     "output_type": "execute_result"
    }
   ],
   "source": [
    "groups_[groups_.MaxMin_tsca_active_picks < 4].shape\n",
    "\n",
    "#groups.apply(lambda g: g[g['B'] == g['B'].max()]))"
   ]
  },
  {
   "cell_type": "code",
   "execution_count": 46,
   "id": "52b154ef-6569-40ee-b9a9-d126468f2dee",
   "metadata": {},
   "outputs": [],
   "source": [
    "final_df = pd.merge(df, df3_w[['dtxsid', \n",
    "       'tsca_active_centroid', 'tsca_active_centroid_id', 'tsca_active_centroid_id2',\n",
    "       'tsca_active_analogues', 'tsca_active_dist', 'MaxMin_tsca_active_picks']], on = 'dtxsid', how = 'left')\n"
   ]
  },
  {
   "cell_type": "code",
   "execution_count": 47,
   "id": "3d1a654f-a30e-417e-8393-23b6e7fb9f81",
   "metadata": {},
   "outputs": [
    {
     "data": {
      "text/plain": [
       "Index(['dtxsid', 'DSSTox_QC-Level', 'Substance_Name', 'Substance_CASRN',\n",
       "       'Substance_Type', 'smiles', 'Structure_InChI', 'Structure_InChIKey',\n",
       "       'Structure_Formula', 'Structure_MolWt', 'Structure_SMILES_2D-QSAR',\n",
       "       'Canonical_QSARr', 'TSCA_STATUS', 'chain_length', 'category',\n",
       "       'MolWeight', 'LogP_pred', 'LogP_predRange', 'AD_LogP', 'AD_index_LogP',\n",
       "       'Conf_index_LogP', 'MP_pred', 'MP_predRange', 'AD_MP', 'AD_index_MP',\n",
       "       'Conf_index_MP', 'BP_pred', 'BP_predRange', 'AD_BP', 'AD_index_BP',\n",
       "       'Conf_index_BP', 'LogVP_pred', 'VP_predRange', 'AD_VP', 'AD_index_VP',\n",
       "       'Conf_index_VP', 'LogWS_pred', 'WS_predRange', 'AD_WS', 'AD_index_WS',\n",
       "       'Conf_index_WS', 'LogHL_pred', 'HL_predRange', 'AD_HL', 'AD_index_HL',\n",
       "       'Conf_index_HL', 'ID', 'tsca_match', 'subcategory', 'cluster',\n",
       "       'cluster_centroid', 'centroid_x', 'centroid2', 'centroid_y',\n",
       "       'analogues', 'Dist', 'level2_cluster_centroid', 'cluster_d',\n",
       "       'lvl2_centroid', 'lvl2_centroid2', 'lvl2_analogues', 'lvl2_Dist',\n",
       "       'prelim_final_centroid', 'prelim_final_dist', 'level3_cluster_centroid',\n",
       "       'lvl_cluster_d', 'lvl3_centroid', 'lvl3_centroid2', 'lvl3_analogues',\n",
       "       'lvl3_Dist', 'final_centroid', 'final_dist', 'group', 'group_str',\n",
       "       'MaxMin_picks', 'tsca_centroid', 'tsca_centroid_id',\n",
       "       'tsca_centroid_id2', 'tsca_analogues', 'tsca_dist', 'MaxMin_tsca_picks',\n",
       "       'tsca_active_centroid', 'tsca_active_centroid_id',\n",
       "       'tsca_active_centroid_id2', 'tsca_active_analogues', 'tsca_active_dist',\n",
       "       'MaxMin_tsca_active_picks'],\n",
       "      dtype='object')"
      ]
     },
     "execution_count": 47,
     "metadata": {},
     "output_type": "execute_result"
    }
   ],
   "source": [
    "final_df.columns"
   ]
  },
  {
   "cell_type": "code",
   "execution_count": 48,
   "id": "9acc2cab-d181-4e4f-9c3c-0990b175897c",
   "metadata": {},
   "outputs": [],
   "source": [
    "writer = pd.ExcelWriter(interim_dir+'final_universe_categorisations_wtsca_active_constraints_061123.xlsx', engine='xlsxwriter')\n",
    "\n",
    "# Convert the dataframe to an XlsxWriter Excel object.\n",
    "\n",
    "final_df.to_excel(writer)\n",
    "\n",
    "\n",
    "writer.close()\n"
   ]
  },
  {
   "cell_type": "code",
   "execution_count": 49,
   "id": "34daf398-667f-43ea-a800-40e2edc700fe",
   "metadata": {},
   "outputs": [],
   "source": [
    "from venn import venn"
   ]
  },
  {
   "cell_type": "code",
   "execution_count": 50,
   "id": "7ce177a1-c4d0-4ae1-ba40-9bae46228284",
   "metadata": {},
   "outputs": [],
   "source": [
    "#final_df.tsca_centroid_id2"
   ]
  },
  {
   "cell_type": "code",
   "execution_count": 51,
   "id": "86551dfe-bcf3-4f3f-8b3c-df2c0eac7cb5",
   "metadata": {},
   "outputs": [],
   "source": [
    "mydict3 = {\n",
    "           'Unconstrained centroid' : set(final_df['final_centroid'].unique().tolist()), \n",
    "           'Unconstrained MaxMin selections' : set(final_df[final_df['MaxMin_picks'] ==1]['dtxsid'].tolist()),\n",
    "           'TSCA inventory MaxMin selections' : set(final_df[final_df['MaxMin_tsca_picks']==1]['dtxsid'].tolist()),\n",
    "           'TSCA inventory centroid' : set(final_df['tsca_centroid_id2'].unique().tolist()),\n",
    "    'TSCA Active inventory MaxMin selections' : set(final_df[final_df['MaxMin_tsca_active_picks']==1]['dtxsid'].tolist()),\n",
    "           'TSCA Active inventory centroid' : set(final_df['tsca_active_centroid_id2'].unique().tolist()),\n",
    "           }"
   ]
  },
  {
   "cell_type": "code",
   "execution_count": 52,
   "id": "ea05dd80-f729-4d19-b592-b7d8240a8faa",
   "metadata": {},
   "outputs": [],
   "source": [
    "mydict3 = {\n",
    "           'Unconstrained centroid' : set(final_df['final_centroid'].unique().tolist()), \n",
    "           'Unconstrained MaxMin selections' : set(final_df[final_df['MaxMin_picks'] ==1]['dtxsid'].tolist()),\n",
    "           \n",
    "    'TSCA Active inventory MaxMin selections' : set(final_df[final_df['MaxMin_tsca_active_picks']==1]['dtxsid'].tolist()),\n",
    "           'TSCA Active inventory centroid' : set(final_df['tsca_active_centroid_id2'].unique().tolist()),\n",
    "           }"
   ]
  },
  {
   "cell_type": "code",
   "execution_count": 57,
   "id": "2b7a6264-0846-4de7-abb0-e92b047ed5b2",
   "metadata": {},
   "outputs": [
    {
     "data": {
      "image/png": "[encoded data removed]",
      "text/plain": [
       "<Figure size 1000x800 with 1 Axes>"
      ]
     },
     "metadata": {},
     "output_type": "display_data"
    }
   ],
   "source": [
    "plt.style.use('ggplot')\n",
    "f, ax = plt.subplots(figsize=(10, 8))\n",
    "#plt.figure(figsize=(18, 8))\n",
    "venn(mydict3, cmap=\"viridis\", fontsize=12, legend_loc=\"upper left\",ax = ax )\n",
    "f.savefig(figures_dir+'Figure7_071123.png', dpi = 300)"
   ]
  },
  {
   "cell_type": "code",
   "execution_count": 55,
   "id": "598f8379-e419-4cd5-9d47-f95043dcf1fc",
   "metadata": {},
   "outputs": [],
   "source": [
    "mydict4 = {\n",
    "          \n",
    "           'TSCA inventory MaxMin selections' : set(final_df[final_df['MaxMin_tsca_picks']==1]['dtxsid'].tolist()),\n",
    "           'TSCA inventory centroid' : set(final_df['tsca_centroid_id2'].unique().tolist()),\n",
    "    'TSCA Active inventory MaxMin selections' : set(final_df[final_df['MaxMin_tsca_active_picks']==1]['dtxsid'].tolist()),\n",
    "           'TSCA Active inventory centroid' : set(final_df['tsca_active_centroid_id2'].unique().tolist()),\n",
    "           }"
   ]
  },
  {
   "cell_type": "code",
   "execution_count": 56,
   "id": "b4bbef00-b855-4d69-911a-bc33c9b9d3c7",
   "metadata": {},
   "outputs": [
    {
     "data": {
      "image/png": "[encoded data removed]",
      "text/plain": [
       "<Figure size 1000x800 with 1 Axes>"
      ]
     },
     "metadata": {},
     "output_type": "display_data"
    }
   ],
   "source": [
    "plt.style.use('ggplot')\n",
    "f, ax = plt.subplots(figsize=(10, 8))\n",
    "#plt.figure(figsize=(18, 8))\n",
    "venn(mydict4, cmap=\"viridis\", fontsize=12, legend_loc=\"upper left\",ax = ax )\n",
    "f.savefig(figures_dir+'FigureS7a_220823.png', dpi = 300)"
   ]
  },
  {
   "cell_type": "code",
   "execution_count": null,
   "id": "35d1cd11-8f6f-4904-be09-95fca86e0d25",
   "metadata": {},
   "outputs": [],
   "source": []
  },
  {
   "cell_type": "code",
   "execution_count": null,
   "id": "db1d75b1-7cfe-4b68-a300-bb81757fa451",
   "metadata": {},
   "outputs": [],
   "source": []
  },
  {
   "cell_type": "code",
   "execution_count": null,
   "id": "a78fc653-bdc3-470e-8bd9-403c3c67bf35",
   "metadata": {},
   "outputs": [],
   "source": []
  }
 ],
 "metadata": {
  "kernelspec": {
   "display_name": "py39",
   "language": "python",
   "name": "py39"
  },
  "language_info": {
   "codemirror_mode": {
    "name": "ipython",
    "version": 3
   },
   "file_extension": ".py",
   "mimetype": "text/x-python",
   "name": "python",
   "nbconvert_exporter": "python",
   "pygments_lexer": "ipython3",
   "version": "3.9.16"
  },
  "widgets": {
   "application/vnd.jupyter.widget-state+json": {
    "state": {},
    "version_major": 2,
    "version_minor": 0
   }
  }
 },
 "nbformat": 4,
 "nbformat_minor": 5
}
