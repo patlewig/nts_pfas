{
 "cells": [
  {
   "cell_type": "markdown",
   "id": "01ac3cbb-accf-403f-a4fb-2cf1de3ea92b",
   "metadata": {},
   "source": [
    "#### Constraining inventory to the TSCA actives for centroid and MaxMin selection"
   ]
  },
  {
   "cell_type": "markdown",
   "id": "0eb66719-6da6-46d6-835a-58d21ebb6aea",
   "metadata": {},
   "source": [
    "Created by: Grace Patlewicz<br>\n",
    "Last modified: 10 May 2024<br>\n",
    "Changes: Re-analysed based on April inventory."
   ]
  },
  {
   "cell_type": "markdown",
   "id": "5a23431e-2920-43b2-809d-7c2086586c88",
   "metadata": {},
   "source": [
    "This notebook considers the PFAS Landscape with the contraint that only substances on the active inventory should be considered. Centroids and additional diverse substances are identified and these are captured with the sets of chemical identified from the main unconstrained inventory."
   ]
  },
  {
   "cell_type": "code",
   "execution_count": 1,
   "id": "218761dd-37b9-4fe7-8407-48b953d583cf",
   "metadata": {},
   "outputs": [],
   "source": [
    "import numpy as np\n",
    "import pandas as pd\n",
    "import matplotlib.pyplot as plt\n",
    "import seaborn as sns\n",
    "%matplotlib inline\n",
    "import openpyxl\n",
    "from rdkit.Chem.Draw import IPythonConsole, MolsToGridImage\n",
    "\n",
    "#Show mols in dataframes\n",
    "from rdkit.Chem import PandasTools\n",
    "from rdkit import Chem\n",
    "from rdkit.Chem.Draw import MolsToGridImage\n",
    "from IPython.core.display import HTML\n",
    "from rdkit.Chem import Descriptors\n",
    "from rdkit.ML.Descriptors import MoleculeDescriptors\n",
    "from rdkit.Chem import PandasTools\n",
    "from rdkit.Chem import AllChem\n",
    "from rdkit.Chem import rdDepictor\n",
    "from rdkit.Chem.Fingerprints import FingerprintMols\n",
    "from rdkit import DataStructs\n",
    "import os\n",
    "from scipy.spatial.distance import pdist, squareform\n",
    "import sys"
   ]
  },
  {
   "cell_type": "code",
   "execution_count": 2,
   "id": "921a4f84-8e82-4c0e-93fc-a648af5117fb",
   "metadata": {},
   "outputs": [],
   "source": [
    "TOP = os.getcwd().replace('notebooks', '')\n",
    "raw_dir = TOP + 'data/raw/'\n",
    "interim_dir = TOP + 'data/interim/'\n",
    "external_dir = TOP + 'data/external/'\n",
    "figures_dir = TOP + 'reports/figures/'"
   ]
  },
  {
   "cell_type": "code",
   "execution_count": 3,
   "id": "9bc2081f-16b3-4d09-a2f8-aee14321064d",
   "metadata": {},
   "outputs": [],
   "source": [
    "LIB = TOP+'src/models/'\n",
    "if not LIB in sys.path: \n",
    "    sys.path.insert(0,LIB)"
   ]
  },
  {
   "cell_type": "code",
   "execution_count": 4,
   "id": "a8defb36-128f-47cc-8380-53583b9f335f",
   "metadata": {},
   "outputs": [],
   "source": [
    "from model_functions import *"
   ]
  },
  {
   "cell_type": "code",
   "execution_count": 5,
   "id": "79b3124a-6a78-4fa8-9aa0-1ae811a7046a",
   "metadata": {},
   "outputs": [],
   "source": [
    "df = pd.read_excel(interim_dir+'final_universe_categorisatons_wtsca_constraints_100524.xlsx')"
   ]
  },
  {
   "cell_type": "code",
   "execution_count": 6,
   "id": "369ad093-37c0-4190-98f6-f951ebda9cea",
   "metadata": {},
   "outputs": [
    {
     "data": {
      "text/html": [
       "<div>\n",
       "<style scoped>\n",
       "    .dataframe tbody tr th:only-of-type {\n",
       "        vertical-align: middle;\n",
       "    }\n",
       "\n",
       "    .dataframe tbody tr th {\n",
       "        vertical-align: top;\n",
       "    }\n",
       "\n",
       "    .dataframe thead th {\n",
       "        text-align: right;\n",
       "    }\n",
       "</style>\n",
       "<table border=\"1\" class=\"dataframe\">\n",
       "  <thead>\n",
       "    <tr style=\"text-align: right;\">\n",
       "      <th></th>\n",
       "      <th>dtxsid</th>\n",
       "      <th>DSSTox_QC-Level</th>\n",
       "      <th>Substance_Name</th>\n",
       "      <th>Substance_CASRN</th>\n",
       "      <th>Substance_Type</th>\n",
       "      <th>Substance_Note</th>\n",
       "      <th>smiles</th>\n",
       "      <th>Structure_InChI</th>\n",
       "      <th>Structure_InChIKey</th>\n",
       "      <th>Structure_Formula</th>\n",
       "      <th>...</th>\n",
       "      <th>final_dist</th>\n",
       "      <th>group</th>\n",
       "      <th>group_str</th>\n",
       "      <th>MaxMin_picks</th>\n",
       "      <th>tsca_centroid</th>\n",
       "      <th>tsca_centroid_id</th>\n",
       "      <th>tsca_centroid_id2</th>\n",
       "      <th>tsca_analogues</th>\n",
       "      <th>tsca_dist</th>\n",
       "      <th>MaxMin_tsca_picks</th>\n",
       "    </tr>\n",
       "  </thead>\n",
       "  <tbody>\n",
       "    <tr>\n",
       "      <th>0</th>\n",
       "      <td>IROQAHVXXUQBOS-UHFFFAOYSA-N</td>\n",
       "      <td>NaN</td>\n",
       "      <td>NaN</td>\n",
       "      <td>NaN</td>\n",
       "      <td>NaN</td>\n",
       "      <td>NaN</td>\n",
       "      <td>CCCN(CCNC(=O)c1ccc(Cc2ccc(C(O)=O)cc2)cc1)S(=O)...</td>\n",
       "      <td>NaN</td>\n",
       "      <td>NaN</td>\n",
       "      <td>NaN</td>\n",
       "      <td>...</td>\n",
       "      <td>0.000000</td>\n",
       "      <td>('Aromatic PFASs', 'gte7', nan, nan)</td>\n",
       "      <td>('Aromatic PFASs', 'gte7', nan, nan)</td>\n",
       "      <td>1</td>\n",
       "      <td>NaN</td>\n",
       "      <td>NaN</td>\n",
       "      <td>NaN</td>\n",
       "      <td>NaN</td>\n",
       "      <td>NaN</td>\n",
       "      <td>NaN</td>\n",
       "    </tr>\n",
       "    <tr>\n",
       "      <th>1</th>\n",
       "      <td>DTXSID90897582</td>\n",
       "      <td>DSSTox_High</td>\n",
       "      <td>4-(Perfluorononyl)oxybenzenesulfonate sodium</td>\n",
       "      <td>91998-13-9</td>\n",
       "      <td>Single Compound</td>\n",
       "      <td>NaN</td>\n",
       "      <td>[Na+].[O-]S(=O)(=O)C1=CC=C(OC(F)(F)C(F)(F)C(F)...</td>\n",
       "      <td>InChI=1S/C15H5F19O4S.Na/c16-7(17,8(18,19)10(22...</td>\n",
       "      <td>WEKFOCTWTWPVEG-UHFFFAOYSA-M</td>\n",
       "      <td>C15H4F19NaO4S</td>\n",
       "      <td>...</td>\n",
       "      <td>0.788889</td>\n",
       "      <td>('Aromatic PFASs', 'gte7', nan, nan)</td>\n",
       "      <td>('Aromatic PFASs', 'gte7', nan, nan)</td>\n",
       "      <td>0</td>\n",
       "      <td>NaN</td>\n",
       "      <td>NaN</td>\n",
       "      <td>NaN</td>\n",
       "      <td>NaN</td>\n",
       "      <td>NaN</td>\n",
       "      <td>NaN</td>\n",
       "    </tr>\n",
       "    <tr>\n",
       "      <th>2</th>\n",
       "      <td>DTXSID90896257</td>\n",
       "      <td>Public_Low</td>\n",
       "      <td>(2S)-2-{Bis[4-(heptadecafluorooctyl)phenyl][(t...</td>\n",
       "      <td>914391-37-0</td>\n",
       "      <td>Single Compound</td>\n",
       "      <td>NaN</td>\n",
       "      <td>CC[Si](CC)(CC)OC([C@@H]1CCCN1)(C1=CC=C(C=C1)C(...</td>\n",
       "      <td>InChI=1S/C39H31F34NOSi/c1-4-76(5-2,6-3)75-23(2...</td>\n",
       "      <td>PARYPNCCAOUHML-QFIPXVFZSA-N</td>\n",
       "      <td>C39H31F34NOSi</td>\n",
       "      <td>...</td>\n",
       "      <td>0.814815</td>\n",
       "      <td>('Aromatic PFASs', 'gte7', nan, nan)</td>\n",
       "      <td>('Aromatic PFASs', 'gte7', nan, nan)</td>\n",
       "      <td>0</td>\n",
       "      <td>NaN</td>\n",
       "      <td>NaN</td>\n",
       "      <td>NaN</td>\n",
       "      <td>NaN</td>\n",
       "      <td>NaN</td>\n",
       "      <td>NaN</td>\n",
       "    </tr>\n",
       "    <tr>\n",
       "      <th>3</th>\n",
       "      <td>DTXSID90896196</td>\n",
       "      <td>Public_Low</td>\n",
       "      <td>2,2,3,3,4,4,5,5,6,6,7,7,8,8,9,9,9-Heptadecaflu...</td>\n",
       "      <td>157584-47-9</td>\n",
       "      <td>Single Compound</td>\n",
       "      <td>NaN</td>\n",
       "      <td>FC(F)(F)C(F)(F)C(F)(F)C(F)(F)C(F)(F)C(F)(F)C(F...</td>\n",
       "      <td>InChI=1S/C21H10F17NO/c22-14(23,13(40)39(11-7-3...</td>\n",
       "      <td>IDJHICNQDCLWAB-UHFFFAOYSA-N</td>\n",
       "      <td>C21H10F17NO</td>\n",
       "      <td>...</td>\n",
       "      <td>0.788889</td>\n",
       "      <td>('Aromatic PFASs', 'gte7', nan, nan)</td>\n",
       "      <td>('Aromatic PFASs', 'gte7', nan, nan)</td>\n",
       "      <td>0</td>\n",
       "      <td>NaN</td>\n",
       "      <td>NaN</td>\n",
       "      <td>NaN</td>\n",
       "      <td>NaN</td>\n",
       "      <td>NaN</td>\n",
       "      <td>NaN</td>\n",
       "    </tr>\n",
       "    <tr>\n",
       "      <th>4</th>\n",
       "      <td>DTXSID90896095</td>\n",
       "      <td>Public_Low</td>\n",
       "      <td>3,3,4,4,5,5,6,6,7,7,8,8,9,9,10,10,10-Heptadeca...</td>\n",
       "      <td>113823-56-6</td>\n",
       "      <td>Single Compound</td>\n",
       "      <td>NaN</td>\n",
       "      <td>CC1=CC=C(C=C1)S(=O)(=O)OCCC(F)(F)C(F)(F)C(F)(F...</td>\n",
       "      <td>InChI=1S/C17H11F17O3S/c1-8-2-4-9(5-3-8)38(35,3...</td>\n",
       "      <td>WGCSEECKLMOBLT-UHFFFAOYSA-N</td>\n",
       "      <td>C17H11F17O3S</td>\n",
       "      <td>...</td>\n",
       "      <td>0.791667</td>\n",
       "      <td>('Aromatic PFASs', 'gte7', nan, nan)</td>\n",
       "      <td>('Aromatic PFASs', 'gte7', nan, nan)</td>\n",
       "      <td>0</td>\n",
       "      <td>NaN</td>\n",
       "      <td>NaN</td>\n",
       "      <td>NaN</td>\n",
       "      <td>NaN</td>\n",
       "      <td>NaN</td>\n",
       "      <td>NaN</td>\n",
       "    </tr>\n",
       "  </tbody>\n",
       "</table>\n",
       "<p>5 rows × 201 columns</p>\n",
       "</div>"
      ],
      "text/plain": [
       "                        dtxsid DSSTox_QC-Level  \\\n",
       "0  IROQAHVXXUQBOS-UHFFFAOYSA-N             NaN   \n",
       "1               DTXSID90897582     DSSTox_High   \n",
       "2               DTXSID90896257      Public_Low   \n",
       "3               DTXSID90896196      Public_Low   \n",
       "4               DTXSID90896095      Public_Low   \n",
       "\n",
       "                                      Substance_Name Substance_CASRN  \\\n",
       "0                                                NaN             NaN   \n",
       "1       4-(Perfluorononyl)oxybenzenesulfonate sodium      91998-13-9   \n",
       "2  (2S)-2-{Bis[4-(heptadecafluorooctyl)phenyl][(t...     914391-37-0   \n",
       "3  2,2,3,3,4,4,5,5,6,6,7,7,8,8,9,9,9-Heptadecaflu...     157584-47-9   \n",
       "4  3,3,4,4,5,5,6,6,7,7,8,8,9,9,10,10,10-Heptadeca...     113823-56-6   \n",
       "\n",
       "    Substance_Type Substance_Note  \\\n",
       "0              NaN            NaN   \n",
       "1  Single Compound            NaN   \n",
       "2  Single Compound            NaN   \n",
       "3  Single Compound            NaN   \n",
       "4  Single Compound            NaN   \n",
       "\n",
       "                                              smiles  \\\n",
       "0  CCCN(CCNC(=O)c1ccc(Cc2ccc(C(O)=O)cc2)cc1)S(=O)...   \n",
       "1  [Na+].[O-]S(=O)(=O)C1=CC=C(OC(F)(F)C(F)(F)C(F)...   \n",
       "2  CC[Si](CC)(CC)OC([C@@H]1CCCN1)(C1=CC=C(C=C1)C(...   \n",
       "3  FC(F)(F)C(F)(F)C(F)(F)C(F)(F)C(F)(F)C(F)(F)C(F...   \n",
       "4  CC1=CC=C(C=C1)S(=O)(=O)OCCC(F)(F)C(F)(F)C(F)(F...   \n",
       "\n",
       "                                     Structure_InChI  \\\n",
       "0                                                NaN   \n",
       "1  InChI=1S/C15H5F19O4S.Na/c16-7(17,8(18,19)10(22...   \n",
       "2  InChI=1S/C39H31F34NOSi/c1-4-76(5-2,6-3)75-23(2...   \n",
       "3  InChI=1S/C21H10F17NO/c22-14(23,13(40)39(11-7-3...   \n",
       "4  InChI=1S/C17H11F17O3S/c1-8-2-4-9(5-3-8)38(35,3...   \n",
       "\n",
       "            Structure_InChIKey Structure_Formula  ...  final_dist  \\\n",
       "0                          NaN               NaN  ...    0.000000   \n",
       "1  WEKFOCTWTWPVEG-UHFFFAOYSA-M     C15H4F19NaO4S  ...    0.788889   \n",
       "2  PARYPNCCAOUHML-QFIPXVFZSA-N     C39H31F34NOSi  ...    0.814815   \n",
       "3  IDJHICNQDCLWAB-UHFFFAOYSA-N       C21H10F17NO  ...    0.788889   \n",
       "4  WGCSEECKLMOBLT-UHFFFAOYSA-N      C17H11F17O3S  ...    0.791667   \n",
       "\n",
       "                                  group                             group_str  \\\n",
       "0  ('Aromatic PFASs', 'gte7', nan, nan)  ('Aromatic PFASs', 'gte7', nan, nan)   \n",
       "1  ('Aromatic PFASs', 'gte7', nan, nan)  ('Aromatic PFASs', 'gte7', nan, nan)   \n",
       "2  ('Aromatic PFASs', 'gte7', nan, nan)  ('Aromatic PFASs', 'gte7', nan, nan)   \n",
       "3  ('Aromatic PFASs', 'gte7', nan, nan)  ('Aromatic PFASs', 'gte7', nan, nan)   \n",
       "4  ('Aromatic PFASs', 'gte7', nan, nan)  ('Aromatic PFASs', 'gte7', nan, nan)   \n",
       "\n",
       "   MaxMin_picks  tsca_centroid  tsca_centroid_id  tsca_centroid_id2  \\\n",
       "0             1            NaN               NaN                NaN   \n",
       "1             0            NaN               NaN                NaN   \n",
       "2             0            NaN               NaN                NaN   \n",
       "3             0            NaN               NaN                NaN   \n",
       "4             0            NaN               NaN                NaN   \n",
       "\n",
       "   tsca_analogues  tsca_dist  MaxMin_tsca_picks  \n",
       "0             NaN        NaN                NaN  \n",
       "1             NaN        NaN                NaN  \n",
       "2             NaN        NaN                NaN  \n",
       "3             NaN        NaN                NaN  \n",
       "4             NaN        NaN                NaN  \n",
       "\n",
       "[5 rows x 201 columns]"
      ]
     },
     "execution_count": 6,
     "metadata": {},
     "output_type": "execute_result"
    }
   ],
   "source": [
    "df.drop(['Unnamed: 0'], axis = 1, inplace = True)\n",
    "df.head()"
   ]
  },
  {
   "cell_type": "markdown",
   "id": "1b2b353b-94d6-4117-b34a-9cdcb85b7bdc",
   "metadata": {},
   "source": [
    "#### Constraining the universe to TSCA actives and computing centroids and MaxMin from the contrained inventory"
   ]
  },
  {
   "cell_type": "markdown",
   "id": "670d8b0a-4cc9-4cdf-aee6-824ab878f6e7",
   "metadata": {},
   "source": [
    "Calculate centroids for terminal categories but constraining the substances to those with substances on the TSCA active inventory"
   ]
  },
  {
   "cell_type": "code",
   "execution_count": 7,
   "id": "aa04f364-55bb-4a1e-a58e-697810ebcf87",
   "metadata": {},
   "outputs": [],
   "source": [
    "pfas_tsca = df[df['TSCA_STATUS']== 'active']"
   ]
  },
  {
   "cell_type": "code",
   "execution_count": 8,
   "id": "22df3407-c3ec-48d5-bec0-0691982fa3ae",
   "metadata": {},
   "outputs": [
    {
     "data": {
      "text/plain": [
       "(237, 201)"
      ]
     },
     "execution_count": 8,
     "metadata": {},
     "output_type": "execute_result"
    }
   ],
   "source": [
    "pfas_tsca.shape"
   ]
  },
  {
   "cell_type": "code",
   "execution_count": 9,
   "id": "1a918b16-5d9b-44b3-bbb2-c1679522f11e",
   "metadata": {},
   "outputs": [],
   "source": [
    "results_subcats = {}\n",
    "for i, group in pfas_tsca.groupby('group_str'):\n",
    "    try:\n",
    "        a = mk_fp(group)\n",
    "    except Exception as error:\n",
    "        print(error)\n",
    "    else:\n",
    "        results_subcats[i] = a\n"
   ]
  },
  {
   "cell_type": "code",
   "execution_count": 10,
   "id": "cf7751e1-6705-481a-a67b-cc341f2f7dd0",
   "metadata": {},
   "outputs": [],
   "source": [
    "distances_subcats = {}\n",
    "for k,v in results_subcats.items():\n",
    "    a = distance_matrix(results_subcats[k])\n",
    "    distances_subcats[k] = a"
   ]
  },
  {
   "cell_type": "code",
   "execution_count": 11,
   "id": "44095a59-f620-43d1-9155-711e80d65136",
   "metadata": {},
   "outputs": [
    {
     "data": {
      "text/plain": [
       "60"
      ]
     },
     "execution_count": 11,
     "metadata": {},
     "output_type": "execute_result"
    }
   ],
   "source": [
    "len(results_subcats)\n"
   ]
  },
  {
   "cell_type": "code",
   "execution_count": 12,
   "id": "aa9b8469-a51f-40e7-b05b-0b1feef79c0d",
   "metadata": {},
   "outputs": [
    {
     "data": {
      "text/plain": [
       "14"
      ]
     },
     "execution_count": 12,
     "metadata": {},
     "output_type": "execute_result"
    }
   ],
   "source": [
    "len({k:v.shape[0] for k,v in results_subcats.items() if v.shape[0] >5})"
   ]
  },
  {
   "cell_type": "code",
   "execution_count": 13,
   "id": "e467d719-5523-494f-bf47-a7225ae344b7",
   "metadata": {},
   "outputs": [
    {
     "data": {
      "text/plain": [
       "60"
      ]
     },
     "execution_count": 13,
     "metadata": {},
     "output_type": "execute_result"
    }
   ],
   "source": [
    "len(distances_subcats)"
   ]
  },
  {
   "cell_type": "code",
   "execution_count": 14,
   "id": "8d515b95-98af-4864-92ca-303051462c5b",
   "metadata": {},
   "outputs": [],
   "source": [
    "centres = []\n",
    "for i,group in pfas_tsca.groupby('group_str'):\n",
    "    try:\n",
    "        m = medoid_calc(distances_subcats[i])\n",
    "        centres.append(m)\n",
    "    except Exception as error:\n",
    "        print(error)\n"
   ]
  },
  {
   "cell_type": "code",
   "execution_count": 15,
   "id": "474f368c-7f84-4adc-b266-2e7b977600e8",
   "metadata": {},
   "outputs": [
    {
     "name": "stderr",
     "output_type": "stream",
     "text": [
      "/tmp/ipykernel_3286853/3181416301.py:1: SettingWithCopyWarning: \n",
      "A value is trying to be set on a copy of a slice from a DataFrame.\n",
      "Try using .loc[row_indexer,col_indexer] = value instead\n",
      "\n",
      "See the caveats in the documentation: https://pandas.pydata.org/pandas-docs/stable/user_guide/indexing.html#returning-a-view-versus-a-copy\n",
      "  pfas_tsca['tsca_active_centroid'] = pfas_tsca['dtxsid'].apply(lambda x: 'centroid' if x in centres else np.nan)\n"
     ]
    }
   ],
   "source": [
    "pfas_tsca['tsca_active_centroid'] = pfas_tsca['dtxsid'].apply(lambda x: 'centroid' if x in centres else np.nan)"
   ]
  },
  {
   "cell_type": "code",
   "execution_count": 16,
   "id": "7e6e602b-7c21-4230-8758-fd08d3cd5a1a",
   "metadata": {},
   "outputs": [
    {
     "data": {
      "text/plain": [
       "centroid    60\n",
       "Name: tsca_active_centroid, dtype: int64"
      ]
     },
     "execution_count": 16,
     "metadata": {},
     "output_type": "execute_result"
    }
   ],
   "source": [
    "pfas_tsca.tsca_active_centroid.value_counts()"
   ]
  },
  {
   "cell_type": "code",
   "execution_count": 53,
   "id": "3ffff6d4-4cec-42e6-a69b-b0e05d8c34dc",
   "metadata": {},
   "outputs": [
    {
     "data": {
      "text/plain": [
       "60"
      ]
     },
     "execution_count": 53,
     "metadata": {},
     "output_type": "execute_result"
    }
   ],
   "source": [
    "pfas_tsca.group_str.nunique()"
   ]
  },
  {
   "cell_type": "code",
   "execution_count": 54,
   "id": "016419cb-77b3-45dd-87a4-b04acd9b1aa7",
   "metadata": {},
   "outputs": [
    {
     "data": {
      "text/plain": [
       "0.46875"
      ]
     },
     "execution_count": 54,
     "metadata": {},
     "output_type": "execute_result"
    }
   ],
   "source": [
    "60/128"
   ]
  },
  {
   "cell_type": "code",
   "execution_count": 17,
   "id": "f568fe7a-0db1-4828-ad03-baf9c5d5b652",
   "metadata": {},
   "outputs": [],
   "source": [
    "df3 = pfas_tsca.copy()"
   ]
  },
  {
   "cell_type": "code",
   "execution_count": 18,
   "id": "f72e96d5-1740-408c-b152-a86252abc783",
   "metadata": {},
   "outputs": [],
   "source": [
    "df_3 = df3.set_index('dtxsid')"
   ]
  },
  {
   "cell_type": "code",
   "execution_count": 19,
   "id": "4b25748b-e860-4e5b-885d-d2d0d04437b6",
   "metadata": {},
   "outputs": [],
   "source": [
    "members = {}\n",
    "\n",
    "for i, group in df_3.groupby('group_str'):\n",
    "    subset = group[['group_str', 'tsca_active_centroid']]\n",
    "    try: \n",
    "        for x, y in subset.iterrows():\n",
    "            a, b = y\n",
    "            if b == 'centroid':\n",
    "                #print(x)\n",
    "                c = [distances_subcats[i][x].index, distances_subcats[i][x].values]\n",
    "                members[x] = c\n",
    "    except Exception as error:\n",
    "            print(error)"
   ]
  },
  {
   "cell_type": "code",
   "execution_count": 20,
   "id": "88199408-741e-40c9-8403-df364052b756",
   "metadata": {},
   "outputs": [
    {
     "data": {
      "text/html": [
       "<div>\n",
       "<style scoped>\n",
       "    .dataframe tbody tr th:only-of-type {\n",
       "        vertical-align: middle;\n",
       "    }\n",
       "\n",
       "    .dataframe tbody tr th {\n",
       "        vertical-align: top;\n",
       "    }\n",
       "\n",
       "    .dataframe thead th {\n",
       "        text-align: right;\n",
       "    }\n",
       "</style>\n",
       "<table border=\"1\" class=\"dataframe\">\n",
       "  <thead>\n",
       "    <tr style=\"text-align: right;\">\n",
       "      <th></th>\n",
       "      <th>tsca_active_centroid</th>\n",
       "      <th>lvl2_analogues</th>\n",
       "      <th>lvl2_Dist</th>\n",
       "    </tr>\n",
       "  </thead>\n",
       "  <tbody>\n",
       "    <tr>\n",
       "      <th>0</th>\n",
       "      <td>DTXSID4069501</td>\n",
       "      <td>DTXSID4069501</td>\n",
       "      <td>0.0</td>\n",
       "    </tr>\n",
       "    <tr>\n",
       "      <th>1</th>\n",
       "      <td>DTXSID60865157</td>\n",
       "      <td>DTXSID60865157</td>\n",
       "      <td>0.0</td>\n",
       "    </tr>\n",
       "    <tr>\n",
       "      <th>2</th>\n",
       "      <td>DTXSID70889167</td>\n",
       "      <td>DTXSID70889167</td>\n",
       "      <td>0.0</td>\n",
       "    </tr>\n",
       "    <tr>\n",
       "      <th>3</th>\n",
       "      <td>DTXSID00883911</td>\n",
       "      <td>DTXSID00883911</td>\n",
       "      <td>0.0</td>\n",
       "    </tr>\n",
       "    <tr>\n",
       "      <th>4</th>\n",
       "      <td>DTXSID1024251</td>\n",
       "      <td>DTXSID70883382</td>\n",
       "      <td>0.571429</td>\n",
       "    </tr>\n",
       "  </tbody>\n",
       "</table>\n",
       "</div>"
      ],
      "text/plain": [
       "  tsca_active_centroid  lvl2_analogues lvl2_Dist\n",
       "0        DTXSID4069501   DTXSID4069501       0.0\n",
       "1       DTXSID60865157  DTXSID60865157       0.0\n",
       "2       DTXSID70889167  DTXSID70889167       0.0\n",
       "3       DTXSID00883911  DTXSID00883911       0.0\n",
       "4        DTXSID1024251  DTXSID70883382  0.571429"
      ]
     },
     "execution_count": 20,
     "metadata": {},
     "output_type": "execute_result"
    }
   ],
   "source": [
    "cluster_members = pd.DataFrame(list(members.items()))\n",
    "cluster_members.columns = ['tsca_active_centroid', 1]\n",
    "cluster_members[['lvl2_analogues','lvl2_Dist']] = pd.DataFrame(cluster_members[1].tolist(), index= cluster_members.index)\n",
    "cluster_members.drop([1], axis = 1, inplace = True)\n",
    "cluster_members_1 = cluster_members.apply(pd.Series.explode)\n",
    "cluster_members_1.head()\n"
   ]
  },
  {
   "cell_type": "code",
   "execution_count": 21,
   "id": "38b286c7-8893-44ce-9fd0-19ef88286125",
   "metadata": {},
   "outputs": [],
   "source": [
    "df3['tsca_active_centroid_id'] = df3.apply(lambda x: x['dtxsid'] if x['tsca_active_centroid'] == 'centroid' else np.nan, axis = 1)\n"
   ]
  },
  {
   "cell_type": "code",
   "execution_count": 22,
   "id": "598a22ca-0b0e-4155-b78d-97be618c94d6",
   "metadata": {},
   "outputs": [],
   "source": [
    "df3 = df3.sort_values(by = ['group_str', 'tsca_active_centroid_id'], ascending = [True, False])"
   ]
  },
  {
   "cell_type": "code",
   "execution_count": 23,
   "id": "afecff2e-d46a-49ab-a613-19886a75a2b4",
   "metadata": {},
   "outputs": [],
   "source": [
    "df3['tsca_active_centroid_id2'] = df3['tsca_active_centroid_id'].fillna(method = 'ffill')\n"
   ]
  },
  {
   "cell_type": "code",
   "execution_count": 24,
   "id": "e68523d4-5afa-43f1-b1c0-fd12e1766040",
   "metadata": {},
   "outputs": [],
   "source": [
    "mydict_ = {}\n",
    "for i, group in df3.groupby('tsca_active_centroid_id2'):\n",
    "    k = [n for n in group['tsca_active_centroid_id2'] if n != ' '][0]\n",
    "    v = list(group['dtxsid'])\n",
    "    mydict_[k] = v\n"
   ]
  },
  {
   "cell_type": "code",
   "execution_count": 25,
   "id": "e8ad26da-1588-43f7-b4cf-c1cd4e45edc0",
   "metadata": {},
   "outputs": [
    {
     "data": {
      "text/plain": [
       "60"
      ]
     },
     "execution_count": 25,
     "metadata": {},
     "output_type": "execute_result"
    }
   ],
   "source": [
    "len(list(mydict_.values()))"
   ]
  },
  {
   "cell_type": "code",
   "execution_count": 26,
   "id": "8ffbe2ca-ee7f-486f-83ef-8ec9f63bc104",
   "metadata": {},
   "outputs": [],
   "source": [
    "dist_ = []\n",
    "for i, group in cluster_members_1.groupby('tsca_active_centroid'):\n",
    "    a = cluster_members_1[(cluster_members_1['tsca_active_centroid'] == i) & (cluster_members_1['lvl2_analogues'].isin(mydict_[i]))]\n",
    "    dist_.append(a)"
   ]
  },
  {
   "cell_type": "code",
   "execution_count": 27,
   "id": "42517c97-aaa4-4a8e-acea-de0c91d018d3",
   "metadata": {},
   "outputs": [],
   "source": [
    "dist_df = pd.concat([e for e in dist_])"
   ]
  },
  {
   "cell_type": "code",
   "execution_count": 28,
   "id": "282fc00f-e337-4e5e-bede-d3f1dc22172f",
   "metadata": {},
   "outputs": [],
   "source": [
    "df3_w = pd.merge(df3, dist_df[['lvl2_analogues', 'lvl2_Dist']], left_on = 'dtxsid', right_on = 'lvl2_analogues', how = 'left')\n"
   ]
  },
  {
   "cell_type": "code",
   "execution_count": 29,
   "id": "5801d79a-2d7c-49e2-a468-be4f9eba5726",
   "metadata": {},
   "outputs": [
    {
     "data": {
      "text/plain": [
       "Index(['dtxsid', 'DSSTox_QC-Level', 'Substance_Name', 'Substance_CASRN',\n",
       "       'Substance_Type', 'Substance_Note', 'smiles', 'Structure_InChI',\n",
       "       'Structure_InChIKey', 'Structure_Formula',\n",
       "       ...\n",
       "       'tsca_centroid_id', 'tsca_centroid_id2', 'tsca_analogues', 'tsca_dist',\n",
       "       'MaxMin_tsca_picks', 'tsca_active_centroid', 'tsca_active_centroid_id',\n",
       "       'tsca_active_centroid_id2', 'lvl2_analogues_y', 'lvl2_Dist_y'],\n",
       "      dtype='object', length=206)"
      ]
     },
     "execution_count": 29,
     "metadata": {},
     "output_type": "execute_result"
    }
   ],
   "source": [
    "df3_w.columns"
   ]
  },
  {
   "cell_type": "code",
   "execution_count": 30,
   "id": "cd50cf90-c932-427a-8699-3967299d0156",
   "metadata": {},
   "outputs": [],
   "source": [
    "df3_w.rename(columns = {'lvl2_analogues_x' : 'lvl2_analogues', 'lvl2_Dist_x' : 'lvl2_Dist', 'lvl2_analogues_y' : 'tsca_active_analogues' ,'lvl2_Dist_y' : 'tsca_active_dist'},  inplace = True)"
   ]
  },
  {
   "cell_type": "code",
   "execution_count": 31,
   "id": "aa2a850c-85c8-442b-84f5-24569faad2fa",
   "metadata": {},
   "outputs": [
    {
     "data": {
      "text/html": [
       "<div>\n",
       "<style scoped>\n",
       "    .dataframe tbody tr th:only-of-type {\n",
       "        vertical-align: middle;\n",
       "    }\n",
       "\n",
       "    .dataframe tbody tr th {\n",
       "        vertical-align: top;\n",
       "    }\n",
       "\n",
       "    .dataframe thead th {\n",
       "        text-align: right;\n",
       "    }\n",
       "</style>\n",
       "<table border=\"1\" class=\"dataframe\">\n",
       "  <thead>\n",
       "    <tr style=\"text-align: right;\">\n",
       "      <th></th>\n",
       "      <th>dtxsid</th>\n",
       "      <th>DSSTox_QC-Level</th>\n",
       "      <th>Substance_Name</th>\n",
       "      <th>Substance_CASRN</th>\n",
       "      <th>Substance_Type</th>\n",
       "      <th>Substance_Note</th>\n",
       "      <th>smiles</th>\n",
       "      <th>Structure_InChI</th>\n",
       "      <th>Structure_InChIKey</th>\n",
       "      <th>Structure_Formula</th>\n",
       "      <th>...</th>\n",
       "      <th>tsca_centroid_id</th>\n",
       "      <th>tsca_centroid_id2</th>\n",
       "      <th>tsca_analogues</th>\n",
       "      <th>tsca_dist</th>\n",
       "      <th>MaxMin_tsca_picks</th>\n",
       "      <th>tsca_active_centroid</th>\n",
       "      <th>tsca_active_centroid_id</th>\n",
       "      <th>tsca_active_centroid_id2</th>\n",
       "      <th>tsca_active_analogues</th>\n",
       "      <th>tsca_active_dist</th>\n",
       "    </tr>\n",
       "  </thead>\n",
       "  <tbody>\n",
       "    <tr>\n",
       "      <th>0</th>\n",
       "      <td>DTXSID4069501</td>\n",
       "      <td>DSSTox_High</td>\n",
       "      <td>N-((Perfluorooctyl)-1-ethyl)pyridinium 4-methy...</td>\n",
       "      <td>61798-68-3</td>\n",
       "      <td>Single Compound</td>\n",
       "      <td>NaN</td>\n",
       "      <td>CC1=CC=C(C=C1)S([O-])(=O)=O.FC(F)(F)C(F)(F)C(F...</td>\n",
       "      <td>InChI=1S/C15H9F17N.C7H8O3S/c16-8(17,4-7-33-5-2...</td>\n",
       "      <td>ZUDDXBNNEBHAMS-UHFFFAOYSA-M</td>\n",
       "      <td>C22H16F17NO3S</td>\n",
       "      <td>...</td>\n",
       "      <td>NaN</td>\n",
       "      <td>DTXSID6071372</td>\n",
       "      <td>DTXSID4069501</td>\n",
       "      <td>0.734177</td>\n",
       "      <td>1.0</td>\n",
       "      <td>centroid</td>\n",
       "      <td>DTXSID4069501</td>\n",
       "      <td>DTXSID4069501</td>\n",
       "      <td>DTXSID4069501</td>\n",
       "      <td>0.0</td>\n",
       "    </tr>\n",
       "    <tr>\n",
       "      <th>1</th>\n",
       "      <td>DTXSID60865157</td>\n",
       "      <td>DSSTox_High</td>\n",
       "      <td>Pentafluoro(1,2,2-trifluoro-2-((trifluorovinyl...</td>\n",
       "      <td>24520-19-2</td>\n",
       "      <td>Mixture of Stereoisomers</td>\n",
       "      <td>NaN</td>\n",
       "      <td>FC(F)=C(F)OC(F)(F)C(F)(OC1=C(F)C(F)=C(F)C(F)=C...</td>\n",
       "      <td>InChI=1/C11F14O2/c12-1-2(13)4(15)6(5(16)3(1)14...</td>\n",
       "      <td>QYMQYPBAGDZNMY-UHFFFAOYNA-N</td>\n",
       "      <td>C11F14O2</td>\n",
       "      <td>...</td>\n",
       "      <td>NaN</td>\n",
       "      <td>DTXSID90880237</td>\n",
       "      <td>DTXSID60865157</td>\n",
       "      <td>0.500000</td>\n",
       "      <td>0.0</td>\n",
       "      <td>centroid</td>\n",
       "      <td>DTXSID60865157</td>\n",
       "      <td>DTXSID60865157</td>\n",
       "      <td>DTXSID60865157</td>\n",
       "      <td>0.0</td>\n",
       "    </tr>\n",
       "    <tr>\n",
       "      <th>2</th>\n",
       "      <td>DTXSID70889167</td>\n",
       "      <td>Public_High_CAS</td>\n",
       "      <td>2-Propanol, 1-[4-(1-methylpropyl)phenoxy]-3-(2...</td>\n",
       "      <td>308362-88-1</td>\n",
       "      <td>Single Compound</td>\n",
       "      <td>NaN</td>\n",
       "      <td>CCC(C)C1=CC=C(OCC(O)COCC(F)(F)C(F)F)C=C1</td>\n",
       "      <td>InChI=1/C16H22F4O3/c1-3-11(2)12-4-6-14(7-5-12)...</td>\n",
       "      <td>CJBQJVABOFLHNY-UHFFFAOYNA-N</td>\n",
       "      <td>C16H22F4O3</td>\n",
       "      <td>...</td>\n",
       "      <td>NaN</td>\n",
       "      <td>DTXSID7068689</td>\n",
       "      <td>DTXSID70889167</td>\n",
       "      <td>0.872093</td>\n",
       "      <td>1.0</td>\n",
       "      <td>centroid</td>\n",
       "      <td>DTXSID70889167</td>\n",
       "      <td>DTXSID70889167</td>\n",
       "      <td>DTXSID70889167</td>\n",
       "      <td>0.0</td>\n",
       "    </tr>\n",
       "    <tr>\n",
       "      <th>3</th>\n",
       "      <td>DTXSID00883911</td>\n",
       "      <td>DSSTox_High</td>\n",
       "      <td>2-[2,4-Bis(1,1-dimethylpropyl)phenoxy]-N-[4-[(...</td>\n",
       "      <td>2923-93-5</td>\n",
       "      <td>Mixture of Stereoisomers</td>\n",
       "      <td>NaN</td>\n",
       "      <td>CCCCC(OC1=C(C=C(C=C1)C(C)(C)CC)C(C)(C)CC)C(=O)...</td>\n",
       "      <td>InChI=1/C32H41F7N2O4/c1-8-11-12-25(45-24-16-13...</td>\n",
       "      <td>FVSDJPACEHXABM-UHFFFAOYNA-N</td>\n",
       "      <td>C32H41F7N2O4</td>\n",
       "      <td>...</td>\n",
       "      <td>DTXSID00883911</td>\n",
       "      <td>DTXSID00883911</td>\n",
       "      <td>DTXSID00883911</td>\n",
       "      <td>0.000000</td>\n",
       "      <td>0.0</td>\n",
       "      <td>centroid</td>\n",
       "      <td>DTXSID00883911</td>\n",
       "      <td>DTXSID00883911</td>\n",
       "      <td>DTXSID00883911</td>\n",
       "      <td>0.0</td>\n",
       "    </tr>\n",
       "    <tr>\n",
       "      <th>4</th>\n",
       "      <td>DTXSID1024251</td>\n",
       "      <td>DSSTox_High</td>\n",
       "      <td>1H-perfluoroethane</td>\n",
       "      <td>354-33-6</td>\n",
       "      <td>Single Compound</td>\n",
       "      <td>NaN</td>\n",
       "      <td>FC(F)C(F)(F)F</td>\n",
       "      <td>InChI=1S/C2HF5/c3-1(4)2(5,6)7/h1H\\nAuxInfo=1/0...</td>\n",
       "      <td>GTLACDSXYULKMZ-UHFFFAOYSA-N</td>\n",
       "      <td>C2HF5</td>\n",
       "      <td>...</td>\n",
       "      <td>DTXSID1024251</td>\n",
       "      <td>DTXSID1024251</td>\n",
       "      <td>DTXSID1024251</td>\n",
       "      <td>0.000000</td>\n",
       "      <td>0.0</td>\n",
       "      <td>centroid</td>\n",
       "      <td>DTXSID1024251</td>\n",
       "      <td>DTXSID1024251</td>\n",
       "      <td>DTXSID1024251</td>\n",
       "      <td>0.0</td>\n",
       "    </tr>\n",
       "  </tbody>\n",
       "</table>\n",
       "<p>5 rows × 206 columns</p>\n",
       "</div>"
      ],
      "text/plain": [
       "           dtxsid  DSSTox_QC-Level  \\\n",
       "0   DTXSID4069501      DSSTox_High   \n",
       "1  DTXSID60865157      DSSTox_High   \n",
       "2  DTXSID70889167  Public_High_CAS   \n",
       "3  DTXSID00883911      DSSTox_High   \n",
       "4   DTXSID1024251      DSSTox_High   \n",
       "\n",
       "                                      Substance_Name Substance_CASRN  \\\n",
       "0  N-((Perfluorooctyl)-1-ethyl)pyridinium 4-methy...      61798-68-3   \n",
       "1  Pentafluoro(1,2,2-trifluoro-2-((trifluorovinyl...      24520-19-2   \n",
       "2  2-Propanol, 1-[4-(1-methylpropyl)phenoxy]-3-(2...     308362-88-1   \n",
       "3  2-[2,4-Bis(1,1-dimethylpropyl)phenoxy]-N-[4-[(...       2923-93-5   \n",
       "4                                 1H-perfluoroethane        354-33-6   \n",
       "\n",
       "             Substance_Type Substance_Note  \\\n",
       "0           Single Compound            NaN   \n",
       "1  Mixture of Stereoisomers            NaN   \n",
       "2           Single Compound            NaN   \n",
       "3  Mixture of Stereoisomers            NaN   \n",
       "4           Single Compound            NaN   \n",
       "\n",
       "                                              smiles  \\\n",
       "0  CC1=CC=C(C=C1)S([O-])(=O)=O.FC(F)(F)C(F)(F)C(F...   \n",
       "1  FC(F)=C(F)OC(F)(F)C(F)(OC1=C(F)C(F)=C(F)C(F)=C...   \n",
       "2           CCC(C)C1=CC=C(OCC(O)COCC(F)(F)C(F)F)C=C1   \n",
       "3  CCCCC(OC1=C(C=C(C=C1)C(C)(C)CC)C(C)(C)CC)C(=O)...   \n",
       "4                                      FC(F)C(F)(F)F   \n",
       "\n",
       "                                     Structure_InChI  \\\n",
       "0  InChI=1S/C15H9F17N.C7H8O3S/c16-8(17,4-7-33-5-2...   \n",
       "1  InChI=1/C11F14O2/c12-1-2(13)4(15)6(5(16)3(1)14...   \n",
       "2  InChI=1/C16H22F4O3/c1-3-11(2)12-4-6-14(7-5-12)...   \n",
       "3  InChI=1/C32H41F7N2O4/c1-8-11-12-25(45-24-16-13...   \n",
       "4  InChI=1S/C2HF5/c3-1(4)2(5,6)7/h1H\\nAuxInfo=1/0...   \n",
       "\n",
       "            Structure_InChIKey Structure_Formula  ...  tsca_centroid_id  \\\n",
       "0  ZUDDXBNNEBHAMS-UHFFFAOYSA-M     C22H16F17NO3S  ...               NaN   \n",
       "1  QYMQYPBAGDZNMY-UHFFFAOYNA-N          C11F14O2  ...               NaN   \n",
       "2  CJBQJVABOFLHNY-UHFFFAOYNA-N        C16H22F4O3  ...               NaN   \n",
       "3  FVSDJPACEHXABM-UHFFFAOYNA-N      C32H41F7N2O4  ...    DTXSID00883911   \n",
       "4  GTLACDSXYULKMZ-UHFFFAOYSA-N             C2HF5  ...     DTXSID1024251   \n",
       "\n",
       "  tsca_centroid_id2  tsca_analogues  tsca_dist  MaxMin_tsca_picks  \\\n",
       "0     DTXSID6071372   DTXSID4069501   0.734177                1.0   \n",
       "1    DTXSID90880237  DTXSID60865157   0.500000                0.0   \n",
       "2     DTXSID7068689  DTXSID70889167   0.872093                1.0   \n",
       "3    DTXSID00883911  DTXSID00883911   0.000000                0.0   \n",
       "4     DTXSID1024251   DTXSID1024251   0.000000                0.0   \n",
       "\n",
       "   tsca_active_centroid  tsca_active_centroid_id  tsca_active_centroid_id2  \\\n",
       "0              centroid            DTXSID4069501             DTXSID4069501   \n",
       "1              centroid           DTXSID60865157            DTXSID60865157   \n",
       "2              centroid           DTXSID70889167            DTXSID70889167   \n",
       "3              centroid           DTXSID00883911            DTXSID00883911   \n",
       "4              centroid            DTXSID1024251             DTXSID1024251   \n",
       "\n",
       "   tsca_active_analogues  tsca_active_dist  \n",
       "0          DTXSID4069501               0.0  \n",
       "1         DTXSID60865157               0.0  \n",
       "2         DTXSID70889167               0.0  \n",
       "3         DTXSID00883911               0.0  \n",
       "4          DTXSID1024251               0.0  \n",
       "\n",
       "[5 rows x 206 columns]"
      ]
     },
     "execution_count": 31,
     "metadata": {},
     "output_type": "execute_result"
    }
   ],
   "source": [
    "df3_w.head()"
   ]
  },
  {
   "cell_type": "markdown",
   "id": "10bd7c98-5e7b-4c26-a79d-3590c1807a21",
   "metadata": {},
   "source": [
    "Now have our centroids and pairwise distances for the tsca_pfas set"
   ]
  },
  {
   "cell_type": "code",
   "execution_count": 32,
   "id": "49be6185-9109-441e-a2fe-da783a6a9de6",
   "metadata": {},
   "outputs": [],
   "source": [
    "cats = df3_w['group_str'].unique().tolist()\n"
   ]
  },
  {
   "cell_type": "code",
   "execution_count": 33,
   "id": "9071020c-1fde-4996-9de1-0da537b06dec",
   "metadata": {},
   "outputs": [],
   "source": [
    "def content_max(df,  k = None):\n",
    "    content = {}\n",
    "    tdf = df[df['group_str'] == k]\n",
    "    content['t_dict'] = {k:Chem.MolFromSmiles(v) for k,v in zip(tdf['dtxsid'], tdf['smiles'])}\n",
    "    content['fp_dict'] = [AllChem.GetMorganFingerprintAsBitVect(i, 3, 1024) for i in content['t_dict'].values()]\n",
    "    content['nfp_dict'] = len(content['fp_dict'])\n",
    "    content['t_index'] = {k:v for k,v in enumerate(content['t_dict'].keys())} \n",
    "    content['k'] = k\n",
    "    \n",
    "    return content"
   ]
  },
  {
   "cell_type": "code",
   "execution_count": 34,
   "id": "d6dfba54-9a77-4e97-981e-df446e16865d",
   "metadata": {},
   "outputs": [],
   "source": [
    "lte_summaries = []\n",
    "for k in cats:\n",
    "    try:\n",
    "        lte_summaries.append(content_max(df3_w, k))\n",
    "    except Exception as error:\n",
    "        print(k)\n"
   ]
  },
  {
   "cell_type": "code",
   "execution_count": 35,
   "id": "fe1a02db-e54c-4fa6-9830-97668761cd30",
   "metadata": {},
   "outputs": [],
   "source": [
    "from rdkit.SimDivFilters import MaxMinPicker"
   ]
  },
  {
   "cell_type": "code",
   "execution_count": 36,
   "id": "0200a4d4-d6b2-4049-aef0-3dc085c98282",
   "metadata": {},
   "outputs": [],
   "source": [
    "def picker_func(fps, n1, start_with  = 1, n2 = 3, label = None, fps_index = None):\n",
    "    picker_dict = {}\n",
    "    mmp = MaxMinPicker()\n",
    "    picker_dict['label'] = label\n",
    "    picker_dict['indices'] = mmp.LazyBitVectorPick(fps,n1, start_with+n2, [0])\n",
    "    picker_dict['diverse_chems'] = [fps_index[x] for x in picker_dict['indices']]\n",
    "    return picker_dict\n"
   ]
  },
  {
   "cell_type": "code",
   "execution_count": 37,
   "id": "2bcecc55-b630-4b26-ae72-c29c99cf4a3d",
   "metadata": {},
   "outputs": [],
   "source": [
    "picker_lst = []\n",
    "for i in range(len(lte_summaries)):\n",
    "    if lte_summaries[i]['nfp_dict'] > 5:\n",
    "        picker_lst.append(picker_func(lte_summaries[i]['fp_dict'], n1 =lte_summaries[i]['nfp_dict'], n2 = 3, label = lte_summaries[i]['k'], fps_index = lte_summaries[i]['t_index'] ))\n",
    "\n"
   ]
  },
  {
   "cell_type": "code",
   "execution_count": 38,
   "id": "ace1fa84-1434-4292-9a85-82814b5ed42b",
   "metadata": {},
   "outputs": [],
   "source": [
    "mylst2 = []\n",
    "for i in range(len(picker_lst)):\n",
    "    mylst2.append(picker_lst[i]['diverse_chems'])\n"
   ]
  },
  {
   "cell_type": "code",
   "execution_count": 39,
   "id": "c26652d8-7a92-458a-8b07-5940de83aa48",
   "metadata": {},
   "outputs": [],
   "source": [
    "mylst2 = [e for a in mylst2 for e in a]"
   ]
  },
  {
   "cell_type": "code",
   "execution_count": 43,
   "id": "e3207b24-97f2-429a-93f1-75008f7bbace",
   "metadata": {},
   "outputs": [
    {
     "data": {
      "text/plain": [
       "56"
      ]
     },
     "execution_count": 43,
     "metadata": {},
     "output_type": "execute_result"
    }
   ],
   "source": [
    "len(mylst2)"
   ]
  },
  {
   "cell_type": "code",
   "execution_count": 44,
   "id": "b7e27746-2771-464d-a80b-ddd934616613",
   "metadata": {},
   "outputs": [],
   "source": [
    "df3_w['MaxMin_tsca_active_picks'] = df3_w['dtxsid'].apply(lambda x: 1 if x in mylst2 else 0)\n"
   ]
  },
  {
   "cell_type": "code",
   "execution_count": 45,
   "id": "475504ab-7f11-4d7a-842a-0fd2ea647e48",
   "metadata": {},
   "outputs": [
    {
     "data": {
      "text/plain": [
       "0    181\n",
       "1     56\n",
       "Name: MaxMin_tsca_active_picks, dtype: int64"
      ]
     },
     "execution_count": 45,
     "metadata": {},
     "output_type": "execute_result"
    }
   ],
   "source": [
    "df3_w.MaxMin_tsca_active_picks.value_counts()"
   ]
  },
  {
   "cell_type": "code",
   "execution_count": 46,
   "id": "3f97b971-5c10-4581-8bdf-9dd5c7ff5cf2",
   "metadata": {},
   "outputs": [],
   "source": [
    "groups_ =df3_w.groupby('group_str').agg({'MaxMin_tsca_active_picks' : 'sum'})"
   ]
  },
  {
   "cell_type": "code",
   "execution_count": 47,
   "id": "6e273b90-2156-4fa3-b597-79ab7456d91f",
   "metadata": {},
   "outputs": [
    {
     "data": {
      "text/plain": [
       "(14, 1)"
      ]
     },
     "execution_count": 47,
     "metadata": {},
     "output_type": "execute_result"
    }
   ],
   "source": [
    "groups_[groups_.MaxMin_tsca_active_picks >0].shape"
   ]
  },
  {
   "cell_type": "code",
   "execution_count": 52,
   "id": "ace4053e-b9c1-4a3f-be6b-c588d72e0022",
   "metadata": {},
   "outputs": [
    {
     "data": {
      "text/html": [
       "<div>\n",
       "<style scoped>\n",
       "    .dataframe tbody tr th:only-of-type {\n",
       "        vertical-align: middle;\n",
       "    }\n",
       "\n",
       "    .dataframe tbody tr th {\n",
       "        vertical-align: top;\n",
       "    }\n",
       "\n",
       "    .dataframe thead th {\n",
       "        text-align: right;\n",
       "    }\n",
       "</style>\n",
       "<table border=\"1\" class=\"dataframe\">\n",
       "  <thead>\n",
       "    <tr style=\"text-align: right;\">\n",
       "      <th></th>\n",
       "      <th>MaxMin_tsca_active_picks</th>\n",
       "    </tr>\n",
       "    <tr>\n",
       "      <th>group_str</th>\n",
       "      <th></th>\n",
       "    </tr>\n",
       "  </thead>\n",
       "  <tbody>\n",
       "    <tr>\n",
       "      <th>('Aromatic PFASs', 'gte7', nan, nan)</th>\n",
       "      <td>0</td>\n",
       "    </tr>\n",
       "    <tr>\n",
       "      <th>('Aromatic PFASs', 'lt7', 2.0, 3.0)</th>\n",
       "      <td>0</td>\n",
       "    </tr>\n",
       "    <tr>\n",
       "      <th>('Aromatic PFASs', 'lt7', 2.0, 5.0)</th>\n",
       "      <td>0</td>\n",
       "    </tr>\n",
       "    <tr>\n",
       "      <th>('Aromatic PFASs', 'lt7', 4.0, 1.0)</th>\n",
       "      <td>0</td>\n",
       "    </tr>\n",
       "    <tr>\n",
       "      <th>('HFCs', 'lt7', 1.0, nan)</th>\n",
       "      <td>0</td>\n",
       "    </tr>\n",
       "    <tr>\n",
       "      <th>('HFCs', 'lt7', 3.0, nan)</th>\n",
       "      <td>0</td>\n",
       "    </tr>\n",
       "    <tr>\n",
       "      <th>('Other PFASs', 'gte7', nan, nan)</th>\n",
       "      <td>0</td>\n",
       "    </tr>\n",
       "    <tr>\n",
       "      <th>('Other PFASs', 'lt7', 2.0, 2.0)</th>\n",
       "      <td>0</td>\n",
       "    </tr>\n",
       "    <tr>\n",
       "      <th>('Other PFASs', 'lt7', 2.0, 3.0)</th>\n",
       "      <td>0</td>\n",
       "    </tr>\n",
       "    <tr>\n",
       "      <th>('Other PFASs', 'lt7', 3.0, 1.0)</th>\n",
       "      <td>4</td>\n",
       "    </tr>\n",
       "    <tr>\n",
       "      <th>('Other PFASs', 'lt7', 3.0, 3.0)</th>\n",
       "      <td>0</td>\n",
       "    </tr>\n",
       "    <tr>\n",
       "      <th>('Other PFASs, cyclic', 'lt7', 2.0, nan)</th>\n",
       "      <td>4</td>\n",
       "    </tr>\n",
       "    <tr>\n",
       "      <th>('Other PFASs, cyclic', 'lt7', 3.0, 1.0)</th>\n",
       "      <td>0</td>\n",
       "    </tr>\n",
       "    <tr>\n",
       "      <th>('PASF-based substances', 'gte7', nan, nan)</th>\n",
       "      <td>4</td>\n",
       "    </tr>\n",
       "    <tr>\n",
       "      <th>('PASF-based substances', 'lt7', nan, nan)</th>\n",
       "      <td>4</td>\n",
       "    </tr>\n",
       "    <tr>\n",
       "      <th>('PFAA precursors', 'gte7', nan, nan)</th>\n",
       "      <td>4</td>\n",
       "    </tr>\n",
       "    <tr>\n",
       "      <th>('PFAA precursors', 'lt7', 1.0, 2.0)</th>\n",
       "      <td>0</td>\n",
       "    </tr>\n",
       "    <tr>\n",
       "      <th>('PFAA precursors', 'lt7', 1.0, 3.0)</th>\n",
       "      <td>0</td>\n",
       "    </tr>\n",
       "    <tr>\n",
       "      <th>('PFAA precursors', 'lt7', 2.0, 1.0)</th>\n",
       "      <td>0</td>\n",
       "    </tr>\n",
       "    <tr>\n",
       "      <th>('PFAA precursors', 'lt7', 2.0, 2.0)</th>\n",
       "      <td>4</td>\n",
       "    </tr>\n",
       "    <tr>\n",
       "      <th>('PFAA precursors', 'lt7', 2.0, 3.0)</th>\n",
       "      <td>4</td>\n",
       "    </tr>\n",
       "    <tr>\n",
       "      <th>('PFAA precursors', 'lt7', 3.0, 2.0)</th>\n",
       "      <td>4</td>\n",
       "    </tr>\n",
       "    <tr>\n",
       "      <th>('PFAA precursors', 'lt7', 4.0, 1.0)</th>\n",
       "      <td>0</td>\n",
       "    </tr>\n",
       "    <tr>\n",
       "      <th>('PFAA precursors', 'lt7', 4.0, 2.0)</th>\n",
       "      <td>4</td>\n",
       "    </tr>\n",
       "    <tr>\n",
       "      <th>('PFAA precursors', 'lt7', 4.0, 3.0)</th>\n",
       "      <td>0</td>\n",
       "    </tr>\n",
       "    <tr>\n",
       "      <th>('PFAA precursors, cyclic', 'lt7', 1.0, 2.0)</th>\n",
       "      <td>0</td>\n",
       "    </tr>\n",
       "    <tr>\n",
       "      <th>('PFAA precursors, cyclic', 'lt7', 1.0, 3.0)</th>\n",
       "      <td>0</td>\n",
       "    </tr>\n",
       "    <tr>\n",
       "      <th>('PFAA precursors, cyclic', 'lt7', 2.0, nan)</th>\n",
       "      <td>0</td>\n",
       "    </tr>\n",
       "    <tr>\n",
       "      <th>('PFAA precursors, cyclic', 'lt7', 3.0, 1.0)</th>\n",
       "      <td>0</td>\n",
       "    </tr>\n",
       "    <tr>\n",
       "      <th>('PFAA precursors, cyclic', 'lt7', 3.0, 2.0)</th>\n",
       "      <td>0</td>\n",
       "    </tr>\n",
       "    <tr>\n",
       "      <th>('PFAAs', 'gte7', nan, nan)</th>\n",
       "      <td>4</td>\n",
       "    </tr>\n",
       "    <tr>\n",
       "      <th>('PFAAs', 'lt7', 1.0, nan)</th>\n",
       "      <td>4</td>\n",
       "    </tr>\n",
       "    <tr>\n",
       "      <th>('PFAAs', 'lt7', 2.0, nan)</th>\n",
       "      <td>0</td>\n",
       "    </tr>\n",
       "    <tr>\n",
       "      <th>('PFAAs', 'lt7', 3.0, nan)</th>\n",
       "      <td>0</td>\n",
       "    </tr>\n",
       "    <tr>\n",
       "      <th>('PFAAs', 'lt7', 4.0, nan)</th>\n",
       "      <td>4</td>\n",
       "    </tr>\n",
       "    <tr>\n",
       "      <th>('PFAAs, cyclic', 'lt7', 1.0, nan)</th>\n",
       "      <td>0</td>\n",
       "    </tr>\n",
       "    <tr>\n",
       "      <th>('PFAAs, cyclic', 'lt7', 3.0, 3.0)</th>\n",
       "      <td>0</td>\n",
       "    </tr>\n",
       "    <tr>\n",
       "      <th>('PolyFCA derivatives', 'gte7', nan, nan)</th>\n",
       "      <td>0</td>\n",
       "    </tr>\n",
       "    <tr>\n",
       "      <th>('PolyFCA derivatives', 'lt7', 1.0, nan)</th>\n",
       "      <td>0</td>\n",
       "    </tr>\n",
       "    <tr>\n",
       "      <th>('PolyFCA derivatives', 'lt7', 2.0, nan)</th>\n",
       "      <td>0</td>\n",
       "    </tr>\n",
       "    <tr>\n",
       "      <th>('PolyFCA derivatives', 'lt7', 3.0, nan)</th>\n",
       "      <td>0</td>\n",
       "    </tr>\n",
       "    <tr>\n",
       "      <th>('Polyfluoroalkanes', 'gte7', nan, nan)</th>\n",
       "      <td>0</td>\n",
       "    </tr>\n",
       "    <tr>\n",
       "      <th>('Polyfluoroalkanes', 'lt7', 2.0, nan)</th>\n",
       "      <td>0</td>\n",
       "    </tr>\n",
       "    <tr>\n",
       "      <th>('Polyfluoroalkanes', 'lt7', 3.0, nan)</th>\n",
       "      <td>0</td>\n",
       "    </tr>\n",
       "    <tr>\n",
       "      <th>('Polyfluoroalkanes', 'lt7', 4.0, nan)</th>\n",
       "      <td>0</td>\n",
       "    </tr>\n",
       "    <tr>\n",
       "      <th>('Polyfluoroalkyl acids', 'lt7', 2.0, nan)</th>\n",
       "      <td>0</td>\n",
       "    </tr>\n",
       "    <tr>\n",
       "      <th>('Si PFASs', 'gte7', nan, nan)</th>\n",
       "      <td>0</td>\n",
       "    </tr>\n",
       "    <tr>\n",
       "      <th>('Si PFASs', 'lt7', nan, nan)</th>\n",
       "      <td>0</td>\n",
       "    </tr>\n",
       "    <tr>\n",
       "      <th>('n:2 fluorotelomer-based substances', 'gte7', nan, nan)</th>\n",
       "      <td>4</td>\n",
       "    </tr>\n",
       "    <tr>\n",
       "      <th>('n:2 fluorotelomer-based substances', 'lt7', nan, nan)</th>\n",
       "      <td>4</td>\n",
       "    </tr>\n",
       "    <tr>\n",
       "      <th>('others', 'lt7', 1.0, nan)</th>\n",
       "      <td>0</td>\n",
       "    </tr>\n",
       "    <tr>\n",
       "      <th>('others', 'lt7', 3.0, 3.0)</th>\n",
       "      <td>0</td>\n",
       "    </tr>\n",
       "    <tr>\n",
       "      <th>('others, cyclic', 'lt7', 1.0, 1.0)</th>\n",
       "      <td>0</td>\n",
       "    </tr>\n",
       "    <tr>\n",
       "      <th>('others, cyclic', 'lt7', 3.0, 3.0)</th>\n",
       "      <td>0</td>\n",
       "    </tr>\n",
       "    <tr>\n",
       "      <th>('unclassified', 'gte7', nan, nan)</th>\n",
       "      <td>0</td>\n",
       "    </tr>\n",
       "    <tr>\n",
       "      <th>('unclassified', 'lt7', 1.0, 1.0)</th>\n",
       "      <td>0</td>\n",
       "    </tr>\n",
       "    <tr>\n",
       "      <th>('unclassified', 'lt7', 3.0, 1.0)</th>\n",
       "      <td>0</td>\n",
       "    </tr>\n",
       "    <tr>\n",
       "      <th>('unclassified', 'lt7', 3.0, 2.0)</th>\n",
       "      <td>0</td>\n",
       "    </tr>\n",
       "    <tr>\n",
       "      <th>('unclassified', 'lt7', 3.0, 3.0)</th>\n",
       "      <td>0</td>\n",
       "    </tr>\n",
       "    <tr>\n",
       "      <th>('unclassified', 'lt7', nan, nan)</th>\n",
       "      <td>0</td>\n",
       "    </tr>\n",
       "  </tbody>\n",
       "</table>\n",
       "</div>"
      ],
      "text/plain": [
       "                                                    MaxMin_tsca_active_picks\n",
       "group_str                                                                   \n",
       "('Aromatic PFASs', 'gte7', nan, nan)                                       0\n",
       "('Aromatic PFASs', 'lt7', 2.0, 3.0)                                        0\n",
       "('Aromatic PFASs', 'lt7', 2.0, 5.0)                                        0\n",
       "('Aromatic PFASs', 'lt7', 4.0, 1.0)                                        0\n",
       "('HFCs', 'lt7', 1.0, nan)                                                  0\n",
       "('HFCs', 'lt7', 3.0, nan)                                                  0\n",
       "('Other PFASs', 'gte7', nan, nan)                                          0\n",
       "('Other PFASs', 'lt7', 2.0, 2.0)                                           0\n",
       "('Other PFASs', 'lt7', 2.0, 3.0)                                           0\n",
       "('Other PFASs', 'lt7', 3.0, 1.0)                                           4\n",
       "('Other PFASs', 'lt7', 3.0, 3.0)                                           0\n",
       "('Other PFASs, cyclic', 'lt7', 2.0, nan)                                   4\n",
       "('Other PFASs, cyclic', 'lt7', 3.0, 1.0)                                   0\n",
       "('PASF-based substances', 'gte7', nan, nan)                                4\n",
       "('PASF-based substances', 'lt7', nan, nan)                                 4\n",
       "('PFAA precursors', 'gte7', nan, nan)                                      4\n",
       "('PFAA precursors', 'lt7', 1.0, 2.0)                                       0\n",
       "('PFAA precursors', 'lt7', 1.0, 3.0)                                       0\n",
       "('PFAA precursors', 'lt7', 2.0, 1.0)                                       0\n",
       "('PFAA precursors', 'lt7', 2.0, 2.0)                                       4\n",
       "('PFAA precursors', 'lt7', 2.0, 3.0)                                       4\n",
       "('PFAA precursors', 'lt7', 3.0, 2.0)                                       4\n",
       "('PFAA precursors', 'lt7', 4.0, 1.0)                                       0\n",
       "('PFAA precursors', 'lt7', 4.0, 2.0)                                       4\n",
       "('PFAA precursors', 'lt7', 4.0, 3.0)                                       0\n",
       "('PFAA precursors, cyclic', 'lt7', 1.0, 2.0)                               0\n",
       "('PFAA precursors, cyclic', 'lt7', 1.0, 3.0)                               0\n",
       "('PFAA precursors, cyclic', 'lt7', 2.0, nan)                               0\n",
       "('PFAA precursors, cyclic', 'lt7', 3.0, 1.0)                               0\n",
       "('PFAA precursors, cyclic', 'lt7', 3.0, 2.0)                               0\n",
       "('PFAAs', 'gte7', nan, nan)                                                4\n",
       "('PFAAs', 'lt7', 1.0, nan)                                                 4\n",
       "('PFAAs', 'lt7', 2.0, nan)                                                 0\n",
       "('PFAAs', 'lt7', 3.0, nan)                                                 0\n",
       "('PFAAs', 'lt7', 4.0, nan)                                                 4\n",
       "('PFAAs, cyclic', 'lt7', 1.0, nan)                                         0\n",
       "('PFAAs, cyclic', 'lt7', 3.0, 3.0)                                         0\n",
       "('PolyFCA derivatives', 'gte7', nan, nan)                                  0\n",
       "('PolyFCA derivatives', 'lt7', 1.0, nan)                                   0\n",
       "('PolyFCA derivatives', 'lt7', 2.0, nan)                                   0\n",
       "('PolyFCA derivatives', 'lt7', 3.0, nan)                                   0\n",
       "('Polyfluoroalkanes', 'gte7', nan, nan)                                    0\n",
       "('Polyfluoroalkanes', 'lt7', 2.0, nan)                                     0\n",
       "('Polyfluoroalkanes', 'lt7', 3.0, nan)                                     0\n",
       "('Polyfluoroalkanes', 'lt7', 4.0, nan)                                     0\n",
       "('Polyfluoroalkyl acids', 'lt7', 2.0, nan)                                 0\n",
       "('Si PFASs', 'gte7', nan, nan)                                             0\n",
       "('Si PFASs', 'lt7', nan, nan)                                              0\n",
       "('n:2 fluorotelomer-based substances', 'gte7', ...                         4\n",
       "('n:2 fluorotelomer-based substances', 'lt7', n...                         4\n",
       "('others', 'lt7', 1.0, nan)                                                0\n",
       "('others', 'lt7', 3.0, 3.0)                                                0\n",
       "('others, cyclic', 'lt7', 1.0, 1.0)                                        0\n",
       "('others, cyclic', 'lt7', 3.0, 3.0)                                        0\n",
       "('unclassified', 'gte7', nan, nan)                                         0\n",
       "('unclassified', 'lt7', 1.0, 1.0)                                          0\n",
       "('unclassified', 'lt7', 3.0, 1.0)                                          0\n",
       "('unclassified', 'lt7', 3.0, 2.0)                                          0\n",
       "('unclassified', 'lt7', 3.0, 3.0)                                          0\n",
       "('unclassified', 'lt7', nan, nan)                                          0"
      ]
     },
     "execution_count": 52,
     "metadata": {},
     "output_type": "execute_result"
    }
   ],
   "source": [
    "groups_"
   ]
  },
  {
   "cell_type": "code",
   "execution_count": 48,
   "id": "458f5756-ddd2-4730-837d-ba05ba5a3898",
   "metadata": {},
   "outputs": [
    {
     "data": {
      "text/plain": [
       "(46, 1)"
      ]
     },
     "execution_count": 48,
     "metadata": {},
     "output_type": "execute_result"
    }
   ],
   "source": [
    "groups_[groups_.MaxMin_tsca_active_picks < 4].shape\n",
    "\n",
    "#groups.apply(lambda g: g[g['B'] == g['B'].max()]))"
   ]
  },
  {
   "cell_type": "code",
   "execution_count": 49,
   "id": "52b154ef-6569-40ee-b9a9-d126468f2dee",
   "metadata": {},
   "outputs": [],
   "source": [
    "final_df = pd.merge(df, df3_w[['dtxsid', \n",
    "       'tsca_active_centroid', 'tsca_active_centroid_id', 'tsca_active_centroid_id2',\n",
    "       'tsca_active_analogues', 'tsca_active_dist', 'MaxMin_tsca_active_picks']], on = 'dtxsid', how = 'left')\n"
   ]
  },
  {
   "cell_type": "code",
   "execution_count": 50,
   "id": "3d1a654f-a30e-417e-8393-23b6e7fb9f81",
   "metadata": {},
   "outputs": [
    {
     "data": {
      "text/plain": [
       "Index(['dtxsid', 'DSSTox_QC-Level', 'Substance_Name', 'Substance_CASRN',\n",
       "       'Substance_Type', 'Substance_Note', 'smiles', 'Structure_InChI',\n",
       "       'Structure_InChIKey', 'Structure_Formula',\n",
       "       ...\n",
       "       'tsca_centroid_id2', 'tsca_analogues', 'tsca_dist', 'MaxMin_tsca_picks',\n",
       "       'tsca_active_centroid', 'tsca_active_centroid_id',\n",
       "       'tsca_active_centroid_id2', 'tsca_active_analogues', 'tsca_active_dist',\n",
       "       'MaxMin_tsca_active_picks'],\n",
       "      dtype='object', length=207)"
      ]
     },
     "execution_count": 50,
     "metadata": {},
     "output_type": "execute_result"
    }
   ],
   "source": [
    "final_df.columns"
   ]
  },
  {
   "cell_type": "code",
   "execution_count": 51,
   "id": "9acc2cab-d181-4e4f-9c3c-0990b175897c",
   "metadata": {},
   "outputs": [],
   "source": [
    "writer = pd.ExcelWriter(interim_dir+'final_universe_categorisations_wtsca_active_constraints_100524.xlsx', engine='xlsxwriter')\n",
    "\n",
    "# Convert the dataframe to an XlsxWriter Excel object.\n",
    "\n",
    "final_df.to_excel(writer)\n",
    "\n",
    "\n",
    "writer.close()\n"
   ]
  },
  {
   "cell_type": "code",
   "execution_count": 55,
   "id": "34daf398-667f-43ea-a800-40e2edc700fe",
   "metadata": {},
   "outputs": [],
   "source": [
    "from venn import venn"
   ]
  },
  {
   "cell_type": "code",
   "execution_count": 56,
   "id": "7ce177a1-c4d0-4ae1-ba40-9bae46228284",
   "metadata": {},
   "outputs": [],
   "source": [
    "#final_df.tsca_centroid_id2"
   ]
  },
  {
   "cell_type": "code",
   "execution_count": 57,
   "id": "86551dfe-bcf3-4f3f-8b3c-df2c0eac7cb5",
   "metadata": {},
   "outputs": [],
   "source": [
    "mydict3 = {\n",
    "           'Unconstrained centroid' : set(final_df['final_centroid'].unique().tolist()), \n",
    "           'Unconstrained MaxMin selections' : set(final_df[final_df['MaxMin_picks'] ==1]['dtxsid'].tolist()),\n",
    "           'TSCA inventory MaxMin selections' : set(final_df[final_df['MaxMin_tsca_picks']==1]['dtxsid'].tolist()),\n",
    "           'TSCA inventory centroid' : set(final_df['tsca_centroid_id2'].unique().tolist()),\n",
    "    'TSCA Active inventory MaxMin selections' : set(final_df[final_df['MaxMin_tsca_active_picks']==1]['dtxsid'].tolist()),\n",
    "           'TSCA Active inventory centroid' : set(final_df['tsca_active_centroid_id2'].unique().tolist()),\n",
    "           }"
   ]
  },
  {
   "cell_type": "code",
   "execution_count": 62,
   "id": "ea05dd80-f729-4d19-b592-b7d8240a8faa",
   "metadata": {},
   "outputs": [],
   "source": [
    "mydict3 = {\n",
    "           'Unconstrained centroid' : set(final_df['final_centroid'].unique().tolist()), \n",
    "           'Unconstrained MaxMin selections' : set(final_df[final_df['MaxMin_picks'] ==1]['dtxsid'].tolist()),\n",
    "           \n",
    "    'TSCA Active inventory MaxMin selections' : set(final_df[final_df['MaxMin_tsca_active_picks']==1]['dtxsid'].tolist()),\n",
    "           'TSCA Active inventory centroid' : set(final_df['tsca_active_centroid_id2'].unique().tolist()),\n",
    "           }"
   ]
  },
  {
   "cell_type": "code",
   "execution_count": 63,
   "id": "2b7a6264-0846-4de7-abb0-e92b047ed5b2",
   "metadata": {},
   "outputs": [
    {
     "data": {
      "image/png": "[encoded data removed]",
      "text/plain": [
       "<Figure size 1000x800 with 1 Axes>"
      ]
     },
     "metadata": {},
     "output_type": "display_data"
    }
   ],
   "source": [
    "plt.style.use('ggplot')\n",
    "f, ax = plt.subplots(figsize=(10, 8))\n",
    "#plt.figure(figsize=(18, 8))\n",
    "venn(mydict3, cmap=\"viridis\", fontsize=12, legend_loc=\"upper left\",ax = ax )\n",
    "f.savefig(figures_dir+'Figure7_100524.png', dpi = 300)"
   ]
  },
  {
   "cell_type": "code",
   "execution_count": 60,
   "id": "598f8379-e419-4cd5-9d47-f95043dcf1fc",
   "metadata": {},
   "outputs": [],
   "source": [
    "mydict4 = {\n",
    "          \n",
    "           'TSCA inventory MaxMin selections' : set(final_df[final_df['MaxMin_tsca_picks']==1]['dtxsid'].tolist()),\n",
    "           'TSCA inventory centroid' : set(final_df['tsca_centroid_id2'].unique().tolist()),\n",
    "    'TSCA Active inventory MaxMin selections' : set(final_df[final_df['MaxMin_tsca_active_picks']==1]['dtxsid'].tolist()),\n",
    "           'TSCA Active inventory centroid' : set(final_df['tsca_active_centroid_id2'].unique().tolist()),\n",
    "           }"
   ]
  },
  {
   "cell_type": "code",
   "execution_count": 61,
   "id": "b4bbef00-b855-4d69-911a-bc33c9b9d3c7",
   "metadata": {},
   "outputs": [
    {
     "data": {
      "text/plain": [
       "<Axes: >"
      ]
     },
     "execution_count": 61,
     "metadata": {},
     "output_type": "execute_result"
    },
    {
     "data": {
      "image/png": "[encoded data removed]",
      "text/plain": [
       "<Figure size 1000x800 with 1 Axes>"
      ]
     },
     "metadata": {},
     "output_type": "display_data"
    }
   ],
   "source": [
    "plt.style.use('ggplot')\n",
    "f, ax = plt.subplots(figsize=(10, 8))\n",
    "#plt.figure(figsize=(18, 8))\n",
    "venn(mydict4, cmap=\"viridis\", fontsize=12, legend_loc=\"upper left\",ax = ax )\n",
    "#f.savefig(figures_dir+'FigureS7a_220823.png', dpi = 300)"
   ]
  },
  {
   "cell_type": "code",
   "execution_count": null,
   "id": "35d1cd11-8f6f-4904-be09-95fca86e0d25",
   "metadata": {},
   "outputs": [],
   "source": []
  },
  {
   "cell_type": "code",
   "execution_count": null,
   "id": "db1d75b1-7cfe-4b68-a300-bb81757fa451",
   "metadata": {},
   "outputs": [],
   "source": []
  },
  {
   "cell_type": "code",
   "execution_count": null,
   "id": "a78fc653-bdc3-470e-8bd9-403c3c67bf35",
   "metadata": {},
   "outputs": [],
   "source": []
  }
 ],
 "metadata": {
  "kernelspec": {
   "display_name": "py39",
   "language": "python",
   "name": "py39"
  },
  "language_info": {
   "codemirror_mode": {
    "name": "ipython",
    "version": 3
   },
   "file_extension": ".py",
   "mimetype": "text/x-python",
   "name": "python",
   "nbconvert_exporter": "python",
   "pygments_lexer": "ipython3",
   "version": "3.9.16"
  },
  "widgets": {
   "application/vnd.jupyter.widget-state+json": {
    "state": {},
    "version_major": 2,
    "version_minor": 0
   }
  }
 },
 "nbformat": 4,
 "nbformat_minor": 5
}
