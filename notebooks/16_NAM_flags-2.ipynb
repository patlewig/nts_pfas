{
 "cells": [
  {
   "cell_type": "markdown",
   "metadata": {},
   "source": [
    "## Enrichments from NAM flags"
   ]
  },
  {
   "cell_type": "code",
   "execution_count": 1,
   "metadata": {},
   "outputs": [],
   "source": [
    "import pandas as pd\n",
    "import numpy as np\n",
    "import matplotlib.pyplot as plt\n",
    "import seaborn as sns\n",
    "import os\n",
    "import sys\n",
    "from IPython.display import display, Markdown\n",
    "%matplotlib inline"
   ]
  },
  {
   "cell_type": "code",
   "execution_count": 2,
   "metadata": {},
   "outputs": [],
   "source": [
    "import openpyxl\n",
    "from rdkit.Chem.Draw import IPythonConsole, MolsToGridImage\n",
    "\n",
    "#Show mols in dataframes\n",
    "from rdkit.Chem import PandasTools\n",
    "from rdkit import Chem\n",
    "from rdkit.Chem.Draw import MolsToGridImage\n",
    "from IPython.core.display import HTML\n",
    "from rdkit.Chem import Descriptors\n",
    "from rdkit.ML.Descriptors import MoleculeDescriptors\n",
    "from rdkit.Chem import PandasTools\n",
    "from rdkit.Chem import AllChem\n",
    "from rdkit.Chem import rdDepictor\n",
    "from rdkit.Chem.Fingerprints import FingerprintMols\n",
    "from rdkit import DataStructs\n",
    "import os\n",
    "from scipy.spatial.distance import pdist, squareform"
   ]
  },
  {
   "cell_type": "code",
   "execution_count": 3,
   "metadata": {},
   "outputs": [],
   "source": [
    "TOP = os.getcwd().replace('notebooks', '')\n",
    "raw_dir = TOP + 'data/raw/'\n",
    "interim_dir = TOP + 'data/interim/'\n",
    "external_dir = TOP + 'data/external/'\n",
    "processed_dir = TOP + 'data/processed/'\n",
    "figures_dir = TOP + 'reports/figures/'"
   ]
  },
  {
   "cell_type": "code",
   "execution_count": 4,
   "metadata": {},
   "outputs": [],
   "source": [
    "LIB = TOP+'src/models/'\n",
    "if not LIB in sys.path: \n",
    "    sys.path.insert(0,LIB)"
   ]
  },
  {
   "cell_type": "code",
   "execution_count": 5,
   "metadata": {},
   "outputs": [],
   "source": [
    "from model_functions import *"
   ]
  },
  {
   "cell_type": "code",
   "execution_count": 7,
   "metadata": {},
   "outputs": [],
   "source": [
    "df = pd.read_excel(interim_dir+'final_new_universe_wNAMS_091123.xlsx', index_col = [0])"
   ]
  },
  {
   "cell_type": "code",
   "execution_count": 8,
   "metadata": {},
   "outputs": [],
   "source": [
    "df['NAM'] = np.where(df['Immune'].notnull() | df['DNT'].notnull() | df['ZF'].notnull() | \\\n",
    "         df['hDIO1'].notnull() | df['hDIO2'].notnull()| df['hDIO3'].notnull() | df['xDIO3'].notnull() | df['hIYD'].notnull() | \\\n",
    "                      df['XIYD'].notnull() | df['hTBG'].notnull() | \\\n",
    "                      df['hTPO'].notnull() |  df['NR_ESR1'].notnull() | \\\n",
    "                      df['NR_NRF2'].notnull() | df['NR_PPAR'].notnull() | \\\n",
    "                      df['NR_PXR'].notnull() | \\\n",
    "                      df['NR_RXR'].notnull(),       1,0)"
   ]
  },
  {
   "cell_type": "code",
   "execution_count": 10,
   "metadata": {},
   "outputs": [
    {
     "data": {
      "text/plain": [
       "Index(['dtxsid', 'DSSTox_QC-Level', 'Substance_Name', 'Substance_CASRN',\n",
       "       'Substance_Type', 'smiles', 'Structure_InChI', 'Structure_InChIKey',\n",
       "       'Structure_Formula', 'Structure_MolWt',\n",
       "       ...\n",
       "       'xDIO3', 'hIYD', 'XIYD', 'hTBG', 'hTPO', 'Immune', 'TK_PlasBind',\n",
       "       'TK_Metab', 'TK_Struc_Endo', 'NAM'],\n",
       "      dtype='object', length=113)"
      ]
     },
     "execution_count": 10,
     "metadata": {},
     "output_type": "execute_result"
    }
   ],
   "source": [
    "df.columns"
   ]
  },
  {
   "cell_type": "code",
   "execution_count": 11,
   "metadata": {},
   "outputs": [],
   "source": [
    "mycats = {}\n",
    "for i, group in df.groupby('group_str'):\n",
    "    mycats[i] = group[['dtxsid',\n",
    " 'Substance_Name',\n",
    " 'smiles',\n",
    " 'Structure_MolWt',\n",
    " 'TSCA_STATUS','qc',\n",
    " 'qc_httk',\n",
    " 'NR_ESR1',\n",
    " 'NR_PPAR',\n",
    " 'NR_NRF2',\n",
    " 'NR_RXR',\n",
    " 'NR_PXR',\n",
    " 'ZF',\n",
    " 'DNT',\n",
    " 'hDIO1',\n",
    " 'hDIO2',\n",
    " 'hDIO3',\n",
    " 'xDIO3',\n",
    " 'hIYD',\n",
    " 'XIYD',\n",
    " 'hTBG',\n",
    " 'hTPO',\n",
    " 'Immune',\n",
    " 'TK_PlasBind',\n",
    " 'TK_Metab',\n",
    " 'TK_Struc_Endo', 'NAM']]"
   ]
  },
  {
   "cell_type": "code",
   "execution_count": 12,
   "metadata": {},
   "outputs": [],
   "source": [
    "nams_dict = {k: v for k, v in mycats.items() if v['NAM'].sum() >= 5}"
   ]
  },
  {
   "cell_type": "code",
   "execution_count": 13,
   "metadata": {},
   "outputs": [
    {
     "data": {
      "text/plain": [
       "dict_keys([\"('Fluorotelomer PFAA precursors', 'gte7', nan, nan)\", \"('Fluorotelomer PFAA precursors', 'lt7', 2.0, 3.0)\", \"('Other aliphatics', 'gte7', 2.0, nan)\", \"('Other aliphatics', 'gte7', 3.0, 2.0)\", \"('Other aliphatics', 'lt7', 3.0, 4.0)\", \"('PFAAs', 'gte7', nan, nan)\", \"('PFAAs', 'lt7', 1.0, nan)\", \"('PFAAs', 'lt7', 2.0, nan)\", \"('PFAAs', 'lt7', 4.0, nan)\"])"
      ]
     },
     "execution_count": 13,
     "metadata": {},
     "output_type": "execute_result"
    }
   ],
   "source": [
    "nams_dict.keys()"
   ]
  },
  {
   "cell_type": "code",
   "execution_count": 14,
   "metadata": {},
   "outputs": [],
   "source": [
    "def prep_nam(df):\n",
    "    df1 = df[df['NAM'] == 1]\n",
    "    return df1"
   ]
  },
  {
   "cell_type": "code",
   "execution_count": 15,
   "metadata": {},
   "outputs": [],
   "source": [
    "nam = {}\n",
    "for k, v in nams_dict.items():\n",
    "    nam[k] = prep_nam(v)"
   ]
  },
  {
   "cell_type": "code",
   "execution_count": 16,
   "metadata": {},
   "outputs": [],
   "source": [
    "all_chem = {}\n",
    "for k,v in nams_dict.items():\n",
    "    all_chem[k] = mk_fp(v)"
   ]
  },
  {
   "cell_type": "code",
   "execution_count": 17,
   "metadata": {},
   "outputs": [],
   "source": [
    "dist_chem = {k:distance_matrix(v) for k,v in all_chem.items()}"
   ]
  },
  {
   "cell_type": "code",
   "execution_count": 18,
   "metadata": {},
   "outputs": [],
   "source": [
    "#dist_chem"
   ]
  },
  {
   "cell_type": "code",
   "execution_count": 19,
   "metadata": {},
   "outputs": [],
   "source": [
    "nam_chem = {}\n",
    "for k,v in nam.items():\n",
    "    nam_chem[k] = mk_fp(v)"
   ]
  },
  {
   "cell_type": "code",
   "execution_count": 20,
   "metadata": {},
   "outputs": [],
   "source": [
    "nam_bio = {}\n",
    "for k, v in nam.items():\n",
    "    v1 = v.set_index('dtxsid')\n",
    "    nam_bio[k] = v1.iloc[:, 6:-2]"
   ]
  },
  {
   "cell_type": "code",
   "execution_count": 22,
   "metadata": {},
   "outputs": [],
   "source": [
    "#nam_bio"
   ]
  },
  {
   "cell_type": "code",
   "execution_count": 72,
   "metadata": {},
   "outputs": [],
   "source": [
    "from scipy.spatial.distance import pdist, squareform\n",
    "from scipy.cluster.hierarchy import dendrogram, linkage\n",
    "from scipy.spatial.distance import pdist, squareform"
   ]
  },
  {
   "cell_type": "code",
   "execution_count": 24,
   "metadata": {},
   "outputs": [],
   "source": [
    "pfas_txps3 = pd.read_csv(external_dir+'pfas_txps_090923.csv', index_col = [0])"
   ]
  },
  {
   "cell_type": "code",
   "execution_count": 25,
   "metadata": {},
   "outputs": [],
   "source": [
    "pfas_txps3.rename(columns = {'M_NAME': 'dtxsid'}, inplace = True)"
   ]
  },
  {
   "cell_type": "code",
   "execution_count": 26,
   "metadata": {},
   "outputs": [],
   "source": [
    "#pd.merge(nams_dict[\"('Fluorotelomer PFAA precursors', 'gte7', nan, nan)\"]['dtxsid'], pfas_txps3, on = 'dtxsid', how = 'left')"
   ]
  },
  {
   "cell_type": "code",
   "execution_count": 27,
   "metadata": {},
   "outputs": [],
   "source": [
    "all_chem_4 = {}\n",
    "for k,v in nams_dict.items():\n",
    "    all_chem_4[k] = pd.merge(nams_dict[k]['dtxsid'], pfas_txps3, on = 'dtxsid', how = 'left').set_index('dtxsid')"
   ]
  },
  {
   "cell_type": "code",
   "execution_count": 28,
   "metadata": {},
   "outputs": [],
   "source": [
    "dist_chem_4 = {k:distance_matrix(v) for k,v in all_chem_4.items()}"
   ]
  },
  {
   "cell_type": "code",
   "execution_count": 29,
   "metadata": {},
   "outputs": [],
   "source": [
    "#nam[\"('Fluorotelomer PFAA precursors', 'gte7', nan, nan)\"]"
   ]
  },
  {
   "cell_type": "code",
   "execution_count": 30,
   "metadata": {},
   "outputs": [],
   "source": [
    "nam_chem_3 = {}\n",
    "for k,v in nam.items():\n",
    "    nam_chem_3[k] = pd.merge(nam[k]['dtxsid'], pfas_txps3, on = 'dtxsid', how = 'left').set_index('dtxsid')"
   ]
  },
  {
   "cell_type": "code",
   "execution_count": 31,
   "metadata": {},
   "outputs": [],
   "source": [
    "nam_chem_3 = {k:distance_matrix(v) for k,v in nam_chem_3.items()}"
   ]
  },
  {
   "cell_type": "code",
   "execution_count": 32,
   "metadata": {},
   "outputs": [],
   "source": [
    "df_nams = df[df['NAM']==1][['dtxsid',\n",
    " \n",
    " 'NR_ESR1',\n",
    " 'NR_PPAR',\n",
    " 'NR_NRF2',\n",
    " 'NR_RXR',\n",
    " 'NR_PXR',\n",
    " 'ZF',\n",
    " 'DNT',\n",
    " 'hDIO1',\n",
    " 'hDIO2',\n",
    " 'hDIO3',\n",
    " 'xDIO3',\n",
    " 'hIYD',\n",
    " 'XIYD',\n",
    " 'hTBG',\n",
    " 'hTPO',\n",
    " 'Immune',\n",
    " 'TK_PlasBind',\n",
    " 'TK_Metab',\n",
    " 'TK_Struc_Endo']]"
   ]
  },
  {
   "cell_type": "code",
   "execution_count": 33,
   "metadata": {},
   "outputs": [],
   "source": [
    "df_nams = pd.merge(df_nams, pfas_txps3, on = 'dtxsid', how = 'left')"
   ]
  },
  {
   "cell_type": "code",
   "execution_count": 34,
   "metadata": {},
   "outputs": [],
   "source": [
    "df_nams1 = df_nams.set_index('dtxsid')"
   ]
  },
  {
   "cell_type": "code",
   "execution_count": 35,
   "metadata": {},
   "outputs": [],
   "source": [
    "df_nams1.iloc[:,:19] = df_nams1.iloc[:,:19].applymap(lambda x: 1 if x >0 else x)"
   ]
  },
  {
   "cell_type": "code",
   "execution_count": 36,
   "metadata": {},
   "outputs": [],
   "source": [
    "#df_nams1.to_csv(external_dir+'nams_binary.csv')"
   ]
  },
  {
   "cell_type": "code",
   "execution_count": 37,
   "metadata": {},
   "outputs": [],
   "source": [
    "import scipy.stats as stats\n",
    "from scipy.stats import chi2_contingency"
   ]
  },
  {
   "cell_type": "code",
   "execution_count": 49,
   "metadata": {},
   "outputs": [],
   "source": [
    "a1 = pd.crosstab(df_nams1['NR_ESR1'], df_nams1['pfas_bond:X[notF]_CFX_generic']).sort_index(ascending = False)"
   ]
  },
  {
   "cell_type": "code",
   "execution_count": 50,
   "metadata": {},
   "outputs": [
    {
     "data": {
      "text/html": [
       "<div>\n",
       "<style scoped>\n",
       "    .dataframe tbody tr th:only-of-type {\n",
       "        vertical-align: middle;\n",
       "    }\n",
       "\n",
       "    .dataframe tbody tr th {\n",
       "        vertical-align: top;\n",
       "    }\n",
       "\n",
       "    .dataframe thead th {\n",
       "        text-align: right;\n",
       "    }\n",
       "</style>\n",
       "<table border=\"1\" class=\"dataframe\">\n",
       "  <thead>\n",
       "    <tr style=\"text-align: right;\">\n",
       "      <th>pfas_bond:X[notF]_CFX_generic</th>\n",
       "      <th>1</th>\n",
       "      <th>0</th>\n",
       "    </tr>\n",
       "    <tr>\n",
       "      <th>NR_ESR1</th>\n",
       "      <th></th>\n",
       "      <th></th>\n",
       "    </tr>\n",
       "  </thead>\n",
       "  <tbody>\n",
       "    <tr>\n",
       "      <th>1.0</th>\n",
       "      <td>4</td>\n",
       "      <td>13</td>\n",
       "    </tr>\n",
       "    <tr>\n",
       "      <th>0.0</th>\n",
       "      <td>2</td>\n",
       "      <td>105</td>\n",
       "    </tr>\n",
       "  </tbody>\n",
       "</table>\n",
       "</div>"
      ],
      "text/plain": [
       "pfas_bond:X[notF]_CFX_generic  1    0\n",
       "NR_ESR1                              \n",
       "1.0                            4   13\n",
       "0.0                            2  105"
      ]
     },
     "execution_count": 50,
     "metadata": {},
     "output_type": "execute_result"
    }
   ],
   "source": [
    "a1[[1,0]]"
   ]
  },
  {
   "cell_type": "code",
   "execution_count": 51,
   "metadata": {},
   "outputs": [],
   "source": [
    "res_txp = []\n",
    "for i, col in df_nams1.iloc[:,19:].items():\n",
    "    for j, col in df_nams1.iloc[:,0:19].items(): \n",
    "        if pd.crosstab(df_nams1[i], df_nams1[j]).shape == (2,2):\n",
    "            a = pd.crosstab(df_nams1[j], df_nams1[i])\n",
    "            a = a.sort_index(ascending = False)\n",
    "            a = a[[1,0]]\n",
    "            tp, tn, fp, fn = a.iloc[0,0], a.iloc[1,1], a.iloc[1,0], a.iloc[0,1]\n",
    "            oddsratio, pvalue = stats.fisher_exact(a, alternative = 'greater')\n",
    "            res_txp.append([i, j, oddsratio, pvalue, tp])"
   ]
  },
  {
   "cell_type": "code",
   "execution_count": 52,
   "metadata": {},
   "outputs": [],
   "source": [
    "def convert(lst):\n",
    "    df = pd.DataFrame(lst)\n",
    "    df.rename(columns = {0: 'TxP', 1: 'Assay', 2 : 'OR', 3: 'p', 4:'tp'}, inplace = True)\n",
    "    df = df.sort_values(by=['OR','p'], ascending = [False, True])\n",
    "    return df"
   ]
  },
  {
   "cell_type": "code",
   "execution_count": 53,
   "metadata": {},
   "outputs": [],
   "source": [
    "res_enrich = convert(res_txp)\n",
    "#res_enrich"
   ]
  },
  {
   "cell_type": "code",
   "execution_count": 54,
   "metadata": {},
   "outputs": [],
   "source": [
    "res_enrich = res_enrich[res_enrich['Assay'] != 'TK_Struc_Endo']"
   ]
  },
  {
   "cell_type": "code",
   "execution_count": 110,
   "metadata": {},
   "outputs": [],
   "source": [
    "#res_enrich[(res_enrich['p']<0.05) & (res_enrich['OR'] >3) ].shape"
   ]
  },
  {
   "cell_type": "code",
   "execution_count": 55,
   "metadata": {},
   "outputs": [],
   "source": [
    "res_enrich_df = res_enrich[(res_enrich['p']<0.05) & (res_enrich['OR'] >3) ]"
   ]
  },
  {
   "cell_type": "code",
   "execution_count": 105,
   "metadata": {},
   "outputs": [],
   "source": [
    "res_enrich_df.to_csv(interim_dir+'enriched_TxPs.csv')"
   ]
  },
  {
   "cell_type": "code",
   "execution_count": 57,
   "metadata": {},
   "outputs": [],
   "source": [
    "res_enrich_df\n",
    "\n",
    "enriched_dict = {}\n",
    "for e in res_enrich_df['Assay'].unique():\n",
    "    enriched_dict[e] = res_enrich_df[res_enrich_df['Assay']  ==e]['TxP'].tolist()"
   ]
  },
  {
   "cell_type": "code",
   "execution_count": 70,
   "metadata": {},
   "outputs": [
    {
     "data": {
      "text/plain": [
       "['pfas_bond:S=O_sulfonyl_generic_CF',\n",
       " 'pfas_bond:S(=O)O_sulfonicAcid_acyclic_(chain)_SCF',\n",
       " 'pfas_chain:perF-linear_C9_plus',\n",
       " 'pfas_bond:C~Z_CF2CF2-Z',\n",
       " 'pfas_bond:COC_ether_aliphatic_FCOCF',\n",
       " 'pfas_bond:COC_ether_FCOC',\n",
       " 'pfas_chain:perF-linear_cap_C8_excl_mod',\n",
       " 'pfas_chain:perF-linear_C8_plus',\n",
       " 'pfas_chain:perF-linear_C7_plus',\n",
       " 'pfas_chain:perF-linear_cap_C6_plus']"
      ]
     },
     "execution_count": 70,
     "metadata": {},
     "output_type": "execute_result"
    }
   ],
   "source": [
    "enriched_dict['TK_PlasBind']"
   ]
  },
  {
   "cell_type": "code",
   "execution_count": 71,
   "metadata": {},
   "outputs": [],
   "source": [
    "def enriched_nams(df):\n",
    "        test_rev = []\n",
    "        for i, row in df.iterrows():\n",
    "            if (row['pfas_bond:S(=O)N_sulfonylamide_SCF'] == 1) | (row['pfas_bond:S~N_generic_CF'] == 1) | (row['pfas_bond:S=O_sulfonyl_generic_CF'] ==1) \\\n",
    "            | (row['pfas_chain:perF-linear_C8_plus'] ==1) | (row['pfas_bond:C~Z_CF2CF2-Z'] ==1) | (row['pfas_chain:perF-linear_cap_C8_excl_mod'] ==1):\n",
    "                test_rev.append([i, 'ZF'])\n",
    "            if (row['pfas_chain:perF-linear_C8_plus'] == 1) | (row['pfas_bond:X[notF]_CFX_Cl'] == 1) | (row['pfas_chain:perF-linear_C7_plus'] ==1):\n",
    "                test_rev.append([i, 'NR_NRF2'])\n",
    "            if (row['pfas_bond:C(=O)O_carboxylicEster_acyclic_OCCF'] == 1) | (row['pfas_chain:FT_n1_O'] == 1) | (row['pfas_chain:FT_n1_hetero'] ==1):\n",
    "                test_rev.append([i, 'hDIO1'])\n",
    "            if (row['pfas_bond:X[notF]_CFX_Cl'] == 1) | (row['pfas_chain:FT_n3_hetero'] == 1) | (row['pfas_chain:FT_n3_O'] ==1):\n",
    "                test_rev.append([i, 'NR_RXR'])\n",
    "            if (row['pfas_bond:X[notF]_CFX_I'] == 1) | (row['pfas_bond:X[notF]_CFX_generic'] == 1) | (row['pfas_bond:X[notF]_CFCX_I'] ==1) | (row['pfas_bond:COH_alcohol_pri-alkyl_CF'] ==1) | (row[ 'pfas_bond:X[notF]_CFCX_generic'] ==1):\n",
    "                test_rev.append([i, 'NR_ESR1'])\n",
    "            if (row['pfas_bond:C=O_carbonyl_generic_CF'] == 1) | (row['pfas_bond:X[notF]_CFCX_Cl'] == 1) | (row['pfas_bond:C(=O)O_carboxylicAcid_generic_CF'] ==1):\n",
    "                test_rev.append([i, 'NR_PPAR'])\n",
    "            if (row['pfas_bond:S=O_sulfonyl_generic_CF'] == 1) | (row['pfas_chain:perF-linear_cap_C8_excl_mod'] == 1) | (row['pfas_chain:perF-linear_C8_plus'] ==1) \\\n",
    "            | (row['pfas_bond:C~Z_CF2CF2-Z'] ==1) | (row['pfas_chain:perF-linear_C7_plus'] ==1) | (row['pfas_bond:OZ_oxide_hydroxy_CF'] ==1) | (row['pfas_bond:S(=O)O_sulfonicAcid_acyclic_(chain)_SCF'] ==1):\n",
    "                test_rev.append([i, 'NR_PXR'])\n",
    "            if  (row['pfas_chain:FT_n2_C=O'] == 1):\n",
    "                test_rev.append([i, 'Immune'])\n",
    "            if (row['pfas_bond:S(=O)N_sulfonylamide_SCF'] == 1) | (row['pfas_bond:S~N_generic_CF'] == 1):\n",
    "                test_rev.append([i, 'DNT'])\n",
    "            if (row['pfas_bond:S=O_sulfonyl_generic_CF'] == 1) | (row['pfas_bond:S(=O)O_sulfonicAcid_acyclic_(chain)_SCF'] == 1) | (row['pfas_chain:perF-linear_C9_plus'] ==1) | (row['pfas_chain:perF-linear_C7_plus'] ==1) \\\n",
    "            | (row['pfas_bond:C~Z_CF2CF2-Z'] ==1) | (row['pfas_bond:COC_ether_aliphatic_FCOCF'] ==1) | (row['pfas_chain:perF-linear_cap_C8_excl_mod'] ==1) | (row['pfas_chain:perF-linear_C8_plus'] ==1) | (row['pfas_chain:perF-linear_cap_C6_plus'] ==1):\n",
    "                test_rev.append([i, 'TK_PlasBind'])\n",
    "            else:\n",
    "                test_rev.append([i, 'No flag'])\n",
    "        return pd.DataFrame(test_rev, columns = ['dtxsid', 'NAM_SARs'])   "
   ]
  },
  {
   "cell_type": "code",
   "execution_count": 72,
   "metadata": {},
   "outputs": [],
   "source": [
    "pfas_txps_new = pd.read_csv(interim_dir+'new_inv_4TxPs_PFAS_out.txt',sep = ';')"
   ]
  },
  {
   "cell_type": "code",
   "execution_count": 74,
   "metadata": {},
   "outputs": [],
   "source": [
    "pfas_txps_new\n",
    "pfas_txps_new1 = pfas_txps_new.set_index('M_NAME')"
   ]
  },
  {
   "cell_type": "code",
   "execution_count": 75,
   "metadata": {},
   "outputs": [],
   "source": [
    "pred_nams = enriched_nams(pfas_txps_new1)"
   ]
  },
  {
   "cell_type": "code",
   "execution_count": 78,
   "metadata": {},
   "outputs": [],
   "source": [
    "pred_nams_pvt = pred_nams.pivot(index = 'dtxsid', columns = ['NAM_SARs'], values = 'NAM_SARs' )"
   ]
  },
  {
   "cell_type": "code",
   "execution_count": 79,
   "metadata": {},
   "outputs": [],
   "source": [
    "pred_nams_pvt = pred_nams_pvt.applymap(lambda x : 1 if pd.notnull([x]) else 0)"
   ]
  },
  {
   "cell_type": "code",
   "execution_count": 80,
   "metadata": {},
   "outputs": [],
   "source": [
    "pred_nams_pvt.columns.name = None"
   ]
  },
  {
   "cell_type": "code",
   "execution_count": 81,
   "metadata": {},
   "outputs": [],
   "source": [
    "pred_nams_pvt.columns = ['pred_'+e for e in pred_nams_pvt.columns]"
   ]
  },
  {
   "cell_type": "code",
   "execution_count": 82,
   "metadata": {},
   "outputs": [],
   "source": [
    "pred_nams_pvt = pred_nams_pvt.reset_index()"
   ]
  },
  {
   "cell_type": "code",
   "execution_count": 84,
   "metadata": {},
   "outputs": [],
   "source": [
    "writer = pd.ExcelWriter(interim_dir+'predicted_NAMs_091123.xlsx', engine='xlsxwriter')\n",
    "\n",
    "# Convert the dataframe to an XlsxWriter Excel object.\n",
    "pred_nams_pvt.to_excel(writer, sheet_name = 'predicted_NAMS_universe')\n",
    "\n",
    "\n",
    "writer.close()"
   ]
  },
  {
   "cell_type": "code",
   "execution_count": 85,
   "metadata": {},
   "outputs": [],
   "source": [
    "df2 = pd.merge(df, pred_nams_pvt, on = 'dtxsid', how = 'left')"
   ]
  },
  {
   "cell_type": "code",
   "execution_count": 108,
   "metadata": {},
   "outputs": [],
   "source": [
    "writer = pd.ExcelWriter(interim_dir+'final_landscape_with_predicted_NAMs_091123.xlsx', engine='xlsxwriter')\n",
    "\n",
    "# Convert the dataframe to an XlsxWriter Excel object.\n",
    "df2.to_excel(writer)\n",
    "\n",
    "\n",
    "writer.close()"
   ]
  },
  {
   "cell_type": "code",
   "execution_count": 86,
   "metadata": {},
   "outputs": [],
   "source": [
    "df3 = df2[['dtxsid','group_str','qc',\n",
    " 'qc_httk',\n",
    " 'NR_ESR1',\n",
    " 'NR_PPAR',\n",
    " 'NR_NRF2',\n",
    " 'NR_RXR',\n",
    " 'NR_PXR',\n",
    " 'ZF',\n",
    " 'DNT',\n",
    " 'hDIO1',\n",
    " 'hDIO2',\n",
    " 'hDIO3',\n",
    " 'xDIO3',\n",
    " 'hIYD',\n",
    " 'XIYD',\n",
    " 'hTBG',\n",
    " 'hTPO',\n",
    " 'Immune',\n",
    " 'TK_PlasBind',\n",
    " 'TK_Metab',\n",
    " 'TK_Struc_Endo','pred_DNT',\n",
    " 'pred_Immune',\n",
    " 'pred_NR_ESR1',\n",
    " 'pred_NR_NRF2',\n",
    " 'pred_NR_PPAR',\n",
    " 'pred_NR_PXR',\n",
    " 'pred_NR_RXR',\n",
    " 'pred_TK_PlasBind',\n",
    " 'pred_ZF',\n",
    " 'pred_hDIO1',\n",
    "          'pred_No flag']]\n",
    "     "
   ]
  },
  {
   "cell_type": "code",
   "execution_count": 87,
   "metadata": {},
   "outputs": [
    {
     "name": "stderr",
     "output_type": "stream",
     "text": [
      "/tmp/ipykernel_42564/2266291653.py:1: SettingWithCopyWarning: \n",
      "A value is trying to be set on a copy of a slice from a DataFrame.\n",
      "Try using .loc[row_indexer,col_indexer] = value instead\n",
      "\n",
      "See the caveats in the documentation: https://pandas.pydata.org/pandas-docs/stable/user_guide/indexing.html#returning-a-view-versus-a-copy\n",
      "  df3.iloc[:,4:23] = df3.iloc[:,4:23].applymap(lambda x: 1 if x>0 else x)\n"
     ]
    }
   ],
   "source": [
    "df3.iloc[:,4:23] = df3.iloc[:,4:23].applymap(lambda x: 1 if x>0 else x)"
   ]
  },
  {
   "cell_type": "code",
   "execution_count": 88,
   "metadata": {},
   "outputs": [],
   "source": [
    "from sklearn.metrics import confusion_matrix,roc_auc_score, recall_score, accuracy_score"
   ]
  },
  {
   "cell_type": "code",
   "execution_count": 89,
   "metadata": {},
   "outputs": [],
   "source": [
    "tuples = []\n",
    "\n",
    "for i in range(len(df3.columns.tolist()[4:23])):\n",
    "    for j in range(len(df3.columns.tolist()[23:])):\n",
    "        element1 = df3.columns.tolist()[4:23][i]\n",
    "        element2 = df3.columns.tolist()[23:][j]\n",
    "        if element1 in element2:\n",
    "           tuples.append([element1, element2])"
   ]
  },
  {
   "cell_type": "code",
   "execution_count": 90,
   "metadata": {},
   "outputs": [],
   "source": [
    "def metrics_nams(df):\n",
    "    metrics = []\n",
    "    for e in tuples:\n",
    "        me = df[e].dropna()\n",
    "        x = pd.crosstab(me[e[0]], me[e[1]])\n",
    "        tn, fp, fn, tp = x.iloc[0,0], x.iloc[0,1], x.iloc[1,0], x.iloc[1,1]\n",
    "        sensitivity = tp/(tp+fn)\n",
    "        specificity = tn/(tn+fp)\n",
    "        accuracy = (tp+tn)/(tp+tn+fp+fn)\n",
    "        a = roc_auc_score(me.iloc[:,0], me.iloc[:,1])\n",
    "        b = recall_score(me.iloc[:,0], me.iloc[:,1])\n",
    "        c = accuracy_score(me.iloc[:,0], me.iloc[:,1])\n",
    "        metrics.append([e,a,c,b, specificity])\n",
    "    return metrics"
   ]
  },
  {
   "cell_type": "code",
   "execution_count": 104,
   "metadata": {},
   "outputs": [],
   "source": [
    "round(pd.DataFrame(metrics_nams(df3), columns = ['comparison', 'ROC_AUC_score','Accuracy',  'Sensitivity', 'Specificity']),2).to_csv(interim_dir+'performance_NAM_flags.csv')"
   ]
  },
  {
   "cell_type": "code",
   "execution_count": 92,
   "metadata": {},
   "outputs": [],
   "source": [
    "myresults = {}\n",
    "for i, group in df3.groupby('group_str'):\n",
    "    myresults[i] = group"
   ]
  },
  {
   "cell_type": "code",
   "execution_count": 101,
   "metadata": {},
   "outputs": [],
   "source": [
    "case_study = myresults[ \"('PFAAs', 'gte7', nan, nan)\"].set_index('dtxsid').iloc[:,3:][['NR_ESR1', 'NR_PPAR', 'NR_NRF2', 'NR_RXR', 'NR_PXR', 'ZF', 'DNT',\n",
    "       'hDIO1', 'hDIO2', 'hDIO3', 'xDIO3', 'hIYD', 'XIYD', 'hTBG', 'hTPO',\n",
    "       'Immune', 'TK_PlasBind', 'TK_Metab', 'TK_Struc_Endo','pred_NR_ESR1','pred_NR_PPAR', 'pred_NR_NRF2','pred_NR_RXR','pred_NR_PXR','pred_ZF', 'pred_DNT','pred_hDIO1','pred_Immune', 'pred_TK_PlasBind','pred_No flag']]"
   ]
  },
  {
   "cell_type": "code",
   "execution_count": 103,
   "metadata": {},
   "outputs": [
    {
     "data": {
      "image/png": "[encoded data removed]",
      "text/plain": [
       "<Figure size 600x600 with 1 Axes>"
      ]
     },
     "metadata": {},
     "output_type": "display_data"
    }
   ],
   "source": [
    "f1, ax = plt.subplots(figsize = (6,6) )\n",
    "ax.tick_params(axis='x', labelsize=6)\n",
    "ax.tick_params(axis='y', labelsize=6)\n",
    "ax.set_title(\"('PFAAs', 'gte7', nan, nan)\")\n",
    "sns.heatmap(case_study, cmap = 'coolwarm', ax = ax,  cbar = False, cbar_kws={\"shrink\": 0.5})\n",
    "plt.tight_layout()\n",
    "f1.savefig(figures_dir+'predicted_NAM_example.png');"
   ]
  },
  {
   "cell_type": "code",
   "execution_count": null,
   "metadata": {},
   "outputs": [],
   "source": []
  },
  {
   "cell_type": "code",
   "execution_count": null,
   "metadata": {},
   "outputs": [],
   "source": []
  },
  {
   "cell_type": "code",
   "execution_count": null,
   "metadata": {},
   "outputs": [],
   "source": []
  },
  {
   "cell_type": "code",
   "execution_count": null,
   "metadata": {},
   "outputs": [],
   "source": []
  }
 ],
 "metadata": {
  "kernelspec": {
   "display_name": "py39",
   "language": "python",
   "name": "py39"
  },
  "language_info": {
   "codemirror_mode": {
    "name": "ipython",
    "version": 3
   },
   "file_extension": ".py",
   "mimetype": "text/x-python",
   "name": "python",
   "nbconvert_exporter": "python",
   "pygments_lexer": "ipython3",
   "version": "3.9.16"
  },
  "widgets": {
   "application/vnd.jupyter.widget-state+json": {
    "state": {},
    "version_major": 2,
    "version_minor": 0
   }
  }
 },
 "nbformat": 4,
 "nbformat_minor": 4
}
