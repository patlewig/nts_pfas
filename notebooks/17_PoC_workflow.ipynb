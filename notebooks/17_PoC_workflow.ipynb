{
 "cells": [
  {
   "cell_type": "markdown",
   "id": "1f29d3bc-9196-471e-873a-351bde596e7a",
   "metadata": {},
   "source": [
    "## Proof of Concept Workflow: Identifying potential candidates for data collection"
   ]
  },
  {
   "cell_type": "markdown",
   "id": "6e734f58-5a54-4de8-ad0c-f0c4298c660d",
   "metadata": {},
   "source": [
    "Created: 9 November 2023<br>"
   ]
  },
  {
   "cell_type": "code",
   "execution_count": 1,
   "id": "383ae057-2eaf-4e13-b851-261dac2ed99c",
   "metadata": {},
   "outputs": [],
   "source": [
    "import numpy as np\n",
    "import pandas as pd\n",
    "import matplotlib.pyplot as plt\n",
    "import seaborn as sns\n",
    "%matplotlib inline\n",
    "import openpyxl\n",
    "from rdkit.Chem.Draw import IPythonConsole, MolsToGridImage\n",
    "\n",
    "#Show mols in dataframes\n",
    "from rdkit.Chem import PandasTools\n",
    "from rdkit import Chem\n",
    "from rdkit.Chem.Draw import MolsToGridImage\n",
    "from IPython.core.display import HTML\n",
    "from rdkit.Chem import Descriptors\n",
    "from rdkit.ML.Descriptors import MoleculeDescriptors\n",
    "from rdkit.Chem import PandasTools\n",
    "from rdkit.Chem import AllChem\n",
    "from rdkit.Chem import rdDepictor\n",
    "from rdkit.Chem.Fingerprints import FingerprintMols\n",
    "from rdkit import DataStructs\n",
    "import os"
   ]
  },
  {
   "cell_type": "code",
   "execution_count": 2,
   "id": "340d9df9-7c9b-43d4-bdc6-597f2d2ae251",
   "metadata": {},
   "outputs": [],
   "source": [
    "TOP = os.getcwd().replace('notebooks', '')\n",
    "raw_dir = TOP + 'data/raw/'\n",
    "interim_dir = TOP + 'data/interim/'\n",
    "external_dir = TOP + 'data/external/'\n",
    "figures_dir = TOP + 'reports/figures/'\n"
   ]
  },
  {
   "cell_type": "code",
   "execution_count": 3,
   "id": "53eb734b-c742-4175-b211-36a964143092",
   "metadata": {},
   "outputs": [],
   "source": [
    "df = pd.read_excel(interim_dir+'final_landscape_with_predicted_NAMs_091123.xlsx', index_col = [0] )\n"
   ]
  },
  {
   "cell_type": "code",
   "execution_count": 4,
   "id": "1525b22a-d749-4454-9e45-c78a5babda7c",
   "metadata": {},
   "outputs": [
    {
     "data": {
      "text/plain": [
       "90"
      ]
     },
     "execution_count": 4,
     "metadata": {},
     "output_type": "execute_result"
    }
   ],
   "source": [
    "df.final_centroid.nunique()"
   ]
  },
  {
   "cell_type": "code",
   "execution_count": 5,
   "id": "e386d065-7d96-47fa-9d5b-dcb1edb88124",
   "metadata": {},
   "outputs": [],
   "source": [
    "universe_ids = df.dtxsid.tolist()"
   ]
  },
  {
   "cell_type": "code",
   "execution_count": 6,
   "id": "82a65e6e-51aa-426d-b22a-92a89279f7e2",
   "metadata": {},
   "outputs": [
    {
     "data": {
      "text/plain": [
       "15414"
      ]
     },
     "execution_count": 6,
     "metadata": {},
     "output_type": "execute_result"
    }
   ],
   "source": [
    "len(universe_ids)"
   ]
  },
  {
   "cell_type": "code",
   "execution_count": 7,
   "id": "799a67a5-4602-495a-8b3d-28a06714102a",
   "metadata": {},
   "outputs": [
    {
     "data": {
      "text/plain": [
       "(15414, 124)"
      ]
     },
     "execution_count": 7,
     "metadata": {},
     "output_type": "execute_result"
    }
   ],
   "source": [
    "df.shape"
   ]
  },
  {
   "cell_type": "code",
   "execution_count": 8,
   "id": "aa84b544-a861-4b56-a8e1-a6416c4322ae",
   "metadata": {},
   "outputs": [],
   "source": [
    "import sqlalchemy as sa"
   ]
  },
  {
   "cell_type": "code",
   "execution_count": 9,
   "id": "e24751f7-477a-4c9a-ad52-311400c0f22e",
   "metadata": {},
   "outputs": [],
   "source": [
    "username = 'grace'\n",
    "password = 'graceSQL'\n",
    "host = '192.168.11.210'"
   ]
  },
  {
   "cell_type": "code",
   "execution_count": 10,
   "id": "eb4314d0-d12f-4ae5-a60f-541e7e919e57",
   "metadata": {},
   "outputs": [],
   "source": [
    "toxval_db = sa.create_engine(f\"\"\"mysql+pymysql://{username}:{password}@{host}/toxval94nov\"\"\")"
   ]
  },
  {
   "cell_type": "code",
   "execution_count": 11,
   "id": "75d1c153-5a92-4031-ab6e-bb6b8ccd9073",
   "metadata": {},
   "outputs": [],
   "source": [
    "txval = pd.read_sql('''select * from toxval94nov where toxval_type in ('NOAEL', 'LEL', 'NEL','LOAEL', 'NOAEC', 'LOAEC', 'NOEL', 'LOEL') and study_type in ('short-term','subchronic', 'chronic', 'developmental', 'reproduction','neurotoxicity', 'neurotoxicity short-term','neurotoxicity subchronic', 'neurotoxicity chronic',  'reproduction developmental','repeat dose', 'repeat dose other', 'immunotoxicity',\\\n",
    "       'reproduction developmental', 'chronic cancer','developmental neurotoxicity', 'carcinogenicity', 'short-term') and exposure_route in ('oral', 'inhalation', 'Inhalation') and toxval_units in ('mg/m3', 'mg/kg-day') ''', toxval_db)"
   ]
  },
  {
   "cell_type": "code",
   "execution_count": 12,
   "id": "c6fb28c9-45f5-4d06-93c7-d375e4917a95",
   "metadata": {},
   "outputs": [
    {
     "data": {
      "text/plain": [
       "array(['short-term', 'subchronic', 'chronic', 'developmental',\n",
       "       'reproduction', 'neurotoxicity', 'neurotoxicity short-term',\n",
       "       'neurotoxicity subchronic', 'reproduction developmental',\n",
       "       'immunotoxicity', 'neurotoxicity chronic', 'repeat dose other'],\n",
       "      dtype=object)"
      ]
     },
     "execution_count": 12,
     "metadata": {},
     "output_type": "execute_result"
    }
   ],
   "source": [
    "txval.study_type.unique()"
   ]
  },
  {
   "cell_type": "code",
   "execution_count": 13,
   "id": "e8928da7-35eb-4242-881d-42787660eff0",
   "metadata": {},
   "outputs": [
    {
     "data": {
      "text/plain": [
       "Index(['index', 'toxval_id', 'source_hash', 'source_table', 'chemical_id',\n",
       "       'dtxsid', 'source', 'subsource', 'source_url', 'subsource_url',\n",
       "       ...\n",
       "       'Unnamed: 99', 'Unnamed: 100', 'Unnamed: 101', 'Unnamed: 102',\n",
       "       'Unnamed: 103', 'Unnamed: 104', 'Unnamed: 105', 'Unnamed: 106',\n",
       "       'Unnamed: 107', 'Unnamed: 108'],\n",
       "      dtype='object', length=110)"
      ]
     },
     "execution_count": 13,
     "metadata": {},
     "output_type": "execute_result"
    }
   ],
   "source": [
    "txval.columns"
   ]
  },
  {
   "cell_type": "code",
   "execution_count": 14,
   "id": "a74d15c6-cd53-4d31-8e8e-73d4f60c9445",
   "metadata": {},
   "outputs": [],
   "source": [
    "universe_tox = df[df['dtxsid'].isin(txval.dtxsid.tolist())]"
   ]
  },
  {
   "cell_type": "code",
   "execution_count": 15,
   "id": "0f944b8a-53b5-421e-b68b-94c68ccf1db2",
   "metadata": {},
   "outputs": [],
   "source": [
    "analogue_df = txval[txval['dtxsid'].isin(df.dtxsid.unique())]"
   ]
  },
  {
   "cell_type": "code",
   "execution_count": 16,
   "id": "72dee450-3411-44d0-a474-8b59cc0bb14e",
   "metadata": {},
   "outputs": [
    {
     "data": {
      "text/plain": [
       "array(['NOAEL', 'LOAEL', 'NOEL', 'LOEL', 'LEL', 'NOAEC', 'LOAEC', 'NEL'],\n",
       "      dtype=object)"
      ]
     },
     "execution_count": 16,
     "metadata": {},
     "output_type": "execute_result"
    }
   ],
   "source": [
    "analogue_df.toxval_type.unique()"
   ]
  },
  {
   "cell_type": "code",
   "execution_count": 17,
   "id": "0e57b86b-f4eb-443e-85e1-b71ce2fc25cb",
   "metadata": {},
   "outputs": [
    {
     "data": {
      "text/plain": [
       "Index(['dtxsid', 'DSSTox_QC-Level', 'Substance_Name', 'Substance_CASRN',\n",
       "       'Substance_Type', 'smiles', 'Structure_InChI', 'Structure_InChIKey',\n",
       "       'Structure_Formula', 'Structure_MolWt',\n",
       "       ...\n",
       "       'pred_Immune', 'pred_NR_ESR1', 'pred_NR_NRF2', 'pred_NR_PPAR',\n",
       "       'pred_NR_PXR', 'pred_NR_RXR', 'pred_No flag', 'pred_TK_PlasBind',\n",
       "       'pred_ZF', 'pred_hDIO1'],\n",
       "      dtype='object', length=124)"
      ]
     },
     "execution_count": 17,
     "metadata": {},
     "output_type": "execute_result"
    }
   ],
   "source": [
    "df.columns"
   ]
  },
  {
   "cell_type": "code",
   "execution_count": 18,
   "id": "41d78d44-a77f-4fb1-8919-ad90d78e9bf4",
   "metadata": {},
   "outputs": [],
   "source": [
    "landscape_dict = {k:v for k,v in zip(df['dtxsid'], df['group_str'])}"
   ]
  },
  {
   "cell_type": "code",
   "execution_count": 19,
   "id": "475977ea-9c67-43a1-aa47-c5f113c044b8",
   "metadata": {},
   "outputs": [
    {
     "name": "stderr",
     "output_type": "stream",
     "text": [
      "/tmp/ipykernel_93041/3439423276.py:1: SettingWithCopyWarning: \n",
      "A value is trying to be set on a copy of a slice from a DataFrame.\n",
      "Try using .loc[row_indexer,col_indexer] = value instead\n",
      "\n",
      "See the caveats in the documentation: https://pandas.pydata.org/pandas-docs/stable/user_guide/indexing.html#returning-a-view-versus-a-copy\n",
      "  analogue_df['group_str'] = analogue_df['dtxsid'].replace(landscape_dict)\n"
     ]
    }
   ],
   "source": [
    "analogue_df['group_str'] = analogue_df['dtxsid'].replace(landscape_dict)"
   ]
  },
  {
   "cell_type": "code",
   "execution_count": 20,
   "id": "f77cd5e6-d775-4d80-9bc2-f911b57c236f",
   "metadata": {},
   "outputs": [],
   "source": [
    "iv_tox = analogue_df.groupby(['dtxsid', 'study_type']).size().reset_index().pivot_table(index = 'dtxsid', columns = 'study_type', values = 0)"
   ]
  },
  {
   "cell_type": "code",
   "execution_count": 21,
   "id": "a80ed7dc-22e8-40f3-97b1-4adc28600735",
   "metadata": {},
   "outputs": [],
   "source": [
    "iv_tox.columns.name = None"
   ]
  },
  {
   "cell_type": "code",
   "execution_count": 22,
   "id": "c7b701f1-30f1-4505-8861-3f284379a538",
   "metadata": {},
   "outputs": [
    {
     "data": {
      "text/plain": [
       "<Axes: ylabel='dtxsid'>"
      ]
     },
     "execution_count": 22,
     "metadata": {},
     "output_type": "execute_result"
    },
    {
     "data": {
      "image/png": "[encoded data removed]",
      "text/plain": [
       "<Figure size 640x480 with 2 Axes>"
      ]
     },
     "metadata": {},
     "output_type": "display_data"
    }
   ],
   "source": [
    "sns.heatmap(iv_tox)"
   ]
  },
  {
   "cell_type": "code",
   "execution_count": 23,
   "id": "e9dbc7ab-213e-402d-9da9-840ae907b365",
   "metadata": {},
   "outputs": [],
   "source": [
    "iv_tox_v1 = iv_tox.applymap(lambda x: 1 if pd.notnull([x]) else np.nan )"
   ]
  },
  {
   "cell_type": "code",
   "execution_count": 24,
   "id": "59a0d427-97c2-4882-af8f-9712b6d7973c",
   "metadata": {},
   "outputs": [
    {
     "data": {
      "text/html": [
       "<div>\n",
       "<style scoped>\n",
       "    .dataframe tbody tr th:only-of-type {\n",
       "        vertical-align: middle;\n",
       "    }\n",
       "\n",
       "    .dataframe tbody tr th {\n",
       "        vertical-align: top;\n",
       "    }\n",
       "\n",
       "    .dataframe thead th {\n",
       "        text-align: right;\n",
       "    }\n",
       "</style>\n",
       "<table border=\"1\" class=\"dataframe\">\n",
       "  <thead>\n",
       "    <tr style=\"text-align: right;\">\n",
       "      <th></th>\n",
       "      <th>chronic</th>\n",
       "      <th>developmental</th>\n",
       "      <th>neurotoxicity</th>\n",
       "      <th>repeat dose other</th>\n",
       "      <th>reproduction</th>\n",
       "      <th>reproduction developmental</th>\n",
       "      <th>short-term</th>\n",
       "      <th>subchronic</th>\n",
       "    </tr>\n",
       "    <tr>\n",
       "      <th>dtxsid</th>\n",
       "      <th></th>\n",
       "      <th></th>\n",
       "      <th></th>\n",
       "      <th></th>\n",
       "      <th></th>\n",
       "      <th></th>\n",
       "      <th></th>\n",
       "      <th></th>\n",
       "    </tr>\n",
       "  </thead>\n",
       "  <tbody>\n",
       "    <tr>\n",
       "      <th>DTXSID00223797</th>\n",
       "      <td>NaN</td>\n",
       "      <td>NaN</td>\n",
       "      <td>NaN</td>\n",
       "      <td>NaN</td>\n",
       "      <td>NaN</td>\n",
       "      <td>NaN</td>\n",
       "      <td>1.0</td>\n",
       "      <td>NaN</td>\n",
       "    </tr>\n",
       "    <tr>\n",
       "      <th>DTXSID0034774</th>\n",
       "      <td>1.0</td>\n",
       "      <td>NaN</td>\n",
       "      <td>1.0</td>\n",
       "      <td>NaN</td>\n",
       "      <td>NaN</td>\n",
       "      <td>NaN</td>\n",
       "      <td>1.0</td>\n",
       "      <td>1.0</td>\n",
       "    </tr>\n",
       "    <tr>\n",
       "      <th>DTXSID0061826</th>\n",
       "      <td>NaN</td>\n",
       "      <td>1.0</td>\n",
       "      <td>NaN</td>\n",
       "      <td>NaN</td>\n",
       "      <td>NaN</td>\n",
       "      <td>NaN</td>\n",
       "      <td>1.0</td>\n",
       "      <td>1.0</td>\n",
       "    </tr>\n",
       "    <tr>\n",
       "      <th>DTXSID0067848</th>\n",
       "      <td>NaN</td>\n",
       "      <td>NaN</td>\n",
       "      <td>NaN</td>\n",
       "      <td>NaN</td>\n",
       "      <td>NaN</td>\n",
       "      <td>NaN</td>\n",
       "      <td>1.0</td>\n",
       "      <td>NaN</td>\n",
       "    </tr>\n",
       "    <tr>\n",
       "      <th>DTXSID00874026</th>\n",
       "      <td>NaN</td>\n",
       "      <td>1.0</td>\n",
       "      <td>NaN</td>\n",
       "      <td>NaN</td>\n",
       "      <td>NaN</td>\n",
       "      <td>NaN</td>\n",
       "      <td>1.0</td>\n",
       "      <td>1.0</td>\n",
       "    </tr>\n",
       "    <tr>\n",
       "      <th>...</th>\n",
       "      <td>...</td>\n",
       "      <td>...</td>\n",
       "      <td>...</td>\n",
       "      <td>...</td>\n",
       "      <td>...</td>\n",
       "      <td>...</td>\n",
       "      <td>...</td>\n",
       "      <td>...</td>\n",
       "    </tr>\n",
       "    <tr>\n",
       "      <th>DTXSID9059834</th>\n",
       "      <td>NaN</td>\n",
       "      <td>NaN</td>\n",
       "      <td>NaN</td>\n",
       "      <td>NaN</td>\n",
       "      <td>NaN</td>\n",
       "      <td>NaN</td>\n",
       "      <td>1.0</td>\n",
       "      <td>1.0</td>\n",
       "    </tr>\n",
       "    <tr>\n",
       "      <th>DTXSID90868151</th>\n",
       "      <td>NaN</td>\n",
       "      <td>1.0</td>\n",
       "      <td>NaN</td>\n",
       "      <td>NaN</td>\n",
       "      <td>NaN</td>\n",
       "      <td>NaN</td>\n",
       "      <td>1.0</td>\n",
       "      <td>NaN</td>\n",
       "    </tr>\n",
       "    <tr>\n",
       "      <th>DTXSID90870315</th>\n",
       "      <td>NaN</td>\n",
       "      <td>1.0</td>\n",
       "      <td>NaN</td>\n",
       "      <td>NaN</td>\n",
       "      <td>NaN</td>\n",
       "      <td>NaN</td>\n",
       "      <td>1.0</td>\n",
       "      <td>NaN</td>\n",
       "    </tr>\n",
       "    <tr>\n",
       "      <th>DTXSID90880131</th>\n",
       "      <td>NaN</td>\n",
       "      <td>NaN</td>\n",
       "      <td>NaN</td>\n",
       "      <td>NaN</td>\n",
       "      <td>NaN</td>\n",
       "      <td>NaN</td>\n",
       "      <td>1.0</td>\n",
       "      <td>NaN</td>\n",
       "    </tr>\n",
       "    <tr>\n",
       "      <th>DTXSID90880232</th>\n",
       "      <td>1.0</td>\n",
       "      <td>NaN</td>\n",
       "      <td>NaN</td>\n",
       "      <td>NaN</td>\n",
       "      <td>NaN</td>\n",
       "      <td>NaN</td>\n",
       "      <td>NaN</td>\n",
       "      <td>1.0</td>\n",
       "    </tr>\n",
       "  </tbody>\n",
       "</table>\n",
       "<p>92 rows × 8 columns</p>\n",
       "</div>"
      ],
      "text/plain": [
       "                chronic  developmental  neurotoxicity  repeat dose other  \\\n",
       "dtxsid                                                                     \n",
       "DTXSID00223797      NaN            NaN            NaN                NaN   \n",
       "DTXSID0034774       1.0            NaN            1.0                NaN   \n",
       "DTXSID0061826       NaN            1.0            NaN                NaN   \n",
       "DTXSID0067848       NaN            NaN            NaN                NaN   \n",
       "DTXSID00874026      NaN            1.0            NaN                NaN   \n",
       "...                 ...            ...            ...                ...   \n",
       "DTXSID9059834       NaN            NaN            NaN                NaN   \n",
       "DTXSID90868151      NaN            1.0            NaN                NaN   \n",
       "DTXSID90870315      NaN            1.0            NaN                NaN   \n",
       "DTXSID90880131      NaN            NaN            NaN                NaN   \n",
       "DTXSID90880232      1.0            NaN            NaN                NaN   \n",
       "\n",
       "                reproduction  reproduction developmental  short-term  \\\n",
       "dtxsid                                                                 \n",
       "DTXSID00223797           NaN                         NaN         1.0   \n",
       "DTXSID0034774            NaN                         NaN         1.0   \n",
       "DTXSID0061826            NaN                         NaN         1.0   \n",
       "DTXSID0067848            NaN                         NaN         1.0   \n",
       "DTXSID00874026           NaN                         NaN         1.0   \n",
       "...                      ...                         ...         ...   \n",
       "DTXSID9059834            NaN                         NaN         1.0   \n",
       "DTXSID90868151           NaN                         NaN         1.0   \n",
       "DTXSID90870315           NaN                         NaN         1.0   \n",
       "DTXSID90880131           NaN                         NaN         1.0   \n",
       "DTXSID90880232           NaN                         NaN         NaN   \n",
       "\n",
       "                subchronic  \n",
       "dtxsid                      \n",
       "DTXSID00223797         NaN  \n",
       "DTXSID0034774          1.0  \n",
       "DTXSID0061826          1.0  \n",
       "DTXSID0067848          NaN  \n",
       "DTXSID00874026         1.0  \n",
       "...                    ...  \n",
       "DTXSID9059834          1.0  \n",
       "DTXSID90868151         NaN  \n",
       "DTXSID90870315         NaN  \n",
       "DTXSID90880131         NaN  \n",
       "DTXSID90880232         1.0  \n",
       "\n",
       "[92 rows x 8 columns]"
      ]
     },
     "execution_count": 24,
     "metadata": {},
     "output_type": "execute_result"
    }
   ],
   "source": [
    "iv_tox_v1"
   ]
  },
  {
   "cell_type": "markdown",
   "id": "57473ce7-c586-4d19-9bb8-9a8ff329cac7",
   "metadata": {},
   "source": [
    "Lists"
   ]
  },
  {
   "cell_type": "code",
   "execution_count": 25,
   "id": "a63b0513-7aa8-44b5-a5dc-a765b000ff9d",
   "metadata": {},
   "outputs": [],
   "source": [
    "import glob"
   ]
  },
  {
   "cell_type": "code",
   "execution_count": 26,
   "id": "c4169927-1769-4bea-b5ce-1cbfa650648f",
   "metadata": {},
   "outputs": [
    {
     "name": "stdout",
     "output_type": "stream",
     "text": [
      "/home/grace/Documents/python/nts_pfas/data/external/tri_onsite_mapped_070423.xlsx\n",
      "/home/grace/Documents/python/nts_pfas/data/external/production_data_mapped_070423.xlsx\n",
      "/home/grace/Documents/python/nts_pfas/data/external/discharge_monitoring_mapped_070423.xlsx\n",
      "/home/grace/Documents/python/nts_pfas/data/external/tri_waste_mapped_070423.xlsx\n",
      "/home/grace/Documents/python/nts_pfas/data/external/drinking_water_ucmr_mapped_070423.xlsx\n",
      "/home/grace/Documents/python/nts_pfas/data/external/drinking_water_mapped_070423.xlsx\n",
      "/home/grace/Documents/python/nts_pfas/data/external/tri_offsite_mapped_070423.xlsx\n"
     ]
    }
   ],
   "source": [
    "files = glob.glob(external_dir+'/*mapped_070423.xlsx', \n",
    "                   recursive = True)\n",
    "for file in files:\n",
    "    print(file)"
   ]
  },
  {
   "cell_type": "code",
   "execution_count": 27,
   "id": "7c221408-e6b0-44c6-83bc-f1ad5e4d8442",
   "metadata": {},
   "outputs": [],
   "source": [
    "def read_file(fs):\n",
    "    mylst = []\n",
    "    for f in fs:\n",
    "        df = pd.read_excel(f)\n",
    "        #df.drop(['Unnamed: 0'], axis = 1, inplace = True)\n",
    "        df['source'] = f\n",
    "        mylst.append(df)\n",
    "        mydfs = pd.concat(mylst)\n",
    "    return mydfs"
   ]
  },
  {
   "cell_type": "code",
   "execution_count": 28,
   "id": "8bb5a79b-68eb-46ef-b8ab-7334b236ba48",
   "metadata": {},
   "outputs": [],
   "source": [
    "lists = read_file(files)"
   ]
  },
  {
   "cell_type": "code",
   "execution_count": 29,
   "id": "68866020-4bc4-4c02-984c-3023a3bf7fc4",
   "metadata": {},
   "outputs": [
    {
     "data": {
      "text/plain": [
       "array(['/home/grace/Documents/python/nts_pfas/data/external/tri_onsite_mapped_070423.xlsx',\n",
       "       '/home/grace/Documents/python/nts_pfas/data/external/production_data_mapped_070423.xlsx',\n",
       "       '/home/grace/Documents/python/nts_pfas/data/external/discharge_monitoring_mapped_070423.xlsx',\n",
       "       '/home/grace/Documents/python/nts_pfas/data/external/tri_waste_mapped_070423.xlsx',\n",
       "       '/home/grace/Documents/python/nts_pfas/data/external/drinking_water_ucmr_mapped_070423.xlsx',\n",
       "       '/home/grace/Documents/python/nts_pfas/data/external/drinking_water_mapped_070423.xlsx',\n",
       "       '/home/grace/Documents/python/nts_pfas/data/external/tri_offsite_mapped_070423.xlsx'],\n",
       "      dtype=object)"
      ]
     },
     "execution_count": 29,
     "metadata": {},
     "output_type": "execute_result"
    }
   ],
   "source": [
    "lists['source'].unique()"
   ]
  },
  {
   "cell_type": "code",
   "execution_count": 30,
   "id": "09dfa168-5796-44af-a9ef-3db3c018f8b8",
   "metadata": {},
   "outputs": [],
   "source": [
    "source_dict = {'/home/grace/Documents/python/nts_pfas/data/external/tri_onsite_mapped_070423.xlsx' : 'TRI-ONSITE',\n",
    "       '/home/grace/Documents/python/nts_pfas/data/external/production_data_mapped_070423.xlsx': 'PROD_DATA',\n",
    "       '/home/grace/Documents/python/nts_pfas/data/external/discharge_monitoring_mapped_070423.xlsx': 'DISCHARGE',\n",
    "       '/home/grace/Documents/python/nts_pfas/data/external/tri_waste_mapped_070423.xlsx' : 'TRI_WASTE',\n",
    "       '/home/grace/Documents/python/nts_pfas/data/external/drinking_water_ucmr_mapped_070423.xlsx' : 'DRINKING_WATER-UCMR',\n",
    "       '/home/grace/Documents/python/nts_pfas/data/external/drinking_water_mapped_070423.xlsx' : 'DRINKING_WATER',\n",
    "       '/home/grace/Documents/python/nts_pfas/data/external/tri_offsite_mapped_070423.xlsx' : 'TRI-OFFSITE'}"
   ]
  },
  {
   "cell_type": "code",
   "execution_count": 31,
   "id": "09fa0848-3025-4e1c-bf42-9a42e2cd00e6",
   "metadata": {},
   "outputs": [],
   "source": [
    "lists['source']  = lists['source'].replace(source_dict)"
   ]
  },
  {
   "cell_type": "code",
   "execution_count": 32,
   "id": "97ef55b1-3756-4f23-bfaa-6c8639ba6594",
   "metadata": {},
   "outputs": [
    {
     "data": {
      "text/plain": [
       "348"
      ]
     },
     "execution_count": 32,
     "metadata": {},
     "output_type": "execute_result"
    }
   ],
   "source": [
    "lists.DTXSID.nunique()"
   ]
  },
  {
   "cell_type": "code",
   "execution_count": 33,
   "id": "3298e9dd-a668-46c7-947f-d9a08cd8de98",
   "metadata": {},
   "outputs": [],
   "source": [
    "lists = lists.iloc[:,:9]"
   ]
  },
  {
   "cell_type": "code",
   "execution_count": 34,
   "id": "3623c243-cb3f-4629-a02b-df2f735be575",
   "metadata": {},
   "outputs": [
    {
     "data": {
      "text/plain": [
       "Index(['Chemical Name', 'CAS Number', 'INPUT', 'FOUND_BY', 'DTXSID',\n",
       "       'PREFERRED_NAME', 'CASRN', 'SMILES', 'source'],\n",
       "      dtype='object')"
      ]
     },
     "execution_count": 34,
     "metadata": {},
     "output_type": "execute_result"
    }
   ],
   "source": [
    "lists.columns"
   ]
  },
  {
   "cell_type": "code",
   "execution_count": 35,
   "id": "dc00eef9-77c7-4583-ab40-703f844591c7",
   "metadata": {},
   "outputs": [
    {
     "data": {
      "text/html": [
       "<div>\n",
       "<style scoped>\n",
       "    .dataframe tbody tr th:only-of-type {\n",
       "        vertical-align: middle;\n",
       "    }\n",
       "\n",
       "    .dataframe tbody tr th {\n",
       "        vertical-align: top;\n",
       "    }\n",
       "\n",
       "    .dataframe thead th {\n",
       "        text-align: right;\n",
       "    }\n",
       "</style>\n",
       "<table border=\"1\" class=\"dataframe\">\n",
       "  <thead>\n",
       "    <tr style=\"text-align: right;\">\n",
       "      <th></th>\n",
       "      <th>Chemical Name</th>\n",
       "      <th>CAS Number</th>\n",
       "      <th>INPUT</th>\n",
       "      <th>FOUND_BY</th>\n",
       "      <th>DTXSID</th>\n",
       "      <th>PREFERRED_NAME</th>\n",
       "      <th>CASRN</th>\n",
       "      <th>SMILES</th>\n",
       "      <th>source</th>\n",
       "    </tr>\n",
       "  </thead>\n",
       "  <tbody>\n",
       "    <tr>\n",
       "      <th>0</th>\n",
       "      <td>1,1,2,2-Tetrahydroperfluorodecyl acrylate</td>\n",
       "      <td>27905-45-9</td>\n",
       "      <td>27905-45-9</td>\n",
       "      <td>CASRN</td>\n",
       "      <td>DTXSID5067348</td>\n",
       "      <td>2-(Perfluorooctyl)ethyl acrylate</td>\n",
       "      <td>27905-45-9</td>\n",
       "      <td>FC(F)(F)C(F)(F)C(F)(F)C(F)(F)C(F)(F)C(F)(F)C(F...</td>\n",
       "      <td>TRI-ONSITE</td>\n",
       "    </tr>\n",
       "    <tr>\n",
       "      <th>1</th>\n",
       "      <td>1,1,2,2-Tetrahydroperfluorododecyl acrylate</td>\n",
       "      <td>17741-60-5</td>\n",
       "      <td>17741-60-5</td>\n",
       "      <td>CASRN</td>\n",
       "      <td>DTXSID9037743</td>\n",
       "      <td>2-(Perfluorodecyl)ethyl acrylate</td>\n",
       "      <td>17741-60-5</td>\n",
       "      <td>FC(F)(F)C(F)(F)C(F)(F)C(F)(F)C(F)(F)C(F)(F)C(F...</td>\n",
       "      <td>TRI-ONSITE</td>\n",
       "    </tr>\n",
       "    <tr>\n",
       "      <th>2</th>\n",
       "      <td>1,1,2,2-Tetrahydroperfluorohexadecyl acrylate</td>\n",
       "      <td>34362-49-7</td>\n",
       "      <td>34362-49-7</td>\n",
       "      <td>CASRN</td>\n",
       "      <td>DTXSID6067836</td>\n",
       "      <td>1,1,2,2-Tetrahydroperfluorohexadecyl acrylate</td>\n",
       "      <td>34362-49-7</td>\n",
       "      <td>FC(F)(F)C(F)(F)C(F)(F)C(F)(F)C(F)(F)C(F)(F)C(F...</td>\n",
       "      <td>TRI-ONSITE</td>\n",
       "    </tr>\n",
       "    <tr>\n",
       "      <th>3</th>\n",
       "      <td>1,1,2,2-Tetrahydroperfluorotetradecyl acrylate</td>\n",
       "      <td>34395-24-9</td>\n",
       "      <td>34395-24-9</td>\n",
       "      <td>CASRN</td>\n",
       "      <td>DTXSID5067841</td>\n",
       "      <td>(Perfluorododecyl)ethyl 2-propenoate</td>\n",
       "      <td>34395-24-9</td>\n",
       "      <td>FC(F)(F)C(F)(F)C(F)(F)C(F)(F)C(F)(F)C(F)(F)C(F...</td>\n",
       "      <td>TRI-ONSITE</td>\n",
       "    </tr>\n",
       "    <tr>\n",
       "      <th>4</th>\n",
       "      <td>1,1-Dichloro-1,2,2,3,3-pentafluoropropane (HCF...</td>\n",
       "      <td>13474-88-9</td>\n",
       "      <td>13474-88-9</td>\n",
       "      <td>CASRN</td>\n",
       "      <td>DTXSID1042029</td>\n",
       "      <td>1,1-Dichloro-1,2,2,3,3-pentafluoropropane</td>\n",
       "      <td>13474-88-9</td>\n",
       "      <td>FC(F)C(F)(F)C(F)(Cl)Cl</td>\n",
       "      <td>TRI-ONSITE</td>\n",
       "    </tr>\n",
       "    <tr>\n",
       "      <th>...</th>\n",
       "      <td>...</td>\n",
       "      <td>...</td>\n",
       "      <td>...</td>\n",
       "      <td>...</td>\n",
       "      <td>...</td>\n",
       "      <td>...</td>\n",
       "      <td>...</td>\n",
       "      <td>...</td>\n",
       "      <td>...</td>\n",
       "    </tr>\n",
       "    <tr>\n",
       "      <th>63</th>\n",
       "      <td>Tetrafluoroethylene</td>\n",
       "      <td>116-14-3</td>\n",
       "      <td>116-14-3</td>\n",
       "      <td>CASRN</td>\n",
       "      <td>DTXSID6021325</td>\n",
       "      <td>Tetrafluoroethylene</td>\n",
       "      <td>116-14-3</td>\n",
       "      <td>FC(F)=C(F)F</td>\n",
       "      <td>TRI-OFFSITE</td>\n",
       "    </tr>\n",
       "    <tr>\n",
       "      <th>64</th>\n",
       "      <td>Thiols, C10-20, γ-ω-perfluoro</td>\n",
       "      <td>68140-21-6</td>\n",
       "      <td>68140-21-6</td>\n",
       "      <td>CASRN</td>\n",
       "      <td>DTXSID90881906</td>\n",
       "      <td>Perfluoroalkyl(C8-18)ethyl mercaptan</td>\n",
       "      <td>68140-21-6</td>\n",
       "      <td>FC(F)(F)C(F)(F)C(F)(F)C(F)(F)C(F)(F)C(F)(F)C(F...</td>\n",
       "      <td>TRI-OFFSITE</td>\n",
       "    </tr>\n",
       "    <tr>\n",
       "      <th>65</th>\n",
       "      <td>Thiols, C4-10, γ-ω-perfluoro</td>\n",
       "      <td>68140-18-1</td>\n",
       "      <td>68140-18-1</td>\n",
       "      <td>CASRN</td>\n",
       "      <td>DTXSID90881901</td>\n",
       "      <td>Perfluoroalkyl (C2-C8)ethyl mercaptan</td>\n",
       "      <td>68140-18-1</td>\n",
       "      <td>FC(F)(F)C(F)(F)CCS |lp:0:3,2:3,3:3,5:3,6:3,9:2...</td>\n",
       "      <td>TRI-OFFSITE</td>\n",
       "    </tr>\n",
       "    <tr>\n",
       "      <th>66</th>\n",
       "      <td>Thiols, C6-12, γ-ω-perfluoro</td>\n",
       "      <td>68140-20-5</td>\n",
       "      <td>68140-20-5</td>\n",
       "      <td>CASRN</td>\n",
       "      <td>DTXSID30881905</td>\n",
       "      <td>Perfluoroalkyl(C4-10)ethyl mercaptan</td>\n",
       "      <td>68140-20-5</td>\n",
       "      <td>FC(F)(F)C(F)(F)CCS |lp:0:3,2:3,3:3,5:3,6:3,9:2...</td>\n",
       "      <td>TRI-OFFSITE</td>\n",
       "    </tr>\n",
       "    <tr>\n",
       "      <th>67</th>\n",
       "      <td>Thiols, C8-20, γ-ω-perfluoro, telomers with ac...</td>\n",
       "      <td>70969-47-0</td>\n",
       "      <td>70969-47-0</td>\n",
       "      <td>CASRN</td>\n",
       "      <td>DTXSID10881943</td>\n",
       "      <td>Thiols, C8-20, gamma-omega-perfluoro, telomers...</td>\n",
       "      <td>70969-47-0</td>\n",
       "      <td></td>\n",
       "      <td>TRI-OFFSITE</td>\n",
       "    </tr>\n",
       "  </tbody>\n",
       "</table>\n",
       "<p>763 rows × 9 columns</p>\n",
       "</div>"
      ],
      "text/plain": [
       "                                        Chemical Name  CAS Number       INPUT  \\\n",
       "0           1,1,2,2-Tetrahydroperfluorodecyl acrylate  27905-45-9  27905-45-9   \n",
       "1         1,1,2,2-Tetrahydroperfluorododecyl acrylate  17741-60-5  17741-60-5   \n",
       "2       1,1,2,2-Tetrahydroperfluorohexadecyl acrylate  34362-49-7  34362-49-7   \n",
       "3      1,1,2,2-Tetrahydroperfluorotetradecyl acrylate  34395-24-9  34395-24-9   \n",
       "4   1,1-Dichloro-1,2,2,3,3-pentafluoropropane (HCF...  13474-88-9  13474-88-9   \n",
       "..                                                ...         ...         ...   \n",
       "63                                Tetrafluoroethylene    116-14-3    116-14-3   \n",
       "64                      Thiols, C10-20, γ-ω-perfluoro  68140-21-6  68140-21-6   \n",
       "65                       Thiols, C4-10, γ-ω-perfluoro  68140-18-1  68140-18-1   \n",
       "66                       Thiols, C6-12, γ-ω-perfluoro  68140-20-5  68140-20-5   \n",
       "67  Thiols, C8-20, γ-ω-perfluoro, telomers with ac...  70969-47-0  70969-47-0   \n",
       "\n",
       "   FOUND_BY          DTXSID  \\\n",
       "0     CASRN   DTXSID5067348   \n",
       "1     CASRN   DTXSID9037743   \n",
       "2     CASRN   DTXSID6067836   \n",
       "3     CASRN   DTXSID5067841   \n",
       "4     CASRN   DTXSID1042029   \n",
       "..      ...             ...   \n",
       "63    CASRN   DTXSID6021325   \n",
       "64    CASRN  DTXSID90881906   \n",
       "65    CASRN  DTXSID90881901   \n",
       "66    CASRN  DTXSID30881905   \n",
       "67    CASRN  DTXSID10881943   \n",
       "\n",
       "                                       PREFERRED_NAME       CASRN  \\\n",
       "0                    2-(Perfluorooctyl)ethyl acrylate  27905-45-9   \n",
       "1                    2-(Perfluorodecyl)ethyl acrylate  17741-60-5   \n",
       "2       1,1,2,2-Tetrahydroperfluorohexadecyl acrylate  34362-49-7   \n",
       "3                (Perfluorododecyl)ethyl 2-propenoate  34395-24-9   \n",
       "4           1,1-Dichloro-1,2,2,3,3-pentafluoropropane  13474-88-9   \n",
       "..                                                ...         ...   \n",
       "63                                Tetrafluoroethylene    116-14-3   \n",
       "64               Perfluoroalkyl(C8-18)ethyl mercaptan  68140-21-6   \n",
       "65              Perfluoroalkyl (C2-C8)ethyl mercaptan  68140-18-1   \n",
       "66               Perfluoroalkyl(C4-10)ethyl mercaptan  68140-20-5   \n",
       "67  Thiols, C8-20, gamma-omega-perfluoro, telomers...  70969-47-0   \n",
       "\n",
       "                                               SMILES       source  \n",
       "0   FC(F)(F)C(F)(F)C(F)(F)C(F)(F)C(F)(F)C(F)(F)C(F...   TRI-ONSITE  \n",
       "1   FC(F)(F)C(F)(F)C(F)(F)C(F)(F)C(F)(F)C(F)(F)C(F...   TRI-ONSITE  \n",
       "2   FC(F)(F)C(F)(F)C(F)(F)C(F)(F)C(F)(F)C(F)(F)C(F...   TRI-ONSITE  \n",
       "3   FC(F)(F)C(F)(F)C(F)(F)C(F)(F)C(F)(F)C(F)(F)C(F...   TRI-ONSITE  \n",
       "4                              FC(F)C(F)(F)C(F)(Cl)Cl   TRI-ONSITE  \n",
       "..                                                ...          ...  \n",
       "63                                        FC(F)=C(F)F  TRI-OFFSITE  \n",
       "64  FC(F)(F)C(F)(F)C(F)(F)C(F)(F)C(F)(F)C(F)(F)C(F...  TRI-OFFSITE  \n",
       "65  FC(F)(F)C(F)(F)CCS |lp:0:3,2:3,3:3,5:3,6:3,9:2...  TRI-OFFSITE  \n",
       "66  FC(F)(F)C(F)(F)CCS |lp:0:3,2:3,3:3,5:3,6:3,9:2...  TRI-OFFSITE  \n",
       "67                                                     TRI-OFFSITE  \n",
       "\n",
       "[763 rows x 9 columns]"
      ]
     },
     "execution_count": 35,
     "metadata": {},
     "output_type": "execute_result"
    }
   ],
   "source": [
    "lists"
   ]
  },
  {
   "cell_type": "code",
   "execution_count": 36,
   "id": "ce7ad9a8-b651-46bc-a34f-524bc00fc95f",
   "metadata": {},
   "outputs": [],
   "source": [
    "analytes = pd.read_excel(external_dir+'PFAS with Validated Analytical Methods 533 and 537.xlsx')"
   ]
  },
  {
   "cell_type": "code",
   "execution_count": 37,
   "id": "3942b3cc-2eb4-4b29-9825-8d7d52ac80e3",
   "metadata": {},
   "outputs": [],
   "source": [
    "analytes['source'] = 'ANALYTICAL_MTHDS'"
   ]
  },
  {
   "cell_type": "code",
   "execution_count": 38,
   "id": "8aed2313-f332-4f24-8b11-38600a501d32",
   "metadata": {},
   "outputs": [],
   "source": [
    "analytes = analytes[['DTXSID', 'PREFERRED NAME', 'CASRN','SMILES','source']]"
   ]
  },
  {
   "cell_type": "code",
   "execution_count": 39,
   "id": "9ca11dbc-82b2-4e68-af0e-805aa068c6a6",
   "metadata": {},
   "outputs": [],
   "source": [
    "analytes.columns = ['DTXSID', 'PREFERRED_NAME', 'CASRN', 'SMILES', 'source']"
   ]
  },
  {
   "cell_type": "code",
   "execution_count": 40,
   "id": "64ecaa2b-1f78-481a-aa4e-36b2fb63fc86",
   "metadata": {},
   "outputs": [],
   "source": [
    "lists = pd.concat([lists,  analytes])"
   ]
  },
  {
   "cell_type": "code",
   "execution_count": 41,
   "id": "6c703cfd-c38d-4e76-817e-ef07e9e2006a",
   "metadata": {},
   "outputs": [],
   "source": [
    "priority_lists = lists.groupby(['DTXSID', 'source']).size().reset_index().pivot_table(index = 'DTXSID', columns = 'source', values = 0)"
   ]
  },
  {
   "cell_type": "code",
   "execution_count": 42,
   "id": "d30d9d56-770c-41d3-9716-5d24a6a0d942",
   "metadata": {},
   "outputs": [],
   "source": [
    "priority_lists = priority_lists.applymap(lambda x: 1 if pd.notnull([x]) else np.nan )"
   ]
  },
  {
   "cell_type": "code",
   "execution_count": 43,
   "id": "e0d38c4c-af47-4d95-a864-8be6b4ca6797",
   "metadata": {},
   "outputs": [],
   "source": [
    "universe = pd.merge(df, iv_tox_v1, left_on = 'dtxsid', right_on = iv_tox.index, how = 'left')"
   ]
  },
  {
   "cell_type": "code",
   "execution_count": 44,
   "id": "4d9f0910-18f0-48ab-ace6-04f65c29d5bc",
   "metadata": {},
   "outputs": [],
   "source": [
    "priority_lists = priority_lists.reset_index()"
   ]
  },
  {
   "cell_type": "code",
   "execution_count": 45,
   "id": "df992096-7845-4cf6-aaff-a5647edc188c",
   "metadata": {},
   "outputs": [],
   "source": [
    "\n",
    "priority_lists.rename(columns = {'DTXSID': 'dtxsid'}, inplace = True)\n"
   ]
  },
  {
   "cell_type": "code",
   "execution_count": 46,
   "id": "63775641-d8b4-49fd-853a-b0857efc0d1f",
   "metadata": {},
   "outputs": [
    {
     "data": {
      "text/plain": [
       "(15414, 132)"
      ]
     },
     "execution_count": 46,
     "metadata": {},
     "output_type": "execute_result"
    }
   ],
   "source": [
    "universe.shape"
   ]
  },
  {
   "cell_type": "code",
   "execution_count": 47,
   "id": "aef7727b-78e4-4529-b800-de922a670683",
   "metadata": {},
   "outputs": [],
   "source": [
    "universe1 =  pd.merge(universe, priority_lists, on = 'dtxsid',  how = 'left')"
   ]
  },
  {
   "cell_type": "code",
   "execution_count": 48,
   "id": "e3cfb61e-36dc-4532-9a86-4610cc3984e0",
   "metadata": {},
   "outputs": [
    {
     "data": {
      "text/plain": [
       "(15414, 140)"
      ]
     },
     "execution_count": 48,
     "metadata": {},
     "output_type": "execute_result"
    }
   ],
   "source": [
    "universe1.shape"
   ]
  },
  {
   "cell_type": "code",
   "execution_count": 49,
   "id": "7daa3785-a557-4e23-aa96-b787b0722e02",
   "metadata": {},
   "outputs": [],
   "source": [
    "pubmed = pd.read_csv(interim_dir+'pubmed_counts_081123.csv')"
   ]
  },
  {
   "cell_type": "code",
   "execution_count": 50,
   "id": "3e3b9b19-3bf5-4c77-b96a-12167331578f",
   "metadata": {},
   "outputs": [
    {
     "name": "stdout",
     "output_type": "stream",
     "text": [
      "<class 'pandas.core.frame.DataFrame'>\n",
      "RangeIndex: 12455 entries, 0 to 12454\n",
      "Data columns (total 3 columns):\n",
      " #   Column         Non-Null Count  Dtype \n",
      "---  ------         --------------  ----- \n",
      " 0   Unnamed: 0     12455 non-null  int64 \n",
      " 1   dtxsid         12455 non-null  object\n",
      " 2   article_count  12455 non-null  int64 \n",
      "dtypes: int64(2), object(1)\n",
      "memory usage: 292.0+ KB\n"
     ]
    }
   ],
   "source": [
    "pubmed.info()"
   ]
  },
  {
   "cell_type": "code",
   "execution_count": 51,
   "id": "8ebe52d1-57da-433c-84fa-82a64146f8c4",
   "metadata": {},
   "outputs": [],
   "source": [
    "pubmed['pubmed_avail'] = pubmed['article_count'].apply(lambda x: 1 if x>=1 else np.nan )"
   ]
  },
  {
   "cell_type": "code",
   "execution_count": 52,
   "id": "db879eab-953a-4d5c-9eb3-c3ed9b61ca95",
   "metadata": {},
   "outputs": [
    {
     "data": {
      "text/html": [
       "<div>\n",
       "<style scoped>\n",
       "    .dataframe tbody tr th:only-of-type {\n",
       "        vertical-align: middle;\n",
       "    }\n",
       "\n",
       "    .dataframe tbody tr th {\n",
       "        vertical-align: top;\n",
       "    }\n",
       "\n",
       "    .dataframe thead th {\n",
       "        text-align: right;\n",
       "    }\n",
       "</style>\n",
       "<table border=\"1\" class=\"dataframe\">\n",
       "  <thead>\n",
       "    <tr style=\"text-align: right;\">\n",
       "      <th></th>\n",
       "      <th>Unnamed: 0</th>\n",
       "      <th>dtxsid</th>\n",
       "      <th>article_count</th>\n",
       "      <th>pubmed_avail</th>\n",
       "    </tr>\n",
       "  </thead>\n",
       "  <tbody>\n",
       "    <tr>\n",
       "      <th>0</th>\n",
       "      <td>0</td>\n",
       "      <td>DTXSID6071908</td>\n",
       "      <td>0</td>\n",
       "      <td>NaN</td>\n",
       "    </tr>\n",
       "    <tr>\n",
       "      <th>1</th>\n",
       "      <td>1</td>\n",
       "      <td>DTXSID8071358</td>\n",
       "      <td>0</td>\n",
       "      <td>NaN</td>\n",
       "    </tr>\n",
       "    <tr>\n",
       "      <th>2</th>\n",
       "      <td>2</td>\n",
       "      <td>DTXSID1071907</td>\n",
       "      <td>0</td>\n",
       "      <td>NaN</td>\n",
       "    </tr>\n",
       "    <tr>\n",
       "      <th>3</th>\n",
       "      <td>3</td>\n",
       "      <td>DTXSID001026645</td>\n",
       "      <td>1</td>\n",
       "      <td>1.0</td>\n",
       "    </tr>\n",
       "    <tr>\n",
       "      <th>4</th>\n",
       "      <td>4</td>\n",
       "      <td>DTXSID301026644</td>\n",
       "      <td>0</td>\n",
       "      <td>NaN</td>\n",
       "    </tr>\n",
       "    <tr>\n",
       "      <th>...</th>\n",
       "      <td>...</td>\n",
       "      <td>...</td>\n",
       "      <td>...</td>\n",
       "      <td>...</td>\n",
       "    </tr>\n",
       "    <tr>\n",
       "      <th>12450</th>\n",
       "      <td>12450</td>\n",
       "      <td>DTXSID60781565</td>\n",
       "      <td>0</td>\n",
       "      <td>NaN</td>\n",
       "    </tr>\n",
       "    <tr>\n",
       "      <th>12451</th>\n",
       "      <td>12451</td>\n",
       "      <td>DTXSID40660107</td>\n",
       "      <td>0</td>\n",
       "      <td>NaN</td>\n",
       "    </tr>\n",
       "    <tr>\n",
       "      <th>12452</th>\n",
       "      <td>12452</td>\n",
       "      <td>DTXSID101034031</td>\n",
       "      <td>0</td>\n",
       "      <td>NaN</td>\n",
       "    </tr>\n",
       "    <tr>\n",
       "      <th>12453</th>\n",
       "      <td>12453</td>\n",
       "      <td>DTXSID60897190</td>\n",
       "      <td>0</td>\n",
       "      <td>NaN</td>\n",
       "    </tr>\n",
       "    <tr>\n",
       "      <th>12454</th>\n",
       "      <td>12454</td>\n",
       "      <td>DTXSID901338053</td>\n",
       "      <td>0</td>\n",
       "      <td>NaN</td>\n",
       "    </tr>\n",
       "  </tbody>\n",
       "</table>\n",
       "<p>12455 rows × 4 columns</p>\n",
       "</div>"
      ],
      "text/plain": [
       "       Unnamed: 0           dtxsid  article_count  pubmed_avail\n",
       "0               0    DTXSID6071908              0           NaN\n",
       "1               1    DTXSID8071358              0           NaN\n",
       "2               2    DTXSID1071907              0           NaN\n",
       "3               3  DTXSID001026645              1           1.0\n",
       "4               4  DTXSID301026644              0           NaN\n",
       "...           ...              ...            ...           ...\n",
       "12450       12450   DTXSID60781565              0           NaN\n",
       "12451       12451   DTXSID40660107              0           NaN\n",
       "12452       12452  DTXSID101034031              0           NaN\n",
       "12453       12453   DTXSID60897190              0           NaN\n",
       "12454       12454  DTXSID901338053              0           NaN\n",
       "\n",
       "[12455 rows x 4 columns]"
      ]
     },
     "execution_count": 52,
     "metadata": {},
     "output_type": "execute_result"
    }
   ],
   "source": [
    "pubmed"
   ]
  },
  {
   "cell_type": "code",
   "execution_count": 53,
   "id": "134fe464-f943-4d58-bafb-2f72c9c21c66",
   "metadata": {},
   "outputs": [],
   "source": [
    "pubmed = pubmed[['dtxsid', 'pubmed_avail']].drop_duplicates()"
   ]
  },
  {
   "cell_type": "code",
   "execution_count": 54,
   "id": "9ef657a6-b166-4343-a376-2d18ca414609",
   "metadata": {},
   "outputs": [
    {
     "data": {
      "text/plain": [
       "1.0    4611\n",
       "Name: pubmed_avail, dtype: int64"
      ]
     },
     "execution_count": 54,
     "metadata": {},
     "output_type": "execute_result"
    }
   ],
   "source": [
    "pubmed['pubmed_avail'].value_counts()"
   ]
  },
  {
   "cell_type": "code",
   "execution_count": 55,
   "id": "1c29248b-d232-48b3-a2e9-9c1e5df101a0",
   "metadata": {},
   "outputs": [],
   "source": [
    "universe2 = pd.merge(universe1, pubmed, on = 'dtxsid',  how = 'left')"
   ]
  },
  {
   "cell_type": "code",
   "execution_count": 56,
   "id": "4c89d1b7-c531-4cd3-ba6a-b13c85e07f98",
   "metadata": {},
   "outputs": [
    {
     "data": {
      "text/plain": [
       "(15414, 141)"
      ]
     },
     "execution_count": 56,
     "metadata": {},
     "output_type": "execute_result"
    }
   ],
   "source": [
    "universe2.shape"
   ]
  },
  {
   "cell_type": "code",
   "execution_count": 58,
   "id": "c109df26-659f-461d-af8d-2a2658006a70",
   "metadata": {},
   "outputs": [],
   "source": [
    "writer = pd.ExcelWriter(interim_dir+'final_updated_universe_101123.xlsx', engine='xlsxwriter')\n",
    "\n",
    "# Convert the dataframe to an XlsxWriter Excel object.\n",
    "\n",
    "universe2.to_excel(writer)\n",
    "\n",
    "writer.close()"
   ]
  },
  {
   "cell_type": "code",
   "execution_count": 66,
   "id": "f24880bd-4875-438b-a1ca-a45563be70a5",
   "metadata": {},
   "outputs": [
    {
     "data": {
      "text/plain": [
       "array(['inactive', 'active', 'unclassified'], dtype=object)"
      ]
     },
     "execution_count": 66,
     "metadata": {},
     "output_type": "execute_result"
    }
   ],
   "source": [
    "universe2.TSCA_STATUS.unique()"
   ]
  },
  {
   "cell_type": "code",
   "execution_count": 67,
   "id": "b9c78ad4-9ff1-4870-a2b6-1b9de2e15889",
   "metadata": {},
   "outputs": [
    {
     "data": {
      "text/plain": [
       "['dtxsid',\n",
       " 'DSSTox_QC-Level',\n",
       " 'Substance_Name',\n",
       " 'Substance_CASRN',\n",
       " 'Substance_Type',\n",
       " 'smiles',\n",
       " 'Structure_InChI',\n",
       " 'Structure_InChIKey',\n",
       " 'Structure_Formula',\n",
       " 'Structure_MolWt',\n",
       " 'Structure_SMILES_2D-QSAR',\n",
       " 'Canonical_QSARr',\n",
       " 'TSCA_STATUS',\n",
       " 'chain_length',\n",
       " 'category',\n",
       " 'MolWeight',\n",
       " 'LogP_pred',\n",
       " 'LogP_predRange',\n",
       " 'AD_LogP',\n",
       " 'AD_index_LogP',\n",
       " 'Conf_index_LogP',\n",
       " 'MP_pred',\n",
       " 'MP_predRange',\n",
       " 'AD_MP',\n",
       " 'AD_index_MP',\n",
       " 'Conf_index_MP',\n",
       " 'BP_pred',\n",
       " 'BP_predRange',\n",
       " 'AD_BP',\n",
       " 'AD_index_BP',\n",
       " 'Conf_index_BP',\n",
       " 'LogVP_pred',\n",
       " 'VP_predRange',\n",
       " 'AD_VP',\n",
       " 'AD_index_VP',\n",
       " 'Conf_index_VP',\n",
       " 'LogWS_pred',\n",
       " 'WS_predRange',\n",
       " 'AD_WS',\n",
       " 'AD_index_WS',\n",
       " 'Conf_index_WS',\n",
       " 'LogHL_pred',\n",
       " 'HL_predRange',\n",
       " 'AD_HL',\n",
       " 'AD_index_HL',\n",
       " 'Conf_index_HL',\n",
       " 'ID',\n",
       " 'tsca_match',\n",
       " 'subcategory',\n",
       " 'cluster',\n",
       " 'cluster_centroid',\n",
       " 'centroid_x',\n",
       " 'centroid2',\n",
       " 'centroid_y',\n",
       " 'analogues',\n",
       " 'Dist',\n",
       " 'level2_cluster_centroid',\n",
       " 'cluster_d',\n",
       " 'lvl2_centroid',\n",
       " 'lvl2_centroid2',\n",
       " 'lvl2_analogues',\n",
       " 'lvl2_Dist',\n",
       " 'prelim_final_centroid',\n",
       " 'prelim_final_dist',\n",
       " 'level3_cluster_centroid',\n",
       " 'lvl_cluster_d',\n",
       " 'lvl3_centroid',\n",
       " 'lvl3_centroid2',\n",
       " 'lvl3_analogues',\n",
       " 'lvl3_Dist',\n",
       " 'final_centroid',\n",
       " 'final_dist',\n",
       " 'group',\n",
       " 'group_str',\n",
       " 'MaxMin_picks',\n",
       " 'tsca_centroid',\n",
       " 'tsca_centroid_id',\n",
       " 'tsca_centroid_id2',\n",
       " 'tsca_analogues',\n",
       " 'tsca_dist',\n",
       " 'MaxMin_tsca_picks',\n",
       " 'tsca_active_centroid',\n",
       " 'tsca_active_centroid_id',\n",
       " 'tsca_active_centroid_id2',\n",
       " 'tsca_active_analogues',\n",
       " 'tsca_active_dist',\n",
       " 'MaxMin_tsca_active_picks',\n",
       " 'CDR2019_NATIONAL_AGG_PV',\n",
       " 'CDR2020_STATUS',\n",
       " 'casrn',\n",
       " 'name',\n",
       " 'qc',\n",
       " 'qc_httk',\n",
       " 'NR_ESR1',\n",
       " 'NR_PPAR',\n",
       " 'NR_NRF2',\n",
       " 'NR_RXR',\n",
       " 'NR_PXR',\n",
       " 'ZF',\n",
       " 'DNT',\n",
       " 'hDIO1',\n",
       " 'hDIO2',\n",
       " 'hDIO3',\n",
       " 'xDIO3',\n",
       " 'hIYD',\n",
       " 'XIYD',\n",
       " 'hTBG',\n",
       " 'hTPO',\n",
       " 'Immune',\n",
       " 'TK_PlasBind',\n",
       " 'TK_Metab',\n",
       " 'TK_Struc_Endo',\n",
       " 'NAM',\n",
       " 'pred_DNT',\n",
       " 'pred_Immune',\n",
       " 'pred_NR_ESR1',\n",
       " 'pred_NR_NRF2',\n",
       " 'pred_NR_PPAR',\n",
       " 'pred_NR_PXR',\n",
       " 'pred_NR_RXR',\n",
       " 'pred_No flag',\n",
       " 'pred_TK_PlasBind',\n",
       " 'pred_ZF',\n",
       " 'pred_hDIO1',\n",
       " 'chronic',\n",
       " 'developmental',\n",
       " 'neurotoxicity',\n",
       " 'repeat dose other',\n",
       " 'reproduction',\n",
       " 'reproduction developmental',\n",
       " 'short-term',\n",
       " 'subchronic',\n",
       " 'ANALYTICAL_MTHDS',\n",
       " 'DISCHARGE',\n",
       " 'DRINKING_WATER',\n",
       " 'DRINKING_WATER-UCMR',\n",
       " 'PROD_DATA',\n",
       " 'TRI-OFFSITE',\n",
       " 'TRI-ONSITE',\n",
       " 'TRI_WASTE',\n",
       " 'pubmed_avail']"
      ]
     },
     "execution_count": 67,
     "metadata": {},
     "output_type": "execute_result"
    }
   ],
   "source": [
    "universe2.columns.tolist()"
   ]
  },
  {
   "cell_type": "code",
   "execution_count": 68,
   "id": "49fd2da2-018f-4540-9a19-ca2cf00ec01e",
   "metadata": {},
   "outputs": [],
   "source": [
    "X = universe2[['group_str',\n",
    " 'chronic',\n",
    " 'developmental',\n",
    " 'neurotoxicity',\n",
    " 'repeat dose other',\n",
    " 'reproduction',\n",
    " 'reproduction developmental',\n",
    " 'short-term',\n",
    " 'subchronic',\n",
    " 'ANALYTICAL_MTHDS',\n",
    " 'DISCHARGE',\n",
    " 'DRINKING_WATER',\n",
    " 'DRINKING_WATER-UCMR',\n",
    " 'PROD_DATA',\n",
    " 'TRI-OFFSITE',\n",
    " 'TRI-ONSITE',\n",
    " 'TRI_WASTE',\n",
    " 'CDR2020_STATUS',\n",
    " 'pubmed_avail'\n",
    " ]].replace(np.nan, 0)"
   ]
  },
  {
   "cell_type": "code",
   "execution_count": 69,
   "id": "c2e36133-52e5-4842-b37f-6ba397875cbf",
   "metadata": {},
   "outputs": [],
   "source": [
    "X1 =X.groupby('group_str').agg('max')"
   ]
  },
  {
   "cell_type": "code",
   "execution_count": 70,
   "id": "a5352af4-9eb5-4a0c-8212-3b08dfa9878e",
   "metadata": {},
   "outputs": [
    {
     "data": {
      "text/html": [
       "<div>\n",
       "<style scoped>\n",
       "    .dataframe tbody tr th:only-of-type {\n",
       "        vertical-align: middle;\n",
       "    }\n",
       "\n",
       "    .dataframe tbody tr th {\n",
       "        vertical-align: top;\n",
       "    }\n",
       "\n",
       "    .dataframe thead th {\n",
       "        text-align: right;\n",
       "    }\n",
       "</style>\n",
       "<table border=\"1\" class=\"dataframe\">\n",
       "  <thead>\n",
       "    <tr style=\"text-align: right;\">\n",
       "      <th></th>\n",
       "      <th>chronic</th>\n",
       "      <th>developmental</th>\n",
       "      <th>neurotoxicity</th>\n",
       "      <th>repeat dose other</th>\n",
       "      <th>reproduction</th>\n",
       "      <th>reproduction developmental</th>\n",
       "      <th>short-term</th>\n",
       "      <th>subchronic</th>\n",
       "      <th>ANALYTICAL_MTHDS</th>\n",
       "      <th>DISCHARGE</th>\n",
       "      <th>DRINKING_WATER</th>\n",
       "      <th>DRINKING_WATER-UCMR</th>\n",
       "      <th>PROD_DATA</th>\n",
       "      <th>TRI-OFFSITE</th>\n",
       "      <th>TRI-ONSITE</th>\n",
       "      <th>TRI_WASTE</th>\n",
       "      <th>CDR2020_STATUS</th>\n",
       "      <th>pubmed_avail</th>\n",
       "    </tr>\n",
       "    <tr>\n",
       "      <th>group_str</th>\n",
       "      <th></th>\n",
       "      <th></th>\n",
       "      <th></th>\n",
       "      <th></th>\n",
       "      <th></th>\n",
       "      <th></th>\n",
       "      <th></th>\n",
       "      <th></th>\n",
       "      <th></th>\n",
       "      <th></th>\n",
       "      <th></th>\n",
       "      <th></th>\n",
       "      <th></th>\n",
       "      <th></th>\n",
       "      <th></th>\n",
       "      <th></th>\n",
       "      <th></th>\n",
       "      <th></th>\n",
       "    </tr>\n",
       "  </thead>\n",
       "  <tbody>\n",
       "    <tr>\n",
       "      <th>('FASA based PFAA precursors', 'gte7', nan, nan)</th>\n",
       "      <td>1.0</td>\n",
       "      <td>1.0</td>\n",
       "      <td>0.0</td>\n",
       "      <td>0.0</td>\n",
       "      <td>1.0</td>\n",
       "      <td>0.0</td>\n",
       "      <td>1.0</td>\n",
       "      <td>1.0</td>\n",
       "      <td>1.0</td>\n",
       "      <td>1.0</td>\n",
       "      <td>1.0</td>\n",
       "      <td>0.0</td>\n",
       "      <td>1.0</td>\n",
       "      <td>1.0</td>\n",
       "      <td>1.0</td>\n",
       "      <td>1.0</td>\n",
       "      <td>0.0</td>\n",
       "      <td>1.0</td>\n",
       "    </tr>\n",
       "    <tr>\n",
       "      <th>('FASA based PFAA precursors', 'lt7', nan, nan)</th>\n",
       "      <td>0.0</td>\n",
       "      <td>0.0</td>\n",
       "      <td>0.0</td>\n",
       "      <td>0.0</td>\n",
       "      <td>0.0</td>\n",
       "      <td>0.0</td>\n",
       "      <td>1.0</td>\n",
       "      <td>1.0</td>\n",
       "      <td>0.0</td>\n",
       "      <td>0.0</td>\n",
       "      <td>0.0</td>\n",
       "      <td>0.0</td>\n",
       "      <td>1.0</td>\n",
       "      <td>0.0</td>\n",
       "      <td>0.0</td>\n",
       "      <td>0.0</td>\n",
       "      <td>1.0</td>\n",
       "      <td>1.0</td>\n",
       "    </tr>\n",
       "    <tr>\n",
       "      <th>('Fluorotelomer PFAA precursors', 'gte7', nan, nan)</th>\n",
       "      <td>0.0</td>\n",
       "      <td>1.0</td>\n",
       "      <td>0.0</td>\n",
       "      <td>0.0</td>\n",
       "      <td>0.0</td>\n",
       "      <td>0.0</td>\n",
       "      <td>1.0</td>\n",
       "      <td>1.0</td>\n",
       "      <td>1.0</td>\n",
       "      <td>1.0</td>\n",
       "      <td>1.0</td>\n",
       "      <td>0.0</td>\n",
       "      <td>1.0</td>\n",
       "      <td>1.0</td>\n",
       "      <td>1.0</td>\n",
       "      <td>1.0</td>\n",
       "      <td>1.0</td>\n",
       "      <td>1.0</td>\n",
       "    </tr>\n",
       "    <tr>\n",
       "      <th>('Fluorotelomer PFAA precursors', 'lt7', 1.0, nan)</th>\n",
       "      <td>0.0</td>\n",
       "      <td>0.0</td>\n",
       "      <td>0.0</td>\n",
       "      <td>0.0</td>\n",
       "      <td>0.0</td>\n",
       "      <td>0.0</td>\n",
       "      <td>0.0</td>\n",
       "      <td>0.0</td>\n",
       "      <td>0.0</td>\n",
       "      <td>0.0</td>\n",
       "      <td>0.0</td>\n",
       "      <td>0.0</td>\n",
       "      <td>0.0</td>\n",
       "      <td>0.0</td>\n",
       "      <td>0.0</td>\n",
       "      <td>0.0</td>\n",
       "      <td>0.0</td>\n",
       "      <td>1.0</td>\n",
       "    </tr>\n",
       "    <tr>\n",
       "      <th>('Fluorotelomer PFAA precursors', 'lt7', 2.0, 1.0)</th>\n",
       "      <td>0.0</td>\n",
       "      <td>1.0</td>\n",
       "      <td>0.0</td>\n",
       "      <td>0.0</td>\n",
       "      <td>0.0</td>\n",
       "      <td>0.0</td>\n",
       "      <td>1.0</td>\n",
       "      <td>1.0</td>\n",
       "      <td>0.0</td>\n",
       "      <td>0.0</td>\n",
       "      <td>0.0</td>\n",
       "      <td>0.0</td>\n",
       "      <td>1.0</td>\n",
       "      <td>0.0</td>\n",
       "      <td>0.0</td>\n",
       "      <td>0.0</td>\n",
       "      <td>1.0</td>\n",
       "      <td>1.0</td>\n",
       "    </tr>\n",
       "  </tbody>\n",
       "</table>\n",
       "</div>"
      ],
      "text/plain": [
       "                                                    chronic  developmental  \\\n",
       "group_str                                                                    \n",
       "('FASA based PFAA precursors', 'gte7', nan, nan)        1.0            1.0   \n",
       "('FASA based PFAA precursors', 'lt7', nan, nan)         0.0            0.0   \n",
       "('Fluorotelomer PFAA precursors', 'gte7', nan, ...      0.0            1.0   \n",
       "('Fluorotelomer PFAA precursors', 'lt7', 1.0, nan)      0.0            0.0   \n",
       "('Fluorotelomer PFAA precursors', 'lt7', 2.0, 1.0)      0.0            1.0   \n",
       "\n",
       "                                                    neurotoxicity  \\\n",
       "group_str                                                           \n",
       "('FASA based PFAA precursors', 'gte7', nan, nan)              0.0   \n",
       "('FASA based PFAA precursors', 'lt7', nan, nan)               0.0   \n",
       "('Fluorotelomer PFAA precursors', 'gte7', nan, ...            0.0   \n",
       "('Fluorotelomer PFAA precursors', 'lt7', 1.0, nan)            0.0   \n",
       "('Fluorotelomer PFAA precursors', 'lt7', 2.0, 1.0)            0.0   \n",
       "\n",
       "                                                    repeat dose other  \\\n",
       "group_str                                                               \n",
       "('FASA based PFAA precursors', 'gte7', nan, nan)                  0.0   \n",
       "('FASA based PFAA precursors', 'lt7', nan, nan)                   0.0   \n",
       "('Fluorotelomer PFAA precursors', 'gte7', nan, ...                0.0   \n",
       "('Fluorotelomer PFAA precursors', 'lt7', 1.0, nan)                0.0   \n",
       "('Fluorotelomer PFAA precursors', 'lt7', 2.0, 1.0)                0.0   \n",
       "\n",
       "                                                    reproduction  \\\n",
       "group_str                                                          \n",
       "('FASA based PFAA precursors', 'gte7', nan, nan)             1.0   \n",
       "('FASA based PFAA precursors', 'lt7', nan, nan)              0.0   \n",
       "('Fluorotelomer PFAA precursors', 'gte7', nan, ...           0.0   \n",
       "('Fluorotelomer PFAA precursors', 'lt7', 1.0, nan)           0.0   \n",
       "('Fluorotelomer PFAA precursors', 'lt7', 2.0, 1.0)           0.0   \n",
       "\n",
       "                                                    reproduction developmental  \\\n",
       "group_str                                                                        \n",
       "('FASA based PFAA precursors', 'gte7', nan, nan)                           0.0   \n",
       "('FASA based PFAA precursors', 'lt7', nan, nan)                            0.0   \n",
       "('Fluorotelomer PFAA precursors', 'gte7', nan, ...                         0.0   \n",
       "('Fluorotelomer PFAA precursors', 'lt7', 1.0, nan)                         0.0   \n",
       "('Fluorotelomer PFAA precursors', 'lt7', 2.0, 1.0)                         0.0   \n",
       "\n",
       "                                                    short-term  subchronic  \\\n",
       "group_str                                                                    \n",
       "('FASA based PFAA precursors', 'gte7', nan, nan)           1.0         1.0   \n",
       "('FASA based PFAA precursors', 'lt7', nan, nan)            1.0         1.0   \n",
       "('Fluorotelomer PFAA precursors', 'gte7', nan, ...         1.0         1.0   \n",
       "('Fluorotelomer PFAA precursors', 'lt7', 1.0, nan)         0.0         0.0   \n",
       "('Fluorotelomer PFAA precursors', 'lt7', 2.0, 1.0)         1.0         1.0   \n",
       "\n",
       "                                                    ANALYTICAL_MTHDS  \\\n",
       "group_str                                                              \n",
       "('FASA based PFAA precursors', 'gte7', nan, nan)                 1.0   \n",
       "('FASA based PFAA precursors', 'lt7', nan, nan)                  0.0   \n",
       "('Fluorotelomer PFAA precursors', 'gte7', nan, ...               1.0   \n",
       "('Fluorotelomer PFAA precursors', 'lt7', 1.0, nan)               0.0   \n",
       "('Fluorotelomer PFAA precursors', 'lt7', 2.0, 1.0)               0.0   \n",
       "\n",
       "                                                    DISCHARGE  DRINKING_WATER  \\\n",
       "group_str                                                                       \n",
       "('FASA based PFAA precursors', 'gte7', nan, nan)          1.0             1.0   \n",
       "('FASA based PFAA precursors', 'lt7', nan, nan)           0.0             0.0   \n",
       "('Fluorotelomer PFAA precursors', 'gte7', nan, ...        1.0             1.0   \n",
       "('Fluorotelomer PFAA precursors', 'lt7', 1.0, nan)        0.0             0.0   \n",
       "('Fluorotelomer PFAA precursors', 'lt7', 2.0, 1.0)        0.0             0.0   \n",
       "\n",
       "                                                    DRINKING_WATER-UCMR  \\\n",
       "group_str                                                                 \n",
       "('FASA based PFAA precursors', 'gte7', nan, nan)                    0.0   \n",
       "('FASA based PFAA precursors', 'lt7', nan, nan)                     0.0   \n",
       "('Fluorotelomer PFAA precursors', 'gte7', nan, ...                  0.0   \n",
       "('Fluorotelomer PFAA precursors', 'lt7', 1.0, nan)                  0.0   \n",
       "('Fluorotelomer PFAA precursors', 'lt7', 2.0, 1.0)                  0.0   \n",
       "\n",
       "                                                    PROD_DATA  TRI-OFFSITE  \\\n",
       "group_str                                                                    \n",
       "('FASA based PFAA precursors', 'gte7', nan, nan)          1.0          1.0   \n",
       "('FASA based PFAA precursors', 'lt7', nan, nan)           1.0          0.0   \n",
       "('Fluorotelomer PFAA precursors', 'gte7', nan, ...        1.0          1.0   \n",
       "('Fluorotelomer PFAA precursors', 'lt7', 1.0, nan)        0.0          0.0   \n",
       "('Fluorotelomer PFAA precursors', 'lt7', 2.0, 1.0)        1.0          0.0   \n",
       "\n",
       "                                                    TRI-ONSITE  TRI_WASTE  \\\n",
       "group_str                                                                   \n",
       "('FASA based PFAA precursors', 'gte7', nan, nan)           1.0        1.0   \n",
       "('FASA based PFAA precursors', 'lt7', nan, nan)            0.0        0.0   \n",
       "('Fluorotelomer PFAA precursors', 'gte7', nan, ...         1.0        1.0   \n",
       "('Fluorotelomer PFAA precursors', 'lt7', 1.0, nan)         0.0        0.0   \n",
       "('Fluorotelomer PFAA precursors', 'lt7', 2.0, 1.0)         0.0        0.0   \n",
       "\n",
       "                                                    CDR2020_STATUS  \\\n",
       "group_str                                                            \n",
       "('FASA based PFAA precursors', 'gte7', nan, nan)               0.0   \n",
       "('FASA based PFAA precursors', 'lt7', nan, nan)                1.0   \n",
       "('Fluorotelomer PFAA precursors', 'gte7', nan, ...             1.0   \n",
       "('Fluorotelomer PFAA precursors', 'lt7', 1.0, nan)             0.0   \n",
       "('Fluorotelomer PFAA precursors', 'lt7', 2.0, 1.0)             1.0   \n",
       "\n",
       "                                                    pubmed_avail  \n",
       "group_str                                                         \n",
       "('FASA based PFAA precursors', 'gte7', nan, nan)             1.0  \n",
       "('FASA based PFAA precursors', 'lt7', nan, nan)              1.0  \n",
       "('Fluorotelomer PFAA precursors', 'gte7', nan, ...           1.0  \n",
       "('Fluorotelomer PFAA precursors', 'lt7', 1.0, nan)           1.0  \n",
       "('Fluorotelomer PFAA precursors', 'lt7', 2.0, 1.0)           1.0  "
      ]
     },
     "execution_count": 70,
     "metadata": {},
     "output_type": "execute_result"
    }
   ],
   "source": [
    "X1.head()"
   ]
  },
  {
   "cell_type": "code",
   "execution_count": 71,
   "id": "9c468789-8dff-4a4d-bd10-58fca25a43a2",
   "metadata": {},
   "outputs": [],
   "source": [
    "tsca_only = df[df['TSCA_STATUS'] != 'unclassified']"
   ]
  },
  {
   "cell_type": "code",
   "execution_count": 72,
   "id": "7ded9956-22da-412f-9c83-b28012e295ca",
   "metadata": {},
   "outputs": [
    {
     "data": {
      "text/plain": [
       "71"
      ]
     },
     "execution_count": 72,
     "metadata": {},
     "output_type": "execute_result"
    }
   ],
   "source": [
    "tsca_only['group_str'].nunique()"
   ]
  },
  {
   "cell_type": "code",
   "execution_count": 79,
   "id": "5b19c68e-ba0a-4e17-9454-42b9e27c5904",
   "metadata": {},
   "outputs": [
    {
     "data": {
      "text/plain": [
       "['chronic',\n",
       " 'developmental',\n",
       " 'neurotoxicity',\n",
       " 'repeat dose other',\n",
       " 'reproduction',\n",
       " 'reproduction developmental',\n",
       " 'short-term',\n",
       " 'subchronic']"
      ]
     },
     "execution_count": 79,
     "metadata": {},
     "output_type": "execute_result"
    }
   ],
   "source": [
    "universe2.columns.tolist()[124:132]"
   ]
  },
  {
   "cell_type": "code",
   "execution_count": 80,
   "id": "0c049c09-49ef-4185-a652-5d301ef891e6",
   "metadata": {},
   "outputs": [],
   "source": [
    "data_poor_cats = []\n",
    "for i,group in universe2.groupby('group_str'):\n",
    "    subset = group[universe2.columns.tolist()[124:132]]\n",
    "    if subset.sum(axis = 0, skipna = True).any() ==0:\n",
    "        data_poor_cats.append(i)"
   ]
  },
  {
   "cell_type": "code",
   "execution_count": 81,
   "id": "a9776c4e-417f-4dbf-bfc6-e24402312398",
   "metadata": {},
   "outputs": [
    {
     "data": {
      "text/plain": [
       "58"
      ]
     },
     "execution_count": 81,
     "metadata": {},
     "output_type": "execute_result"
    }
   ],
   "source": [
    "len(data_poor_cats)"
   ]
  },
  {
   "cell_type": "code",
   "execution_count": 82,
   "id": "9eb9b963-520e-450c-aa67-6fb2422870e6",
   "metadata": {},
   "outputs": [],
   "source": [
    "tsca_act = []\n",
    "for i, group in universe2.groupby('group_str'):\n",
    "    subset =  group['TSCA_STATUS']\n",
    "    #if any(subset) == \"unclassified\":\n",
    "    #print(i, type(subset))\n",
    "    if (subset.eq('active')).any():\n",
    "        tsca_act.append(i)"
   ]
  },
  {
   "cell_type": "code",
   "execution_count": 83,
   "id": "b5de0797-d5ef-4c56-b955-ac0b49d07075",
   "metadata": {},
   "outputs": [
    {
     "data": {
      "text/plain": [
       "57"
      ]
     },
     "execution_count": 83,
     "metadata": {},
     "output_type": "execute_result"
    }
   ],
   "source": [
    "len(tsca_act)"
   ]
  },
  {
   "cell_type": "code",
   "execution_count": 84,
   "id": "83a06054-1f04-4b6f-b97d-c59bc32b4ca7",
   "metadata": {},
   "outputs": [
    {
     "data": {
      "text/plain": [
       "['ANALYTICAL_MTHDS',\n",
       " 'DISCHARGE',\n",
       " 'DRINKING_WATER',\n",
       " 'DRINKING_WATER-UCMR',\n",
       " 'PROD_DATA',\n",
       " 'TRI-OFFSITE',\n",
       " 'TRI-ONSITE',\n",
       " 'TRI_WASTE',\n",
       " 'pubmed_avail',\n",
       " 'CDR2020_STATUS']"
      ]
     },
     "execution_count": 84,
     "metadata": {},
     "output_type": "execute_result"
    }
   ],
   "source": [
    "universe2.columns.tolist()[132:] + ['CDR2020_STATUS']  "
   ]
  },
  {
   "cell_type": "code",
   "execution_count": 85,
   "id": "436b8559-4eaf-492f-a22d-571f3d40c893",
   "metadata": {},
   "outputs": [],
   "source": [
    "em = ['ANALYTICAL_MTHDS',\n",
    " 'DISCHARGE',\n",
    " 'DRINKING_WATER',\n",
    " 'DRINKING_WATER-UCMR',\n",
    " 'PROD_DATA',\n",
    " 'TRI-OFFSITE',\n",
    " 'TRI-ONSITE',\n",
    " 'TRI_WASTE',\n",
    " 'pubmed_avail',\n",
    " 'CDR2020_STATUS']"
   ]
  },
  {
   "cell_type": "code",
   "execution_count": 85,
   "id": "d645f306-3fc6-4a9e-99e3-2c7cfbf756e9",
   "metadata": {},
   "outputs": [],
   "source": [
    "#universe2.columns.tolist()[125:]"
   ]
  },
  {
   "cell_type": "code",
   "execution_count": 86,
   "id": "ef6b7f2d-b213-4a20-aeb5-d05d17feadbf",
   "metadata": {},
   "outputs": [],
   "source": [
    "on_em = []\n",
    "for i, group in universe2.groupby('group_str'):\n",
    "    subset =  group[universe2.columns.tolist()[132:] + ['CDR2020_STATUS']]\n",
    "    #if any(subset) == \"unclassified\":\n",
    "    #print(i, type(subset))\n",
    "    if subset.sum(axis = 0, skipna = True).any() >=1:\n",
    "        on_em.append(i)"
   ]
  },
  {
   "cell_type": "code",
   "execution_count": 87,
   "id": "1ac4100b-1715-4ebf-8e0a-da9bb60a2084",
   "metadata": {},
   "outputs": [
    {
     "data": {
      "text/plain": [
       "86"
      ]
     },
     "execution_count": 87,
     "metadata": {},
     "output_type": "execute_result"
    }
   ],
   "source": [
    "len(on_em)"
   ]
  },
  {
   "cell_type": "code",
   "execution_count": 88,
   "id": "549d26aa-b88e-4569-9b74-f7c4b1293029",
   "metadata": {},
   "outputs": [],
   "source": [
    "em2 = ['ANALYTICAL_MTHDS',\n",
    " 'DISCHARGE',\n",
    " 'DRINKING_WATER',\n",
    " 'DRINKING_WATER-UCMR',\n",
    " 'PROD_DATA',\n",
    " 'TRI-OFFSITE',\n",
    " 'TRI-ONSITE',\n",
    " 'TRI_WASTE',\n",
    " 'CDR2020_STATUS']"
   ]
  },
  {
   "cell_type": "code",
   "execution_count": 89,
   "id": "ba1839a2-c335-44c0-ae88-cb2d1e2c4168",
   "metadata": {},
   "outputs": [],
   "source": [
    "on_em2 = []\n",
    "for i, group in universe2.groupby('group_str'):\n",
    "    subset =  group[em2]\n",
    "    #if any(subset) == \"unclassified\":\n",
    "    #print(i, type(subset))\n",
    "    if subset.sum(axis = 0, skipna = True).any() >=1:\n",
    "        on_em2.append(i)"
   ]
  },
  {
   "cell_type": "code",
   "execution_count": 90,
   "id": "bfba4461-063c-4d62-a13e-925779e9d1e9",
   "metadata": {},
   "outputs": [
    {
     "data": {
      "text/plain": [
       "44"
      ]
     },
     "execution_count": 90,
     "metadata": {},
     "output_type": "execute_result"
    }
   ],
   "source": [
    "len(on_em2)"
   ]
  },
  {
   "cell_type": "code",
   "execution_count": 91,
   "id": "75212484-262a-41d9-bb26-79e40303c139",
   "metadata": {},
   "outputs": [],
   "source": [
    "not_tsca_cats = []\n",
    "for i, group in universe2.groupby('group_str'):\n",
    "    subset =  group['TSCA_STATUS']\n",
    "    #if any(subset) == \"unclassified\":\n",
    "    #print(i, type(subset))\n",
    "    if (subset.eq('unclassified')).all():\n",
    "        not_tsca_cats.append(i)"
   ]
  },
  {
   "cell_type": "code",
   "execution_count": 92,
   "id": "bd9709f4-874d-4fc4-907c-b1c9daf83f84",
   "metadata": {},
   "outputs": [
    {
     "data": {
      "text/plain": [
       "19"
      ]
     },
     "execution_count": 92,
     "metadata": {},
     "output_type": "execute_result"
    }
   ],
   "source": [
    "len(not_tsca_cats)"
   ]
  },
  {
   "cell_type": "code",
   "execution_count": 93,
   "id": "cd7efcd7-728e-4859-be28-93c6f47d0741",
   "metadata": {},
   "outputs": [],
   "source": [
    "tsca_cats = [e for e in universe2.group_str.unique().tolist() if e not in not_tsca_cats]\n"
   ]
  },
  {
   "cell_type": "code",
   "execution_count": 94,
   "id": "355a52f6-d292-4ccc-b7fb-a22ca1447150",
   "metadata": {},
   "outputs": [
    {
     "data": {
      "text/plain": [
       "71"
      ]
     },
     "execution_count": 94,
     "metadata": {},
     "output_type": "execute_result"
    }
   ],
   "source": [
    "len(tsca_cats)"
   ]
  },
  {
   "cell_type": "code",
   "execution_count": 95,
   "id": "40436026-93ad-43b2-854f-7996f733362a",
   "metadata": {},
   "outputs": [],
   "source": [
    "data_poor_tsca = [e for e in data_poor_cats if e in tsca_cats]"
   ]
  },
  {
   "cell_type": "code",
   "execution_count": 96,
   "id": "98516fa9-bb90-4883-8702-70700b4932e5",
   "metadata": {},
   "outputs": [
    {
     "data": {
      "text/plain": [
       "39"
      ]
     },
     "execution_count": 96,
     "metadata": {},
     "output_type": "execute_result"
    }
   ],
   "source": [
    "len(data_poor_tsca)"
   ]
  },
  {
   "cell_type": "code",
   "execution_count": 97,
   "id": "88e71303-0778-4117-a057-9acd7f7db239",
   "metadata": {},
   "outputs": [],
   "source": [
    "data_poor_tsca_act = [e for e in data_poor_cats if e in tsca_act]"
   ]
  },
  {
   "cell_type": "code",
   "execution_count": 98,
   "id": "193c8e86-9128-4f0f-a571-abe960802973",
   "metadata": {},
   "outputs": [
    {
     "data": {
      "text/plain": [
       "25"
      ]
     },
     "execution_count": 98,
     "metadata": {},
     "output_type": "execute_result"
    }
   ],
   "source": [
    "len(data_poor_tsca_act)"
   ]
  },
  {
   "cell_type": "code",
   "execution_count": 99,
   "id": "3bb3b4f6-5414-42b7-bffa-45c1804dee01",
   "metadata": {},
   "outputs": [],
   "source": [
    "#data_poor_tsca_act"
   ]
  },
  {
   "cell_type": "code",
   "execution_count": 100,
   "id": "d9c6ff3e-b062-4487-afe9-5d46d954dc32",
   "metadata": {},
   "outputs": [
    {
     "data": {
      "text/plain": [
       "16"
      ]
     },
     "execution_count": 100,
     "metadata": {},
     "output_type": "execute_result"
    }
   ],
   "source": [
    "len([e for e in on_em2 if e in data_poor_tsca])"
   ]
  },
  {
   "cell_type": "code",
   "execution_count": 101,
   "id": "f0f2ffde-26e8-40ab-98cc-c985e6c15300",
   "metadata": {},
   "outputs": [
    {
     "data": {
      "text/plain": [
       "37"
      ]
     },
     "execution_count": 101,
     "metadata": {},
     "output_type": "execute_result"
    }
   ],
   "source": [
    "len([e for e in on_em if e in data_poor_tsca])"
   ]
  },
  {
   "cell_type": "code",
   "execution_count": 102,
   "id": "54206227-a8af-4652-a70b-6023087237b2",
   "metadata": {},
   "outputs": [
    {
     "data": {
      "text/plain": [
       "14"
      ]
     },
     "execution_count": 102,
     "metadata": {},
     "output_type": "execute_result"
    }
   ],
   "source": [
    "len([e for e in on_em2 if e in data_poor_tsca_act])"
   ]
  },
  {
   "cell_type": "code",
   "execution_count": 103,
   "id": "74e88e69-f0f3-47fd-bef1-9164bf6427e4",
   "metadata": {},
   "outputs": [
    {
     "data": {
      "text/plain": [
       "25"
      ]
     },
     "execution_count": 103,
     "metadata": {},
     "output_type": "execute_result"
    }
   ],
   "source": [
    "len([e for e in on_em if e in data_poor_tsca_act])"
   ]
  },
  {
   "cell_type": "code",
   "execution_count": 104,
   "id": "de76b29f-c5e2-4ed0-a832-64683eebe8c5",
   "metadata": {},
   "outputs": [
    {
     "data": {
      "text/plain": [
       "[\"('Non-PFAA perfluoroalkyls', 'lt7', 1.0, 2.0)\",\n",
       " \"('Other aliphatics', 'gte7', 1.0, nan)\",\n",
       " \"('Other aliphatics', 'gte7', 3.0, 2.0)\",\n",
       " \"('Other aliphatics', 'gte7', 3.0, 3.0)\",\n",
       " \"('Other aliphatics', 'lt7', 1.0, 2.0)\",\n",
       " \"('PFAA precursors', 'gte7', nan, nan)\",\n",
       " \"('PFAA precursors', 'lt7', 3.0, 3.0)\",\n",
       " \"('PFAS derivatives', 'lt7', 1.0, nan)\",\n",
       " \"('PFAS derivatives', 'lt7', 3.0, nan)\",\n",
       " \"('PFAS derivatives', 'lt7', 4.0, 2.0)\",\n",
       " \"('Side-chain aromatics', 'gte7', 1.0, 2.0)\",\n",
       " \"('Side-chain aromatics', 'lt7', 3.0, 1.0)\",\n",
       " \"('unclassified', 'gte7', 1.0, nan)\",\n",
       " \"('unclassified', 'lt7', 2.0, 1.0)\"]"
      ]
     },
     "execution_count": 104,
     "metadata": {},
     "output_type": "execute_result"
    }
   ],
   "source": [
    "[e for e in on_em2 if e in data_poor_tsca_act]"
   ]
  },
  {
   "cell_type": "code",
   "execution_count": 105,
   "id": "394e6375-26a4-48c2-b68e-172ce9ef32cb",
   "metadata": {},
   "outputs": [],
   "source": [
    "X2 = X1[X1.index.isin(tsca_act)]"
   ]
  },
  {
   "cell_type": "code",
   "execution_count": 106,
   "id": "d5be9962-9715-488a-aab5-6e0c06ec1401",
   "metadata": {},
   "outputs": [
    {
     "data": {
      "text/plain": [
       "Index(['chronic', 'developmental', 'neurotoxicity', 'repeat dose other',\n",
       "       'reproduction', 'reproduction developmental', 'short-term',\n",
       "       'subchronic', 'ANALYTICAL_MTHDS', 'DISCHARGE', 'DRINKING_WATER',\n",
       "       'DRINKING_WATER-UCMR', 'PROD_DATA', 'TRI-OFFSITE', 'TRI-ONSITE',\n",
       "       'TRI_WASTE', 'CDR2020_STATUS', 'pubmed_avail'],\n",
       "      dtype='object')"
      ]
     },
     "execution_count": 106,
     "metadata": {},
     "output_type": "execute_result"
    }
   ],
   "source": [
    "X2.columns"
   ]
  },
  {
   "cell_type": "code",
   "execution_count": 108,
   "id": "271895da-7b2e-4214-a549-ec8ab5d5ba71",
   "metadata": {},
   "outputs": [
    {
     "name": "stderr",
     "output_type": "stream",
     "text": [
      "/tmp/ipykernel_53150/3202516488.py:6: MatplotlibDeprecationWarning: The get_cmap function was deprecated in Matplotlib 3.7 and will be removed two minor releases later. Use ``matplotlib.colormaps[name]`` or ``matplotlib.colormaps.get_cmap(obj)`` instead.\n",
      "  cmap = mpl.cm.get_cmap('coolwarm', 2)\n"
     ]
    },
    {
     "data": {
      "image/png": "[encoded data removed]",
      "text/plain": [
       "<Figure size 1400x1400 with 2 Axes>"
      ]
     },
     "metadata": {},
     "output_type": "display_data"
    }
   ],
   "source": [
    "import matplotlib as mpl\n",
    "f, ax = plt.subplots(figsize=(14, 14))\n",
    "#labels = X2.index\n",
    "\n",
    "my_colors=[\"blue\", \"red\"]\n",
    "cmap = mpl.cm.get_cmap('coolwarm', 2)\n",
    "#bounds = [1,2]\n",
    "#f.colorbar(mpl.cm.ScalarMappable(cmap = cmap, norm=mpl.colors.BoundaryNorm(bounds, cmap.N)))\n",
    "g = sns.heatmap(X2, cmap = cmap, vmin = 0.9, vmax = .2,  cbar_kws={\"shrink\": 0.25}, square = True,xticklabels='auto', yticklabels='auto', linewidths = 0.3, ax = ax)\n",
    "\n",
    "colorbar = ax.collections[0].colorbar\n",
    "#print(colorbar)\n",
    "M=X2.max().max()\n",
    "#print(M)\n",
    "colorbar.set_ticks([0.35*M,0.75*M])\n",
    "colorbar.set_ticklabels(['absent','present'])\n",
    "#colorbar.ax.set_aspect(0.15)\n",
    "\n",
    "\n",
    "#g.set_yticks(np.arange(len(X2.index)))\n",
    "#g.set_yticklabels([''] +labels, fontsize = 8)\n",
    "g.set_ylabel('terminal category')\n",
    "#g.set_yticks(range(len(X1))\n",
    "#g.set_xticklabels(g.get_xmajorticklabels(), fontsize = 8)\n",
    "ax.vlines([8], *ax.get_ylim(), color = 'k')\n",
    "plt.tight_layout()\n",
    "f.savefig(figures_dir+'Figure15_091123.png', dpi = 300);"
   ]
  },
  {
   "cell_type": "code",
   "execution_count": null,
   "id": "564e838b-169a-4a6e-ac49-9c6b617700e9",
   "metadata": {},
   "outputs": [],
   "source": []
  },
  {
   "cell_type": "code",
   "execution_count": null,
   "id": "de0d4617-0b98-428c-ab2c-0b1458e8d11b",
   "metadata": {},
   "outputs": [],
   "source": []
  },
  {
   "cell_type": "code",
   "execution_count": null,
   "id": "83bbf283-71e4-44f6-8439-8ff36d49cfa5",
   "metadata": {},
   "outputs": [],
   "source": []
  },
  {
   "cell_type": "code",
   "execution_count": null,
   "id": "5862234e-e464-40d1-92cc-2bed4975534e",
   "metadata": {},
   "outputs": [],
   "source": []
  },
  {
   "cell_type": "code",
   "execution_count": null,
   "id": "c6ddc032-1e34-4da0-9199-5a4d0f0e7f75",
   "metadata": {},
   "outputs": [],
   "source": []
  },
  {
   "cell_type": "code",
   "execution_count": null,
   "id": "bd86789d-0e3b-4694-8827-25c922732cbe",
   "metadata": {},
   "outputs": [],
   "source": []
  }
 ],
 "metadata": {
  "kernelspec": {
   "display_name": "py39",
   "language": "python",
   "name": "py39"
  },
  "language_info": {
   "codemirror_mode": {
    "name": "ipython",
    "version": 3
   },
   "file_extension": ".py",
   "mimetype": "text/x-python",
   "name": "python",
   "nbconvert_exporter": "python",
   "pygments_lexer": "ipython3",
   "version": "3.9.16"
  },
  "widgets": {
   "application/vnd.jupyter.widget-state+json": {
    "state": {},
    "version_major": 2,
    "version_minor": 0
   }
  }
 },
 "nbformat": 4,
 "nbformat_minor": 5
}
