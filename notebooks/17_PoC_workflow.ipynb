{
 "cells": [
  {
   "cell_type": "markdown",
   "id": "1f29d3bc-9196-471e-873a-351bde596e7a",
   "metadata": {},
   "source": [
    "## Proof of Concept Workflow: Identifying potential candidates for data collection"
   ]
  },
  {
   "cell_type": "markdown",
   "id": "6e734f58-5a54-4de8-ad0c-f0c4298c660d",
   "metadata": {},
   "source": [
    "Created: 9 November 2023<br>\n",
    "Last modified: 13 may 2024<br>\n",
    "Changes: Updated in lieu of new inventory, updates to ToxVal 9.5, and all monitoring sources and literatures hits within pubmed will have changed in the last year."
   ]
  },
  {
   "cell_type": "code",
   "execution_count": 1,
   "id": "383ae057-2eaf-4e13-b851-261dac2ed99c",
   "metadata": {},
   "outputs": [],
   "source": [
    "import numpy as np\n",
    "import pandas as pd\n",
    "import matplotlib.pyplot as plt\n",
    "import seaborn as sns\n",
    "%matplotlib inline\n",
    "import openpyxl\n",
    "from rdkit.Chem.Draw import IPythonConsole, MolsToGridImage\n",
    "\n",
    "#Show mols in dataframes\n",
    "from rdkit.Chem import PandasTools\n",
    "from rdkit import Chem\n",
    "from rdkit.Chem.Draw import MolsToGridImage\n",
    "from IPython.core.display import HTML\n",
    "from rdkit.Chem import Descriptors\n",
    "from rdkit.ML.Descriptors import MoleculeDescriptors\n",
    "from rdkit.Chem import PandasTools\n",
    "from rdkit.Chem import AllChem\n",
    "from rdkit.Chem import rdDepictor\n",
    "from rdkit.Chem.Fingerprints import FingerprintMols\n",
    "from rdkit import DataStructs\n",
    "import os"
   ]
  },
  {
   "cell_type": "code",
   "execution_count": 2,
   "id": "340d9df9-7c9b-43d4-bdc6-597f2d2ae251",
   "metadata": {},
   "outputs": [],
   "source": [
    "TOP = os.getcwd().replace('notebooks', '')\n",
    "raw_dir = TOP + 'data/raw/'\n",
    "interim_dir = TOP + 'data/interim/'\n",
    "external_dir = TOP + 'data/external/'\n",
    "figures_dir = TOP + 'reports/figures/'\n"
   ]
  },
  {
   "cell_type": "code",
   "execution_count": 3,
   "id": "53eb734b-c742-4175-b211-36a964143092",
   "metadata": {},
   "outputs": [],
   "source": [
    "df = pd.read_excel(interim_dir+'final_landscape_with_predicted_NAMs_130524.xlsx', index_col = [0] )\n"
   ]
  },
  {
   "cell_type": "code",
   "execution_count": 4,
   "id": "1525b22a-d749-4454-9e45-c78a5babda7c",
   "metadata": {},
   "outputs": [
    {
     "data": {
      "text/plain": [
       "128"
      ]
     },
     "execution_count": 4,
     "metadata": {},
     "output_type": "execute_result"
    }
   ],
   "source": [
    "df.final_centroid.nunique()"
   ]
  },
  {
   "cell_type": "code",
   "execution_count": 5,
   "id": "e386d065-7d96-47fa-9d5b-dcb1edb88124",
   "metadata": {},
   "outputs": [],
   "source": [
    "universe_ids = df.dtxsid.tolist()"
   ]
  },
  {
   "cell_type": "code",
   "execution_count": 6,
   "id": "82a65e6e-51aa-426d-b22a-92a89279f7e2",
   "metadata": {},
   "outputs": [
    {
     "data": {
      "text/plain": [
       "15525"
      ]
     },
     "execution_count": 6,
     "metadata": {},
     "output_type": "execute_result"
    }
   ],
   "source": [
    "len(universe_ids)"
   ]
  },
  {
   "cell_type": "code",
   "execution_count": 7,
   "id": "799a67a5-4602-495a-8b3d-28a06714102a",
   "metadata": {},
   "outputs": [
    {
     "data": {
      "text/plain": [
       "(15525, 171)"
      ]
     },
     "execution_count": 7,
     "metadata": {},
     "output_type": "execute_result"
    }
   ],
   "source": [
    "df.shape"
   ]
  },
  {
   "cell_type": "code",
   "execution_count": 8,
   "id": "aa84b544-a861-4b56-a8e1-a6416c4322ae",
   "metadata": {},
   "outputs": [
    {
     "name": "stderr",
     "output_type": "stream",
     "text": [
      "/tmp/ipykernel_364779/845230242.py:1: DtypeWarning: Columns (33,39) have mixed types. Specify dtype option on import or set low_memory=False.\n",
      "  toxval = pd.read_csv(raw_dir+'toxval95_all.csv', index_col = [0])\n"
     ]
    }
   ],
   "source": [
    "toxval = pd.read_csv(raw_dir+'toxval95_all.csv', index_col = [0])"
   ]
  },
  {
   "cell_type": "code",
   "execution_count": 11,
   "id": "257cba82-3d04-4073-ad32-de14917e5d20",
   "metadata": {},
   "outputs": [
    {
     "data": {
      "text/plain": [
       "mg/kg-day                        125427\n",
       "mg/kg                             69549\n",
       "mg/m3                             25598\n",
       "mg/L                              12705\n",
       "ppm                                2304\n",
       "                                  ...  \n",
       "g/kg-day                              1\n",
       "uM/100 g                              1\n",
       "nM/mol                                1\n",
       "ug/kr/day                             1\n",
       "mg narasin activity/kg bw/day         1\n",
       "Name: toxval_units, Length: 258, dtype: int64"
      ]
     },
     "execution_count": 11,
     "metadata": {},
     "output_type": "execute_result"
    }
   ],
   "source": [
    "toxval.toxval_units.value_counts()"
   ]
  },
  {
   "cell_type": "code",
   "execution_count": 12,
   "id": "b16b99cb-77ff-4124-b383-98b7b7103309",
   "metadata": {},
   "outputs": [
    {
     "data": {
      "text/plain": [
       "array(['reproduction developmental', 'chronic', 'developmental',\n",
       "       'subchronic', 'reproduction', 'short-term', '28-day', 'acute',\n",
       "       'uterotrophic', 'Hershberger', 'intermediate', 'in vitro',\n",
       "       'toxicity test, other', 'ecotoxicity', 'repeat dose other',\n",
       "       'endocrine disrupter mammalian screening - in vivo',\n",
       "       'immunotoxicity', 'neurotoxicity', '-', 'human', 'clinical',\n",
       "       'occupational', 'epidemiologic', 'toxicity value', 'genotoxicity',\n",
       "       'special', 'subchronic-chronic'], dtype=object)"
      ]
     },
     "execution_count": 12,
     "metadata": {},
     "output_type": "execute_result"
    }
   ],
   "source": [
    "toxval.study_type.unique()"
   ]
  },
  {
   "cell_type": "code",
   "execution_count": 19,
   "id": "8ba9e33a-c891-4818-bbd2-ca3b3ccf58bc",
   "metadata": {},
   "outputs": [],
   "source": [
    "mask = (toxval['exposure_route'].isin( ['oral', 'inhalation']) & (toxval['qc_status'] == 'pass') & (toxval['toxval_type_supercategory'] =='Point of Departure') & \\\n",
    "(toxval['toxval_type'].isin(['NOAEL', 'NOEL', 'LEL', 'LOAEL', 'LOEL','HNEL', 'NEL',  'NOAEC', 'LOAEC'])) & \\\n",
    "(toxval['species_id'].isin([4491,4500,4501,4510,4511,4516,4520,4901,4913,4928,4988,5557,7630,7632,11193,17317,19568,20657,21216,22808])) &\\\n",
    "(toxval['study_type'].isin(['chronic', 'subchronic', 'reproduction developmental', 'developmental', 'short-term', 'reproduction', '28-day','repeat dose other','immunotoxicity', 'neurotoxicity'])) &\\\n",
    "(toxval['toxval_units'].isin(['mg/kg', 'mg/kg-day', 'mg/m3', 'mg/L', 'ppm', 'ppb'])))\n"
   ]
  },
  {
   "cell_type": "code",
   "execution_count": 20,
   "id": "c6fb28c9-45f5-4d06-93c7-d375e4917a95",
   "metadata": {},
   "outputs": [
    {
     "data": {
      "text/plain": [
       "array(['reproduction developmental', 'chronic', 'developmental',\n",
       "       'subchronic', 'reproduction', 'short-term', '28-day', 'acute',\n",
       "       'uterotrophic', 'Hershberger', 'intermediate', 'in vitro',\n",
       "       'toxicity test, other', 'ecotoxicity', 'repeat dose other',\n",
       "       'endocrine disrupter mammalian screening - in vivo',\n",
       "       'immunotoxicity', 'neurotoxicity', '-', 'human', 'clinical',\n",
       "       'occupational', 'epidemiologic', 'toxicity value', 'genotoxicity',\n",
       "       'special', 'subchronic-chronic'], dtype=object)"
      ]
     },
     "execution_count": 20,
     "metadata": {},
     "output_type": "execute_result"
    }
   ],
   "source": [
    "toxval.study_type.unique()"
   ]
  },
  {
   "cell_type": "code",
   "execution_count": 21,
   "id": "e8928da7-35eb-4242-881d-42787660eff0",
   "metadata": {},
   "outputs": [],
   "source": [
    "txval = toxval[mask]"
   ]
  },
  {
   "cell_type": "code",
   "execution_count": 22,
   "id": "0b19008f-eed8-4b07-aad6-c159f1b57a4b",
   "metadata": {},
   "outputs": [
    {
     "data": {
      "text/plain": [
       "(99080, 45)"
      ]
     },
     "execution_count": 22,
     "metadata": {},
     "output_type": "execute_result"
    }
   ],
   "source": [
    "txval.shape"
   ]
  },
  {
   "cell_type": "code",
   "execution_count": 23,
   "id": "a74d15c6-cd53-4d31-8e8e-73d4f60c9445",
   "metadata": {},
   "outputs": [],
   "source": [
    "universe_tox = df[df['dtxsid'].isin(txval.dtxsid.tolist())]"
   ]
  },
  {
   "cell_type": "code",
   "execution_count": 24,
   "id": "0f944b8a-53b5-421e-b68b-94c68ccf1db2",
   "metadata": {},
   "outputs": [],
   "source": [
    "analogue_df = txval[txval['dtxsid'].isin(df.dtxsid.unique())]"
   ]
  },
  {
   "cell_type": "code",
   "execution_count": 25,
   "id": "72dee450-3411-44d0-a474-8b59cc0bb14e",
   "metadata": {},
   "outputs": [
    {
     "data": {
      "text/plain": [
       "array(['NOAEL', 'LOAEL', 'LEL', 'NEL', 'NOEL', 'LOEL', 'LOAEC', 'NOAEC',\n",
       "       'HNEL'], dtype=object)"
      ]
     },
     "execution_count": 25,
     "metadata": {},
     "output_type": "execute_result"
    }
   ],
   "source": [
    "analogue_df.toxval_type.unique()"
   ]
  },
  {
   "cell_type": "code",
   "execution_count": 26,
   "id": "0e57b86b-f4eb-443e-85e1-b71ce2fc25cb",
   "metadata": {},
   "outputs": [
    {
     "data": {
      "text/plain": [
       "Index(['dtxsid', 'DSSTox_QC-Level', 'Substance_Name', 'Substance_CASRN',\n",
       "       'Substance_Type', 'Substance_Note', 'smiles', 'Structure_InChI',\n",
       "       'Structure_InChIKey', 'Structure_Formula',\n",
       "       ...\n",
       "       'pred_DNT', 'pred_Immune', 'pred_NR_ESR1', 'pred_NR_NRF2',\n",
       "       'pred_NR_PPAR', 'pred_NR_PXR', 'pred_No flag', 'pred_TK_PlasBind',\n",
       "       'pred_ZF', 'pred_TK'],\n",
       "      dtype='object', length=171)"
      ]
     },
     "execution_count": 26,
     "metadata": {},
     "output_type": "execute_result"
    }
   ],
   "source": [
    "df.columns"
   ]
  },
  {
   "cell_type": "code",
   "execution_count": 27,
   "id": "41d78d44-a77f-4fb1-8919-ad90d78e9bf4",
   "metadata": {},
   "outputs": [],
   "source": [
    "landscape_dict = {k:v for k,v in zip(df['dtxsid'], df['group_str'])}"
   ]
  },
  {
   "cell_type": "code",
   "execution_count": 28,
   "id": "475977ea-9c67-43a1-aa47-c5f113c044b8",
   "metadata": {},
   "outputs": [
    {
     "name": "stderr",
     "output_type": "stream",
     "text": [
      "/tmp/ipykernel_364779/3439423276.py:1: SettingWithCopyWarning: \n",
      "A value is trying to be set on a copy of a slice from a DataFrame.\n",
      "Try using .loc[row_indexer,col_indexer] = value instead\n",
      "\n",
      "See the caveats in the documentation: https://pandas.pydata.org/pandas-docs/stable/user_guide/indexing.html#returning-a-view-versus-a-copy\n",
      "  analogue_df['group_str'] = analogue_df['dtxsid'].replace(landscape_dict)\n"
     ]
    }
   ],
   "source": [
    "analogue_df['group_str'] = analogue_df['dtxsid'].replace(landscape_dict)"
   ]
  },
  {
   "cell_type": "code",
   "execution_count": 29,
   "id": "f77cd5e6-d775-4d80-9bc2-f911b57c236f",
   "metadata": {},
   "outputs": [],
   "source": [
    "iv_tox = analogue_df.groupby(['dtxsid', 'study_type']).size().reset_index().pivot_table(index = 'dtxsid', columns = 'study_type', values = 0)"
   ]
  },
  {
   "cell_type": "code",
   "execution_count": 30,
   "id": "a80ed7dc-22e8-40f3-97b1-4adc28600735",
   "metadata": {},
   "outputs": [],
   "source": [
    "iv_tox.columns.name = None"
   ]
  },
  {
   "cell_type": "code",
   "execution_count": 31,
   "id": "c7b701f1-30f1-4505-8861-3f284379a538",
   "metadata": {},
   "outputs": [
    {
     "data": {
      "text/plain": [
       "<Axes: ylabel='dtxsid'>"
      ]
     },
     "execution_count": 31,
     "metadata": {},
     "output_type": "execute_result"
    },
    {
     "data": {
      "image/png": "[encoded data removed]",
      "text/plain": [
       "<Figure size 640x480 with 2 Axes>"
      ]
     },
     "metadata": {},
     "output_type": "display_data"
    }
   ],
   "source": [
    "sns.heatmap(iv_tox)"
   ]
  },
  {
   "cell_type": "code",
   "execution_count": 32,
   "id": "e9dbc7ab-213e-402d-9da9-840ae907b365",
   "metadata": {},
   "outputs": [],
   "source": [
    "iv_tox_v1 = iv_tox.applymap(lambda x: 1 if pd.notnull([x]) else np.nan )"
   ]
  },
  {
   "cell_type": "code",
   "execution_count": 136,
   "id": "59a0d427-97c2-4882-af8f-9712b6d7973c",
   "metadata": {},
   "outputs": [
    {
     "data": {
      "text/html": [
       "<div>\n",
       "<style scoped>\n",
       "    .dataframe tbody tr th:only-of-type {\n",
       "        vertical-align: middle;\n",
       "    }\n",
       "\n",
       "    .dataframe tbody tr th {\n",
       "        vertical-align: top;\n",
       "    }\n",
       "\n",
       "    .dataframe thead th {\n",
       "        text-align: right;\n",
       "    }\n",
       "</style>\n",
       "<table border=\"1\" class=\"dataframe\">\n",
       "  <thead>\n",
       "    <tr style=\"text-align: right;\">\n",
       "      <th></th>\n",
       "      <th>28-day</th>\n",
       "      <th>chronic</th>\n",
       "      <th>developmental</th>\n",
       "      <th>neurotoxicity</th>\n",
       "      <th>repeat dose other</th>\n",
       "      <th>reproduction</th>\n",
       "      <th>reproduction developmental</th>\n",
       "      <th>short-term</th>\n",
       "      <th>subchronic</th>\n",
       "    </tr>\n",
       "    <tr>\n",
       "      <th>dtxsid</th>\n",
       "      <th></th>\n",
       "      <th></th>\n",
       "      <th></th>\n",
       "      <th></th>\n",
       "      <th></th>\n",
       "      <th></th>\n",
       "      <th></th>\n",
       "      <th></th>\n",
       "      <th></th>\n",
       "    </tr>\n",
       "  </thead>\n",
       "  <tbody>\n",
       "    <tr>\n",
       "      <th>DTXSID0034774</th>\n",
       "      <td>NaN</td>\n",
       "      <td>1.0</td>\n",
       "      <td>1.0</td>\n",
       "      <td>1.0</td>\n",
       "      <td>NaN</td>\n",
       "      <td>NaN</td>\n",
       "      <td>1.0</td>\n",
       "      <td>1.0</td>\n",
       "      <td>1.0</td>\n",
       "    </tr>\n",
       "    <tr>\n",
       "      <th>DTXSID0061826</th>\n",
       "      <td>1.0</td>\n",
       "      <td>NaN</td>\n",
       "      <td>1.0</td>\n",
       "      <td>NaN</td>\n",
       "      <td>NaN</td>\n",
       "      <td>NaN</td>\n",
       "      <td>1.0</td>\n",
       "      <td>1.0</td>\n",
       "      <td>1.0</td>\n",
       "    </tr>\n",
       "    <tr>\n",
       "      <th>DTXSID0067848</th>\n",
       "      <td>NaN</td>\n",
       "      <td>NaN</td>\n",
       "      <td>1.0</td>\n",
       "      <td>NaN</td>\n",
       "      <td>NaN</td>\n",
       "      <td>NaN</td>\n",
       "      <td>NaN</td>\n",
       "      <td>1.0</td>\n",
       "      <td>NaN</td>\n",
       "    </tr>\n",
       "    <tr>\n",
       "      <th>DTXSID00874026</th>\n",
       "      <td>1.0</td>\n",
       "      <td>NaN</td>\n",
       "      <td>NaN</td>\n",
       "      <td>NaN</td>\n",
       "      <td>NaN</td>\n",
       "      <td>NaN</td>\n",
       "      <td>1.0</td>\n",
       "      <td>NaN</td>\n",
       "      <td>1.0</td>\n",
       "    </tr>\n",
       "    <tr>\n",
       "      <th>DTXSID1024251</th>\n",
       "      <td>NaN</td>\n",
       "      <td>NaN</td>\n",
       "      <td>1.0</td>\n",
       "      <td>NaN</td>\n",
       "      <td>NaN</td>\n",
       "      <td>NaN</td>\n",
       "      <td>NaN</td>\n",
       "      <td>1.0</td>\n",
       "      <td>1.0</td>\n",
       "    </tr>\n",
       "    <tr>\n",
       "      <th>...</th>\n",
       "      <td>...</td>\n",
       "      <td>...</td>\n",
       "      <td>...</td>\n",
       "      <td>...</td>\n",
       "      <td>...</td>\n",
       "      <td>...</td>\n",
       "      <td>...</td>\n",
       "      <td>...</td>\n",
       "      <td>...</td>\n",
       "    </tr>\n",
       "    <tr>\n",
       "      <th>DTXSID80889254</th>\n",
       "      <td>NaN</td>\n",
       "      <td>NaN</td>\n",
       "      <td>NaN</td>\n",
       "      <td>NaN</td>\n",
       "      <td>NaN</td>\n",
       "      <td>NaN</td>\n",
       "      <td>NaN</td>\n",
       "      <td>NaN</td>\n",
       "      <td>1.0</td>\n",
       "    </tr>\n",
       "    <tr>\n",
       "      <th>DTXSID90190949</th>\n",
       "      <td>1.0</td>\n",
       "      <td>NaN</td>\n",
       "      <td>NaN</td>\n",
       "      <td>NaN</td>\n",
       "      <td>NaN</td>\n",
       "      <td>NaN</td>\n",
       "      <td>1.0</td>\n",
       "      <td>1.0</td>\n",
       "      <td>NaN</td>\n",
       "    </tr>\n",
       "    <tr>\n",
       "      <th>DTXSID9027150</th>\n",
       "      <td>NaN</td>\n",
       "      <td>NaN</td>\n",
       "      <td>NaN</td>\n",
       "      <td>NaN</td>\n",
       "      <td>NaN</td>\n",
       "      <td>NaN</td>\n",
       "      <td>NaN</td>\n",
       "      <td>1.0</td>\n",
       "      <td>NaN</td>\n",
       "    </tr>\n",
       "    <tr>\n",
       "      <th>DTXSID90868151</th>\n",
       "      <td>NaN</td>\n",
       "      <td>NaN</td>\n",
       "      <td>NaN</td>\n",
       "      <td>NaN</td>\n",
       "      <td>NaN</td>\n",
       "      <td>NaN</td>\n",
       "      <td>1.0</td>\n",
       "      <td>1.0</td>\n",
       "      <td>NaN</td>\n",
       "    </tr>\n",
       "    <tr>\n",
       "      <th>DTXSID90870315</th>\n",
       "      <td>1.0</td>\n",
       "      <td>NaN</td>\n",
       "      <td>NaN</td>\n",
       "      <td>NaN</td>\n",
       "      <td>NaN</td>\n",
       "      <td>NaN</td>\n",
       "      <td>1.0</td>\n",
       "      <td>1.0</td>\n",
       "      <td>NaN</td>\n",
       "    </tr>\n",
       "  </tbody>\n",
       "</table>\n",
       "<p>76 rows × 9 columns</p>\n",
       "</div>"
      ],
      "text/plain": [
       "                28-day  chronic  developmental  neurotoxicity  \\\n",
       "dtxsid                                                          \n",
       "DTXSID0034774      NaN      1.0            1.0            1.0   \n",
       "DTXSID0061826      1.0      NaN            1.0            NaN   \n",
       "DTXSID0067848      NaN      NaN            1.0            NaN   \n",
       "DTXSID00874026     1.0      NaN            NaN            NaN   \n",
       "DTXSID1024251      NaN      NaN            1.0            NaN   \n",
       "...                ...      ...            ...            ...   \n",
       "DTXSID80889254     NaN      NaN            NaN            NaN   \n",
       "DTXSID90190949     1.0      NaN            NaN            NaN   \n",
       "DTXSID9027150      NaN      NaN            NaN            NaN   \n",
       "DTXSID90868151     NaN      NaN            NaN            NaN   \n",
       "DTXSID90870315     1.0      NaN            NaN            NaN   \n",
       "\n",
       "                repeat dose other  reproduction  reproduction developmental  \\\n",
       "dtxsid                                                                        \n",
       "DTXSID0034774                 NaN           NaN                         1.0   \n",
       "DTXSID0061826                 NaN           NaN                         1.0   \n",
       "DTXSID0067848                 NaN           NaN                         NaN   \n",
       "DTXSID00874026                NaN           NaN                         1.0   \n",
       "DTXSID1024251                 NaN           NaN                         NaN   \n",
       "...                           ...           ...                         ...   \n",
       "DTXSID80889254                NaN           NaN                         NaN   \n",
       "DTXSID90190949                NaN           NaN                         1.0   \n",
       "DTXSID9027150                 NaN           NaN                         NaN   \n",
       "DTXSID90868151                NaN           NaN                         1.0   \n",
       "DTXSID90870315                NaN           NaN                         1.0   \n",
       "\n",
       "                short-term  subchronic  \n",
       "dtxsid                                  \n",
       "DTXSID0034774          1.0         1.0  \n",
       "DTXSID0061826          1.0         1.0  \n",
       "DTXSID0067848          1.0         NaN  \n",
       "DTXSID00874026         NaN         1.0  \n",
       "DTXSID1024251          1.0         1.0  \n",
       "...                    ...         ...  \n",
       "DTXSID80889254         NaN         1.0  \n",
       "DTXSID90190949         1.0         NaN  \n",
       "DTXSID9027150          1.0         NaN  \n",
       "DTXSID90868151         1.0         NaN  \n",
       "DTXSID90870315         1.0         NaN  \n",
       "\n",
       "[76 rows x 9 columns]"
      ]
     },
     "execution_count": 136,
     "metadata": {},
     "output_type": "execute_result"
    }
   ],
   "source": [
    "iv_tox_v1"
   ]
  },
  {
   "cell_type": "markdown",
   "id": "57473ce7-c586-4d19-9bb8-9a8ff329cac7",
   "metadata": {},
   "source": [
    "Lists"
   ]
  },
  {
   "cell_type": "code",
   "execution_count": 137,
   "id": "a63b0513-7aa8-44b5-a5dc-a765b000ff9d",
   "metadata": {},
   "outputs": [],
   "source": [
    "import glob"
   ]
  },
  {
   "cell_type": "code",
   "execution_count": 138,
   "id": "c4169927-1769-4bea-b5ce-1cbfa650648f",
   "metadata": {},
   "outputs": [
    {
     "name": "stdout",
     "output_type": "stream",
     "text": [
      "/home/grace/Documents/python/nts_pfas/data/external/tri_waste_mapped_070424.xlsx\n",
      "/home/grace/Documents/python/nts_pfas/data/external/tri_onsite_mapped_070424.xlsx\n",
      "/home/grace/Documents/python/nts_pfas/data/external/drinking_water_mapped_070424.xlsx\n",
      "/home/grace/Documents/python/nts_pfas/data/external/discharge_monitoring_mapped_070424.xlsx\n",
      "/home/grace/Documents/python/nts_pfas/data/external/tri_offsite_mapped_070424.xlsx\n",
      "/home/grace/Documents/python/nts_pfas/data/external/environmental_media_mapped_070424.xlsx\n",
      "/home/grace/Documents/python/nts_pfas/data/external/drinking_water_ucmr_mapped_070424.xlsx\n",
      "/home/grace/Documents/python/nts_pfas/data/external/production_data_mapped_070424.xlsx\n"
     ]
    }
   ],
   "source": [
    "files = glob.glob(external_dir+'/*mapped_070424.xlsx', \n",
    "                   recursive = True)\n",
    "for file in files:\n",
    "    print(file)"
   ]
  },
  {
   "cell_type": "code",
   "execution_count": 139,
   "id": "7c221408-e6b0-44c6-83bc-f1ad5e4d8442",
   "metadata": {},
   "outputs": [],
   "source": [
    "def read_file(fs):\n",
    "    mylst = []\n",
    "    for f in fs:\n",
    "        df = pd.read_excel(f)\n",
    "        #df.drop(['Unnamed: 0'], axis = 1, inplace = True)\n",
    "        df['source'] = f\n",
    "        mylst.append(df)\n",
    "        mydfs = pd.concat(mylst)\n",
    "    return mydfs"
   ]
  },
  {
   "cell_type": "code",
   "execution_count": 140,
   "id": "8bb5a79b-68eb-46ef-b8ab-7334b236ba48",
   "metadata": {},
   "outputs": [
    {
     "name": "stderr",
     "output_type": "stream",
     "text": [
      "/home/grace/anaconda3/envs/py39/lib/python3.9/site-packages/openpyxl/styles/stylesheet.py:226: UserWarning: Workbook contains no default style, apply openpyxl's default\n",
      "  warn(\"Workbook contains no default style, apply openpyxl's default\")\n",
      "/home/grace/anaconda3/envs/py39/lib/python3.9/site-packages/openpyxl/styles/stylesheet.py:226: UserWarning: Workbook contains no default style, apply openpyxl's default\n",
      "  warn(\"Workbook contains no default style, apply openpyxl's default\")\n",
      "/home/grace/anaconda3/envs/py39/lib/python3.9/site-packages/openpyxl/styles/stylesheet.py:226: UserWarning: Workbook contains no default style, apply openpyxl's default\n",
      "  warn(\"Workbook contains no default style, apply openpyxl's default\")\n"
     ]
    }
   ],
   "source": [
    "lists = read_file(files)"
   ]
  },
  {
   "cell_type": "code",
   "execution_count": 141,
   "id": "68866020-4bc4-4c02-984c-3023a3bf7fc4",
   "metadata": {},
   "outputs": [
    {
     "data": {
      "text/plain": [
       "array(['/home/grace/Documents/python/nts_pfas/data/external/tri_waste_mapped_070424.xlsx',\n",
       "       '/home/grace/Documents/python/nts_pfas/data/external/tri_onsite_mapped_070424.xlsx',\n",
       "       '/home/grace/Documents/python/nts_pfas/data/external/drinking_water_mapped_070424.xlsx',\n",
       "       '/home/grace/Documents/python/nts_pfas/data/external/discharge_monitoring_mapped_070424.xlsx',\n",
       "       '/home/grace/Documents/python/nts_pfas/data/external/tri_offsite_mapped_070424.xlsx',\n",
       "       '/home/grace/Documents/python/nts_pfas/data/external/environmental_media_mapped_070424.xlsx',\n",
       "       '/home/grace/Documents/python/nts_pfas/data/external/drinking_water_ucmr_mapped_070424.xlsx',\n",
       "       '/home/grace/Documents/python/nts_pfas/data/external/production_data_mapped_070424.xlsx'],\n",
       "      dtype=object)"
      ]
     },
     "execution_count": 141,
     "metadata": {},
     "output_type": "execute_result"
    }
   ],
   "source": [
    "lists['source'].unique()"
   ]
  },
  {
   "cell_type": "code",
   "execution_count": 142,
   "id": "09dfa168-5796-44af-a9ef-3db3c018f8b8",
   "metadata": {},
   "outputs": [],
   "source": [
    "source_dict = {'/home/grace/Documents/python/nts_pfas/data/external/tri_onsite_mapped_070424.xlsx' : 'TRI-ONSITE',\n",
    "       '/home/grace/Documents/python/nts_pfas/data/external/production_data_mapped_070424.xlsx': 'PROD_DATA',\n",
    "       '/home/grace/Documents/python/nts_pfas/data/external/discharge_monitoring_mapped_070424.xlsx': 'DISCHARGE',\n",
    "       '/home/grace/Documents/python/nts_pfas/data/external/tri_waste_mapped_070424.xlsx' : 'TRI_WASTE',\n",
    "               '/home/grace/Documents/python/nts_pfas/data/external/environmental_media_mapped_070424.xlsx': 'ENV_MEDIA',\n",
    "       '/home/grace/Documents/python/nts_pfas/data/external/drinking_water_ucmr_mapped_070424.xlsx' : 'DRINKING_WATER-UCMR',\n",
    "       '/home/grace/Documents/python/nts_pfas/data/external/drinking_water_mapped_070424.xlsx' : 'DRINKING_WATER',\n",
    "       '/home/grace/Documents/python/nts_pfas/data/external/tri_offsite_mapped_070424.xlsx' : 'TRI-OFFSITE'}"
   ]
  },
  {
   "cell_type": "code",
   "execution_count": 143,
   "id": "09fa0848-3025-4e1c-bf42-9a42e2cd00e6",
   "metadata": {},
   "outputs": [],
   "source": [
    "lists['source']  = lists['source'].replace(source_dict)"
   ]
  },
  {
   "cell_type": "code",
   "execution_count": 144,
   "id": "1d12973b-e428-4945-ac12-fef39fd78e75",
   "metadata": {},
   "outputs": [
    {
     "data": {
      "text/html": [
       "<div>\n",
       "<style scoped>\n",
       "    .dataframe tbody tr th:only-of-type {\n",
       "        vertical-align: middle;\n",
       "    }\n",
       "\n",
       "    .dataframe tbody tr th {\n",
       "        vertical-align: top;\n",
       "    }\n",
       "\n",
       "    .dataframe thead th {\n",
       "        text-align: right;\n",
       "    }\n",
       "</style>\n",
       "<table border=\"1\" class=\"dataframe\">\n",
       "  <thead>\n",
       "    <tr style=\"text-align: right;\">\n",
       "      <th></th>\n",
       "      <th>Query</th>\n",
       "      <th>Found_By</th>\n",
       "      <th>DSSTox_Substance_Id</th>\n",
       "      <th>DSSTox_Structure_Id</th>\n",
       "      <th>DSSTox_QC-Level</th>\n",
       "      <th>Substance_Name</th>\n",
       "      <th>Substance_CASRN</th>\n",
       "      <th>Substance_Type</th>\n",
       "      <th>Substance_Note</th>\n",
       "      <th>Structure_SMILES</th>\n",
       "      <th>Structure_InChI</th>\n",
       "      <th>Structure_InChIKey</th>\n",
       "      <th>Structure_Formula</th>\n",
       "      <th>Structure_MolWt</th>\n",
       "      <th>Structure_SMILES_2D-QSAR</th>\n",
       "      <th>DateModified</th>\n",
       "      <th>source</th>\n",
       "      <th>FOUND_BY</th>\n",
       "      <th>IUPAC_NAME</th>\n",
       "      <th>Unnamed: 7</th>\n",
       "    </tr>\n",
       "  </thead>\n",
       "  <tbody>\n",
       "    <tr>\n",
       "      <th>0</th>\n",
       "      <td>116-14-3</td>\n",
       "      <td>CAS-RN matched &lt;b&gt;null&lt;/b&gt;</td>\n",
       "      <td>DTXSID6021325</td>\n",
       "      <td>DTXCID301325</td>\n",
       "      <td>DSSTox_High</td>\n",
       "      <td>Tetrafluoroethylene</td>\n",
       "      <td>116-14-3</td>\n",
       "      <td>Single Compound</td>\n",
       "      <td>NaN</td>\n",
       "      <td>FC(F)=C(F)F</td>\n",
       "      <td>InChI=1S/C2F4/c3-1(4)2(5)6\\nAuxInfo=1/0/N:3,4,...</td>\n",
       "      <td>BFKJFAAPBSQJPD-UHFFFAOYSA-N</td>\n",
       "      <td>C2F4</td>\n",
       "      <td>100.016</td>\n",
       "      <td>FC(F)=C(F)F</td>\n",
       "      <td>20230320.0</td>\n",
       "      <td>TRI_WASTE</td>\n",
       "      <td>NaN</td>\n",
       "      <td>NaN</td>\n",
       "      <td>NaN</td>\n",
       "    </tr>\n",
       "    <tr>\n",
       "      <th>1</th>\n",
       "      <td>375-73-5</td>\n",
       "      <td>CAS-RN matched &lt;b&gt;null&lt;/b&gt;</td>\n",
       "      <td>DTXSID5030030</td>\n",
       "      <td>DTXCID3010030</td>\n",
       "      <td>DSSTox_High</td>\n",
       "      <td>Perfluorobutanesulfonic acid</td>\n",
       "      <td>375-73-5</td>\n",
       "      <td>Single Compound</td>\n",
       "      <td>NaN</td>\n",
       "      <td>OS(=O)(=O)C(F)(F)C(F)(F)C(F)(F)C(F)(F)F</td>\n",
       "      <td>InChI=1S/C4HF9O3S/c5-1(6,3(9,10)11)2(7,8)4(12,...</td>\n",
       "      <td>JGTNAGYHADQMCM-UHFFFAOYSA-N</td>\n",
       "      <td>C4HF9O3S</td>\n",
       "      <td>300.090</td>\n",
       "      <td>OS(=O)(=O)C(F)(F)C(F)(F)C(F)(F)C(F)(F)F</td>\n",
       "      <td>20230721.0</td>\n",
       "      <td>TRI_WASTE</td>\n",
       "      <td>NaN</td>\n",
       "      <td>NaN</td>\n",
       "      <td>NaN</td>\n",
       "    </tr>\n",
       "    <tr>\n",
       "      <th>2</th>\n",
       "      <td>29420-49-3</td>\n",
       "      <td>CAS-RN matched &lt;b&gt;null&lt;/b&gt;</td>\n",
       "      <td>DTXSID3037707</td>\n",
       "      <td>DTXCID1017707</td>\n",
       "      <td>DSSTox_High</td>\n",
       "      <td>Potassium perfluorobutanesulfonate</td>\n",
       "      <td>29420-49-3</td>\n",
       "      <td>Single Compound</td>\n",
       "      <td>Record was reviewed with Common Chemistry.</td>\n",
       "      <td>[K+].[O-]S(=O)(=O)C(F)(F)C(F)(F)C(F)(F)C(F)(F)F</td>\n",
       "      <td>InChI=1S/C4HF9O3S.K/c5-1(6,3(9,10)11)2(7,8)4(1...</td>\n",
       "      <td>LVTHXRLARFLXNR-UHFFFAOYSA-M</td>\n",
       "      <td>C4F9KO3S</td>\n",
       "      <td>338.180</td>\n",
       "      <td>OS(=O)(=O)C(F)(F)C(F)(F)C(F)(F)C(F)(F)F</td>\n",
       "      <td>20231115.0</td>\n",
       "      <td>TRI_WASTE</td>\n",
       "      <td>NaN</td>\n",
       "      <td>NaN</td>\n",
       "      <td>NaN</td>\n",
       "    </tr>\n",
       "    <tr>\n",
       "      <th>3</th>\n",
       "      <td>76-14-2</td>\n",
       "      <td>CAS-RN matched &lt;b&gt;null&lt;/b&gt;</td>\n",
       "      <td>DTXSID8026434</td>\n",
       "      <td>DTXCID906434</td>\n",
       "      <td>DSSTox_High</td>\n",
       "      <td>1,2-Dichloro-1,1,2,2-tetrafluoroethane</td>\n",
       "      <td>76-14-2</td>\n",
       "      <td>Single Compound</td>\n",
       "      <td>NaN</td>\n",
       "      <td>FC(F)(Cl)C(F)(F)Cl</td>\n",
       "      <td>InChI=1S/C2Cl2F4/c3-1(5,6)2(4,7)8\\nAuxInfo=1/0...</td>\n",
       "      <td>DDMOUSALMHHKOS-UHFFFAOYSA-N</td>\n",
       "      <td>C2Cl2F4</td>\n",
       "      <td>170.920</td>\n",
       "      <td>FC(F)(Cl)C(F)(F)Cl</td>\n",
       "      <td>20210521.0</td>\n",
       "      <td>TRI_WASTE</td>\n",
       "      <td>NaN</td>\n",
       "      <td>NaN</td>\n",
       "      <td>NaN</td>\n",
       "    </tr>\n",
       "    <tr>\n",
       "      <th>4</th>\n",
       "      <td>2837-89-0</td>\n",
       "      <td>CAS-RN matched &lt;b&gt;null&lt;/b&gt;</td>\n",
       "      <td>DTXSID7029245</td>\n",
       "      <td>DTXCID509245</td>\n",
       "      <td>DSSTox_High</td>\n",
       "      <td>2-Chloro-1,1,1,2-tetrafluoroethane</td>\n",
       "      <td>2837-89-0</td>\n",
       "      <td>Single Compound</td>\n",
       "      <td>NaN</td>\n",
       "      <td>FC(Cl)C(F)(F)F</td>\n",
       "      <td>InChI=1/C2HClF4/c3-1(4)2(5,6)7/h1H\\nAuxInfo=1/...</td>\n",
       "      <td>BOUGCJDAQLKBQH-UHFFFAOYNA-N</td>\n",
       "      <td>C2HClF4</td>\n",
       "      <td>136.470</td>\n",
       "      <td>FC(Cl)C(F)(F)F</td>\n",
       "      <td>20170228.0</td>\n",
       "      <td>TRI_WASTE</td>\n",
       "      <td>NaN</td>\n",
       "      <td>NaN</td>\n",
       "      <td>NaN</td>\n",
       "    </tr>\n",
       "    <tr>\n",
       "      <th>...</th>\n",
       "      <td>...</td>\n",
       "      <td>...</td>\n",
       "      <td>...</td>\n",
       "      <td>...</td>\n",
       "      <td>...</td>\n",
       "      <td>...</td>\n",
       "      <td>...</td>\n",
       "      <td>...</td>\n",
       "      <td>...</td>\n",
       "      <td>...</td>\n",
       "      <td>...</td>\n",
       "      <td>...</td>\n",
       "      <td>...</td>\n",
       "      <td>...</td>\n",
       "      <td>...</td>\n",
       "      <td>...</td>\n",
       "      <td>...</td>\n",
       "      <td>...</td>\n",
       "      <td>...</td>\n",
       "      <td>...</td>\n",
       "    </tr>\n",
       "    <tr>\n",
       "      <th>74</th>\n",
       "      <td>Benzoic acid, 2,3,4,5-tetrachloro-6-[[[3-[[(he...</td>\n",
       "      <td>Name2Structure matched &lt;b&gt;null&lt;/b&gt;</td>\n",
       "      <td>DTXSID80880488</td>\n",
       "      <td>DTXCID201021910</td>\n",
       "      <td>DSSTox_High</td>\n",
       "      <td>Potassium 2,3,4,5-tetrachloro-6-(((3-(((heptad...</td>\n",
       "      <td>57589-85-2</td>\n",
       "      <td>Single Compound</td>\n",
       "      <td>Record was reviewed with Common Chemistry.\\n</td>\n",
       "      <td>[K+].[H]N(C(=O)C1=C(C([O-])=O)C(Cl)=C(Cl)C(Cl)...</td>\n",
       "      <td>InChI=1S/C22H6Cl4F17NO6S.K/c23-9-7(8(14(46)47)...</td>\n",
       "      <td>HZRBKZMKUYGJRU-UHFFFAOYSA-M</td>\n",
       "      <td>C22H5Cl4F17KNO6S</td>\n",
       "      <td>915.210</td>\n",
       "      <td>OC(=O)C1=C(C(=O)NC2=CC(OS(=O)(=O)C(F)(F)C(F)(F...</td>\n",
       "      <td>20220818.0</td>\n",
       "      <td>PROD_DATA</td>\n",
       "      <td>NaN</td>\n",
       "      <td>NaN</td>\n",
       "      <td>NaN</td>\n",
       "    </tr>\n",
       "    <tr>\n",
       "      <th>75</th>\n",
       "      <td>Propanyl fluoride, 2,3,3,3-tetrafluoro-2-(pent...</td>\n",
       "      <td>Not Found</td>\n",
       "      <td>NaN</td>\n",
       "      <td>NaN</td>\n",
       "      <td>NaN</td>\n",
       "      <td>NaN</td>\n",
       "      <td>NaN</td>\n",
       "      <td>NaN</td>\n",
       "      <td>NaN</td>\n",
       "      <td>NaN</td>\n",
       "      <td>NaN</td>\n",
       "      <td>NaN</td>\n",
       "      <td>NaN</td>\n",
       "      <td>NaN</td>\n",
       "      <td>NaN</td>\n",
       "      <td>NaN</td>\n",
       "      <td>PROD_DATA</td>\n",
       "      <td>NaN</td>\n",
       "      <td>NaN</td>\n",
       "      <td>NaN</td>\n",
       "    </tr>\n",
       "    <tr>\n",
       "      <th>76</th>\n",
       "      <td>Ethanesulfonyl fluoride, 2-[1-[difluoro[(trifl...</td>\n",
       "      <td>Valid Synonym matched &lt;b&gt;null&lt;/b&gt;</td>\n",
       "      <td>DTXSID3044596</td>\n",
       "      <td>DTXCID1024596</td>\n",
       "      <td>DSSTox_High</td>\n",
       "      <td>Perfluoro(4-methyl-3,6-dioxaoct-7-ene)sulfonyl...</td>\n",
       "      <td>16090-14-5</td>\n",
       "      <td>Mixture of Stereoisomers</td>\n",
       "      <td>NaN</td>\n",
       "      <td>FC(F)=C(F)OC(F)(F)C(F)(OC(F)(F)C(F)(F)S(F)(=O)...</td>\n",
       "      <td>InChI=1/C7F14O4S/c8-1(9)2(10)24-5(15,16)3(11,4...</td>\n",
       "      <td>KTCQQCLZUOZFEI-UHFFFAOYNA-N</td>\n",
       "      <td>C7F14O4S</td>\n",
       "      <td>446.110</td>\n",
       "      <td>FC(F)=C(F)OC(F)(F)C(F)(OC(F)(F)C(F)(F)S(F)(=O)...</td>\n",
       "      <td>20220815.0</td>\n",
       "      <td>PROD_DATA</td>\n",
       "      <td>NaN</td>\n",
       "      <td>NaN</td>\n",
       "      <td>NaN</td>\n",
       "    </tr>\n",
       "    <tr>\n",
       "      <th>77</th>\n",
       "      <td>Propanoic acid, 3-[1-[difluoro[(trifluoroethen...</td>\n",
       "      <td>Valid Synonym matched &lt;b&gt;null&lt;/b&gt;</td>\n",
       "      <td>DTXSID8044969</td>\n",
       "      <td>DTXCID6024969</td>\n",
       "      <td>DSSTox_High</td>\n",
       "      <td>Methyl perfluoro(3-(1-ethenyloxypropan-2-yloxy...</td>\n",
       "      <td>63863-43-4</td>\n",
       "      <td>Mixture of Stereoisomers</td>\n",
       "      <td>NaN</td>\n",
       "      <td>COC(=O)C(F)(F)C(F)(F)OC(F)(C(F)(F)F)C(F)(F)OC(...</td>\n",
       "      <td>InChI=1/C9H3F13O4/c1-24-4(23)5(13,14)8(19,20)2...</td>\n",
       "      <td>OVAULROCPRKKJF-UHFFFAOYNA-N</td>\n",
       "      <td>C9H3F13O4</td>\n",
       "      <td>422.098</td>\n",
       "      <td>COC(=O)C(F)(F)C(F)(F)OC(F)(C(F)(F)F)C(F)(F)OC(...</td>\n",
       "      <td>20220815.0</td>\n",
       "      <td>PROD_DATA</td>\n",
       "      <td>NaN</td>\n",
       "      <td>NaN</td>\n",
       "      <td>NaN</td>\n",
       "    </tr>\n",
       "    <tr>\n",
       "      <th>78</th>\n",
       "      <td>Propanoic acid, 3-[2-[1,2-difluoro-2-oxo-1-(tr...</td>\n",
       "      <td>Mapped Identifier matched &lt;b&gt;null&lt;/b&gt;</td>\n",
       "      <td>DTXSID90881284</td>\n",
       "      <td>DTXCID301022559</td>\n",
       "      <td>DSSTox_High</td>\n",
       "      <td>Methyl perfluoro(8-(fluoroformyl)-5-methyl-4,7...</td>\n",
       "      <td>69116-73-0</td>\n",
       "      <td>Mixture of Stereoisomers</td>\n",
       "      <td>NaN</td>\n",
       "      <td>COC(=O)C(F)(F)C(F)(F)OC(F)(C(F)(F)F)C(F)(F)OC(...</td>\n",
       "      <td>InChI=1/C10H3F15O5/c1-28-3(27)4(12,13)9(22,23)...</td>\n",
       "      <td>JOMJXRTUQWIHQD-UHFFFAOYNA-N</td>\n",
       "      <td>C10H3F15O5</td>\n",
       "      <td>488.105</td>\n",
       "      <td>COC(=O)C(F)(F)C(F)(F)OC(F)(C(F)(F)F)C(F)(F)OC(...</td>\n",
       "      <td>20211018.0</td>\n",
       "      <td>PROD_DATA</td>\n",
       "      <td>NaN</td>\n",
       "      <td>NaN</td>\n",
       "      <td>NaN</td>\n",
       "    </tr>\n",
       "  </tbody>\n",
       "</table>\n",
       "<p>540 rows × 20 columns</p>\n",
       "</div>"
      ],
      "text/plain": [
       "                                                Query  \\\n",
       "0                                            116-14-3   \n",
       "1                                            375-73-5   \n",
       "2                                          29420-49-3   \n",
       "3                                             76-14-2   \n",
       "4                                           2837-89-0   \n",
       "..                                                ...   \n",
       "74  Benzoic acid, 2,3,4,5-tetrachloro-6-[[[3-[[(he...   \n",
       "75  Propanyl fluoride, 2,3,3,3-tetrafluoro-2-(pent...   \n",
       "76  Ethanesulfonyl fluoride, 2-[1-[difluoro[(trifl...   \n",
       "77  Propanoic acid, 3-[1-[difluoro[(trifluoroethen...   \n",
       "78  Propanoic acid, 3-[2-[1,2-difluoro-2-oxo-1-(tr...   \n",
       "\n",
       "                                 Found_By DSSTox_Substance_Id  \\\n",
       "0              CAS-RN matched <b>null</b>       DTXSID6021325   \n",
       "1              CAS-RN matched <b>null</b>       DTXSID5030030   \n",
       "2              CAS-RN matched <b>null</b>       DTXSID3037707   \n",
       "3              CAS-RN matched <b>null</b>       DTXSID8026434   \n",
       "4              CAS-RN matched <b>null</b>       DTXSID7029245   \n",
       "..                                    ...                 ...   \n",
       "74     Name2Structure matched <b>null</b>      DTXSID80880488   \n",
       "75                              Not Found                 NaN   \n",
       "76      Valid Synonym matched <b>null</b>       DTXSID3044596   \n",
       "77      Valid Synonym matched <b>null</b>       DTXSID8044969   \n",
       "78  Mapped Identifier matched <b>null</b>      DTXSID90881284   \n",
       "\n",
       "   DSSTox_Structure_Id DSSTox_QC-Level  \\\n",
       "0         DTXCID301325     DSSTox_High   \n",
       "1        DTXCID3010030     DSSTox_High   \n",
       "2        DTXCID1017707     DSSTox_High   \n",
       "3         DTXCID906434     DSSTox_High   \n",
       "4         DTXCID509245     DSSTox_High   \n",
       "..                 ...             ...   \n",
       "74     DTXCID201021910     DSSTox_High   \n",
       "75                 NaN             NaN   \n",
       "76       DTXCID1024596     DSSTox_High   \n",
       "77       DTXCID6024969     DSSTox_High   \n",
       "78     DTXCID301022559     DSSTox_High   \n",
       "\n",
       "                                       Substance_Name Substance_CASRN  \\\n",
       "0                                 Tetrafluoroethylene        116-14-3   \n",
       "1                        Perfluorobutanesulfonic acid        375-73-5   \n",
       "2                  Potassium perfluorobutanesulfonate      29420-49-3   \n",
       "3              1,2-Dichloro-1,1,2,2-tetrafluoroethane         76-14-2   \n",
       "4                  2-Chloro-1,1,1,2-tetrafluoroethane       2837-89-0   \n",
       "..                                                ...             ...   \n",
       "74  Potassium 2,3,4,5-tetrachloro-6-(((3-(((heptad...      57589-85-2   \n",
       "75                                                NaN             NaN   \n",
       "76  Perfluoro(4-methyl-3,6-dioxaoct-7-ene)sulfonyl...      16090-14-5   \n",
       "77  Methyl perfluoro(3-(1-ethenyloxypropan-2-yloxy...      63863-43-4   \n",
       "78  Methyl perfluoro(8-(fluoroformyl)-5-methyl-4,7...      69116-73-0   \n",
       "\n",
       "              Substance_Type                                Substance_Note  \\\n",
       "0            Single Compound                                           NaN   \n",
       "1            Single Compound                                           NaN   \n",
       "2            Single Compound    Record was reviewed with Common Chemistry.   \n",
       "3            Single Compound                                           NaN   \n",
       "4            Single Compound                                           NaN   \n",
       "..                       ...                                           ...   \n",
       "74           Single Compound  Record was reviewed with Common Chemistry.\\n   \n",
       "75                       NaN                                           NaN   \n",
       "76  Mixture of Stereoisomers                                           NaN   \n",
       "77  Mixture of Stereoisomers                                           NaN   \n",
       "78  Mixture of Stereoisomers                                           NaN   \n",
       "\n",
       "                                     Structure_SMILES  \\\n",
       "0                                         FC(F)=C(F)F   \n",
       "1             OS(=O)(=O)C(F)(F)C(F)(F)C(F)(F)C(F)(F)F   \n",
       "2     [K+].[O-]S(=O)(=O)C(F)(F)C(F)(F)C(F)(F)C(F)(F)F   \n",
       "3                                  FC(F)(Cl)C(F)(F)Cl   \n",
       "4                                      FC(Cl)C(F)(F)F   \n",
       "..                                                ...   \n",
       "74  [K+].[H]N(C(=O)C1=C(C([O-])=O)C(Cl)=C(Cl)C(Cl)...   \n",
       "75                                                NaN   \n",
       "76  FC(F)=C(F)OC(F)(F)C(F)(OC(F)(F)C(F)(F)S(F)(=O)...   \n",
       "77  COC(=O)C(F)(F)C(F)(F)OC(F)(C(F)(F)F)C(F)(F)OC(...   \n",
       "78  COC(=O)C(F)(F)C(F)(F)OC(F)(C(F)(F)F)C(F)(F)OC(...   \n",
       "\n",
       "                                      Structure_InChI  \\\n",
       "0   InChI=1S/C2F4/c3-1(4)2(5)6\\nAuxInfo=1/0/N:3,4,...   \n",
       "1   InChI=1S/C4HF9O3S/c5-1(6,3(9,10)11)2(7,8)4(12,...   \n",
       "2   InChI=1S/C4HF9O3S.K/c5-1(6,3(9,10)11)2(7,8)4(1...   \n",
       "3   InChI=1S/C2Cl2F4/c3-1(5,6)2(4,7)8\\nAuxInfo=1/0...   \n",
       "4   InChI=1/C2HClF4/c3-1(4)2(5,6)7/h1H\\nAuxInfo=1/...   \n",
       "..                                                ...   \n",
       "74  InChI=1S/C22H6Cl4F17NO6S.K/c23-9-7(8(14(46)47)...   \n",
       "75                                                NaN   \n",
       "76  InChI=1/C7F14O4S/c8-1(9)2(10)24-5(15,16)3(11,4...   \n",
       "77  InChI=1/C9H3F13O4/c1-24-4(23)5(13,14)8(19,20)2...   \n",
       "78  InChI=1/C10H3F15O5/c1-28-3(27)4(12,13)9(22,23)...   \n",
       "\n",
       "             Structure_InChIKey Structure_Formula  Structure_MolWt  \\\n",
       "0   BFKJFAAPBSQJPD-UHFFFAOYSA-N              C2F4          100.016   \n",
       "1   JGTNAGYHADQMCM-UHFFFAOYSA-N          C4HF9O3S          300.090   \n",
       "2   LVTHXRLARFLXNR-UHFFFAOYSA-M          C4F9KO3S          338.180   \n",
       "3   DDMOUSALMHHKOS-UHFFFAOYSA-N           C2Cl2F4          170.920   \n",
       "4   BOUGCJDAQLKBQH-UHFFFAOYNA-N           C2HClF4          136.470   \n",
       "..                          ...               ...              ...   \n",
       "74  HZRBKZMKUYGJRU-UHFFFAOYSA-M  C22H5Cl4F17KNO6S          915.210   \n",
       "75                          NaN               NaN              NaN   \n",
       "76  KTCQQCLZUOZFEI-UHFFFAOYNA-N          C7F14O4S          446.110   \n",
       "77  OVAULROCPRKKJF-UHFFFAOYNA-N         C9H3F13O4          422.098   \n",
       "78  JOMJXRTUQWIHQD-UHFFFAOYNA-N        C10H3F15O5          488.105   \n",
       "\n",
       "                             Structure_SMILES_2D-QSAR  DateModified  \\\n",
       "0                                         FC(F)=C(F)F    20230320.0   \n",
       "1             OS(=O)(=O)C(F)(F)C(F)(F)C(F)(F)C(F)(F)F    20230721.0   \n",
       "2             OS(=O)(=O)C(F)(F)C(F)(F)C(F)(F)C(F)(F)F    20231115.0   \n",
       "3                                  FC(F)(Cl)C(F)(F)Cl    20210521.0   \n",
       "4                                      FC(Cl)C(F)(F)F    20170228.0   \n",
       "..                                                ...           ...   \n",
       "74  OC(=O)C1=C(C(=O)NC2=CC(OS(=O)(=O)C(F)(F)C(F)(F...    20220818.0   \n",
       "75                                                NaN           NaN   \n",
       "76  FC(F)=C(F)OC(F)(F)C(F)(OC(F)(F)C(F)(F)S(F)(=O)...    20220815.0   \n",
       "77  COC(=O)C(F)(F)C(F)(F)OC(F)(C(F)(F)F)C(F)(F)OC(...    20220815.0   \n",
       "78  COC(=O)C(F)(F)C(F)(F)OC(F)(C(F)(F)F)C(F)(F)OC(...    20211018.0   \n",
       "\n",
       "       source FOUND_BY IUPAC_NAME Unnamed: 7  \n",
       "0   TRI_WASTE      NaN        NaN        NaN  \n",
       "1   TRI_WASTE      NaN        NaN        NaN  \n",
       "2   TRI_WASTE      NaN        NaN        NaN  \n",
       "3   TRI_WASTE      NaN        NaN        NaN  \n",
       "4   TRI_WASTE      NaN        NaN        NaN  \n",
       "..        ...      ...        ...        ...  \n",
       "74  PROD_DATA      NaN        NaN        NaN  \n",
       "75  PROD_DATA      NaN        NaN        NaN  \n",
       "76  PROD_DATA      NaN        NaN        NaN  \n",
       "77  PROD_DATA      NaN        NaN        NaN  \n",
       "78  PROD_DATA      NaN        NaN        NaN  \n",
       "\n",
       "[540 rows x 20 columns]"
      ]
     },
     "execution_count": 144,
     "metadata": {},
     "output_type": "execute_result"
    }
   ],
   "source": [
    "lists"
   ]
  },
  {
   "cell_type": "code",
   "execution_count": 145,
   "id": "a2c9c0d3-25da-4e12-b8f5-266928e2f3f4",
   "metadata": {},
   "outputs": [],
   "source": [
    "lists = lists[['DSSTox_Substance_Id','Substance_Name', 'Substance_CASRN', 'Structure_SMILES','source']]"
   ]
  },
  {
   "cell_type": "code",
   "execution_count": 146,
   "id": "1190224a-a1b7-455f-9f11-dd47bc51c6c2",
   "metadata": {},
   "outputs": [],
   "source": [
    "lists = lists.dropna()"
   ]
  },
  {
   "cell_type": "code",
   "execution_count": 148,
   "id": "06d6c797-72ab-4869-8035-7b6ce12d6e0a",
   "metadata": {},
   "outputs": [
    {
     "data": {
      "text/plain": [
       "(448, 5)"
      ]
     },
     "execution_count": 148,
     "metadata": {},
     "output_type": "execute_result"
    }
   ],
   "source": [
    "lists.shape"
   ]
  },
  {
   "cell_type": "code",
   "execution_count": 149,
   "id": "97ef55b1-3756-4f23-bfaa-6c8639ba6594",
   "metadata": {},
   "outputs": [
    {
     "data": {
      "text/plain": [
       "198"
      ]
     },
     "execution_count": 149,
     "metadata": {},
     "output_type": "execute_result"
    }
   ],
   "source": [
    "lists.DSSTox_Substance_Id.nunique()"
   ]
  },
  {
   "cell_type": "code",
   "execution_count": 150,
   "id": "818f0980-4a2f-4209-b850-efdfeb354dd4",
   "metadata": {},
   "outputs": [
    {
     "data": {
      "text/html": [
       "<div>\n",
       "<style scoped>\n",
       "    .dataframe tbody tr th:only-of-type {\n",
       "        vertical-align: middle;\n",
       "    }\n",
       "\n",
       "    .dataframe tbody tr th {\n",
       "        vertical-align: top;\n",
       "    }\n",
       "\n",
       "    .dataframe thead th {\n",
       "        text-align: right;\n",
       "    }\n",
       "</style>\n",
       "<table border=\"1\" class=\"dataframe\">\n",
       "  <thead>\n",
       "    <tr style=\"text-align: right;\">\n",
       "      <th></th>\n",
       "      <th>DSSTox_Substance_Id</th>\n",
       "      <th>Substance_Name</th>\n",
       "      <th>Substance_CASRN</th>\n",
       "      <th>Structure_SMILES</th>\n",
       "      <th>source</th>\n",
       "    </tr>\n",
       "  </thead>\n",
       "  <tbody>\n",
       "    <tr>\n",
       "      <th>0</th>\n",
       "      <td>DTXSID6021325</td>\n",
       "      <td>Tetrafluoroethylene</td>\n",
       "      <td>116-14-3</td>\n",
       "      <td>FC(F)=C(F)F</td>\n",
       "      <td>TRI_WASTE</td>\n",
       "    </tr>\n",
       "    <tr>\n",
       "      <th>1</th>\n",
       "      <td>DTXSID5030030</td>\n",
       "      <td>Perfluorobutanesulfonic acid</td>\n",
       "      <td>375-73-5</td>\n",
       "      <td>OS(=O)(=O)C(F)(F)C(F)(F)C(F)(F)C(F)(F)F</td>\n",
       "      <td>TRI_WASTE</td>\n",
       "    </tr>\n",
       "    <tr>\n",
       "      <th>2</th>\n",
       "      <td>DTXSID3037707</td>\n",
       "      <td>Potassium perfluorobutanesulfonate</td>\n",
       "      <td>29420-49-3</td>\n",
       "      <td>[K+].[O-]S(=O)(=O)C(F)(F)C(F)(F)C(F)(F)C(F)(F)F</td>\n",
       "      <td>TRI_WASTE</td>\n",
       "    </tr>\n",
       "    <tr>\n",
       "      <th>3</th>\n",
       "      <td>DTXSID8026434</td>\n",
       "      <td>1,2-Dichloro-1,1,2,2-tetrafluoroethane</td>\n",
       "      <td>76-14-2</td>\n",
       "      <td>FC(F)(Cl)C(F)(F)Cl</td>\n",
       "      <td>TRI_WASTE</td>\n",
       "    </tr>\n",
       "    <tr>\n",
       "      <th>4</th>\n",
       "      <td>DTXSID7029245</td>\n",
       "      <td>2-Chloro-1,1,1,2-tetrafluoroethane</td>\n",
       "      <td>2837-89-0</td>\n",
       "      <td>FC(Cl)C(F)(F)F</td>\n",
       "      <td>TRI_WASTE</td>\n",
       "    </tr>\n",
       "    <tr>\n",
       "      <th>...</th>\n",
       "      <td>...</td>\n",
       "      <td>...</td>\n",
       "      <td>...</td>\n",
       "      <td>...</td>\n",
       "      <td>...</td>\n",
       "    </tr>\n",
       "    <tr>\n",
       "      <th>72</th>\n",
       "      <td>DTXSID6042028</td>\n",
       "      <td>1,3-Dichloro-1,1,2,2,3-pentafluoropropane</td>\n",
       "      <td>507-55-1</td>\n",
       "      <td>FC(Cl)C(F)(F)C(F)(F)Cl</td>\n",
       "      <td>PROD_DATA</td>\n",
       "    </tr>\n",
       "    <tr>\n",
       "      <th>74</th>\n",
       "      <td>DTXSID80880488</td>\n",
       "      <td>Potassium 2,3,4,5-tetrachloro-6-(((3-(((heptad...</td>\n",
       "      <td>57589-85-2</td>\n",
       "      <td>[K+].[H]N(C(=O)C1=C(C([O-])=O)C(Cl)=C(Cl)C(Cl)...</td>\n",
       "      <td>PROD_DATA</td>\n",
       "    </tr>\n",
       "    <tr>\n",
       "      <th>76</th>\n",
       "      <td>DTXSID3044596</td>\n",
       "      <td>Perfluoro(4-methyl-3,6-dioxaoct-7-ene)sulfonyl...</td>\n",
       "      <td>16090-14-5</td>\n",
       "      <td>FC(F)=C(F)OC(F)(F)C(F)(OC(F)(F)C(F)(F)S(F)(=O)...</td>\n",
       "      <td>PROD_DATA</td>\n",
       "    </tr>\n",
       "    <tr>\n",
       "      <th>77</th>\n",
       "      <td>DTXSID8044969</td>\n",
       "      <td>Methyl perfluoro(3-(1-ethenyloxypropan-2-yloxy...</td>\n",
       "      <td>63863-43-4</td>\n",
       "      <td>COC(=O)C(F)(F)C(F)(F)OC(F)(C(F)(F)F)C(F)(F)OC(...</td>\n",
       "      <td>PROD_DATA</td>\n",
       "    </tr>\n",
       "    <tr>\n",
       "      <th>78</th>\n",
       "      <td>DTXSID90881284</td>\n",
       "      <td>Methyl perfluoro(8-(fluoroformyl)-5-methyl-4,7...</td>\n",
       "      <td>69116-73-0</td>\n",
       "      <td>COC(=O)C(F)(F)C(F)(F)OC(F)(C(F)(F)F)C(F)(F)OC(...</td>\n",
       "      <td>PROD_DATA</td>\n",
       "    </tr>\n",
       "  </tbody>\n",
       "</table>\n",
       "<p>448 rows × 5 columns</p>\n",
       "</div>"
      ],
      "text/plain": [
       "   DSSTox_Substance_Id                                     Substance_Name  \\\n",
       "0        DTXSID6021325                                Tetrafluoroethylene   \n",
       "1        DTXSID5030030                       Perfluorobutanesulfonic acid   \n",
       "2        DTXSID3037707                 Potassium perfluorobutanesulfonate   \n",
       "3        DTXSID8026434             1,2-Dichloro-1,1,2,2-tetrafluoroethane   \n",
       "4        DTXSID7029245                 2-Chloro-1,1,1,2-tetrafluoroethane   \n",
       "..                 ...                                                ...   \n",
       "72       DTXSID6042028          1,3-Dichloro-1,1,2,2,3-pentafluoropropane   \n",
       "74      DTXSID80880488  Potassium 2,3,4,5-tetrachloro-6-(((3-(((heptad...   \n",
       "76       DTXSID3044596  Perfluoro(4-methyl-3,6-dioxaoct-7-ene)sulfonyl...   \n",
       "77       DTXSID8044969  Methyl perfluoro(3-(1-ethenyloxypropan-2-yloxy...   \n",
       "78      DTXSID90881284  Methyl perfluoro(8-(fluoroformyl)-5-methyl-4,7...   \n",
       "\n",
       "   Substance_CASRN                                   Structure_SMILES  \\\n",
       "0         116-14-3                                        FC(F)=C(F)F   \n",
       "1         375-73-5            OS(=O)(=O)C(F)(F)C(F)(F)C(F)(F)C(F)(F)F   \n",
       "2       29420-49-3    [K+].[O-]S(=O)(=O)C(F)(F)C(F)(F)C(F)(F)C(F)(F)F   \n",
       "3          76-14-2                                 FC(F)(Cl)C(F)(F)Cl   \n",
       "4        2837-89-0                                     FC(Cl)C(F)(F)F   \n",
       "..             ...                                                ...   \n",
       "72        507-55-1                             FC(Cl)C(F)(F)C(F)(F)Cl   \n",
       "74      57589-85-2  [K+].[H]N(C(=O)C1=C(C([O-])=O)C(Cl)=C(Cl)C(Cl)...   \n",
       "76      16090-14-5  FC(F)=C(F)OC(F)(F)C(F)(OC(F)(F)C(F)(F)S(F)(=O)...   \n",
       "77      63863-43-4  COC(=O)C(F)(F)C(F)(F)OC(F)(C(F)(F)F)C(F)(F)OC(...   \n",
       "78      69116-73-0  COC(=O)C(F)(F)C(F)(F)OC(F)(C(F)(F)F)C(F)(F)OC(...   \n",
       "\n",
       "       source  \n",
       "0   TRI_WASTE  \n",
       "1   TRI_WASTE  \n",
       "2   TRI_WASTE  \n",
       "3   TRI_WASTE  \n",
       "4   TRI_WASTE  \n",
       "..        ...  \n",
       "72  PROD_DATA  \n",
       "74  PROD_DATA  \n",
       "76  PROD_DATA  \n",
       "77  PROD_DATA  \n",
       "78  PROD_DATA  \n",
       "\n",
       "[448 rows x 5 columns]"
      ]
     },
     "execution_count": 150,
     "metadata": {},
     "output_type": "execute_result"
    }
   ],
   "source": [
    "lists"
   ]
  },
  {
   "cell_type": "code",
   "execution_count": 151,
   "id": "dc00eef9-77c7-4583-ab40-703f844591c7",
   "metadata": {},
   "outputs": [],
   "source": [
    "lists.columns = ['DTXSID', 'PREFERRED NAME', 'CASRN','SMILES','source']"
   ]
  },
  {
   "cell_type": "code",
   "execution_count": 152,
   "id": "d641ccde-9253-446a-87c8-2f3ea072e491",
   "metadata": {},
   "outputs": [
    {
     "data": {
      "text/plain": [
       "array(['TRI_WASTE', 'TRI-ONSITE', 'DRINKING_WATER', 'DISCHARGE',\n",
       "       'TRI-OFFSITE', 'ENV_MEDIA', 'DRINKING_WATER-UCMR', 'PROD_DATA'],\n",
       "      dtype=object)"
      ]
     },
     "execution_count": 152,
     "metadata": {},
     "output_type": "execute_result"
    }
   ],
   "source": [
    "lists.source.unique()"
   ]
  },
  {
   "cell_type": "code",
   "execution_count": 153,
   "id": "ce7ad9a8-b651-46bc-a34f-524bc00fc95f",
   "metadata": {},
   "outputs": [],
   "source": [
    "analytes = pd.read_excel(external_dir+'PFAS with Validated Analytical Methods 533 and 537.xlsx')"
   ]
  },
  {
   "cell_type": "code",
   "execution_count": 154,
   "id": "3942b3cc-2eb4-4b29-9825-8d7d52ac80e3",
   "metadata": {},
   "outputs": [],
   "source": [
    "analytes['source'] = 'ANALYTICAL_MTHDS'"
   ]
  },
  {
   "cell_type": "code",
   "execution_count": 155,
   "id": "8aed2313-f332-4f24-8b11-38600a501d32",
   "metadata": {},
   "outputs": [],
   "source": [
    "analytes = analytes[['DTXSID', 'PREFERRED NAME', 'CASRN','SMILES','source']]"
   ]
  },
  {
   "cell_type": "code",
   "execution_count": 156,
   "id": "9ca11dbc-82b2-4e68-af0e-805aa068c6a6",
   "metadata": {},
   "outputs": [],
   "source": [
    "analytes.columns = ['DTXSID', 'PREFERRED_NAME', 'CASRN', 'SMILES', 'source']"
   ]
  },
  {
   "cell_type": "code",
   "execution_count": 157,
   "id": "64ecaa2b-1f78-481a-aa4e-36b2fb63fc86",
   "metadata": {},
   "outputs": [],
   "source": [
    "lists = pd.concat([lists,  analytes])"
   ]
  },
  {
   "cell_type": "code",
   "execution_count": 158,
   "id": "6c703cfd-c38d-4e76-817e-ef07e9e2006a",
   "metadata": {},
   "outputs": [],
   "source": [
    "priority_lists = lists.groupby(['DTXSID', 'source']).size().reset_index().pivot_table(index = 'DTXSID', columns = 'source', values = 0)"
   ]
  },
  {
   "cell_type": "code",
   "execution_count": 159,
   "id": "d30d9d56-770c-41d3-9716-5d24a6a0d942",
   "metadata": {},
   "outputs": [],
   "source": [
    "priority_lists = priority_lists.applymap(lambda x: 1 if pd.notnull([x]) else np.nan )"
   ]
  },
  {
   "cell_type": "code",
   "execution_count": 160,
   "id": "e0d38c4c-af47-4d95-a864-8be6b4ca6797",
   "metadata": {},
   "outputs": [],
   "source": [
    "universe = pd.merge(df, iv_tox_v1, left_on = 'dtxsid', right_on = iv_tox.index, how = 'left')"
   ]
  },
  {
   "cell_type": "code",
   "execution_count": 161,
   "id": "4d9f0910-18f0-48ab-ace6-04f65c29d5bc",
   "metadata": {},
   "outputs": [],
   "source": [
    "priority_lists = priority_lists.reset_index()"
   ]
  },
  {
   "cell_type": "code",
   "execution_count": 162,
   "id": "df992096-7845-4cf6-aaff-a5647edc188c",
   "metadata": {},
   "outputs": [],
   "source": [
    "\n",
    "priority_lists.rename(columns = {'DTXSID': 'dtxsid'}, inplace = True)\n"
   ]
  },
  {
   "cell_type": "code",
   "execution_count": 163,
   "id": "63775641-d8b4-49fd-853a-b0857efc0d1f",
   "metadata": {},
   "outputs": [
    {
     "data": {
      "text/plain": [
       "(15525, 180)"
      ]
     },
     "execution_count": 163,
     "metadata": {},
     "output_type": "execute_result"
    }
   ],
   "source": [
    "universe.shape"
   ]
  },
  {
   "cell_type": "code",
   "execution_count": 164,
   "id": "aef7727b-78e4-4529-b800-de922a670683",
   "metadata": {},
   "outputs": [],
   "source": [
    "universe1 =  pd.merge(universe, priority_lists, on = 'dtxsid',  how = 'left')"
   ]
  },
  {
   "cell_type": "code",
   "execution_count": 165,
   "id": "e3cfb61e-36dc-4532-9a86-4610cc3984e0",
   "metadata": {},
   "outputs": [
    {
     "data": {
      "text/plain": [
       "(15525, 189)"
      ]
     },
     "execution_count": 165,
     "metadata": {},
     "output_type": "execute_result"
    }
   ],
   "source": [
    "universe1.shape"
   ]
  },
  {
   "cell_type": "code",
   "execution_count": 166,
   "id": "70ebcf23-3f54-4a20-886d-77a68f4e07f4",
   "metadata": {},
   "outputs": [
    {
     "data": {
      "text/html": [
       "<div>\n",
       "<style scoped>\n",
       "    .dataframe tbody tr th:only-of-type {\n",
       "        vertical-align: middle;\n",
       "    }\n",
       "\n",
       "    .dataframe tbody tr th {\n",
       "        vertical-align: top;\n",
       "    }\n",
       "\n",
       "    .dataframe thead th {\n",
       "        text-align: right;\n",
       "    }\n",
       "</style>\n",
       "<table border=\"1\" class=\"dataframe\">\n",
       "  <thead>\n",
       "    <tr style=\"text-align: right;\">\n",
       "      <th></th>\n",
       "      <th>dtxsid</th>\n",
       "      <th>DSSTox_QC-Level</th>\n",
       "      <th>Substance_Name</th>\n",
       "      <th>Substance_CASRN</th>\n",
       "      <th>Substance_Type</th>\n",
       "      <th>Substance_Note</th>\n",
       "      <th>smiles</th>\n",
       "      <th>Structure_InChI</th>\n",
       "      <th>Structure_InChIKey</th>\n",
       "      <th>Structure_Formula</th>\n",
       "      <th>...</th>\n",
       "      <th>subchronic</th>\n",
       "      <th>ANALYTICAL_MTHDS</th>\n",
       "      <th>DISCHARGE</th>\n",
       "      <th>DRINKING_WATER</th>\n",
       "      <th>DRINKING_WATER-UCMR</th>\n",
       "      <th>ENV_MEDIA</th>\n",
       "      <th>PROD_DATA</th>\n",
       "      <th>TRI-OFFSITE</th>\n",
       "      <th>TRI-ONSITE</th>\n",
       "      <th>TRI_WASTE</th>\n",
       "    </tr>\n",
       "  </thead>\n",
       "  <tbody>\n",
       "    <tr>\n",
       "      <th>0</th>\n",
       "      <td>IROQAHVXXUQBOS-UHFFFAOYSA-N</td>\n",
       "      <td>NaN</td>\n",
       "      <td>NaN</td>\n",
       "      <td>NaN</td>\n",
       "      <td>NaN</td>\n",
       "      <td>NaN</td>\n",
       "      <td>CCCN(CCNC(=O)c1ccc(Cc2ccc(C(O)=O)cc2)cc1)S(=O)...</td>\n",
       "      <td>NaN</td>\n",
       "      <td>NaN</td>\n",
       "      <td>NaN</td>\n",
       "      <td>...</td>\n",
       "      <td>NaN</td>\n",
       "      <td>NaN</td>\n",
       "      <td>NaN</td>\n",
       "      <td>NaN</td>\n",
       "      <td>NaN</td>\n",
       "      <td>NaN</td>\n",
       "      <td>NaN</td>\n",
       "      <td>NaN</td>\n",
       "      <td>NaN</td>\n",
       "      <td>NaN</td>\n",
       "    </tr>\n",
       "    <tr>\n",
       "      <th>1</th>\n",
       "      <td>DTXSID90897582</td>\n",
       "      <td>DSSTox_High</td>\n",
       "      <td>4-(Perfluorononyl)oxybenzenesulfonate sodium</td>\n",
       "      <td>91998-13-9</td>\n",
       "      <td>Single Compound</td>\n",
       "      <td>NaN</td>\n",
       "      <td>[Na+].[O-]S(=O)(=O)C1=CC=C(OC(F)(F)C(F)(F)C(F)...</td>\n",
       "      <td>InChI=1S/C15H5F19O4S.Na/c16-7(17,8(18,19)10(22...</td>\n",
       "      <td>WEKFOCTWTWPVEG-UHFFFAOYSA-M</td>\n",
       "      <td>C15H4F19NaO4S</td>\n",
       "      <td>...</td>\n",
       "      <td>NaN</td>\n",
       "      <td>NaN</td>\n",
       "      <td>NaN</td>\n",
       "      <td>NaN</td>\n",
       "      <td>NaN</td>\n",
       "      <td>NaN</td>\n",
       "      <td>NaN</td>\n",
       "      <td>NaN</td>\n",
       "      <td>NaN</td>\n",
       "      <td>NaN</td>\n",
       "    </tr>\n",
       "    <tr>\n",
       "      <th>2</th>\n",
       "      <td>DTXSID90896257</td>\n",
       "      <td>Public_Low</td>\n",
       "      <td>(2S)-2-{Bis[4-(heptadecafluorooctyl)phenyl][(t...</td>\n",
       "      <td>914391-37-0</td>\n",
       "      <td>Single Compound</td>\n",
       "      <td>NaN</td>\n",
       "      <td>CC[Si](CC)(CC)OC([C@@H]1CCCN1)(C1=CC=C(C=C1)C(...</td>\n",
       "      <td>InChI=1S/C39H31F34NOSi/c1-4-76(5-2,6-3)75-23(2...</td>\n",
       "      <td>PARYPNCCAOUHML-QFIPXVFZSA-N</td>\n",
       "      <td>C39H31F34NOSi</td>\n",
       "      <td>...</td>\n",
       "      <td>NaN</td>\n",
       "      <td>NaN</td>\n",
       "      <td>NaN</td>\n",
       "      <td>NaN</td>\n",
       "      <td>NaN</td>\n",
       "      <td>NaN</td>\n",
       "      <td>NaN</td>\n",
       "      <td>NaN</td>\n",
       "      <td>NaN</td>\n",
       "      <td>NaN</td>\n",
       "    </tr>\n",
       "    <tr>\n",
       "      <th>3</th>\n",
       "      <td>DTXSID90896196</td>\n",
       "      <td>Public_Low</td>\n",
       "      <td>2,2,3,3,4,4,5,5,6,6,7,7,8,8,9,9,9-Heptadecaflu...</td>\n",
       "      <td>157584-47-9</td>\n",
       "      <td>Single Compound</td>\n",
       "      <td>NaN</td>\n",
       "      <td>FC(F)(F)C(F)(F)C(F)(F)C(F)(F)C(F)(F)C(F)(F)C(F...</td>\n",
       "      <td>InChI=1S/C21H10F17NO/c22-14(23,13(40)39(11-7-3...</td>\n",
       "      <td>IDJHICNQDCLWAB-UHFFFAOYSA-N</td>\n",
       "      <td>C21H10F17NO</td>\n",
       "      <td>...</td>\n",
       "      <td>NaN</td>\n",
       "      <td>NaN</td>\n",
       "      <td>NaN</td>\n",
       "      <td>NaN</td>\n",
       "      <td>NaN</td>\n",
       "      <td>NaN</td>\n",
       "      <td>NaN</td>\n",
       "      <td>NaN</td>\n",
       "      <td>NaN</td>\n",
       "      <td>NaN</td>\n",
       "    </tr>\n",
       "    <tr>\n",
       "      <th>4</th>\n",
       "      <td>DTXSID90896095</td>\n",
       "      <td>Public_Low</td>\n",
       "      <td>3,3,4,4,5,5,6,6,7,7,8,8,9,9,10,10,10-Heptadeca...</td>\n",
       "      <td>113823-56-6</td>\n",
       "      <td>Single Compound</td>\n",
       "      <td>NaN</td>\n",
       "      <td>CC1=CC=C(C=C1)S(=O)(=O)OCCC(F)(F)C(F)(F)C(F)(F...</td>\n",
       "      <td>InChI=1S/C17H11F17O3S/c1-8-2-4-9(5-3-8)38(35,3...</td>\n",
       "      <td>WGCSEECKLMOBLT-UHFFFAOYSA-N</td>\n",
       "      <td>C17H11F17O3S</td>\n",
       "      <td>...</td>\n",
       "      <td>NaN</td>\n",
       "      <td>NaN</td>\n",
       "      <td>NaN</td>\n",
       "      <td>NaN</td>\n",
       "      <td>NaN</td>\n",
       "      <td>NaN</td>\n",
       "      <td>NaN</td>\n",
       "      <td>NaN</td>\n",
       "      <td>NaN</td>\n",
       "      <td>NaN</td>\n",
       "    </tr>\n",
       "  </tbody>\n",
       "</table>\n",
       "<p>5 rows × 189 columns</p>\n",
       "</div>"
      ],
      "text/plain": [
       "                        dtxsid DSSTox_QC-Level  \\\n",
       "0  IROQAHVXXUQBOS-UHFFFAOYSA-N             NaN   \n",
       "1               DTXSID90897582     DSSTox_High   \n",
       "2               DTXSID90896257      Public_Low   \n",
       "3               DTXSID90896196      Public_Low   \n",
       "4               DTXSID90896095      Public_Low   \n",
       "\n",
       "                                      Substance_Name Substance_CASRN  \\\n",
       "0                                                NaN             NaN   \n",
       "1       4-(Perfluorononyl)oxybenzenesulfonate sodium      91998-13-9   \n",
       "2  (2S)-2-{Bis[4-(heptadecafluorooctyl)phenyl][(t...     914391-37-0   \n",
       "3  2,2,3,3,4,4,5,5,6,6,7,7,8,8,9,9,9-Heptadecaflu...     157584-47-9   \n",
       "4  3,3,4,4,5,5,6,6,7,7,8,8,9,9,10,10,10-Heptadeca...     113823-56-6   \n",
       "\n",
       "    Substance_Type Substance_Note  \\\n",
       "0              NaN            NaN   \n",
       "1  Single Compound            NaN   \n",
       "2  Single Compound            NaN   \n",
       "3  Single Compound            NaN   \n",
       "4  Single Compound            NaN   \n",
       "\n",
       "                                              smiles  \\\n",
       "0  CCCN(CCNC(=O)c1ccc(Cc2ccc(C(O)=O)cc2)cc1)S(=O)...   \n",
       "1  [Na+].[O-]S(=O)(=O)C1=CC=C(OC(F)(F)C(F)(F)C(F)...   \n",
       "2  CC[Si](CC)(CC)OC([C@@H]1CCCN1)(C1=CC=C(C=C1)C(...   \n",
       "3  FC(F)(F)C(F)(F)C(F)(F)C(F)(F)C(F)(F)C(F)(F)C(F...   \n",
       "4  CC1=CC=C(C=C1)S(=O)(=O)OCCC(F)(F)C(F)(F)C(F)(F...   \n",
       "\n",
       "                                     Structure_InChI  \\\n",
       "0                                                NaN   \n",
       "1  InChI=1S/C15H5F19O4S.Na/c16-7(17,8(18,19)10(22...   \n",
       "2  InChI=1S/C39H31F34NOSi/c1-4-76(5-2,6-3)75-23(2...   \n",
       "3  InChI=1S/C21H10F17NO/c22-14(23,13(40)39(11-7-3...   \n",
       "4  InChI=1S/C17H11F17O3S/c1-8-2-4-9(5-3-8)38(35,3...   \n",
       "\n",
       "            Structure_InChIKey Structure_Formula  ...  subchronic  \\\n",
       "0                          NaN               NaN  ...         NaN   \n",
       "1  WEKFOCTWTWPVEG-UHFFFAOYSA-M     C15H4F19NaO4S  ...         NaN   \n",
       "2  PARYPNCCAOUHML-QFIPXVFZSA-N     C39H31F34NOSi  ...         NaN   \n",
       "3  IDJHICNQDCLWAB-UHFFFAOYSA-N       C21H10F17NO  ...         NaN   \n",
       "4  WGCSEECKLMOBLT-UHFFFAOYSA-N      C17H11F17O3S  ...         NaN   \n",
       "\n",
       "  ANALYTICAL_MTHDS DISCHARGE DRINKING_WATER DRINKING_WATER-UCMR ENV_MEDIA  \\\n",
       "0              NaN       NaN            NaN                 NaN       NaN   \n",
       "1              NaN       NaN            NaN                 NaN       NaN   \n",
       "2              NaN       NaN            NaN                 NaN       NaN   \n",
       "3              NaN       NaN            NaN                 NaN       NaN   \n",
       "4              NaN       NaN            NaN                 NaN       NaN   \n",
       "\n",
       "   PROD_DATA TRI-OFFSITE TRI-ONSITE TRI_WASTE  \n",
       "0        NaN         NaN        NaN       NaN  \n",
       "1        NaN         NaN        NaN       NaN  \n",
       "2        NaN         NaN        NaN       NaN  \n",
       "3        NaN         NaN        NaN       NaN  \n",
       "4        NaN         NaN        NaN       NaN  \n",
       "\n",
       "[5 rows x 189 columns]"
      ]
     },
     "execution_count": 166,
     "metadata": {},
     "output_type": "execute_result"
    }
   ],
   "source": [
    "universe1.head()"
   ]
  },
  {
   "cell_type": "code",
   "execution_count": 167,
   "id": "7daa3785-a557-4e23-aa96-b787b0722e02",
   "metadata": {},
   "outputs": [],
   "source": [
    "pubmed = pd.read_csv(interim_dir+'pubmed_counts_110524.csv', index_col = [0])"
   ]
  },
  {
   "cell_type": "code",
   "execution_count": 168,
   "id": "3e3b9b19-3bf5-4c77-b96a-12167331578f",
   "metadata": {},
   "outputs": [
    {
     "name": "stdout",
     "output_type": "stream",
     "text": [
      "<class 'pandas.core.frame.DataFrame'>\n",
      "Int64Index: 13041 entries, 0 to 13040\n",
      "Data columns (total 3 columns):\n",
      " #   Column         Non-Null Count  Dtype \n",
      "---  ------         --------------  ----- \n",
      " 0   dtxsid         13041 non-null  object\n",
      " 1   article_count  13041 non-null  int64 \n",
      " 2   Pubmed         13041 non-null  int64 \n",
      "dtypes: int64(2), object(1)\n",
      "memory usage: 407.5+ KB\n"
     ]
    }
   ],
   "source": [
    "pubmed.info()"
   ]
  },
  {
   "cell_type": "code",
   "execution_count": 169,
   "id": "db879eab-953a-4d5c-9eb3-c3ed9b61ca95",
   "metadata": {},
   "outputs": [
    {
     "data": {
      "text/plain": [
       "0    8344\n",
       "1    4697\n",
       "Name: Pubmed, dtype: int64"
      ]
     },
     "execution_count": 169,
     "metadata": {},
     "output_type": "execute_result"
    }
   ],
   "source": [
    "pubmed['Pubmed'].value_counts()"
   ]
  },
  {
   "cell_type": "code",
   "execution_count": 170,
   "id": "e1761420-25e0-4002-8257-2704502595fb",
   "metadata": {},
   "outputs": [],
   "source": [
    "pubmed.columns = ['dtxsid', 'article_count', 'pubmed_avail']"
   ]
  },
  {
   "cell_type": "code",
   "execution_count": 171,
   "id": "9ef657a6-b166-4343-a376-2d18ca414609",
   "metadata": {},
   "outputs": [
    {
     "data": {
      "text/plain": [
       "0    8344\n",
       "1    4697\n",
       "Name: pubmed_avail, dtype: int64"
      ]
     },
     "execution_count": 171,
     "metadata": {},
     "output_type": "execute_result"
    }
   ],
   "source": [
    "pubmed['pubmed_avail'].value_counts()"
   ]
  },
  {
   "cell_type": "code",
   "execution_count": 172,
   "id": "1c29248b-d232-48b3-a2e9-9c1e5df101a0",
   "metadata": {},
   "outputs": [],
   "source": [
    "universe2 = pd.merge(universe1, pubmed[['dtxsid', 'pubmed_avail']], on = 'dtxsid',  how = 'left')"
   ]
  },
  {
   "cell_type": "code",
   "execution_count": 173,
   "id": "4c89d1b7-c531-4cd3-ba6a-b13c85e07f98",
   "metadata": {},
   "outputs": [
    {
     "data": {
      "text/plain": [
       "(15525, 190)"
      ]
     },
     "execution_count": 173,
     "metadata": {},
     "output_type": "execute_result"
    }
   ],
   "source": [
    "universe2.shape"
   ]
  },
  {
   "cell_type": "code",
   "execution_count": 174,
   "id": "c109df26-659f-461d-af8d-2a2658006a70",
   "metadata": {},
   "outputs": [],
   "source": [
    "writer = pd.ExcelWriter(interim_dir+'final_updated_universe_130524.xlsx', engine='xlsxwriter')\n",
    "\n",
    "# Convert the dataframe to an XlsxWriter Excel object.\n",
    "\n",
    "universe2.to_excel(writer)\n",
    "\n",
    "writer.close()"
   ]
  },
  {
   "cell_type": "code",
   "execution_count": 175,
   "id": "f24880bd-4875-438b-a1ca-a45563be70a5",
   "metadata": {},
   "outputs": [
    {
     "data": {
      "text/plain": [
       "array(['unclassified', 'inactive', 'active'], dtype=object)"
      ]
     },
     "execution_count": 175,
     "metadata": {},
     "output_type": "execute_result"
    }
   ],
   "source": [
    "universe2.TSCA_STATUS.unique()"
   ]
  },
  {
   "cell_type": "code",
   "execution_count": 176,
   "id": "b9c78ad4-9ff1-4870-a2b6-1b9de2e15889",
   "metadata": {},
   "outputs": [
    {
     "data": {
      "text/plain": [
       "['dtxsid',\n",
       " 'DSSTox_QC-Level',\n",
       " 'Substance_Name',\n",
       " 'Substance_CASRN',\n",
       " 'Substance_Type',\n",
       " 'Substance_Note',\n",
       " 'smiles',\n",
       " 'Structure_InChI',\n",
       " 'Structure_InChIKey',\n",
       " 'Structure_Formula',\n",
       " 'Structure_MolWt',\n",
       " 'Structure_SMILES_2D-QSAR',\n",
       " 'TSCA_STATUS',\n",
       " 'First_Class',\n",
       " 'Second_Class',\n",
       " 'QSAR_READY_SMILES',\n",
       " 'chain_length',\n",
       " 'ID',\n",
       " 'category',\n",
       " 'subcategory',\n",
       " 'cluster',\n",
       " 'cluster_centroid',\n",
       " 'centroid_x',\n",
       " 'centroid2',\n",
       " 'centroid_y',\n",
       " 'analogues',\n",
       " 'Dist',\n",
       " 'level2_cluster_centroid',\n",
       " 'cluster_d',\n",
       " 'lvl2_centroid',\n",
       " 'lvl2_centroid2',\n",
       " 'lvl2_analogues',\n",
       " 'lvl2_Dist',\n",
       " 'prelim_final_centroid',\n",
       " 'prelim_final_dist',\n",
       " 'level3_cluster_centroid',\n",
       " 'lvl_cluster_d',\n",
       " 'lvl3_centroid',\n",
       " 'lvl3_centroid2',\n",
       " 'lvl3_analogues',\n",
       " 'lvl3_Dist',\n",
       " 'final_centroid',\n",
       " 'final_dist',\n",
       " 'group',\n",
       " 'group_str',\n",
       " 'MaxMin_picks',\n",
       " 'tsca_centroid',\n",
       " 'tsca_centroid_id',\n",
       " 'tsca_centroid_id2',\n",
       " 'tsca_analogues',\n",
       " 'tsca_dist',\n",
       " 'MaxMin_tsca_picks',\n",
       " 'tsca_active_centroid',\n",
       " 'tsca_active_centroid_id',\n",
       " 'tsca_active_centroid_id2',\n",
       " 'tsca_active_analogues',\n",
       " 'tsca_active_dist',\n",
       " 'MaxMin_tsca_active_picks',\n",
       " 'CDR2019_NATIONAL_AGG_PV',\n",
       " 'CDR2020_STATUS',\n",
       " 'HLC',\n",
       " 'WS_pred_mol/L',\n",
       " 'WS_pred_mg/L',\n",
       " 'test_track',\n",
       " 'MoleculeID',\n",
       " 'MolWeight',\n",
       " 'nbAtoms',\n",
       " 'nbHeavyAtoms',\n",
       " 'nbC',\n",
       " 'nbO',\n",
       " 'nbN',\n",
       " 'nbAromAtom',\n",
       " 'nbRing',\n",
       " 'nbHeteroRing',\n",
       " 'Sp3Sp2HybRatio',\n",
       " 'nbRotBd',\n",
       " 'nbHBdAcc',\n",
       " 'ndHBdDon',\n",
       " 'nbLipinskiFailures',\n",
       " 'TopoPolSurfAir',\n",
       " 'MolarRefract',\n",
       " 'CombDipolPolariz',\n",
       " 'LogP_pred',\n",
       " 'LogP_predRange',\n",
       " 'AD_LogP',\n",
       " 'AD_index_LogP',\n",
       " 'Conf_index_LogP',\n",
       " 'MP_pred',\n",
       " 'MP_predRange',\n",
       " 'AD_MP',\n",
       " 'AD_index_MP',\n",
       " 'Conf_index_MP',\n",
       " 'BP_pred',\n",
       " 'BP_predRange',\n",
       " 'AD_BP',\n",
       " 'AD_index_BP',\n",
       " 'Conf_index_BP',\n",
       " 'LogVP_pred',\n",
       " 'VP_predRange',\n",
       " 'AD_VP',\n",
       " 'AD_index_VP',\n",
       " 'Conf_index_VP',\n",
       " 'LogWS_pred',\n",
       " 'WS_predRange',\n",
       " 'AD_WS',\n",
       " 'AD_index_WS',\n",
       " 'Conf_index_WS',\n",
       " 'LogHL_pred',\n",
       " 'HL_predRange',\n",
       " 'AD_HL',\n",
       " 'AD_index_HL',\n",
       " 'Conf_index_HL',\n",
       " 'RT_pred',\n",
       " 'AD_RT',\n",
       " 'AD_index_RT',\n",
       " 'Conf_index_RT',\n",
       " 'RT_predRange',\n",
       " 'LogKOA_pred',\n",
       " 'KOA_predRange',\n",
       " 'AD_KOA',\n",
       " 'AD_index_KOA',\n",
       " 'Conf_index_KOA',\n",
       " 'ionization',\n",
       " 'pKa_a_pred',\n",
       " 'pKa_a_predRange',\n",
       " 'pKa_b_pred',\n",
       " 'pKa_b_predRange',\n",
       " 'AD_pKa',\n",
       " 'AD_index_pKa',\n",
       " 'Conf_index_pKa',\n",
       " 'LogD55_pred',\n",
       " 'LogD55_predRange',\n",
       " 'LogD74_pred',\n",
       " 'LogD74_predRange',\n",
       " 'AD_LogD',\n",
       " 'AD_index_LogD',\n",
       " 'Conf_index_LogD',\n",
       " 'casrn',\n",
       " 'name',\n",
       " 'qc',\n",
       " 'qc_httk',\n",
       " 'NR_ESR1',\n",
       " 'NR_PPAR',\n",
       " 'NR_NRF2',\n",
       " 'NR_RXR',\n",
       " 'NR_PXR',\n",
       " 'ZF',\n",
       " 'DNT',\n",
       " 'hDIO1',\n",
       " 'hDIO2',\n",
       " 'hDIO3',\n",
       " 'xDIO3',\n",
       " 'hIYD',\n",
       " 'XIYD',\n",
       " 'hTBG',\n",
       " 'hTPO',\n",
       " 'Immune',\n",
       " 'TK_PlasBind',\n",
       " 'TK_Metab',\n",
       " 'TK_Struc_Endo',\n",
       " 'NAM',\n",
       " 'pred_DNT',\n",
       " 'pred_Immune',\n",
       " 'pred_NR_ESR1',\n",
       " 'pred_NR_NRF2',\n",
       " 'pred_NR_PPAR',\n",
       " 'pred_NR_PXR',\n",
       " 'pred_No flag',\n",
       " 'pred_TK_PlasBind',\n",
       " 'pred_ZF',\n",
       " 'pred_TK',\n",
       " '28-day',\n",
       " 'chronic',\n",
       " 'developmental',\n",
       " 'neurotoxicity',\n",
       " 'repeat dose other',\n",
       " 'reproduction',\n",
       " 'reproduction developmental',\n",
       " 'short-term',\n",
       " 'subchronic',\n",
       " 'ANALYTICAL_MTHDS',\n",
       " 'DISCHARGE',\n",
       " 'DRINKING_WATER',\n",
       " 'DRINKING_WATER-UCMR',\n",
       " 'ENV_MEDIA',\n",
       " 'PROD_DATA',\n",
       " 'TRI-OFFSITE',\n",
       " 'TRI-ONSITE',\n",
       " 'TRI_WASTE',\n",
       " 'pubmed_avail']"
      ]
     },
     "execution_count": 176,
     "metadata": {},
     "output_type": "execute_result"
    }
   ],
   "source": [
    "universe2.columns.tolist()"
   ]
  },
  {
   "cell_type": "code",
   "execution_count": 177,
   "id": "49fd2da2-018f-4540-9a19-ca2cf00ec01e",
   "metadata": {},
   "outputs": [],
   "source": [
    "X = universe2[['group_str',\n",
    " '28-day',\n",
    " 'chronic',\n",
    " 'developmental',\n",
    " 'neurotoxicity',\n",
    " 'repeat dose other',\n",
    " 'reproduction',\n",
    " 'reproduction developmental',\n",
    " 'short-term',\n",
    " 'subchronic',\n",
    " 'ANALYTICAL_MTHDS',\n",
    " 'DISCHARGE',\n",
    " 'DRINKING_WATER',\n",
    " 'DRINKING_WATER-UCMR',\n",
    "                'ENV_MEDIA',\n",
    " 'PROD_DATA',\n",
    " 'TRI-OFFSITE',\n",
    " 'TRI-ONSITE',\n",
    " 'TRI_WASTE',\n",
    " 'pubmed_avail',\n",
    "                'CDR2020_STATUS',\n",
    " ]].replace(np.nan, 0)"
   ]
  },
  {
   "cell_type": "code",
   "execution_count": 178,
   "id": "c2e36133-52e5-4842-b37f-6ba397875cbf",
   "metadata": {},
   "outputs": [],
   "source": [
    "X1 =X.groupby('group_str').agg('max')"
   ]
  },
  {
   "cell_type": "code",
   "execution_count": 179,
   "id": "a5352af4-9eb5-4a0c-8212-3b08dfa9878e",
   "metadata": {},
   "outputs": [
    {
     "data": {
      "text/html": [
       "<div>\n",
       "<style scoped>\n",
       "    .dataframe tbody tr th:only-of-type {\n",
       "        vertical-align: middle;\n",
       "    }\n",
       "\n",
       "    .dataframe tbody tr th {\n",
       "        vertical-align: top;\n",
       "    }\n",
       "\n",
       "    .dataframe thead th {\n",
       "        text-align: right;\n",
       "    }\n",
       "</style>\n",
       "<table border=\"1\" class=\"dataframe\">\n",
       "  <thead>\n",
       "    <tr style=\"text-align: right;\">\n",
       "      <th></th>\n",
       "      <th>28-day</th>\n",
       "      <th>chronic</th>\n",
       "      <th>developmental</th>\n",
       "      <th>neurotoxicity</th>\n",
       "      <th>repeat dose other</th>\n",
       "      <th>reproduction</th>\n",
       "      <th>reproduction developmental</th>\n",
       "      <th>short-term</th>\n",
       "      <th>subchronic</th>\n",
       "      <th>ANALYTICAL_MTHDS</th>\n",
       "      <th>DISCHARGE</th>\n",
       "      <th>DRINKING_WATER</th>\n",
       "      <th>DRINKING_WATER-UCMR</th>\n",
       "      <th>ENV_MEDIA</th>\n",
       "      <th>PROD_DATA</th>\n",
       "      <th>TRI-OFFSITE</th>\n",
       "      <th>TRI-ONSITE</th>\n",
       "      <th>TRI_WASTE</th>\n",
       "      <th>pubmed_avail</th>\n",
       "      <th>CDR2020_STATUS</th>\n",
       "    </tr>\n",
       "    <tr>\n",
       "      <th>group_str</th>\n",
       "      <th></th>\n",
       "      <th></th>\n",
       "      <th></th>\n",
       "      <th></th>\n",
       "      <th></th>\n",
       "      <th></th>\n",
       "      <th></th>\n",
       "      <th></th>\n",
       "      <th></th>\n",
       "      <th></th>\n",
       "      <th></th>\n",
       "      <th></th>\n",
       "      <th></th>\n",
       "      <th></th>\n",
       "      <th></th>\n",
       "      <th></th>\n",
       "      <th></th>\n",
       "      <th></th>\n",
       "      <th></th>\n",
       "      <th></th>\n",
       "    </tr>\n",
       "  </thead>\n",
       "  <tbody>\n",
       "    <tr>\n",
       "      <th>('Aromatic PFASs', 'gte7', nan, nan)</th>\n",
       "      <td>0.0</td>\n",
       "      <td>0.0</td>\n",
       "      <td>0.0</td>\n",
       "      <td>0.0</td>\n",
       "      <td>0.0</td>\n",
       "      <td>0.0</td>\n",
       "      <td>0.0</td>\n",
       "      <td>0.0</td>\n",
       "      <td>0.0</td>\n",
       "      <td>0.0</td>\n",
       "      <td>0.0</td>\n",
       "      <td>0.0</td>\n",
       "      <td>0.0</td>\n",
       "      <td>0.0</td>\n",
       "      <td>1.0</td>\n",
       "      <td>0.0</td>\n",
       "      <td>0.0</td>\n",
       "      <td>0.0</td>\n",
       "      <td>1.0</td>\n",
       "      <td>0.0</td>\n",
       "    </tr>\n",
       "    <tr>\n",
       "      <th>('Aromatic PFASs', 'lt7', 1.0, nan)</th>\n",
       "      <td>0.0</td>\n",
       "      <td>0.0</td>\n",
       "      <td>0.0</td>\n",
       "      <td>0.0</td>\n",
       "      <td>0.0</td>\n",
       "      <td>0.0</td>\n",
       "      <td>0.0</td>\n",
       "      <td>0.0</td>\n",
       "      <td>0.0</td>\n",
       "      <td>0.0</td>\n",
       "      <td>0.0</td>\n",
       "      <td>0.0</td>\n",
       "      <td>0.0</td>\n",
       "      <td>0.0</td>\n",
       "      <td>0.0</td>\n",
       "      <td>0.0</td>\n",
       "      <td>0.0</td>\n",
       "      <td>0.0</td>\n",
       "      <td>1.0</td>\n",
       "      <td>0.0</td>\n",
       "    </tr>\n",
       "    <tr>\n",
       "      <th>('Aromatic PFASs', 'lt7', 2.0, 1.0)</th>\n",
       "      <td>0.0</td>\n",
       "      <td>0.0</td>\n",
       "      <td>0.0</td>\n",
       "      <td>0.0</td>\n",
       "      <td>0.0</td>\n",
       "      <td>0.0</td>\n",
       "      <td>0.0</td>\n",
       "      <td>0.0</td>\n",
       "      <td>0.0</td>\n",
       "      <td>0.0</td>\n",
       "      <td>0.0</td>\n",
       "      <td>0.0</td>\n",
       "      <td>0.0</td>\n",
       "      <td>0.0</td>\n",
       "      <td>0.0</td>\n",
       "      <td>0.0</td>\n",
       "      <td>0.0</td>\n",
       "      <td>0.0</td>\n",
       "      <td>1.0</td>\n",
       "      <td>0.0</td>\n",
       "    </tr>\n",
       "    <tr>\n",
       "      <th>('Aromatic PFASs', 'lt7', 2.0, 2.0)</th>\n",
       "      <td>0.0</td>\n",
       "      <td>0.0</td>\n",
       "      <td>0.0</td>\n",
       "      <td>0.0</td>\n",
       "      <td>0.0</td>\n",
       "      <td>0.0</td>\n",
       "      <td>0.0</td>\n",
       "      <td>0.0</td>\n",
       "      <td>0.0</td>\n",
       "      <td>0.0</td>\n",
       "      <td>0.0</td>\n",
       "      <td>0.0</td>\n",
       "      <td>0.0</td>\n",
       "      <td>1.0</td>\n",
       "      <td>0.0</td>\n",
       "      <td>0.0</td>\n",
       "      <td>0.0</td>\n",
       "      <td>0.0</td>\n",
       "      <td>1.0</td>\n",
       "      <td>0.0</td>\n",
       "    </tr>\n",
       "    <tr>\n",
       "      <th>('Aromatic PFASs', 'lt7', 2.0, 3.0)</th>\n",
       "      <td>0.0</td>\n",
       "      <td>0.0</td>\n",
       "      <td>0.0</td>\n",
       "      <td>0.0</td>\n",
       "      <td>0.0</td>\n",
       "      <td>0.0</td>\n",
       "      <td>0.0</td>\n",
       "      <td>0.0</td>\n",
       "      <td>0.0</td>\n",
       "      <td>0.0</td>\n",
       "      <td>0.0</td>\n",
       "      <td>0.0</td>\n",
       "      <td>0.0</td>\n",
       "      <td>0.0</td>\n",
       "      <td>0.0</td>\n",
       "      <td>0.0</td>\n",
       "      <td>0.0</td>\n",
       "      <td>0.0</td>\n",
       "      <td>0.0</td>\n",
       "      <td>0.0</td>\n",
       "    </tr>\n",
       "  </tbody>\n",
       "</table>\n",
       "</div>"
      ],
      "text/plain": [
       "                                      28-day  chronic  developmental  \\\n",
       "group_str                                                              \n",
       "('Aromatic PFASs', 'gte7', nan, nan)     0.0      0.0            0.0   \n",
       "('Aromatic PFASs', 'lt7', 1.0, nan)      0.0      0.0            0.0   \n",
       "('Aromatic PFASs', 'lt7', 2.0, 1.0)      0.0      0.0            0.0   \n",
       "('Aromatic PFASs', 'lt7', 2.0, 2.0)      0.0      0.0            0.0   \n",
       "('Aromatic PFASs', 'lt7', 2.0, 3.0)      0.0      0.0            0.0   \n",
       "\n",
       "                                      neurotoxicity  repeat dose other  \\\n",
       "group_str                                                                \n",
       "('Aromatic PFASs', 'gte7', nan, nan)            0.0                0.0   \n",
       "('Aromatic PFASs', 'lt7', 1.0, nan)             0.0                0.0   \n",
       "('Aromatic PFASs', 'lt7', 2.0, 1.0)             0.0                0.0   \n",
       "('Aromatic PFASs', 'lt7', 2.0, 2.0)             0.0                0.0   \n",
       "('Aromatic PFASs', 'lt7', 2.0, 3.0)             0.0                0.0   \n",
       "\n",
       "                                      reproduction  \\\n",
       "group_str                                            \n",
       "('Aromatic PFASs', 'gte7', nan, nan)           0.0   \n",
       "('Aromatic PFASs', 'lt7', 1.0, nan)            0.0   \n",
       "('Aromatic PFASs', 'lt7', 2.0, 1.0)            0.0   \n",
       "('Aromatic PFASs', 'lt7', 2.0, 2.0)            0.0   \n",
       "('Aromatic PFASs', 'lt7', 2.0, 3.0)            0.0   \n",
       "\n",
       "                                      reproduction developmental  short-term  \\\n",
       "group_str                                                                      \n",
       "('Aromatic PFASs', 'gte7', nan, nan)                         0.0         0.0   \n",
       "('Aromatic PFASs', 'lt7', 1.0, nan)                          0.0         0.0   \n",
       "('Aromatic PFASs', 'lt7', 2.0, 1.0)                          0.0         0.0   \n",
       "('Aromatic PFASs', 'lt7', 2.0, 2.0)                          0.0         0.0   \n",
       "('Aromatic PFASs', 'lt7', 2.0, 3.0)                          0.0         0.0   \n",
       "\n",
       "                                      subchronic  ANALYTICAL_MTHDS  DISCHARGE  \\\n",
       "group_str                                                                       \n",
       "('Aromatic PFASs', 'gte7', nan, nan)         0.0               0.0        0.0   \n",
       "('Aromatic PFASs', 'lt7', 1.0, nan)          0.0               0.0        0.0   \n",
       "('Aromatic PFASs', 'lt7', 2.0, 1.0)          0.0               0.0        0.0   \n",
       "('Aromatic PFASs', 'lt7', 2.0, 2.0)          0.0               0.0        0.0   \n",
       "('Aromatic PFASs', 'lt7', 2.0, 3.0)          0.0               0.0        0.0   \n",
       "\n",
       "                                      DRINKING_WATER  DRINKING_WATER-UCMR  \\\n",
       "group_str                                                                   \n",
       "('Aromatic PFASs', 'gte7', nan, nan)             0.0                  0.0   \n",
       "('Aromatic PFASs', 'lt7', 1.0, nan)              0.0                  0.0   \n",
       "('Aromatic PFASs', 'lt7', 2.0, 1.0)              0.0                  0.0   \n",
       "('Aromatic PFASs', 'lt7', 2.0, 2.0)              0.0                  0.0   \n",
       "('Aromatic PFASs', 'lt7', 2.0, 3.0)              0.0                  0.0   \n",
       "\n",
       "                                      ENV_MEDIA  PROD_DATA  TRI-OFFSITE  \\\n",
       "group_str                                                                 \n",
       "('Aromatic PFASs', 'gte7', nan, nan)        0.0        1.0          0.0   \n",
       "('Aromatic PFASs', 'lt7', 1.0, nan)         0.0        0.0          0.0   \n",
       "('Aromatic PFASs', 'lt7', 2.0, 1.0)         0.0        0.0          0.0   \n",
       "('Aromatic PFASs', 'lt7', 2.0, 2.0)         1.0        0.0          0.0   \n",
       "('Aromatic PFASs', 'lt7', 2.0, 3.0)         0.0        0.0          0.0   \n",
       "\n",
       "                                      TRI-ONSITE  TRI_WASTE  pubmed_avail  \\\n",
       "group_str                                                                   \n",
       "('Aromatic PFASs', 'gte7', nan, nan)         0.0        0.0           1.0   \n",
       "('Aromatic PFASs', 'lt7', 1.0, nan)          0.0        0.0           1.0   \n",
       "('Aromatic PFASs', 'lt7', 2.0, 1.0)          0.0        0.0           1.0   \n",
       "('Aromatic PFASs', 'lt7', 2.0, 2.0)          0.0        0.0           1.0   \n",
       "('Aromatic PFASs', 'lt7', 2.0, 3.0)          0.0        0.0           0.0   \n",
       "\n",
       "                                      CDR2020_STATUS  \n",
       "group_str                                             \n",
       "('Aromatic PFASs', 'gte7', nan, nan)             0.0  \n",
       "('Aromatic PFASs', 'lt7', 1.0, nan)              0.0  \n",
       "('Aromatic PFASs', 'lt7', 2.0, 1.0)              0.0  \n",
       "('Aromatic PFASs', 'lt7', 2.0, 2.0)              0.0  \n",
       "('Aromatic PFASs', 'lt7', 2.0, 3.0)              0.0  "
      ]
     },
     "execution_count": 179,
     "metadata": {},
     "output_type": "execute_result"
    }
   ],
   "source": [
    "X1.head()"
   ]
  },
  {
   "cell_type": "code",
   "execution_count": 180,
   "id": "9c468789-8dff-4a4d-bd10-58fca25a43a2",
   "metadata": {},
   "outputs": [],
   "source": [
    "tsca_only = df[df['TSCA_STATUS'] != 'unclassified']"
   ]
  },
  {
   "cell_type": "code",
   "execution_count": 181,
   "id": "7ded9956-22da-412f-9c83-b28012e295ca",
   "metadata": {},
   "outputs": [
    {
     "data": {
      "text/plain": [
       "80"
      ]
     },
     "execution_count": 181,
     "metadata": {},
     "output_type": "execute_result"
    }
   ],
   "source": [
    "tsca_only['group_str'].nunique()"
   ]
  },
  {
   "cell_type": "code",
   "execution_count": 184,
   "id": "5b19c68e-ba0a-4e17-9454-42b9e27c5904",
   "metadata": {},
   "outputs": [
    {
     "data": {
      "text/plain": [
       "['28-day',\n",
       " 'chronic',\n",
       " 'developmental',\n",
       " 'neurotoxicity',\n",
       " 'repeat dose other',\n",
       " 'reproduction',\n",
       " 'reproduction developmental',\n",
       " 'short-term',\n",
       " 'subchronic']"
      ]
     },
     "execution_count": 184,
     "metadata": {},
     "output_type": "execute_result"
    }
   ],
   "source": [
    "universe2.columns.tolist()[171:180]"
   ]
  },
  {
   "cell_type": "code",
   "execution_count": 185,
   "id": "0c049c09-49ef-4185-a652-5d301ef891e6",
   "metadata": {},
   "outputs": [],
   "source": [
    "data_poor_cats = []\n",
    "for i,group in universe2.groupby('group_str'):\n",
    "    subset = group[universe2.columns.tolist()[171:180]]\n",
    "    if subset.sum(axis = 0, skipna = True).any() ==0:\n",
    "        data_poor_cats.append(i)"
   ]
  },
  {
   "cell_type": "code",
   "execution_count": 186,
   "id": "a9776c4e-417f-4dbf-bfc6-e24402312398",
   "metadata": {},
   "outputs": [
    {
     "data": {
      "text/plain": [
       "94"
      ]
     },
     "execution_count": 186,
     "metadata": {},
     "output_type": "execute_result"
    }
   ],
   "source": [
    "len(data_poor_cats)"
   ]
  },
  {
   "cell_type": "code",
   "execution_count": 187,
   "id": "9eb9b963-520e-450c-aa67-6fb2422870e6",
   "metadata": {},
   "outputs": [],
   "source": [
    "tsca_act = []\n",
    "for i, group in universe2.groupby('group_str'):\n",
    "    subset =  group['TSCA_STATUS']\n",
    "    #if any(subset) == \"unclassified\":\n",
    "    #print(i, type(subset))\n",
    "    if (subset.eq('active')).any():\n",
    "        tsca_act.append(i)"
   ]
  },
  {
   "cell_type": "code",
   "execution_count": 188,
   "id": "b5de0797-d5ef-4c56-b955-ac0b49d07075",
   "metadata": {},
   "outputs": [
    {
     "data": {
      "text/plain": [
       "60"
      ]
     },
     "execution_count": 188,
     "metadata": {},
     "output_type": "execute_result"
    }
   ],
   "source": [
    "len(tsca_act)"
   ]
  },
  {
   "cell_type": "code",
   "execution_count": 189,
   "id": "83a06054-1f04-4b6f-b97d-c59bc32b4ca7",
   "metadata": {},
   "outputs": [
    {
     "data": {
      "text/plain": [
       "['ANALYTICAL_MTHDS',\n",
       " 'DISCHARGE',\n",
       " 'DRINKING_WATER',\n",
       " 'DRINKING_WATER-UCMR',\n",
       " 'ENV_MEDIA',\n",
       " 'PROD_DATA',\n",
       " 'TRI-OFFSITE',\n",
       " 'TRI-ONSITE',\n",
       " 'TRI_WASTE',\n",
       " 'pubmed_avail',\n",
       " 'CDR2020_STATUS']"
      ]
     },
     "execution_count": 189,
     "metadata": {},
     "output_type": "execute_result"
    }
   ],
   "source": [
    "universe2.columns.tolist()[180:] + ['CDR2020_STATUS']  "
   ]
  },
  {
   "cell_type": "code",
   "execution_count": 190,
   "id": "436b8559-4eaf-492f-a22d-571f3d40c893",
   "metadata": {},
   "outputs": [],
   "source": [
    "em = ['ANALYTICAL_MTHDS',\n",
    " 'DISCHARGE',\n",
    " 'DRINKING_WATER',\n",
    " 'DRINKING_WATER-UCMR',\n",
    "      'ENV_MEDIA',\n",
    " 'PROD_DATA',\n",
    " 'TRI-OFFSITE',\n",
    " 'TRI-ONSITE',\n",
    " 'TRI_WASTE',\n",
    " 'pubmed_avail',\n",
    " 'CDR2020_STATUS']"
   ]
  },
  {
   "cell_type": "code",
   "execution_count": 85,
   "id": "d645f306-3fc6-4a9e-99e3-2c7cfbf756e9",
   "metadata": {},
   "outputs": [],
   "source": [
    "#universe2.columns.tolist()[125:]"
   ]
  },
  {
   "cell_type": "code",
   "execution_count": 191,
   "id": "ef6b7f2d-b213-4a20-aeb5-d05d17feadbf",
   "metadata": {},
   "outputs": [],
   "source": [
    "on_em = []\n",
    "for i, group in universe2.groupby('group_str'):\n",
    "    subset =  group[em]\n",
    "    #if any(subset) == \"unclassified\":\n",
    "    #print(i, type(subset))\n",
    "    if subset.sum(axis = 0, skipna = True).any() >=1:\n",
    "        on_em.append(i)"
   ]
  },
  {
   "cell_type": "code",
   "execution_count": 192,
   "id": "1ac4100b-1715-4ebf-8e0a-da9bb60a2084",
   "metadata": {},
   "outputs": [
    {
     "data": {
      "text/plain": [
       "117"
      ]
     },
     "execution_count": 192,
     "metadata": {},
     "output_type": "execute_result"
    }
   ],
   "source": [
    "len(on_em)"
   ]
  },
  {
   "cell_type": "code",
   "execution_count": 193,
   "id": "549d26aa-b88e-4569-9b74-f7c4b1293029",
   "metadata": {},
   "outputs": [],
   "source": [
    "em2 = ['ANALYTICAL_MTHDS',\n",
    " 'DISCHARGE',\n",
    " 'DRINKING_WATER',\n",
    " 'DRINKING_WATER-UCMR',\n",
    "       'ENV_MEDIA',\n",
    " 'PROD_DATA',\n",
    " 'TRI-OFFSITE',\n",
    " 'TRI-ONSITE',\n",
    " 'TRI_WASTE',\n",
    " 'CDR2020_STATUS']"
   ]
  },
  {
   "cell_type": "code",
   "execution_count": 194,
   "id": "ba1839a2-c335-44c0-ae88-cb2d1e2c4168",
   "metadata": {},
   "outputs": [],
   "source": [
    "on_em2 = []\n",
    "for i, group in universe2.groupby('group_str'):\n",
    "    subset =  group[em2]\n",
    "    #if any(subset) == \"unclassified\":\n",
    "    #print(i, type(subset))\n",
    "    if subset.sum(axis = 0, skipna = True).any() >=1:\n",
    "        on_em2.append(i)"
   ]
  },
  {
   "cell_type": "code",
   "execution_count": 195,
   "id": "bfba4461-063c-4d62-a13e-925779e9d1e9",
   "metadata": {},
   "outputs": [
    {
     "data": {
      "text/plain": [
       "53"
      ]
     },
     "execution_count": 195,
     "metadata": {},
     "output_type": "execute_result"
    }
   ],
   "source": [
    "len(on_em2)"
   ]
  },
  {
   "cell_type": "code",
   "execution_count": 196,
   "id": "75212484-262a-41d9-bb26-79e40303c139",
   "metadata": {},
   "outputs": [],
   "source": [
    "not_tsca_cats = []\n",
    "for i, group in universe2.groupby('group_str'):\n",
    "    subset =  group['TSCA_STATUS']\n",
    "    #if any(subset) == \"unclassified\":\n",
    "    #print(i, type(subset))\n",
    "    if (subset.eq('unclassified')).all():\n",
    "        not_tsca_cats.append(i)"
   ]
  },
  {
   "cell_type": "code",
   "execution_count": 197,
   "id": "bd9709f4-874d-4fc4-907c-b1c9daf83f84",
   "metadata": {},
   "outputs": [
    {
     "data": {
      "text/plain": [
       "48"
      ]
     },
     "execution_count": 197,
     "metadata": {},
     "output_type": "execute_result"
    }
   ],
   "source": [
    "len(not_tsca_cats)"
   ]
  },
  {
   "cell_type": "code",
   "execution_count": 198,
   "id": "cd7efcd7-728e-4859-be28-93c6f47d0741",
   "metadata": {},
   "outputs": [],
   "source": [
    "tsca_cats = [e for e in universe2.group_str.unique().tolist() if e not in not_tsca_cats]\n"
   ]
  },
  {
   "cell_type": "code",
   "execution_count": 199,
   "id": "355a52f6-d292-4ccc-b7fb-a22ca1447150",
   "metadata": {},
   "outputs": [
    {
     "data": {
      "text/plain": [
       "80"
      ]
     },
     "execution_count": 199,
     "metadata": {},
     "output_type": "execute_result"
    }
   ],
   "source": [
    "len(tsca_cats)"
   ]
  },
  {
   "cell_type": "code",
   "execution_count": 200,
   "id": "40436026-93ad-43b2-854f-7996f733362a",
   "metadata": {},
   "outputs": [],
   "source": [
    "data_poor_tsca = [e for e in data_poor_cats if e in tsca_cats]"
   ]
  },
  {
   "cell_type": "code",
   "execution_count": 201,
   "id": "98516fa9-bb90-4883-8702-70700b4932e5",
   "metadata": {},
   "outputs": [
    {
     "data": {
      "text/plain": [
       "48"
      ]
     },
     "execution_count": 201,
     "metadata": {},
     "output_type": "execute_result"
    }
   ],
   "source": [
    "len(data_poor_tsca)"
   ]
  },
  {
   "cell_type": "code",
   "execution_count": 202,
   "id": "88e71303-0778-4117-a057-9acd7f7db239",
   "metadata": {},
   "outputs": [],
   "source": [
    "data_poor_tsca_act = [e for e in data_poor_cats if e in tsca_act]"
   ]
  },
  {
   "cell_type": "code",
   "execution_count": 203,
   "id": "193c8e86-9128-4f0f-a571-abe960802973",
   "metadata": {},
   "outputs": [
    {
     "data": {
      "text/plain": [
       "31"
      ]
     },
     "execution_count": 203,
     "metadata": {},
     "output_type": "execute_result"
    }
   ],
   "source": [
    "len(data_poor_tsca_act)"
   ]
  },
  {
   "cell_type": "code",
   "execution_count": 204,
   "id": "3bb3b4f6-5414-42b7-bffa-45c1804dee01",
   "metadata": {},
   "outputs": [],
   "source": [
    "#data_poor_tsca_act"
   ]
  },
  {
   "cell_type": "code",
   "execution_count": 205,
   "id": "d9c6ff3e-b062-4487-afe9-5d46d954dc32",
   "metadata": {},
   "outputs": [
    {
     "data": {
      "text/plain": [
       "21"
      ]
     },
     "execution_count": 205,
     "metadata": {},
     "output_type": "execute_result"
    }
   ],
   "source": [
    "len([e for e in on_em2 if e in data_poor_tsca])"
   ]
  },
  {
   "cell_type": "code",
   "execution_count": 206,
   "id": "f0f2ffde-26e8-40ab-98cc-c985e6c15300",
   "metadata": {},
   "outputs": [
    {
     "data": {
      "text/plain": [
       "46"
      ]
     },
     "execution_count": 206,
     "metadata": {},
     "output_type": "execute_result"
    }
   ],
   "source": [
    "len([e for e in on_em if e in data_poor_tsca])"
   ]
  },
  {
   "cell_type": "code",
   "execution_count": 207,
   "id": "54206227-a8af-4652-a70b-6023087237b2",
   "metadata": {},
   "outputs": [
    {
     "data": {
      "text/plain": [
       "18"
      ]
     },
     "execution_count": 207,
     "metadata": {},
     "output_type": "execute_result"
    }
   ],
   "source": [
    "len([e for e in on_em2 if e in data_poor_tsca_act])"
   ]
  },
  {
   "cell_type": "code",
   "execution_count": 208,
   "id": "74e88e69-f0f3-47fd-bef1-9164bf6427e4",
   "metadata": {},
   "outputs": [
    {
     "data": {
      "text/plain": [
       "30"
      ]
     },
     "execution_count": 208,
     "metadata": {},
     "output_type": "execute_result"
    }
   ],
   "source": [
    "len([e for e in on_em if e in data_poor_tsca_act])"
   ]
  },
  {
   "cell_type": "code",
   "execution_count": 209,
   "id": "de76b29f-c5e2-4ed0-a832-64683eebe8c5",
   "metadata": {},
   "outputs": [
    {
     "data": {
      "text/plain": [
       "[\"('Aromatic PFASs', 'gte7', nan, nan)\",\n",
       " \"('Other PFASs', 'lt7', 2.0, 2.0)\",\n",
       " \"('Other PFASs', 'lt7', 2.0, 3.0)\",\n",
       " \"('Other PFASs', 'lt7', 3.0, 3.0)\",\n",
       " \"('PFAA precursors', 'lt7', 1.0, 2.0)\",\n",
       " \"('PFAA precursors', 'lt7', 1.0, 3.0)\",\n",
       " \"('PFAA precursors', 'lt7', 2.0, 3.0)\",\n",
       " \"('PFAA precursors, cyclic', 'lt7', 1.0, 2.0)\",\n",
       " \"('PolyFCA derivatives', 'gte7', nan, nan)\",\n",
       " \"('PolyFCA derivatives', 'lt7', 3.0, nan)\",\n",
       " \"('Polyfluoroalkanes', 'gte7', nan, nan)\",\n",
       " \"('Polyfluoroalkanes', 'lt7', 2.0, nan)\",\n",
       " \"('n:2 fluorotelomer-based substances', 'gte7', nan, nan)\",\n",
       " \"('others, cyclic', 'lt7', 3.0, 3.0)\",\n",
       " \"('unclassified', 'gte7', nan, nan)\",\n",
       " \"('unclassified', 'lt7', 3.0, 1.0)\",\n",
       " \"('unclassified', 'lt7', 3.0, 3.0)\",\n",
       " \"('unclassified', 'lt7', nan, nan)\"]"
      ]
     },
     "execution_count": 209,
     "metadata": {},
     "output_type": "execute_result"
    }
   ],
   "source": [
    "[e for e in on_em2 if e in data_poor_tsca_act]"
   ]
  },
  {
   "cell_type": "code",
   "execution_count": 210,
   "id": "394e6375-26a4-48c2-b68e-172ce9ef32cb",
   "metadata": {},
   "outputs": [],
   "source": [
    "X2 = X1[X1.index.isin(tsca_act)]"
   ]
  },
  {
   "cell_type": "code",
   "execution_count": 211,
   "id": "d5be9962-9715-488a-aab5-6e0c06ec1401",
   "metadata": {},
   "outputs": [
    {
     "data": {
      "text/plain": [
       "Index(['28-day', 'chronic', 'developmental', 'neurotoxicity',\n",
       "       'repeat dose other', 'reproduction', 'reproduction developmental',\n",
       "       'short-term', 'subchronic', 'ANALYTICAL_MTHDS', 'DISCHARGE',\n",
       "       'DRINKING_WATER', 'DRINKING_WATER-UCMR', 'ENV_MEDIA', 'PROD_DATA',\n",
       "       'TRI-OFFSITE', 'TRI-ONSITE', 'TRI_WASTE', 'pubmed_avail',\n",
       "       'CDR2020_STATUS'],\n",
       "      dtype='object')"
      ]
     },
     "execution_count": 211,
     "metadata": {},
     "output_type": "execute_result"
    }
   ],
   "source": [
    "X2.columns"
   ]
  },
  {
   "cell_type": "code",
   "execution_count": 214,
   "id": "271895da-7b2e-4214-a549-ec8ab5d5ba71",
   "metadata": {},
   "outputs": [
    {
     "name": "stderr",
     "output_type": "stream",
     "text": [
      "/tmp/ipykernel_364779/964463965.py:6: MatplotlibDeprecationWarning: The get_cmap function was deprecated in Matplotlib 3.7 and will be removed two minor releases later. Use ``matplotlib.colormaps[name]`` or ``matplotlib.colormaps.get_cmap(obj)`` instead.\n",
      "  cmap = mpl.cm.get_cmap('coolwarm', 2)\n"
     ]
    },
    {
     "data": {
      "image/png": "[encoded data removed]",
      "text/plain": [
       "<Figure size 1400x1400 with 2 Axes>"
      ]
     },
     "metadata": {},
     "output_type": "display_data"
    }
   ],
   "source": [
    "import matplotlib as mpl\n",
    "f, ax = plt.subplots(figsize=(14, 14))\n",
    "#labels = X2.index\n",
    "\n",
    "my_colors=[\"blue\", \"red\"]\n",
    "cmap = mpl.cm.get_cmap('coolwarm', 2)\n",
    "#bounds = [1,2]\n",
    "#f.colorbar(mpl.cm.ScalarMappable(cmap = cmap, norm=mpl.colors.BoundaryNorm(bounds, cmap.N)))\n",
    "g = sns.heatmap(X2, cmap = cmap, vmin = 0.9, vmax = .2,  cbar_kws={\"shrink\": 0.25}, square = True,xticklabels='auto', yticklabels='auto', linewidths = 0.3, ax = ax)\n",
    "\n",
    "colorbar = ax.collections[0].colorbar\n",
    "#print(colorbar)\n",
    "M=X2.max().max()\n",
    "#print(M)\n",
    "colorbar.set_ticks([0.35*M,0.75*M])\n",
    "colorbar.set_ticklabels(['absent','present'])\n",
    "#colorbar.ax.set_aspect(0.15)\n",
    "\n",
    "\n",
    "#g.set_yticks(np.arange(len(X2.index)))\n",
    "#g.set_yticklabels([''] +labels, fontsize = 8)\n",
    "g.set_ylabel('terminal category')\n",
    "#g.set_yticks(range(len(X1))\n",
    "#g.set_xticklabels(g.get_xmajorticklabels(), fontsize = 8)\n",
    "ax.vlines([9], *ax.get_ylim(), color = 'k')\n",
    "plt.tight_layout()\n",
    "f.savefig(figures_dir+'Figure15_130524.png', dpi = 300);"
   ]
  },
  {
   "cell_type": "code",
   "execution_count": null,
   "id": "564e838b-169a-4a6e-ac49-9c6b617700e9",
   "metadata": {},
   "outputs": [],
   "source": []
  },
  {
   "cell_type": "code",
   "execution_count": null,
   "id": "de0d4617-0b98-428c-ab2c-0b1458e8d11b",
   "metadata": {},
   "outputs": [],
   "source": []
  },
  {
   "cell_type": "code",
   "execution_count": null,
   "id": "83bbf283-71e4-44f6-8439-8ff36d49cfa5",
   "metadata": {},
   "outputs": [],
   "source": []
  },
  {
   "cell_type": "code",
   "execution_count": null,
   "id": "5862234e-e464-40d1-92cc-2bed4975534e",
   "metadata": {},
   "outputs": [],
   "source": []
  },
  {
   "cell_type": "code",
   "execution_count": null,
   "id": "c6ddc032-1e34-4da0-9199-5a4d0f0e7f75",
   "metadata": {},
   "outputs": [],
   "source": []
  },
  {
   "cell_type": "code",
   "execution_count": null,
   "id": "bd86789d-0e3b-4694-8827-25c922732cbe",
   "metadata": {},
   "outputs": [],
   "source": []
  }
 ],
 "metadata": {
  "kernelspec": {
   "display_name": "py39",
   "language": "python",
   "name": "py39"
  },
  "language_info": {
   "codemirror_mode": {
    "name": "ipython",
    "version": 3
   },
   "file_extension": ".py",
   "mimetype": "text/x-python",
   "name": "python",
   "nbconvert_exporter": "python",
   "pygments_lexer": "ipython3",
   "version": "3.9.16"
  },
  "widgets": {
   "application/vnd.jupyter.widget-state+json": {
    "state": {},
    "version_major": 2,
    "version_minor": 0
   }
  }
 },
 "nbformat": 4,
 "nbformat_minor": 5
}
