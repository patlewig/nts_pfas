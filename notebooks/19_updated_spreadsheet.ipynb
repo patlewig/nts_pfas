{
 "cells": [
  {
   "cell_type": "code",
   "execution_count": 1,
   "id": "b70943e6-8d7b-4b02-87ec-6fcb6cf52ee2",
   "metadata": {},
   "outputs": [],
   "source": [
    "import numpy as np\n",
    "import pandas as pd\n",
    "import matplotlib.pyplot as plt\n",
    "import seaborn as sns\n",
    "%matplotlib inline\n",
    "import openpyxl\n",
    "from rdkit.Chem.Draw import IPythonConsole, MolsToGridImage\n",
    "\n",
    "#Show mols in dataframes\n",
    "from rdkit.Chem import PandasTools\n",
    "from rdkit import Chem\n",
    "from rdkit.Chem.Draw import MolsToGridImage\n",
    "from IPython.core.display import HTML\n",
    "from rdkit.Chem import Descriptors\n",
    "from rdkit.ML.Descriptors import MoleculeDescriptors\n",
    "from rdkit.Chem import PandasTools\n",
    "from rdkit.Chem import AllChem\n",
    "from rdkit.Chem import rdDepictor\n",
    "from rdkit.Chem.Fingerprints import FingerprintMols\n",
    "from rdkit import DataStructs\n",
    "import os\n",
    "from scipy.spatial.distance import pdist, squareform"
   ]
  },
  {
   "cell_type": "code",
   "execution_count": 2,
   "id": "5d57abe0-4d93-4a0e-bdd8-96020943549a",
   "metadata": {},
   "outputs": [],
   "source": [
    "TOP = os.getcwd().replace('notebooks', '')\n",
    "raw_dir = TOP + 'data/raw/'\n",
    "interim_dir = TOP + 'data/interim/'\n",
    "external_dir = TOP + 'data/external/'\n",
    "processed_dir = TOP + 'data/processed/'\n",
    "figures_dir = TOP + 'reports/figures/'"
   ]
  },
  {
   "cell_type": "code",
   "execution_count": 3,
   "id": "4923e9ed-0c5a-4075-b2d6-8acc7410541d",
   "metadata": {},
   "outputs": [],
   "source": [
    "import glob"
   ]
  },
  {
   "cell_type": "code",
   "execution_count": 15,
   "id": "661fd871-2716-419a-97c5-3fad9700a12c",
   "metadata": {},
   "outputs": [
    {
     "name": "stdout",
     "output_type": "stream",
     "text": [
      "/home/grace/Documents/python/nts_pfas/data/interim/mediod_new_universe_061123.xlsx\n",
      "/home/grace/Documents/python/nts_pfas/data/interim/pfas flags_to_GP_TK_20230629.xlsx\n",
      "/home/grace/Documents/python/nts_pfas/data/interim/final_landscape_with_predicted_NAMs_091123.xlsx\n",
      "/home/grace/Documents/python/nts_pfas/data/interim/predicted_NAMs_091123.xlsx\n",
      "/home/grace/Documents/python/nts_pfas/data/interim/final_universe_categorisations_wtsca_active_constraints_061123.xlsx\n",
      "/home/grace/Documents/python/nts_pfas/data/interim/CCD_CDR2020_271022.xlsx\n",
      "/home/grace/Documents/python/nts_pfas/data/interim/Nuclear Receptor Confirmatory Flags v2.xlsx\n",
      "/home/grace/Documents/python/nts_pfas/data/interim/final_universe_wtest_track_071123.xlsx\n",
      "/home/grace/Documents/python/nts_pfas/data/interim/final_universe_wMaxMin_061123.xlsx\n",
      "/home/grace/Documents/python/nts_pfas/data/interim/final_updated_universe_101123.xlsx\n",
      "/home/grace/Documents/python/nts_pfas/data/interim/final_universe_categorisations_wCDR_061123.xlsx\n",
      "/home/grace/Documents/python/nts_pfas/data/interim/final_new_universe_wNAMS_091123.xlsx\n",
      "/home/grace/Documents/python/nts_pfas/data/interim/secondary_categorisations_new_universe_061123.xlsx\n",
      "/home/grace/Documents/python/nts_pfas/data/interim/final_universe_categorisatons_wtsca_constraints_110623.xlsx\n"
     ]
    }
   ],
   "source": [
    "files = glob.glob(interim_dir+'/*.xlsx', \n",
    "                   recursive = True)\n",
    "for file in files:\n",
    "    print(file)"
   ]
  },
  {
   "cell_type": "code",
   "execution_count": 5,
   "id": "90a8c77d-840d-4525-b613-804d7edb91b1",
   "metadata": {},
   "outputs": [],
   "source": [
    "df = pd.read_excel(interim_dir+'final_universe_wtest_track_071123.xlsx', index_col = [0])"
   ]
  },
  {
   "cell_type": "code",
   "execution_count": 8,
   "id": "6067a3c5-645b-480a-af3b-b9b1234a237f",
   "metadata": {},
   "outputs": [],
   "source": [
    "test_track = df.columns.tolist()"
   ]
  },
  {
   "cell_type": "code",
   "execution_count": 6,
   "id": "039d19d6-d0fc-4143-841e-be9ef475c97e",
   "metadata": {},
   "outputs": [],
   "source": [
    "df1 = pd.read_excel(interim_dir+'final_landscape_with_predicted_NAMs_091123.xlsx', index_col = [0])"
   ]
  },
  {
   "cell_type": "code",
   "execution_count": 9,
   "id": "478f03c2-a58f-4b53-8ac2-2e2a1d25d5c6",
   "metadata": {},
   "outputs": [],
   "source": [
    "nams = df1.columns.tolist()"
   ]
  },
  {
   "cell_type": "code",
   "execution_count": 12,
   "id": "e13479df-1a92-4191-bc02-de0e406087e0",
   "metadata": {},
   "outputs": [
    {
     "data": {
      "text/plain": [
       "['HLC', 'WS_pred_mol/L', 'WS_pred_mg/L', 'test_track']"
      ]
     },
     "execution_count": 12,
     "metadata": {},
     "output_type": "execute_result"
    }
   ],
   "source": [
    "[e for e in test_track if e not  in nams]"
   ]
  },
  {
   "cell_type": "code",
   "execution_count": 14,
   "id": "d6b68118-c774-4020-95e8-7bbcf5c2b71e",
   "metadata": {},
   "outputs": [],
   "source": [
    "df1 = pd.merge(df1, df[['dtxsid', 'HLC', 'WS_pred_mol/L', 'WS_pred_mg/L', 'test_track']], on = 'dtxsid', how = 'left')"
   ]
  },
  {
   "cell_type": "code",
   "execution_count": 16,
   "id": "f5dcada9-ab2b-4576-a5bb-8fdebad05816",
   "metadata": {},
   "outputs": [],
   "source": [
    "df2 = pd.read_excel(interim_dir+'final_updated_universe_101123.xlsx', index_col = [0])"
   ]
  },
  {
   "cell_type": "code",
   "execution_count": 17,
   "id": "6e4c06aa-5f05-4a8f-a0c1-c1fb00ce82de",
   "metadata": {},
   "outputs": [],
   "source": [
    "all_df = df2.columns.tolist()"
   ]
  },
  {
   "cell_type": "code",
   "execution_count": 19,
   "id": "8c8fce5f-5eeb-4125-bf4d-acaecb9f00b0",
   "metadata": {},
   "outputs": [
    {
     "data": {
      "text/plain": [
       "['HLC', 'WS_pred_mol/L', 'WS_pred_mg/L', 'test_track']"
      ]
     },
     "execution_count": 19,
     "metadata": {},
     "output_type": "execute_result"
    }
   ],
   "source": [
    "[e for e in df1.columns.tolist() if e not in all_df]"
   ]
  },
  {
   "cell_type": "code",
   "execution_count": 20,
   "id": "32b73439-2e3b-4d7f-bd7d-1c014e29fc09",
   "metadata": {},
   "outputs": [],
   "source": [
    "final_df = pd.merge(df2, df1[['dtxsid', 'HLC', 'WS_pred_mol/L', 'WS_pred_mg/L', 'test_track']], on = 'dtxsid', how = 'left')"
   ]
  },
  {
   "cell_type": "code",
   "execution_count": 24,
   "id": "89f552fc-f809-4c6e-953e-cb3b4309bc04",
   "metadata": {},
   "outputs": [],
   "source": [
    "final_df.drop(['cluster',\n",
    " 'cluster_centroid',\n",
    " 'centroid_x',\n",
    " 'centroid2',\n",
    " 'centroid_y',\n",
    " 'analogues',\n",
    " 'Dist',\n",
    " 'level2_cluster_centroid',\n",
    " 'cluster_d',\n",
    " 'lvl2_centroid',\n",
    " 'lvl2_centroid2',\n",
    " 'lvl2_analogues',\n",
    " 'lvl2_Dist',\n",
    " 'prelim_final_centroid',\n",
    " 'prelim_final_dist',\n",
    " 'level3_cluster_centroid',\n",
    " 'lvl_cluster_d',\n",
    " 'lvl3_centroid',\n",
    " 'lvl3_centroid2',\n",
    " 'lvl3_analogues',\n",
    " 'lvl3_Dist'], axis = 1, inplace = True)"
   ]
  },
  {
   "cell_type": "code",
   "execution_count": 26,
   "id": "51c4baad-0d9e-41b4-9135-5b6fa2074be9",
   "metadata": {},
   "outputs": [],
   "source": [
    "final_df.drop(['casrn',\n",
    " 'name', 'group_str', ], axis = 1, inplace = True)"
   ]
  },
  {
   "cell_type": "code",
   "execution_count": 29,
   "id": "956bf4ad-47c6-4525-a9da-eb483d0c4b8b",
   "metadata": {},
   "outputs": [],
   "source": [
    "final_df.rename(columns = {'tsca_centroid' :'tsca_centroid_tag' ,\n",
    " 'tsca_centroid_id2' : 'tsca_centroid_id' ,'tsca_active_centroid' : 'tsca_active_centroid_tag',\n",
    " \n",
    " 'tsca_active_centroid_id2' :'tsca_active_centroid_id' }, inplace = True)"
   ]
  },
  {
   "cell_type": "code",
   "execution_count": 30,
   "id": "8c769905-6375-4380-b058-53cc248fb4a3",
   "metadata": {},
   "outputs": [],
   "source": [
    "mydict = {k: v for k,v in zip(final_df.columns, final_df.columns)}"
   ]
  },
  {
   "cell_type": "code",
   "execution_count": 31,
   "id": "a18459ac-2708-4122-a31c-9049de45269e",
   "metadata": {},
   "outputs": [
    {
     "data": {
      "text/plain": [
       "{'dtxsid': 'dtxsid',\n",
       " 'DSSTox_QC-Level': 'DSSTox_QC-Level',\n",
       " 'Substance_Name': 'Substance_Name',\n",
       " 'Substance_CASRN': 'Substance_CASRN',\n",
       " 'Substance_Type': 'Substance_Type',\n",
       " 'smiles': 'smiles',\n",
       " 'Structure_InChI': 'Structure_InChI',\n",
       " 'Structure_InChIKey': 'Structure_InChIKey',\n",
       " 'Structure_Formula': 'Structure_Formula',\n",
       " 'Structure_MolWt': 'Structure_MolWt',\n",
       " 'Structure_SMILES_2D-QSAR': 'Structure_SMILES_2D-QSAR',\n",
       " 'Canonical_QSARr': 'Canonical_QSARr',\n",
       " 'TSCA_STATUS': 'TSCA_STATUS',\n",
       " 'chain_length': 'chain_length',\n",
       " 'category': 'category',\n",
       " 'MolWeight': 'MolWeight',\n",
       " 'LogP_pred': 'LogP_pred',\n",
       " 'LogP_predRange': 'LogP_predRange',\n",
       " 'AD_LogP': 'AD_LogP',\n",
       " 'AD_index_LogP': 'AD_index_LogP',\n",
       " 'Conf_index_LogP': 'Conf_index_LogP',\n",
       " 'MP_pred': 'MP_pred',\n",
       " 'MP_predRange': 'MP_predRange',\n",
       " 'AD_MP': 'AD_MP',\n",
       " 'AD_index_MP': 'AD_index_MP',\n",
       " 'Conf_index_MP': 'Conf_index_MP',\n",
       " 'BP_pred': 'BP_pred',\n",
       " 'BP_predRange': 'BP_predRange',\n",
       " 'AD_BP': 'AD_BP',\n",
       " 'AD_index_BP': 'AD_index_BP',\n",
       " 'Conf_index_BP': 'Conf_index_BP',\n",
       " 'LogVP_pred': 'LogVP_pred',\n",
       " 'VP_predRange': 'VP_predRange',\n",
       " 'AD_VP': 'AD_VP',\n",
       " 'AD_index_VP': 'AD_index_VP',\n",
       " 'Conf_index_VP': 'Conf_index_VP',\n",
       " 'LogWS_pred': 'LogWS_pred',\n",
       " 'WS_predRange': 'WS_predRange',\n",
       " 'AD_WS': 'AD_WS',\n",
       " 'AD_index_WS': 'AD_index_WS',\n",
       " 'Conf_index_WS': 'Conf_index_WS',\n",
       " 'LogHL_pred': 'LogHL_pred',\n",
       " 'HL_predRange': 'HL_predRange',\n",
       " 'AD_HL': 'AD_HL',\n",
       " 'AD_index_HL': 'AD_index_HL',\n",
       " 'Conf_index_HL': 'Conf_index_HL',\n",
       " 'ID': 'ID',\n",
       " 'tsca_match': 'tsca_match',\n",
       " 'subcategory': 'subcategory',\n",
       " 'final_centroid': 'final_centroid',\n",
       " 'final_dist': 'final_dist',\n",
       " 'group': 'group',\n",
       " 'MaxMin_picks': 'MaxMin_picks',\n",
       " 'tsca_centroid_tag': 'tsca_centroid_tag',\n",
       " 'tsca_centroid_id': 'tsca_centroid_id',\n",
       " 'tsca_analogues': 'tsca_analogues',\n",
       " 'tsca_dist': 'tsca_dist',\n",
       " 'MaxMin_tsca_picks': 'MaxMin_tsca_picks',\n",
       " 'tsca_active_centroid_tag': 'tsca_active_centroid_tag',\n",
       " 'tsca_active_centroid_id': 'tsca_active_centroid_id',\n",
       " 'tsca_active_analogues': 'tsca_active_analogues',\n",
       " 'tsca_active_dist': 'tsca_active_dist',\n",
       " 'MaxMin_tsca_active_picks': 'MaxMin_tsca_active_picks',\n",
       " 'CDR2019_NATIONAL_AGG_PV': 'CDR2019_NATIONAL_AGG_PV',\n",
       " 'CDR2020_STATUS': 'CDR2020_STATUS',\n",
       " 'qc': 'qc',\n",
       " 'qc_httk': 'qc_httk',\n",
       " 'NR_ESR1': 'NR_ESR1',\n",
       " 'NR_PPAR': 'NR_PPAR',\n",
       " 'NR_NRF2': 'NR_NRF2',\n",
       " 'NR_RXR': 'NR_RXR',\n",
       " 'NR_PXR': 'NR_PXR',\n",
       " 'ZF': 'ZF',\n",
       " 'DNT': 'DNT',\n",
       " 'hDIO1': 'hDIO1',\n",
       " 'hDIO2': 'hDIO2',\n",
       " 'hDIO3': 'hDIO3',\n",
       " 'xDIO3': 'xDIO3',\n",
       " 'hIYD': 'hIYD',\n",
       " 'XIYD': 'XIYD',\n",
       " 'hTBG': 'hTBG',\n",
       " 'hTPO': 'hTPO',\n",
       " 'Immune': 'Immune',\n",
       " 'TK_PlasBind': 'TK_PlasBind',\n",
       " 'TK_Metab': 'TK_Metab',\n",
       " 'TK_Struc_Endo': 'TK_Struc_Endo',\n",
       " 'NAM': 'NAM',\n",
       " 'pred_DNT': 'pred_DNT',\n",
       " 'pred_Immune': 'pred_Immune',\n",
       " 'pred_NR_ESR1': 'pred_NR_ESR1',\n",
       " 'pred_NR_NRF2': 'pred_NR_NRF2',\n",
       " 'pred_NR_PPAR': 'pred_NR_PPAR',\n",
       " 'pred_NR_PXR': 'pred_NR_PXR',\n",
       " 'pred_NR_RXR': 'pred_NR_RXR',\n",
       " 'pred_No flag': 'pred_No flag',\n",
       " 'pred_TK_PlasBind': 'pred_TK_PlasBind',\n",
       " 'pred_ZF': 'pred_ZF',\n",
       " 'pred_hDIO1': 'pred_hDIO1',\n",
       " 'chronic': 'chronic',\n",
       " 'developmental': 'developmental',\n",
       " 'neurotoxicity': 'neurotoxicity',\n",
       " 'repeat dose other': 'repeat dose other',\n",
       " 'reproduction': 'reproduction',\n",
       " 'reproduction developmental': 'reproduction developmental',\n",
       " 'short-term': 'short-term',\n",
       " 'subchronic': 'subchronic',\n",
       " 'ANALYTICAL_MTHDS': 'ANALYTICAL_MTHDS',\n",
       " 'DISCHARGE': 'DISCHARGE',\n",
       " 'DRINKING_WATER': 'DRINKING_WATER',\n",
       " 'DRINKING_WATER-UCMR': 'DRINKING_WATER-UCMR',\n",
       " 'PROD_DATA': 'PROD_DATA',\n",
       " 'TRI-OFFSITE': 'TRI-OFFSITE',\n",
       " 'TRI-ONSITE': 'TRI-ONSITE',\n",
       " 'TRI_WASTE': 'TRI_WASTE',\n",
       " 'pubmed_avail': 'pubmed_avail',\n",
       " 'HLC': 'HLC',\n",
       " 'WS_pred_mol/L': 'WS_pred_mol/L',\n",
       " 'WS_pred_mg/L': 'WS_pred_mg/L',\n",
       " 'test_track': 'test_track'}"
      ]
     },
     "execution_count": 31,
     "metadata": {},
     "output_type": "execute_result"
    }
   ],
   "source": [
    "mydict"
   ]
  },
  {
   "cell_type": "code",
   "execution_count": 32,
   "id": "49c402ba-060a-4662-b09d-bd846e8550ca",
   "metadata": {},
   "outputs": [],
   "source": [
    "mydict = {'dtxsid': 'DSSTox Substance Identifier',\n",
    " 'DSSTox_QC-Level': 'DSSTox_QC-Level',\n",
    " 'Substance_Name': 'Chemical Name from DSSTox',\n",
    " 'Substance_CASRN': 'CAS Registry Number',\n",
    " 'Substance_Type': 'Substance_Type',\n",
    " 'smiles': 'smiles',\n",
    " 'Structure_InChI': 'Structure_InChI',\n",
    " 'Structure_InChIKey': 'Hashed InChI',\n",
    " 'Structure_Formula': 'Structure_Formula',\n",
    " 'Structure_MolWt': 'Structure_MolWt',\n",
    " 'Structure_SMILES_2D-QSAR': 'Structure_SMILES_2D-QSAR',\n",
    " 'Canonical_QSARr': 'Canonical_QSARr',\n",
    " 'TSCA_STATUS': 'TSCA Non-confidential lists per the Dashboard',\n",
    " 'chain_length': 'Maximum number of contiguous CF2 groups in a chain',\n",
    " 'category': 'primary category designation based on PFAS-Map assignment and simplified',\n",
    " 'MolWeight': 'MolWeight',\n",
    " 'LogP_pred': 'LogP_pred from OPERA v2.9',\n",
    " 'LogP_predRange': 'LogP_predRange',\n",
    " 'AD_LogP': 'Global Applicability Domain for the LogP model',\n",
    " 'AD_index_LogP': 'Local Applicability Domain for the LogP model',\n",
    " 'Conf_index_LogP': 'Conf_index_LogP',\n",
    " 'MP_pred': 'MP_pred',\n",
    " 'MP_predRange': 'MP_predRange',\n",
    " 'AD_MP': 'AD_MP',\n",
    " 'AD_index_MP': 'AD_index_MP',\n",
    " 'Conf_index_MP': 'Conf_index_MP',\n",
    " 'BP_pred': 'BP_pred',\n",
    " 'BP_predRange': 'BP_predRange',\n",
    " 'AD_BP': 'AD_BP',\n",
    " 'AD_index_BP': 'AD_index_BP',\n",
    " 'Conf_index_BP': 'Conf_index_BP',\n",
    " 'LogVP_pred': 'LogVP_pred',\n",
    " 'VP_predRange': 'VP_predRange',\n",
    " 'AD_VP': 'AD_VP',\n",
    " 'AD_index_VP': 'AD_index_VP',\n",
    " 'Conf_index_VP': 'Conf_index_VP',\n",
    " 'LogWS_pred': 'LogWS_pred',\n",
    " 'WS_predRange': 'WS_predRange',\n",
    " 'AD_WS': 'AD_WS',\n",
    " 'AD_index_WS': 'AD_index_WS',\n",
    " 'Conf_index_WS': 'Conf_index_WS',\n",
    " 'LogHL_pred': 'LogHL_pred',\n",
    " 'HL_predRange': 'HL_predRange',\n",
    " 'AD_HL': 'AD_HL',\n",
    " 'AD_index_HL': 'AD_index_HL',\n",
    " 'Conf_index_HL': 'Conf_index_HL',\n",
    " 'ID': 'Identifier to denote the name of the TSCA metabolites and where it originated from',\n",
    " 'tsca_match': 'tsca_match',\n",
    " 'subcategory': 'subcategory denoted by the greater or equal to 7 threshold, or less than 7',\n",
    " 'final_centroid': 'DTXSID for the centroid substance per terminal category based on the entire universe',\n",
    " 'final_dist': 'Pairwise Jaccard distance between a member of the terminal category and its corresponding centroid',\n",
    " 'group': 'Terminal category description',\n",
    " 'MaxMin_picks': 'MaxMin selections based on the entire universe of substances',\n",
    " 'tsca_centroid_tag': 'tag to denote whether a substance was a centroid based on the constrained TSCA only universe',\n",
    " 'tsca_centroid_id': 'DTXSID for the TSCA centroid substance',\n",
    " 'tsca_analogues': 'tsca_analogues',\n",
    " 'tsca_dist': 'Pairwise Jaccard distance between a member of the TSCA only terminal category and its TSCA centroid',\n",
    " 'MaxMin_tsca_picks': 'MaxMin_tsca_picks',\n",
    " 'tsca_active_centroid_tag': 'tsca_active_centroid_tag',\n",
    " 'tsca_active_centroid_id': 'tsca_active_centroid_id',\n",
    " 'tsca_active_analogues': 'tsca_active_analogues',\n",
    " 'tsca_active_dist': 'Pairwise Jaccard distance between a member of the TSCA active only terminal category and its TSCA active centroid',\n",
    " 'MaxMin_tsca_active_picks': 'MaxMin_tsca_active_picks',\n",
    " 'CDR2019_NATIONAL_AGG_PV': 'Simplified tonnage taken from CDR website',\n",
    " 'CDR2020_STATUS': 'CDR2020_STATUS',\n",
    " 'qc': 'Analytic QC Score',\n",
    " 'qc_httk':'TK analytical QC score to denote significant abiotic loss',\n",
    " 'NR_ESR1': 'Nuclear Receptor Assay',\n",
    " 'NR_PPAR': 'Nuclear Receptor Assay',\n",
    " 'NR_NRF2': 'Nuclear Receptor Assay',\n",
    " 'NR_RXR': 'Nuclear Receptor Assay',\n",
    " 'NR_PXR': 'Nuclear Receptor Assay',\n",
    " 'ZF': 'ZebraFish',\n",
    " 'DNT': 'Developmental Neurotoxicity',\n",
    " 'hDIO1': 'Thyroid Assay',\n",
    " 'hDIO2': 'Thyroid Assay',\n",
    " 'hDIO3': 'Thyroid Assay',\n",
    " 'xDIO3': 'Thyroid Assay',\n",
    " 'hIYD': 'Thyroid Assay',\n",
    " 'XIYD': 'Thyroid Assay',\n",
    " 'hTBG': 'Thyroid Assay',\n",
    " 'hTPO': 'Thyroid Assay',\n",
    " 'Immune': 'Bioseek',\n",
    " 'TK_PlasBind': 'TK_PlasBind',\n",
    " 'TK_Metab': 'TK_Metab',\n",
    " 'TK_Struc_Endo': 'TK_Struc_Endo',\n",
    " 'NAM': 'NAM',\n",
    " 'pred_DNT': 'pred_DNT',\n",
    " 'pred_Immune': 'pred_Immune',\n",
    " 'pred_NR_ESR1': 'pred_NR_ESR1',\n",
    " 'pred_NR_NRF2': 'pred_NR_NRF2',\n",
    " 'pred_NR_PPAR': 'pred_NR_PPAR',\n",
    " 'pred_NR_PXR': 'pred_NR_PXR',\n",
    " 'pred_NR_RXR': 'pred_NR_RXR',\n",
    " 'pred_No flag': 'pred_No flag',\n",
    " 'pred_TK_PlasBind': 'pred_TK_PlasBind',\n",
    " 'pred_ZF': 'pred_ZF',\n",
    " 'pred_hDIO1': 'pred_hDIO1',\n",
    " 'chronic': 'chronic data availability from ToxVal v9.4',\n",
    " 'developmental': 'developmental data availability from ToxVal v9.4',\n",
    " 'neurotoxicity': 'neurotoxicity data availability from ToxVal v9.4',\n",
    " 'repeat dose other': 'repeat dose other',\n",
    " 'reproduction': 'reproduction',\n",
    " 'reproduction developmental': 'reproduction developmental',\n",
    " 'short-term': 'short-term',\n",
    " 'subchronic': 'subchronic',\n",
    " 'ANALYTICAL_MTHDS':'PFAS with Validated Analytical Methods 533 and 537',\n",
    " 'DISCHARGE': 'Discharge Monitoring Data - see https://echo.epa.gov/trends/pfas-tools#data',\n",
    " 'DRINKING_WATER': 'Discharge Monitoring Data - see https://echo.epa.gov/trends/pfas-tools#data',\n",
    " 'DRINKING_WATER-UCMR': 'DRINKING_WATER-UCMR',\n",
    " 'PROD_DATA': 'Production Data see https://echo.epa.gov/trends/pfas-tools#data',\n",
    " 'TRI-OFFSITE': 'Toxics Release Data see https://echo.epa.gov/trends/pfas-tools#data',\n",
    " 'TRI-ONSITE': 'Toxics Release Data see https://echo.epa.gov/trends/pfas-tools#data',\n",
    " 'TRI_WASTE': 'Toxics Release Data see https://echo.epa.gov/trends/pfas-tools#data',\n",
    " 'pubmed_avail': 'pubmed search based on Names and CAS for the entire universe, 1 represents presence of an article',\n",
    " 'HLC': 'HLC',\n",
    " 'WS_pred_mol/L': 'WS_pred_mol/L',\n",
    " 'WS_pred_mg/L': 'WS_pred_mg/L',\n",
    " 'test_track': 'test_track'}"
   ]
  },
  {
   "cell_type": "code",
   "execution_count": 33,
   "id": "c36b7b2c-c715-4239-94e9-7f895bb9cd38",
   "metadata": {},
   "outputs": [
    {
     "data": {
      "text/html": [
       "<div>\n",
       "<style scoped>\n",
       "    .dataframe tbody tr th:only-of-type {\n",
       "        vertical-align: middle;\n",
       "    }\n",
       "\n",
       "    .dataframe tbody tr th {\n",
       "        vertical-align: top;\n",
       "    }\n",
       "\n",
       "    .dataframe thead th {\n",
       "        text-align: right;\n",
       "    }\n",
       "</style>\n",
       "<table border=\"1\" class=\"dataframe\">\n",
       "  <thead>\n",
       "    <tr style=\"text-align: right;\">\n",
       "      <th></th>\n",
       "      <th>column_name</th>\n",
       "      <th>explanation</th>\n",
       "    </tr>\n",
       "  </thead>\n",
       "  <tbody>\n",
       "    <tr>\n",
       "      <th>0</th>\n",
       "      <td>dtxsid</td>\n",
       "      <td>DSSTox Substance Identifier</td>\n",
       "    </tr>\n",
       "    <tr>\n",
       "      <th>1</th>\n",
       "      <td>DSSTox_QC-Level</td>\n",
       "      <td>DSSTox_QC-Level</td>\n",
       "    </tr>\n",
       "    <tr>\n",
       "      <th>2</th>\n",
       "      <td>Substance_Name</td>\n",
       "      <td>Chemical Name from DSSTox</td>\n",
       "    </tr>\n",
       "    <tr>\n",
       "      <th>3</th>\n",
       "      <td>Substance_CASRN</td>\n",
       "      <td>CAS Registry Number</td>\n",
       "    </tr>\n",
       "    <tr>\n",
       "      <th>4</th>\n",
       "      <td>Substance_Type</td>\n",
       "      <td>Substance_Type</td>\n",
       "    </tr>\n",
       "    <tr>\n",
       "      <th>...</th>\n",
       "      <td>...</td>\n",
       "      <td>...</td>\n",
       "    </tr>\n",
       "    <tr>\n",
       "      <th>114</th>\n",
       "      <td>pubmed_avail</td>\n",
       "      <td>pubmed search based on Names and CAS for the e...</td>\n",
       "    </tr>\n",
       "    <tr>\n",
       "      <th>115</th>\n",
       "      <td>HLC</td>\n",
       "      <td>HLC</td>\n",
       "    </tr>\n",
       "    <tr>\n",
       "      <th>116</th>\n",
       "      <td>WS_pred_mol/L</td>\n",
       "      <td>WS_pred_mol/L</td>\n",
       "    </tr>\n",
       "    <tr>\n",
       "      <th>117</th>\n",
       "      <td>WS_pred_mg/L</td>\n",
       "      <td>WS_pred_mg/L</td>\n",
       "    </tr>\n",
       "    <tr>\n",
       "      <th>118</th>\n",
       "      <td>test_track</td>\n",
       "      <td>test_track</td>\n",
       "    </tr>\n",
       "  </tbody>\n",
       "</table>\n",
       "<p>119 rows × 2 columns</p>\n",
       "</div>"
      ],
      "text/plain": [
       "         column_name                                        explanation\n",
       "0             dtxsid                        DSSTox Substance Identifier\n",
       "1    DSSTox_QC-Level                                    DSSTox_QC-Level\n",
       "2     Substance_Name                          Chemical Name from DSSTox\n",
       "3    Substance_CASRN                                CAS Registry Number\n",
       "4     Substance_Type                                     Substance_Type\n",
       "..               ...                                                ...\n",
       "114     pubmed_avail  pubmed search based on Names and CAS for the e...\n",
       "115              HLC                                                HLC\n",
       "116    WS_pred_mol/L                                      WS_pred_mol/L\n",
       "117     WS_pred_mg/L                                       WS_pred_mg/L\n",
       "118       test_track                                         test_track\n",
       "\n",
       "[119 rows x 2 columns]"
      ]
     },
     "execution_count": 33,
     "metadata": {},
     "output_type": "execute_result"
    }
   ],
   "source": [
    "pd.DataFrame(mydict.items(), columns = ['column_name', 'explanation'])"
   ]
  },
  {
   "cell_type": "code",
   "execution_count": 34,
   "id": "7729aebe-ed19-4436-82fe-fa4a78c227fa",
   "metadata": {},
   "outputs": [],
   "source": [
    "writer = pd.ExcelWriter(interim_dir+'final_revised_universe_wmappingdict_101123.xlsx', engine='xlsxwriter')\n",
    "\n",
    "# Convert the dataframe to an XlsxWriter Excel object.\n",
    "\n",
    "final_df.to_excel(writer, sheet_name = 'universe')\n",
    "pd.DataFrame(mydict.items(), columns = ['column_name', 'explanation']).to_excel(writer, sheet_name = 'mapping_dict')\n",
    "\n",
    "writer.close()"
   ]
  },
  {
   "cell_type": "code",
   "execution_count": null,
   "id": "7fea5c10-3d94-43cb-9546-93f4293fce24",
   "metadata": {},
   "outputs": [],
   "source": []
  }
 ],
 "metadata": {
  "kernelspec": {
   "display_name": "py39",
   "language": "python",
   "name": "py39"
  },
  "language_info": {
   "codemirror_mode": {
    "name": "ipython",
    "version": 3
   },
   "file_extension": ".py",
   "mimetype": "text/x-python",
   "name": "python",
   "nbconvert_exporter": "python",
   "pygments_lexer": "ipython3",
   "version": "3.9.16"
  },
  "widgets": {
   "application/vnd.jupyter.widget-state+json": {
    "state": {},
    "version_major": 2,
    "version_minor": 0
   }
  }
 },
 "nbformat": 4,
 "nbformat_minor": 5
}
