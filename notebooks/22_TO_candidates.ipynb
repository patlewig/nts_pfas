{
 "cells": [
  {
   "cell_type": "markdown",
   "id": "f767cfb5-6847-48c0-9043-b671865527ca",
   "metadata": {},
   "source": [
    "## Test order candidates"
   ]
  },
  {
   "cell_type": "code",
   "execution_count": 1,
   "id": "c4008fdd-84ea-4dd7-9712-8b3bab987825",
   "metadata": {},
   "outputs": [
    {
     "name": "stderr",
     "output_type": "stream",
     "text": [
      "Failed to find the pandas get_adjustment() function to patch\n",
      "Failed to patch pandas - PandasTools will have limited functionality\n"
     ]
    }
   ],
   "source": [
    "import numpy as np\n",
    "import pandas as pd\n",
    "import matplotlib.pyplot as plt\n",
    "import seaborn as sns\n",
    "%matplotlib inline\n",
    "import openpyxl\n",
    "from rdkit.Chem.Draw import IPythonConsole, MolsToGridImage\n",
    "\n",
    "#Show mols in dataframes\n",
    "from rdkit.Chem import PandasTools\n",
    "from rdkit import Chem\n",
    "from rdkit.Chem.Draw import MolsToGridImage\n",
    "from IPython.core.display import HTML\n",
    "from rdkit.Chem import Descriptors\n",
    "from rdkit.ML.Descriptors import MoleculeDescriptors\n",
    "from rdkit.Chem import PandasTools\n",
    "from rdkit.Chem import AllChem\n",
    "from rdkit.Chem import rdDepictor\n",
    "from rdkit.Chem.Fingerprints import FingerprintMols\n",
    "from rdkit import DataStructs\n",
    "import os\n",
    "from scipy.spatial.distance import pdist, squareform\n"
   ]
  },
  {
   "cell_type": "code",
   "execution_count": 2,
   "id": "9dd4362e-be92-4d4e-bdf2-46dd4214b43e",
   "metadata": {},
   "outputs": [],
   "source": [
    "TOP = os.getcwd().replace('notebooks', '')\n",
    "raw_dir = TOP + 'data/raw/'\n",
    "interim_dir = TOP + 'data/interim/'\n",
    "external_dir = TOP + 'data/external/'\n",
    "processed_dir = TOP + 'data/processed/'\n",
    "figures_dir = TOP + 'reports/figures/'\n"
   ]
  },
  {
   "cell_type": "code",
   "execution_count": 3,
   "id": "3536b899-f2d4-41c4-a7d2-f9385234bdfd",
   "metadata": {},
   "outputs": [],
   "source": [
    "df = pd.read_excel(interim_dir+'final_revised_universe_wmappingdict_191223.xlsx', sheet_name = 'universe', index_col = [0])\n"
   ]
  },
  {
   "cell_type": "code",
   "execution_count": 4,
   "id": "3881eaeb-9e73-41f3-a516-f396f17aff0e",
   "metadata": {},
   "outputs": [
    {
     "data": {
      "text/plain": [
       "['dtxsid',\n",
       " 'DSSTox_QC-Level',\n",
       " 'Substance_Name',\n",
       " 'Substance_CASRN',\n",
       " 'Substance_Type',\n",
       " 'smiles',\n",
       " 'Structure_InChI',\n",
       " 'Structure_InChIKey',\n",
       " 'Structure_Formula',\n",
       " 'Structure_MolWt',\n",
       " 'Structure_SMILES_2D-QSAR',\n",
       " 'Canonical_QSARr',\n",
       " 'TSCA_STATUS',\n",
       " 'chain_length',\n",
       " 'category',\n",
       " 'MolWeight',\n",
       " 'LogP_pred',\n",
       " 'LogP_predRange',\n",
       " 'AD_LogP',\n",
       " 'AD_index_LogP',\n",
       " 'Conf_index_LogP',\n",
       " 'MP_pred',\n",
       " 'MP_predRange',\n",
       " 'AD_MP',\n",
       " 'AD_index_MP',\n",
       " 'Conf_index_MP',\n",
       " 'BP_pred',\n",
       " 'BP_predRange',\n",
       " 'AD_BP',\n",
       " 'AD_index_BP',\n",
       " 'Conf_index_BP',\n",
       " 'LogVP_pred',\n",
       " 'VP_predRange',\n",
       " 'AD_VP',\n",
       " 'AD_index_VP',\n",
       " 'Conf_index_VP',\n",
       " 'LogWS_pred',\n",
       " 'WS_predRange',\n",
       " 'AD_WS',\n",
       " 'AD_index_WS',\n",
       " 'Conf_index_WS',\n",
       " 'LogHL_pred',\n",
       " 'HL_predRange',\n",
       " 'AD_HL',\n",
       " 'AD_index_HL',\n",
       " 'Conf_index_HL',\n",
       " 'ID',\n",
       " 'tsca_match',\n",
       " 'subcategory',\n",
       " 'final_centroid',\n",
       " 'final_dist',\n",
       " 'group',\n",
       " 'MaxMin_picks',\n",
       " 'tsca_centroid_tag',\n",
       " 'tsca_centroid_id',\n",
       " 'tsca_centroid_id.1',\n",
       " 'tsca_analogues',\n",
       " 'tsca_dist',\n",
       " 'MaxMin_tsca_picks',\n",
       " 'tsca_active_centroid_tag',\n",
       " 'tsca_active_centroid_id',\n",
       " 'tsca_active_centroid_id.1',\n",
       " 'tsca_active_analogues',\n",
       " 'tsca_active_dist',\n",
       " 'MaxMin_tsca_active_picks',\n",
       " 'CDR2019_NATIONAL_AGG_PV',\n",
       " 'CDR2020_STATUS',\n",
       " 'qc',\n",
       " 'qc_httk',\n",
       " 'NR_ESR1',\n",
       " 'NR_PPAR',\n",
       " 'NR_NRF2',\n",
       " 'NR_RXR',\n",
       " 'NR_PXR',\n",
       " 'ZF',\n",
       " 'DNT',\n",
       " 'hDIO1',\n",
       " 'hDIO2',\n",
       " 'hDIO3',\n",
       " 'xDIO3',\n",
       " 'hIYD',\n",
       " 'XIYD',\n",
       " 'hTBG',\n",
       " 'hTPO',\n",
       " 'Immune',\n",
       " 'TK_PlasBind',\n",
       " 'TK_Metab',\n",
       " 'TK_Struc_Endo',\n",
       " 'NAM',\n",
       " 'pred_DNT',\n",
       " 'pred_Immune',\n",
       " 'pred_NR_ESR1',\n",
       " 'pred_NR_NRF2',\n",
       " 'pred_NR_PPAR',\n",
       " 'pred_NR_PXR',\n",
       " 'pred_NR_RXR',\n",
       " 'pred_No flag',\n",
       " 'pred_TK_PlasBind',\n",
       " 'pred_ZF',\n",
       " 'pred_hDIO1',\n",
       " 'chronic',\n",
       " 'developmental',\n",
       " 'neurotoxicity',\n",
       " 'repeat dose other',\n",
       " 'reproduction',\n",
       " 'reproduction developmental',\n",
       " 'short-term',\n",
       " 'subchronic',\n",
       " 'ANALYTICAL_MTHDS',\n",
       " 'DISCHARGE',\n",
       " 'DRINKING_WATER',\n",
       " 'DRINKING_WATER-UCMR',\n",
       " 'PROD_DATA',\n",
       " 'TRI-OFFSITE',\n",
       " 'TRI-ONSITE',\n",
       " 'TRI_WASTE',\n",
       " 'pubmed_avail',\n",
       " 'HLC',\n",
       " 'WS_pred_mol/L',\n",
       " 'WS_pred_mg/L',\n",
       " 'test_track']"
      ]
     },
     "execution_count": 4,
     "metadata": {},
     "output_type": "execute_result"
    }
   ],
   "source": [
    "df.columns.tolist()"
   ]
  },
  {
   "cell_type": "code",
   "execution_count": 6,
   "id": "7621f42a-24f3-498e-a88c-df82b30e4ea1",
   "metadata": {},
   "outputs": [],
   "source": [
    "df[df['dtxsid'].isin(['DTXSID4041284','DTXSID6029177','DTXSID60862823','DTXSID7027831'])][['dtxsid', 'group','smiles','final_centroid',\n",
    " 'final_dist',\n",
    "\n",
    " 'MaxMin_picks',\n",
    " 'tsca_centroid_tag',\n",
    " 'tsca_centroid_id',\n",
    " 'tsca_analogues',\n",
    " 'tsca_dist',\n",
    " 'MaxMin_tsca_picks',\n",
    " 'tsca_active_centroid_tag',\n",
    " 'tsca_active_centroid_id',\n",
    " 'tsca_active_analogues',\n",
    " 'tsca_active_dist',\n",
    " 'MaxMin_tsca_active_picks',]].to_csv(interim_dir+'TO_substances.csv')"
   ]
  },
  {
   "cell_type": "markdown",
   "id": "0e37cf30-c080-4343-b0ef-03f09ea2d8e9",
   "metadata": {},
   "source": [
    "|dtxsid|terminal category|Centroid/MaxMin|TSCA active Centroid/MaxMin|Comment|\n",
    "|:--:|:---:|:----:|:---:|:----:|\n",
    "|DTXSID7027831|('FASA based PFAA precursors', 'gte7', nan, nan)|No|No|0.39 to TSCA active centroid|\n",
    "|DTXSID6029177|('Other aliphatics', 'lt7', 1.0, 1.0)|Yes|Yes|Existing TSCA pick|\n",
    "|DTXSID60862823|('Other aliphatics', 'lt7', 3.0, 2.0)|No|Yes|Existing TSCA active pick|\n",
    "|DTXSID4041284|('unclassified', 'lt7', 1.0, nan)|No|Yes|Existing TSCA active pick|"
   ]
  },
  {
   "cell_type": "code",
   "execution_count": null,
   "id": "16b3e4b4-34a2-4d86-8f5f-d39acc0df7c5",
   "metadata": {},
   "outputs": [],
   "source": []
  }
 ],
 "metadata": {
  "kernelspec": {
   "display_name": "graph",
   "language": "python",
   "name": "graph"
  },
  "language_info": {
   "codemirror_mode": {
    "name": "ipython",
    "version": 3
   },
   "file_extension": ".py",
   "mimetype": "text/x-python",
   "name": "python",
   "nbconvert_exporter": "python",
   "pygments_lexer": "ipython3",
   "version": "3.9.13"
  },
  "widgets": {
   "application/vnd.jupyter.widget-state+json": {
    "state": {},
    "version_major": 2,
    "version_minor": 0
   }
  }
 },
 "nbformat": 4,
 "nbformat_minor": 5
}
