{
 "cells": [
  {
   "cell_type": "raw",
   "id": "1c10b320-337e-4a07-9337-8da61ea8227a",
   "metadata": {},
   "source": [
    "---\n",
    "author:\n",
    "  - name: Grace Patlewicz\n",
    "    email: patlewicz.grace@epa.gov\n",
    "    attributes:\n",
    "      corresponding: true\n",
    "    affiliations: \n",
    "      - id: CCTE\n",
    "        name: Center for Computational Toxicology and Exposure (CCTE)\n",
    "        department: US Environmental Protection Agency\n",
    "        city: Durham\n",
    "        country: USA\n",
    "  - name: Richard Judson\n",
    "    affiliations: \n",
    "      - ref: CCTE\n",
    "  - name: John Cowden\n",
    "    affiliations: \n",
    "      - ref: CCTE\n",
    "  - name: Antony Williams\n",
    "    affiliations: \n",
    "      - ref: CCTE\n",
    "  - name: Kelly Carstens\n",
    "    affiliations: \n",
    "      - ref: CCTE\n",
    "  - name: Sigmund Degitz\n",
    "    affiliations:\n",
    "      - ref: CCTE\n",
    "  - name: Stephanie Padilla\n",
    "    affiliations:\n",
    "      - ref: CCTE    \n",
    "  - name: Katie Paul Friedman\n",
    "    affiliations:\n",
    "      - ref: CCTE\n",
    "  - name: John Wambaugh\n",
    "    affiliations:\n",
    "      - ref: CCTE     \n",
    "  - name: Barbara Wetmore\n",
    "    affiliations:\n",
    "      - ref: CCTE\n",
    "  - name: Stan Barone\n",
    "    affiliations:\n",
    "        - id: OSCPP\n",
    "          name: Office of Chemical Safety and Pollution Prevention (OSCPP)\n",
    "          department: US Environmental Protection Agency\n",
    "          city: DC\n",
    "          country: USA\n",
    "  - name: Jeff Dawson\n",
    "    affiliations:\n",
    "        - ref: OSCPP\n",
    "  - name: Anna Lowitt\n",
    "    affiliations:\n",
    "        - ref: OSCPP\n",
    "  - name: Tala Henry\n",
    "    affiliations:\n",
    "        - ref: OSCPP\n",
    "  - name: Russell S Thomas\n",
    "    affiliations:\n",
    "      - ref: CCTE     \n",
    "      \n",
    "title: Development of Chemical Categories for Per- and Polyfluoroalkyl substances (PFAS) to Faciliate the Selection of Potential Candidates for Tiered Toxicological Testing and Human Health Assessment\n",
    "mainfont: Comic Sans MS\n",
    "linestretch: 1.5\n",
    "format:\n",
    "  acs-pdf:\n",
    "    journal:\n",
    "      id: crtoec  \n",
    "      type: article  \n",
    "      layout: traditional \n",
    "      hide-email: false \n",
    "      number_sections: true\n",
    "      keep-tex: true\n",
    "  acs-html: default\n",
    "execute:\n",
    "  echo: false\n",
    "jupyter: py39\n",
    "---"
   ]
  },
  {
   "cell_type": "markdown",
   "id": "1140d477-2193-44cb-a473-07e500bcb78b",
   "metadata": {},
   "source": [
    "## Supplementary Information"
   ]
  },
  {
   "cell_type": "markdown",
   "id": "6012e874-a9fe-4dcf-9bdb-6cc371d2123b",
   "metadata": {},
   "source": [
    "### Evaluating the feasibility of subdividing the primary categories"
   ]
  },
  {
   "cell_type": "markdown",
   "id": "c7f9a96d-a328-464a-a8b7-4d487a4f13ea",
   "metadata": {},
   "source": [
    "Corina Symphony on the command line (licensed from Molecular Networks GmBH and Altamira LLC) was used to compute the 129 PFAS ToxPrints (Richard et al, 2023). The Fisher’s exact test was used to compute an odds ratio and associated p value for each PFAS ToxPrint relative to the OECD primary category designation. This was comparable with the methodology discussed in Wang et al. (2019). A PFAS ToxPrint was considered enriched if it had an odds ratio greater than or equal to 3, a one-sided Fishers exact p-value less than 0.05 (probability value of the odds ratio being greater than 1) and the number of True Positives (TP) was determined to be greater than or equal to 3. For the “Unclassified” primary category, the top 2 enriched ToxPrints were PFAS chain features: FT_n3_N, FT_n1_OP both of which represent fluorotelomer chains with either 3 or 1 CH2 units and a nitrogen or organophosphorus terminus. On the otherhand, the “Other aliphatics” had heteroatoms, nitrile and primary amines as enriched functional groups. The intention was to explore whether certain types of features were specifically enriched in these broad primary categories to consider splitting them apart to reduce the starting membership. The full set of enrichments for all primary categories are provided as a separate data file."
   ]
  },
  {
   "cell_type": "markdown",
   "id": "110e2ae4-aaec-42c4-ad88-1a5cce28254c",
   "metadata": {},
   "source": [
    "## Supplementary Figures"
   ]
  },
  {
   "cell_type": "markdown",
   "id": "db7af8fe-c6a2-4407-910e-dc010fc23fc3",
   "metadata": {},
   "source": [
    "![Overlap of MITI training data relative to TSCA substances using Morgan chemical fingers and represent in a t-SNE plot](FigureS1_miti_200823.png){#fig-miti}"
   ]
  },
  {
   "cell_type": "markdown",
   "id": "f3808b48-338a-4e55-a4d1-c3e71f3de220",
   "metadata": {},
   "source": [
    "![ECDFs of the within categories based on the chain length threshold of 7](FigureS1_withinECDF_200823.png){#fig-ecdfs-within}"
   ]
  },
  {
   "cell_type": "markdown",
   "id": "f3c08bbb-4e4b-4c1b-9363-2941d5f4df79",
   "metadata": {},
   "source": [
    "![EDCFs for selected between category combinations for carbon chain length categories](FigureS3_betweenECDF_220823.png){#fig-ecdfs-bet}"
   ]
  },
  {
   "cell_type": "markdown",
   "id": "cd1472ff-d3c6-4d26-a046-2b1e35af089a",
   "metadata": {},
   "source": [
    "![EDCFs for selected terminal categories to demonstrate left shift in pairwise distance](FigureS4_shiftECDF_100423.png){#fig-ecdfs-shift}"
   ]
  },
  {
   "cell_type": "markdown",
   "id": "326e065a-6f86-47b9-9dea-aa3e99af7dd6",
   "metadata": {},
   "source": [
    "![Countplot of CDR National Aggregates Production Volume ranges across Primary categories](FigureS5_CDR_090423.png){#fig-cdr}"
   ]
  },
  {
   "cell_type": "markdown",
   "id": "2cd5ccda-693f-439c-afa8-2122ec1b327d",
   "metadata": {},
   "source": [
    "![Correlation between terminal categories with large membership size and the number of testing tracks represented amongst their memberships](FigureS6_corr_memsize_220823.png){#fig-mem}"
   ]
  },
  {
   "cell_type": "code",
   "execution_count": null,
   "id": "c55a3598-96d5-4e4f-ba96-6ce89ab994d5",
   "metadata": {},
   "outputs": [],
   "source": []
  }
 ],
 "metadata": {
  "kernelspec": {
   "display_name": "py39",
   "language": "python",
   "name": "py39"
  },
  "language_info": {
   "codemirror_mode": {
    "name": "ipython",
    "version": 3
   },
   "file_extension": ".py",
   "mimetype": "text/x-python",
   "name": "python",
   "nbconvert_exporter": "python",
   "pygments_lexer": "ipython3",
   "version": "3.9.16"
  },
  "widgets": {
   "application/vnd.jupyter.widget-state+json": {
    "state": {},
    "version_major": 2,
    "version_minor": 0
   }
  }
 },
 "nbformat": 4,
 "nbformat_minor": 5
}
